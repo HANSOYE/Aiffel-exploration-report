{
 "cells": [
  {
   "cell_type": "code",
   "execution_count": 1,
   "id": "93d0d119",
   "metadata": {},
   "outputs": [
    {
     "name": "stderr",
     "output_type": "stream",
     "text": [
      "[nltk_data] Downloading package stopwords to /aiffel/nltk_data...\n",
      "[nltk_data]   Package stopwords is already up-to-date!\n"
     ]
    }
   ],
   "source": [
    "#불용어 사전을 다운로드하고, 데이터 전처리를 위한 나머지 패키지도 함께 불러\n",
    "\n",
    "import nltk\n",
    "nltk.download('stopwords')\n",
    "\n",
    "import numpy as np\n",
    "import pandas as pd\n",
    "import os\n",
    "import re\n",
    "import matplotlib.pyplot as plt\n",
    "from nltk.corpus import stopwords\n",
    "from bs4 import BeautifulSoup\n",
    "from tensorflow.keras.preprocessing.text import Tokenizer \n",
    "from tensorflow.keras.preprocessing.sequence import pad_sequences\n",
    "import urllib.request\n",
    "import warnings\n",
    "warnings.filterwarnings(\"ignore\", category=UserWarning, module='bs4')\n"
   ]
  },
  {
   "cell_type": "code",
   "execution_count": 2,
   "id": "e723d36a",
   "metadata": {},
   "outputs": [
    {
     "name": "stdout",
     "output_type": "stream",
     "text": [
      "전체 샘플수 :  98401\n"
     ]
    }
   ],
   "source": [
    "import urllib.request\n",
    "urllib.request.urlretrieve(\"https://raw.githubusercontent.com/sunnysai12345/News_Summary/master/news_summary_more.csv\", filename=\"news_summary_more.csv\")\n",
    "data = pd.read_csv('news_summary_more.csv', encoding='iso-8859-1')\n",
    "print('전체 샘플수 : ', (len(data)))"
   ]
  },
  {
   "cell_type": "markdown",
   "id": "49f4dd10",
   "metadata": {},
   "source": [
    "# 데이터 전처리하기 (추상적 요약)"
   ]
  },
  {
   "cell_type": "code",
   "execution_count": 3,
   "id": "35f110d2",
   "metadata": {},
   "outputs": [
    {
     "name": "stdout",
     "output_type": "stream",
     "text": [
      "headlines    0\n",
      "text         0\n",
      "dtype: int64\n"
     ]
    }
   ],
   "source": [
    "#null값 존재하는지 확인\n",
    "print(data.isnull().sum())"
   ]
  },
  {
   "cell_type": "markdown",
   "id": "92baad37",
   "metadata": {},
   "source": [
    "* null값 없음"
   ]
  },
  {
   "cell_type": "code",
   "execution_count": 4,
   "id": "05801466",
   "metadata": {},
   "outputs": [
    {
     "data": {
      "text/html": [
       "<div>\n",
       "<style scoped>\n",
       "    .dataframe tbody tr th:only-of-type {\n",
       "        vertical-align: middle;\n",
       "    }\n",
       "\n",
       "    .dataframe tbody tr th {\n",
       "        vertical-align: top;\n",
       "    }\n",
       "\n",
       "    .dataframe thead th {\n",
       "        text-align: right;\n",
       "    }\n",
       "</style>\n",
       "<table border=\"1\" class=\"dataframe\">\n",
       "  <thead>\n",
       "    <tr style=\"text-align: right;\">\n",
       "      <th></th>\n",
       "      <th>headlines</th>\n",
       "      <th>text</th>\n",
       "    </tr>\n",
       "  </thead>\n",
       "  <tbody>\n",
       "    <tr>\n",
       "      <th>86310</th>\n",
       "      <td>Release date of Lipstick Under My Burkha annou...</td>\n",
       "      <td>Lipstick Under My Burkha, which was initially ...</td>\n",
       "    </tr>\n",
       "    <tr>\n",
       "      <th>49670</th>\n",
       "      <td>Sky is the limit for India-US ties: US envoy</td>\n",
       "      <td>As two democracies sharing common values, the ...</td>\n",
       "    </tr>\n",
       "    <tr>\n",
       "      <th>57349</th>\n",
       "      <td>Adobe achieves pay equality between men, women...</td>\n",
       "      <td>American software maker Adobe announced that i...</td>\n",
       "    </tr>\n",
       "    <tr>\n",
       "      <th>15468</th>\n",
       "      <td>I have a name: Tanushree on being called 'surv...</td>\n",
       "      <td>Reacting to Priyanka Chopra calling her a sexu...</td>\n",
       "    </tr>\n",
       "    <tr>\n",
       "      <th>53553</th>\n",
       "      <td>China bans steel exports to N Korea, caps crud...</td>\n",
       "      <td>China has banned steel and other metal exports...</td>\n",
       "    </tr>\n",
       "    <tr>\n",
       "      <th>23939</th>\n",
       "      <td>Garry Sobers got out on duck in his career's o...</td>\n",
       "      <td>West Indies' cricketing legend Garry Sobers, w...</td>\n",
       "    </tr>\n",
       "    <tr>\n",
       "      <th>23029</th>\n",
       "      <td>Wish I knew what drew me to films that I picke...</td>\n",
       "      <td>Aamir Khan, while talking about the films that...</td>\n",
       "    </tr>\n",
       "    <tr>\n",
       "      <th>74623</th>\n",
       "      <td>UK MP resigns over her 'Pak men rape white gir...</td>\n",
       "      <td>Labour MP Sarah Champion has resigned as the s...</td>\n",
       "    </tr>\n",
       "    <tr>\n",
       "      <th>59031</th>\n",
       "      <td>Facebook rolls out AI-based tools to detect su...</td>\n",
       "      <td>Facebook on Monday said that it is rolling out...</td>\n",
       "    </tr>\n",
       "    <tr>\n",
       "      <th>64774</th>\n",
       "      <td>Punjab to close 800 govt schools with less tha...</td>\n",
       "      <td>The Punjab government has decided to close 800...</td>\n",
       "    </tr>\n",
       "  </tbody>\n",
       "</table>\n",
       "</div>"
      ],
      "text/plain": [
       "                                               headlines  \\\n",
       "86310  Release date of Lipstick Under My Burkha annou...   \n",
       "49670       Sky is the limit for India-US ties: US envoy   \n",
       "57349  Adobe achieves pay equality between men, women...   \n",
       "15468  I have a name: Tanushree on being called 'surv...   \n",
       "53553  China bans steel exports to N Korea, caps crud...   \n",
       "23939  Garry Sobers got out on duck in his career's o...   \n",
       "23029  Wish I knew what drew me to films that I picke...   \n",
       "74623  UK MP resigns over her 'Pak men rape white gir...   \n",
       "59031  Facebook rolls out AI-based tools to detect su...   \n",
       "64774  Punjab to close 800 govt schools with less tha...   \n",
       "\n",
       "                                                    text  \n",
       "86310  Lipstick Under My Burkha, which was initially ...  \n",
       "49670  As two democracies sharing common values, the ...  \n",
       "57349  American software maker Adobe announced that i...  \n",
       "15468  Reacting to Priyanka Chopra calling her a sexu...  \n",
       "53553  China has banned steel and other metal exports...  \n",
       "23939  West Indies' cricketing legend Garry Sobers, w...  \n",
       "23029  Aamir Khan, while talking about the films that...  \n",
       "74623  Labour MP Sarah Champion has resigned as the s...  \n",
       "59031  Facebook on Monday said that it is rolling out...  \n",
       "64774  The Punjab government has decided to close 800...  "
      ]
     },
     "execution_count": 4,
     "metadata": {},
     "output_type": "execute_result"
    }
   ],
   "source": [
    "data.sample(10)"
   ]
  },
  {
   "cell_type": "markdown",
   "id": "71712b49",
   "metadata": {},
   "source": [
    "* 열이 두 개인 것 확인"
   ]
  },
  {
   "cell_type": "code",
   "execution_count": 5,
   "id": "4f9b49ef",
   "metadata": {},
   "outputs": [
    {
     "name": "stdout",
     "output_type": "stream",
     "text": [
      "text 열에서 중복을 배제한 유일한 샘플의 수 :  98360\n",
      "headlines 열에서 중복을 배제한 유일한 샘플의 수 :  98280\n"
     ]
    }
   ],
   "source": [
    "#데이터의 중복 샘플 유무를 확인\n",
    "print('text 열에서 중복을 배제한 유일한 샘플의 수 : ', data['text'].nunique())\n",
    "print('headlines 열에서 중복을 배제한 유일한 샘플의 수 : ', data['headlines'].nunique())"
   ]
  },
  {
   "cell_type": "markdown",
   "id": "6824b7ee",
   "metadata": {},
   "source": [
    "* 두 열 모두 중복 데이터가 있는 것 확인"
   ]
  },
  {
   "cell_type": "code",
   "execution_count": 6,
   "id": "fc63a08d",
   "metadata": {},
   "outputs": [
    {
     "name": "stdout",
     "output_type": "stream",
     "text": [
      "전체 샘플수 :  98280\n"
     ]
    }
   ],
   "source": [
    "#drop_duplicates()를 사용하면, 손쉽게 중복 샘플을 제거\n",
    "#inplace = True로 설정하면 dataframe 타입 값을 return하지 않고 data내부를 직접적으로 바꾼다\n",
    "data.drop_duplicates(subset = ['headlines'], inplace = True)\n",
    "print('전체 샘플수 : ', (len(data)))"
   ]
  },
  {
   "cell_type": "code",
   "execution_count": 7,
   "id": "1f827cf3",
   "metadata": {
    "scrolled": true
   },
   "outputs": [
    {
     "name": "stdout",
     "output_type": "stream",
     "text": [
      "전체 샘플수 :  98262\n"
     ]
    }
   ],
   "source": [
    "#drop_duplicates()를 사용하면, 손쉽게 중복 샘플을 제거\n",
    "#inplace = True로 설정하면 dataframe 타입 값을 return하지 않고 data내부를 직접적으로 바꾼다\n",
    "data.drop_duplicates(subset = ['text'], inplace = True)\n",
    "print('전체 샘플수 : ', (len(data)))"
   ]
  },
  {
   "cell_type": "markdown",
   "id": "6ae3bc14",
   "metadata": {},
   "source": [
    "## 텍스트 정규화와 불용어 제거"
   ]
  },
  {
   "cell_type": "markdown",
   "id": "ff2bfbaf",
   "metadata": {},
   "source": [
    "* 텍스트 정규화를 위한 사전(dictionary)을 아래와 같이 구성"
   ]
  },
  {
   "cell_type": "code",
   "execution_count": 8,
   "id": "933bf152",
   "metadata": {},
   "outputs": [
    {
     "name": "stdout",
     "output_type": "stream",
     "text": [
      "정규화 사전의 수:  120\n"
     ]
    }
   ],
   "source": [
    "contractions = {\"ain't\": \"is not\", \"aren't\": \"are not\",\"can't\": \"cannot\", \"'cause\": \"because\", \"could've\": \"could have\", \"couldn't\": \"could not\",\n",
    "                           \"didn't\": \"did not\",  \"doesn't\": \"does not\", \"don't\": \"do not\", \"hadn't\": \"had not\", \"hasn't\": \"has not\", \"haven't\": \"have not\",\n",
    "                           \"he'd\": \"he would\",\"he'll\": \"he will\", \"he's\": \"he is\", \"how'd\": \"how did\", \"how'd'y\": \"how do you\", \"how'll\": \"how will\", \"how's\": \"how is\",\n",
    "                           \"I'd\": \"I would\", \"I'd've\": \"I would have\", \"I'll\": \"I will\", \"I'll've\": \"I will have\",\"I'm\": \"I am\", \"I've\": \"I have\", \"i'd\": \"i would\",\n",
    "                           \"i'd've\": \"i would have\", \"i'll\": \"i will\",  \"i'll've\": \"i will have\",\"i'm\": \"i am\", \"i've\": \"i have\", \"isn't\": \"is not\", \"it'd\": \"it would\",\n",
    "                           \"it'd've\": \"it would have\", \"it'll\": \"it will\", \"it'll've\": \"it will have\",\"it's\": \"it is\", \"let's\": \"let us\", \"ma'am\": \"madam\",\n",
    "                           \"mayn't\": \"may not\", \"might've\": \"might have\",\"mightn't\": \"might not\",\"mightn't've\": \"might not have\", \"must've\": \"must have\",\n",
    "                           \"mustn't\": \"must not\", \"mustn't've\": \"must not have\", \"needn't\": \"need not\", \"needn't've\": \"need not have\",\"o'clock\": \"of the clock\",\n",
    "                           \"oughtn't\": \"ought not\", \"oughtn't've\": \"ought not have\", \"shan't\": \"shall not\", \"sha'n't\": \"shall not\", \"shan't've\": \"shall not have\",\n",
    "                           \"she'd\": \"she would\", \"she'd've\": \"she would have\", \"she'll\": \"she will\", \"she'll've\": \"she will have\", \"she's\": \"she is\",\n",
    "                           \"should've\": \"should have\", \"shouldn't\": \"should not\", \"shouldn't've\": \"should not have\", \"so've\": \"so have\",\"so's\": \"so as\",\n",
    "                           \"this's\": \"this is\",\"that'd\": \"that would\", \"that'd've\": \"that would have\", \"that's\": \"that is\", \"there'd\": \"there would\",\n",
    "                           \"there'd've\": \"there would have\", \"there's\": \"there is\", \"here's\": \"here is\",\"they'd\": \"they would\", \"they'd've\": \"they would have\",\n",
    "                           \"they'll\": \"they will\", \"they'll've\": \"they will have\", \"they're\": \"they are\", \"they've\": \"they have\", \"to've\": \"to have\",\n",
    "                           \"wasn't\": \"was not\", \"we'd\": \"we would\", \"we'd've\": \"we would have\", \"we'll\": \"we will\", \"we'll've\": \"we will have\", \"we're\": \"we are\",\n",
    "                           \"we've\": \"we have\", \"weren't\": \"were not\", \"what'll\": \"what will\", \"what'll've\": \"what will have\", \"what're\": \"what are\",\n",
    "                           \"what's\": \"what is\", \"what've\": \"what have\", \"when's\": \"when is\", \"when've\": \"when have\", \"where'd\": \"where did\", \"where's\": \"where is\",\n",
    "                           \"where've\": \"where have\", \"who'll\": \"who will\", \"who'll've\": \"who will have\", \"who's\": \"who is\", \"who've\": \"who have\",\n",
    "                           \"why's\": \"why is\", \"why've\": \"why have\", \"will've\": \"will have\", \"won't\": \"will not\", \"won't've\": \"will not have\",\n",
    "                           \"would've\": \"would have\", \"wouldn't\": \"would not\", \"wouldn't've\": \"would not have\", \"y'all\": \"you all\",\n",
    "                           \"y'all'd\": \"you all would\",\"y'all'd've\": \"you all would have\",\"y'all're\": \"you all are\",\"y'all've\": \"you all have\",\n",
    "                           \"you'd\": \"you would\", \"you'd've\": \"you would have\", \"you'll\": \"you will\", \"you'll've\": \"you will have\",\n",
    "                           \"you're\": \"you are\", \"you've\": \"you have\"}\n",
    "\n",
    "print(\"정규화 사전의 수: \", len(contractions))"
   ]
  },
  {
   "cell_type": "code",
   "execution_count": 9,
   "id": "494dd40e",
   "metadata": {
    "scrolled": true
   },
   "outputs": [
    {
     "name": "stdout",
     "output_type": "stream",
     "text": [
      "불용어 개수 :  179\n",
      "['i', 'me', 'my', 'myself', 'we', 'our', 'ours', 'ourselves', 'you', \"you're\", \"you've\", \"you'll\", \"you'd\", 'your', 'yours', 'yourself', 'yourselves', 'he', 'him', 'his', 'himself', 'she', \"she's\", 'her', 'hers', 'herself', 'it', \"it's\", 'its', 'itself', 'they', 'them', 'their', 'theirs', 'themselves', 'what', 'which', 'who', 'whom', 'this', 'that', \"that'll\", 'these', 'those', 'am', 'is', 'are', 'was', 'were', 'be', 'been', 'being', 'have', 'has', 'had', 'having', 'do', 'does', 'did', 'doing', 'a', 'an', 'the', 'and', 'but', 'if', 'or', 'because', 'as', 'until', 'while', 'of', 'at', 'by', 'for', 'with', 'about', 'against', 'between', 'into', 'through', 'during', 'before', 'after', 'above', 'below', 'to', 'from', 'up', 'down', 'in', 'out', 'on', 'off', 'over', 'under', 'again', 'further', 'then', 'once', 'here', 'there', 'when', 'where', 'why', 'how', 'all', 'any', 'both', 'each', 'few', 'more', 'most', 'other', 'some', 'such', 'no', 'nor', 'not', 'only', 'own', 'same', 'so', 'than', 'too', 'very', 's', 't', 'can', 'will', 'just', 'don', \"don't\", 'should', \"should've\", 'now', 'd', 'll', 'm', 'o', 're', 've', 'y', 'ain', 'aren', \"aren't\", 'couldn', \"couldn't\", 'didn', \"didn't\", 'doesn', \"doesn't\", 'hadn', \"hadn't\", 'hasn', \"hasn't\", 'haven', \"haven't\", 'isn', \"isn't\", 'ma', 'mightn', \"mightn't\", 'mustn', \"mustn't\", 'needn', \"needn't\", 'shan', \"shan't\", 'shouldn', \"shouldn't\", 'wasn', \"wasn't\", 'weren', \"weren't\", 'won', \"won't\", 'wouldn', \"wouldn't\"]\n"
     ]
    }
   ],
   "source": [
    "print('불용어 개수 : ', len(stopwords.words('english')))\n",
    "print(stopwords.words('english'))"
   ]
  },
  {
   "cell_type": "markdown",
   "id": "4fdf087f",
   "metadata": {},
   "source": [
    "NLTK에서 미리 정의하여 제공하고 있는 불용어는 총 179개라는 것을 볼 수 있ek. 이를 사용하여 불용어를 제거할 것이다."
   ]
  },
  {
   "cell_type": "markdown",
   "id": "ef2c8968",
   "metadata": {},
   "source": [
    "불용어를 제거하는 파트는 Text 전처리 시에서만 호출하고, 이미 상대적으로 문장 길이가 짧은 headlines을  전처리할 때는 호출하지 않도록 한다. 그리고, 짧다는 이유 뿐만 아니라 기사 헤드라인에서는 의미를 강조하기 위해 일부러 줄임말 쓰지 않고 풀어서 쓰는 경우가 있으니 불용어 제거는 하지 않는다."
   ]
  },
  {
   "cell_type": "code",
   "execution_count": 10,
   "id": "4eccfc1c",
   "metadata": {},
   "outputs": [
    {
     "name": "stdout",
     "output_type": "stream",
     "text": [
      "슝\n"
     ]
    }
   ],
   "source": [
    "\n",
    "#데이터 전처리 함수\n",
    "def preprocess_sentence(sentence, remove_stopwords = True):\n",
    "    sentence = sentence.lower() #텍스트 소문자화\n",
    "    sentence = BeautifulSoup(sentence, 'lxml').text # <br />, <a href = ...> 등의 html 태그 제거\n",
    "    sentence = re.sub(r'\\([^)]*\\)', '', sentence) # 괄호로 닫힌 문자열 (...) 제거 Ex) my husband (and myself!) for => my husband for\n",
    "    sentence = re.sub('\"','', sentence) # 쌍따옴표 \" 제거\n",
    "    sentence = ' '.join([contractions[t] if t in contractions else t for t in sentence.split(\" \")]) # 약어 정규화\n",
    "    sentence = re.sub(r\"'s\\b\",\"\", sentence) # 소유격 제거. Ex) roland's -> roland\n",
    "    sentence = re.sub(\"[^a-zA-Z]\", \" \", sentence) # 영어 외 문자(숫자, 특수문자 등) 공백으로 변환\n",
    "    sentence = re.sub('[m]{2,}', 'mm', sentence) # m이 3개 이상이면 2개로 변경. Ex) ummmmmmm yeah -> umm yeah\n",
    "    \n",
    "    #불용어 제거 (text)\n",
    "    if remove_stopwords:\n",
    "        tokens = ' '.join(word for word in sentence.split() if not word in stopwords.words('english') if len(word) >1)\n",
    "    \n",
    "    #불용어 미제거 (summary)\n",
    "    else:\n",
    "        tokens = ' '.join(word for word in sentence.split() if len(word) >1)\n",
    "    return tokens\n",
    "print('슝')"
   ]
  },
  {
   "cell_type": "markdown",
   "id": "8b55e621",
   "metadata": {},
   "source": [
    "* text의 경우에는 불용어를 제거하고, headlines의 경우에는 불용어를 제거하지 않을 것이므로 따로 호출해서 진행해야 해요. 먼저 text를 전처리하고, 결과를 확인하기 위해서 상위 5개의 줄을 출력해보자"
   ]
  },
  {
   "cell_type": "code",
   "execution_count": 11,
   "id": "14f17db5",
   "metadata": {},
   "outputs": [
    {
     "name": "stdout",
     "output_type": "stream",
     "text": [
      "Text 전처리 후 결과:  ['saurav kant alumnus upgrad iiit pg program machine learning artificial intelligence sr systems engineer infosys almost years work experience program upgrad degree career support helped transition data scientist tech mahindra salary hike upgrad online power learning powered lakh careers', 'kunal shah credit card bill payment platform cred gave users chance win free food swiggy one year pranav kaushik delhi techie bagged reward spending cred coins users get one cred coin per rupee bill paid used avail rewards brands like ixigo bookmyshow ubereats cult fit', 'new zealand defeated india wickets fourth odi hamilton thursday win first match five match odi series india lost international match rohit sharma captaincy consecutive victories dating back march match witnessed india getting seventh lowest total odi cricket history', 'aegon life iterm insurance plan customers enjoy tax benefits premiums paid save taxes plan provides life cover age years also customers options insure critical illnesses disability accidental death benefit rider life cover age years', 'speaking sexual harassment allegations rajkumar hirani sonam kapoor said known hirani many years true metoo movement get derailed metoo movement always believe woman case need reserve judgment added hirani accused assistant worked sanju']\n"
     ]
    }
   ],
   "source": [
    "#먼저 text를 전처리하고, 결과를 확인하기 위해서 상위 5개의 줄을 출력\n",
    "clean_text = []\n",
    "#전체 text데이터에 대한 전처리 : 10분 이상 시간이 걸릴 수 있다.\n",
    "for s in data['text']:\n",
    "    clean_text.append(preprocess_sentence(s))\n",
    "    \n",
    "#전처리 후 출력\n",
    "print('Text 전처리 후 결과: ', clean_text[:5])\n"
   ]
  },
  {
   "cell_type": "markdown",
   "id": "63b122f4",
   "metadata": {},
   "source": [
    "* headlines에 대해서 전처리 함수를 호출해 줄 때는, 불용어 제거를 수행하지 않는다는 의미에서 두 번째 인자로 False를 넣어주자."
   ]
  },
  {
   "cell_type": "code",
   "execution_count": 12,
   "id": "f6e522e6",
   "metadata": {},
   "outputs": [
    {
     "name": "stdout",
     "output_type": "stream",
     "text": [
      "headlines 전처리 후 결과:  ['upgrad learner switches to career in ml al with salary hike', 'delhi techie wins free food from swiggy for one year on cred', 'new zealand end rohit sharma led india match winning streak', 'aegon life iterm insurance plan helps customers save tax', 'have known hirani for yrs what if metoo claims are not true sonam']\n"
     ]
    }
   ],
   "source": [
    "clean_headlines = []\n",
    "#전체 summary 데이터에 대한 전처리 : 5분 이상 시간이 걸릴 수 있습니다.\n",
    "for s in data['headlines']:\n",
    "    clean_headlines.append(preprocess_sentence(s, False))\n",
    "    \n",
    "print('headlines 전처리 후 결과: ', clean_headlines[:5])"
   ]
  },
  {
   "cell_type": "markdown",
   "id": "4e57d778",
   "metadata": {},
   "source": [
    "* 보다 쉽게 확인하기 위해 데이터들을 데이터프레임에 재저장하자. 빈(empty) 값을 가진 샘플들이 있다면, 모두 Null 값을 가진 샘플로 대체 해보자"
   ]
  },
  {
   "cell_type": "code",
   "execution_count": 13,
   "id": "9b9d496f",
   "metadata": {},
   "outputs": [
    {
     "name": "stdout",
     "output_type": "stream",
     "text": [
      "슝\n"
     ]
    }
   ],
   "source": [
    "data['text'] = clean_text\n",
    "data['headlines'] = clean_headlines\n",
    "\n",
    "#빈 값을 Null값으로 변환\n",
    "data.replace('', np.nan, inplace = True)\n",
    "print('슝')"
   ]
  },
  {
   "cell_type": "code",
   "execution_count": 14,
   "id": "48442ec1",
   "metadata": {},
   "outputs": [
    {
     "data": {
      "text/plain": [
       "headlines    0\n",
       "text         0\n",
       "dtype: int64"
      ]
     },
     "execution_count": 14,
     "metadata": {},
     "output_type": "execute_result"
    }
   ],
   "source": [
    "#Null 값이 생겼는지 확인\n",
    "data.isnull().sum()"
   ]
  },
  {
   "cell_type": "markdown",
   "id": "f14fd8cf",
   "metadata": {},
   "source": [
    "* null 없는 것 확인\n",
    "## 훈련데이터와 테스트데이터 나누기"
   ]
  },
  {
   "cell_type": "code",
   "execution_count": 15,
   "id": "31fddb2a",
   "metadata": {},
   "outputs": [
    {
     "name": "stdout",
     "output_type": "stream",
     "text": [
      "텍스트의 최소 길이 : 1\n",
      "텍스트의 최대 길이 : 60\n",
      "텍스트의 평균 길이 : 35.10029309397326\n",
      "요약의 최소 길이 : 1\n",
      "요약의 최대 길이 : 16\n",
      "요약의 평균 길이 : 9.299444342675704\n"
     ]
    },
    {
     "data": {
      "image/png": "[encoded data removed]",
      "text/plain": [
       "<Figure size 432x288 with 2 Axes>"
      ]
     },
     "metadata": {
      "needs_background": "light"
     },
     "output_type": "display_data"
    },
    {
     "data": {
      "image/png": "[encoded data removed]",
      "text/plain": [
       "<Figure size 432x288 with 1 Axes>"
      ]
     },
     "metadata": {
      "needs_background": "light"
     },
     "output_type": "display_data"
    },
    {
     "data": {
      "image/png": "[encoded data removed]",
      "text/plain": [
       "<Figure size 432x288 with 1 Axes>"
      ]
     },
     "metadata": {
      "needs_background": "light"
     },
     "output_type": "display_data"
    }
   ],
   "source": [
    "#샘플의 최대 길이 정하기\n",
    "# 길이 분포 출력\n",
    "import matplotlib.pyplot as plt\n",
    "\n",
    "text_len = [len(s.split()) for s in data['text']]\n",
    "headlines_len = [len(s.split()) for s in data['headlines']]\n",
    "\n",
    "print('텍스트의 최소 길이 : {}'.format(np.min(text_len)))\n",
    "print('텍스트의 최대 길이 : {}'.format(np.max(text_len)))\n",
    "print('텍스트의 평균 길이 : {}'.format(np.mean(text_len)))\n",
    "print('요약의 최소 길이 : {}'.format(np.min(headlines_len)))\n",
    "print('요약의 최대 길이 : {}'.format(np.max(headlines_len)))\n",
    "print('요약의 평균 길이 : {}'.format(np.mean(headlines_len)))\n",
    "\n",
    "plt.subplot(1,2,1)\n",
    "plt.boxplot(text_len)\n",
    "plt.title('text')\n",
    "plt.subplot(1,2,2)\n",
    "plt.boxplot(headlines_len)\n",
    "plt.title('headlines')\n",
    "plt.tight_layout()\n",
    "plt.show()\n",
    "\n",
    "plt.title('text')\n",
    "plt.hist(text_len, bins = 40) #40개 단위로 끊어서 출력\n",
    "plt.xlabel('length of samples')\n",
    "plt.ylabel('number of samples')\n",
    "plt.show()\n",
    "\n",
    "plt.title('headlines')\n",
    "plt.hist(headlines_len, bins = 40)\n",
    "plt.xlabel('length of samples')\n",
    "plt.ylabel('number of samples')\n",
    "plt.show()"
   ]
  },
  {
   "cell_type": "markdown",
   "id": "4f271e99",
   "metadata": {},
   "source": [
    "* 박스플롯과 히스토그램으로 임의의 text, headlines의 최대길이를 임의로 정해보자"
   ]
  },
  {
   "cell_type": "code",
   "execution_count": 16,
   "id": "a51a9d03",
   "metadata": {},
   "outputs": [],
   "source": [
    "#text의 최대 길이와 headlines의 적절한 최대 길이를 임의로 정해볼게요.\n",
    "text_max_len = 40\n",
    "headlines_max_len = 11\n"
   ]
  },
  {
   "cell_type": "markdown",
   "id": "c100c394",
   "metadata": {},
   "source": [
    "* 훈련 데이터와 샘플의 길이를 입력하면, 데이터의 몇 %가 해당하는지 계산하는 함수를 만들어서 좀 더 정확하게 판단해보자"
   ]
  },
  {
   "cell_type": "code",
   "execution_count": 17,
   "id": "e5c981ec",
   "metadata": {},
   "outputs": [],
   "source": [
    "#길이를 선택했을 때, 얼마나 많은 샘플들을 자르지 않고 포함할 수 있는지 \n",
    "#통계로 확인하는 편이 객관적으로 길이를 결정하는 데 도움이 될것.\n",
    "#훈련 데이터와 샘플의 길이를 입력하면, \n",
    "#데이터의 몇 %가 해당하는지 계산하는 함수를 만들어서 좀 더 정확하게 판단해보자.\n",
    "def below_threshold_len(max_len, nested_list):\n",
    "    cnt = 0\n",
    "    for s in nested_list:\n",
    "        if(len(s.split()) <= max_len):\n",
    "            cnt = cnt + 1\n",
    "    print('전체 샘플 중 길이가 %s 이하인 샘플의 비율: %s'%(max_len, (cnt / len(nested_list))))\n",
    "    "
   ]
  },
  {
   "cell_type": "markdown",
   "id": "0e0024bf",
   "metadata": {},
   "source": [
    "* 이렇게 만든 함수를 Text와 Summary에 적용해 우리가 결정한 임의의 길이가 몇%의 샘플까지 포함하는지 볼 수 있다."
   ]
  },
  {
   "cell_type": "code",
   "execution_count": 18,
   "id": "1f860014",
   "metadata": {},
   "outputs": [
    {
     "name": "stdout",
     "output_type": "stream",
     "text": [
      "전체 샘플 중 길이가 40 이하인 샘플의 비율: 0.92383627444994\n",
      "전체 샘플 중 길이가 11 이하인 샘플의 비율: 0.9450041725183692\n"
     ]
    }
   ],
   "source": [
    "#만든 함수 text, headlines에 적용\n",
    "below_threshold_len(text_max_len, data['text'])\n",
    "below_threshold_len(headlines_max_len, data['headlines'])"
   ]
  },
  {
   "cell_type": "markdown",
   "id": "36386396",
   "metadata": {},
   "source": [
    "* 길이 조정이 나쁘지 않은 것 같다. 정해진 길이에 맞춰 자르는 것이 아니라, 정해진 길이보다 길면 제외하는 방법으로 데이터를 정제하자."
   ]
  },
  {
   "cell_type": "code",
   "execution_count": 19,
   "id": "e2fd8f32",
   "metadata": {},
   "outputs": [
    {
     "name": "stdout",
     "output_type": "stream",
     "text": [
      "전체 샘플 수:  85756\n"
     ]
    }
   ],
   "source": [
    "data = data[data['text'].apply(lambda x : len(x.split())  <= text_max_len)]\n",
    "data = data[data['headlines'].apply(lambda x : len(x.split()) <= headlines_max_len)]\n",
    "print('전체 샘플 수: ', (len(data)))"
   ]
  },
  {
   "cell_type": "markdown",
   "id": "0ada70b1",
   "metadata": {},
   "source": [
    "## 시작 토큰과 종료 토큰 추가하자\n",
    "* 각 토큰의 앞뒤에 붙여야할 띄어쓰기를 조심하자..."
   ]
  },
  {
   "cell_type": "code",
   "execution_count": 20,
   "id": "ffc700b5",
   "metadata": {},
   "outputs": [
    {
     "data": {
      "text/html": [
       "<div>\n",
       "<style scoped>\n",
       "    .dataframe tbody tr th:only-of-type {\n",
       "        vertical-align: middle;\n",
       "    }\n",
       "\n",
       "    .dataframe tbody tr th {\n",
       "        vertical-align: top;\n",
       "    }\n",
       "\n",
       "    .dataframe thead th {\n",
       "        text-align: right;\n",
       "    }\n",
       "</style>\n",
       "<table border=\"1\" class=\"dataframe\">\n",
       "  <thead>\n",
       "    <tr style=\"text-align: right;\">\n",
       "      <th></th>\n",
       "      <th>headlines</th>\n",
       "      <th>text</th>\n",
       "      <th>decoder_input</th>\n",
       "      <th>decoder_target</th>\n",
       "    </tr>\n",
       "  </thead>\n",
       "  <tbody>\n",
       "    <tr>\n",
       "      <th>0</th>\n",
       "      <td>upgrad learner switches to career in ml al wit...</td>\n",
       "      <td>saurav kant alumnus upgrad iiit pg program mac...</td>\n",
       "      <td>sostoken upgrad learner switches to career in ...</td>\n",
       "      <td>upgrad learner switches to career in ml al wit...</td>\n",
       "    </tr>\n",
       "    <tr>\n",
       "      <th>2</th>\n",
       "      <td>new zealand end rohit sharma led india match w...</td>\n",
       "      <td>new zealand defeated india wickets fourth odi ...</td>\n",
       "      <td>sostoken new zealand end rohit sharma led indi...</td>\n",
       "      <td>new zealand end rohit sharma led india match w...</td>\n",
       "    </tr>\n",
       "    <tr>\n",
       "      <th>3</th>\n",
       "      <td>aegon life iterm insurance plan helps customer...</td>\n",
       "      <td>aegon life iterm insurance plan customers enjo...</td>\n",
       "      <td>sostoken aegon life iterm insurance plan helps...</td>\n",
       "      <td>aegon life iterm insurance plan helps customer...</td>\n",
       "    </tr>\n",
       "    <tr>\n",
       "      <th>5</th>\n",
       "      <td>rahat fateh ali khan denies getting notice for...</td>\n",
       "      <td>pakistani singer rahat fateh ali khan denied r...</td>\n",
       "      <td>sostoken rahat fateh ali khan denies getting n...</td>\n",
       "      <td>rahat fateh ali khan denies getting notice for...</td>\n",
       "    </tr>\n",
       "    <tr>\n",
       "      <th>7</th>\n",
       "      <td>govt directs alok verma to join work day befor...</td>\n",
       "      <td>weeks ex cbi director alok verma told departme...</td>\n",
       "      <td>sostoken govt directs alok verma to join work ...</td>\n",
       "      <td>govt directs alok verma to join work day befor...</td>\n",
       "    </tr>\n",
       "  </tbody>\n",
       "</table>\n",
       "</div>"
      ],
      "text/plain": [
       "                                           headlines  \\\n",
       "0  upgrad learner switches to career in ml al wit...   \n",
       "2  new zealand end rohit sharma led india match w...   \n",
       "3  aegon life iterm insurance plan helps customer...   \n",
       "5  rahat fateh ali khan denies getting notice for...   \n",
       "7  govt directs alok verma to join work day befor...   \n",
       "\n",
       "                                                text  \\\n",
       "0  saurav kant alumnus upgrad iiit pg program mac...   \n",
       "2  new zealand defeated india wickets fourth odi ...   \n",
       "3  aegon life iterm insurance plan customers enjo...   \n",
       "5  pakistani singer rahat fateh ali khan denied r...   \n",
       "7  weeks ex cbi director alok verma told departme...   \n",
       "\n",
       "                                       decoder_input  \\\n",
       "0  sostoken upgrad learner switches to career in ...   \n",
       "2  sostoken new zealand end rohit sharma led indi...   \n",
       "3  sostoken aegon life iterm insurance plan helps...   \n",
       "5  sostoken rahat fateh ali khan denies getting n...   \n",
       "7  sostoken govt directs alok verma to join work ...   \n",
       "\n",
       "                                      decoder_target  \n",
       "0  upgrad learner switches to career in ml al wit...  \n",
       "2  new zealand end rohit sharma led india match w...  \n",
       "3  aegon life iterm insurance plan helps customer...  \n",
       "5  rahat fateh ali khan denies getting notice for...  \n",
       "7  govt directs alok verma to join work day befor...  "
      ]
     },
     "execution_count": 20,
     "metadata": {},
     "output_type": "execute_result"
    }
   ],
   "source": [
    "#요약 데이터에는 시작 토큰과 종료 토큰을 추가한다.\n",
    "data['decoder_input'] = data['headlines'].apply(lambda x: 'sostoken ' + x)\n",
    "data['decoder_target'] = data['headlines'].apply(lambda x : x + ' eostoken')\n",
    "data.head()"
   ]
  },
  {
   "cell_type": "markdown",
   "id": "778ef67f",
   "metadata": {},
   "source": [
    "인코더의 입력, 디코더의 입력과 레이블을 각각 다시 Numpy 타입으로 저장"
   ]
  },
  {
   "cell_type": "code",
   "execution_count": 21,
   "id": "84dfa317",
   "metadata": {},
   "outputs": [
    {
     "name": "stdout",
     "output_type": "stream",
     "text": [
      "슝\n"
     ]
    }
   ],
   "source": [
    "#디코더의 입력과 레이블을 각각 다시 Numpy 타입으로 저장\n",
    "encoder_input = np.array(data['text']) #인코더의 입력\n",
    "decoder_input = np.array(data['decoder_input']) #디코더의 입력\n",
    "decoder_target = np.array(data['decoder_target']) #디코더의 레이블\n",
    "print('슝')"
   ]
  },
  {
   "cell_type": "markdown",
   "id": "3a490b17",
   "metadata": {},
   "source": [
    "훈련 데이터와 테스트 데이터를 분리\n",
    "\n",
    "encoder_input과 크기와 형태가 같은 순서가 섞인 정수 시퀀스를 만들어주자"
   ]
  },
  {
   "cell_type": "code",
   "execution_count": 22,
   "id": "a6b74faa",
   "metadata": {},
   "outputs": [
    {
     "name": "stdout",
     "output_type": "stream",
     "text": [
      "[19566 30109  7186 ... 36896 24452 79954]\n"
     ]
    }
   ],
   "source": [
    "indices = np.arange(encoder_input.shape[0])\n",
    "np.random.shuffle(indices)\n",
    "print(indices)"
   ]
  },
  {
   "cell_type": "markdown",
   "id": "e8b48b9f",
   "metadata": {},
   "source": [
    "정수 시퀀스를 이용해 다시 데이터의 샘플 순서를 정의해 주면 잘 섞인 샘플이 될것"
   ]
  },
  {
   "cell_type": "code",
   "execution_count": 23,
   "id": "3cb8d68e",
   "metadata": {},
   "outputs": [
    {
     "name": "stdout",
     "output_type": "stream",
     "text": [
      "슝\n"
     ]
    }
   ],
   "source": [
    "encoder_input = encoder_input[indices]\n",
    "decoder_input = decoder_input[indices]\n",
    "decoder_target = decoder_target[indices]\n",
    "print('슝')"
   ]
  },
  {
   "cell_type": "markdown",
   "id": "82c1c3bd",
   "metadata": {},
   "source": [
    "섞인 데이터를 8:2의 비율로 훈련 데이터와 테스트 데이터로 분리해 주자"
   ]
  },
  {
   "cell_type": "code",
   "execution_count": 24,
   "id": "93513e9b",
   "metadata": {},
   "outputs": [
    {
     "name": "stdout",
     "output_type": "stream",
     "text": [
      "테스트 데이터의 수:  17151\n"
     ]
    }
   ],
   "source": [
    "#테스트 데이터의 크기를 정의\n",
    "n_of_val = int(len(encoder_input)*0.2)\n",
    "print('테스트 데이터의 수: ', n_of_val)"
   ]
  },
  {
   "cell_type": "markdown",
   "id": "0f860b45",
   "metadata": {},
   "source": [
    "정의한 테스트 데이터의 개수를 이용해 전체 데이터를 양분하자"
   ]
  },
  {
   "cell_type": "code",
   "execution_count": 25,
   "id": "30cec3b0",
   "metadata": {},
   "outputs": [
    {
     "name": "stdout",
     "output_type": "stream",
     "text": [
      "훈련 데이터의 개수:  68605\n",
      "훈련 레이블의 개수:  68605\n",
      "테스트 데이터의 개수:  17151\n",
      "테스트 레이블의 개수:  17151\n"
     ]
    }
   ],
   "source": [
    "#정의한 테스트 데이터의 개수를 이용해 전체 데이터를 양분\n",
    "encoder_input_train = encoder_input[:-n_of_val]\n",
    "decoder_input_train = decoder_input[:-n_of_val]\n",
    "decoder_target_train = decoder_target[:-n_of_val]\n",
    "\n",
    "encoder_input_test = encoder_input[-n_of_val:]\n",
    "decoder_input_test = decoder_input[-n_of_val:]\n",
    "decoder_target_test = decoder_target[-n_of_val:]\n",
    "\n",
    "print('훈련 데이터의 개수: ', len(encoder_input_train))\n",
    "print('훈련 레이블의 개수: ', len(decoder_input_train))\n",
    "print('테스트 데이터의 개수: ', len(encoder_input_test))\n",
    "print('테스트 레이블의 개수: ', len(decoder_input_test))\n",
    "\n"
   ]
  },
  {
   "cell_type": "markdown",
   "id": "100c6930",
   "metadata": {},
   "source": [
    "훈련 데이터와 테스트 데이터가 각각 68605개와 17151개로 잘 분리되었다.\n",
    "\n",
    "## 정수 인코딩"
   ]
  },
  {
   "cell_type": "code",
   "execution_count": 26,
   "id": "272eea81",
   "metadata": {},
   "outputs": [
    {
     "name": "stdout",
     "output_type": "stream",
     "text": [
      "=3\n"
     ]
    }
   ],
   "source": [
    "# encoder_input_train에 대해서 단어 집합만들기\n",
    "#Keras의 토크나이저 이용해서 입력된 훈련데이터로부터 단어 집합 만들기\n",
    "src_tokenizer = Tokenizer() # 토크나이저 정의\n",
    "src_tokenizer.fit_on_texts(encoder_input_train) # 입력된 데이터로부터 단어 집합 생성\n",
    "print('=3')"
   ]
  },
  {
   "cell_type": "code",
   "execution_count": 27,
   "id": "ec20cd37",
   "metadata": {},
   "outputs": [
    {
     "name": "stdout",
     "output_type": "stream",
     "text": [
      "단어 집합(vocabulary)의 크기 : 64553\n",
      "등장 빈도가 6번 이하인 희귀 단어의 수: 43970\n",
      "단어 집합에서 희귀 단어를 제외시킬 경우의 단어 집합의 크기 20583\n",
      "단어 집합에서 희귀 단어의 비율: 68.11457252180378\n",
      "전체 등장 빈도에서 희귀 단어 등장 빈도 비율: 3.7734996995009693\n"
     ]
    }
   ],
   "source": [
    "#등장 빈도수가 7회 미만인 단어들이 이 데이터에서 얼만큼의 비중을 차지하는지 확인\n",
    "#src_tokenizer.word_counts.items()에는 단어와 각 단어의 등장 빈도수가 저장돼 있음\n",
    "# ->통계적인 정보를 얻을 수 있음\n",
    "\n",
    "threshold = 7\n",
    "total_cnt = len(src_tokenizer.word_index) # 단어의 수\n",
    "rare_cnt = 0 # 등장 빈도수가 threshold보다 작은 단어의 개수를 카운트\n",
    "total_freq = 0 # 훈련 데이터의 전체 단어 빈도수 총 합\n",
    "rare_freq = 0 # 등장 빈도수가 threshold보다 작은 단어의 등장 빈도수의 총 합\n",
    "\n",
    "# 단어와 빈도수의 쌍(pair)을 key와 value로 받는다.\n",
    "for key, value in src_tokenizer.word_counts.items():\n",
    "    total_freq = total_freq + value\n",
    "\n",
    "    # 단어의 등장 빈도수가 threshold보다 작으면\n",
    "    if(value < threshold):\n",
    "        rare_cnt = rare_cnt + 1\n",
    "        rare_freq = rare_freq + value\n",
    "\n",
    "print('단어 집합(vocabulary)의 크기 :', total_cnt)\n",
    "print('등장 빈도가 %s번 이하인 희귀 단어의 수: %s'%(threshold - 1, rare_cnt))\n",
    "print('단어 집합에서 희귀 단어를 제외시킬 경우의 단어 집합의 크기 %s'%(total_cnt - rare_cnt))\n",
    "print(\"단어 집합에서 희귀 단어의 비율:\", (rare_cnt / total_cnt)*100)\n",
    "print(\"전체 등장 빈도에서 희귀 단어 등장 빈도 비율:\", (rare_freq / total_freq)*100)"
   ]
  },
  {
   "cell_type": "markdown",
   "id": "5282ea57",
   "metadata": {},
   "source": [
    "희귀 단어 등장 빈도 매우 낮으니 제외하자. \n",
    "단어 집합의 크기를 어림잡아 20000이라고 하자."
   ]
  },
  {
   "cell_type": "code",
   "execution_count": 28,
   "id": "add9f774",
   "metadata": {},
   "outputs": [
    {
     "name": "stdout",
     "output_type": "stream",
     "text": [
      "=3\n"
     ]
    }
   ],
   "source": [
    "#토크나이저를 정의할 때 num_words의 값을 정해주면, 단어 집합의 크기를 제한하기\n",
    "src_vocab = 20000\n",
    "src_tokenizer = Tokenizer(num_words=src_vocab) # 단어 집합의 크기를 20000으로 제한\n",
    "src_tokenizer.fit_on_texts(encoder_input_train) # 단어 집합 재생성\n",
    "print('=3')"
   ]
  },
  {
   "cell_type": "code",
   "execution_count": 29,
   "id": "b3e508b1",
   "metadata": {},
   "outputs": [
    {
     "name": "stdout",
     "output_type": "stream",
     "text": [
      "[[12, 1953, 4702, 1810, 3442, 278, 7385, 1713, 19211, 112, 2498, 278, 955, 1954, 57, 955, 1811, 3, 18014, 203, 9, 19211, 2187, 5180, 1048, 318, 591, 7385, 422, 278], [151, 11, 12, 238, 2720, 3162, 3201, 1964, 44, 238, 470, 261, 965, 270, 796, 512, 58, 44, 238, 2758, 11510, 18015, 1913, 917, 1819, 265, 442, 7494, 1, 2720, 3996, 470, 261], [699, 476, 501, 56, 14107, 739, 7495, 2169, 2734, 2561, 2721, 143, 1948, 1250, 1959, 5181, 894, 1558, 1232, 645, 417, 508, 6016, 352, 2579, 32, 1, 501, 6, 39, 894, 1684, 2368]]\n"
     ]
    }
   ],
   "source": [
    "# 텍스트 시퀀스를 정수 시퀀스로 변환\n",
    "encoder_input_train = src_tokenizer.texts_to_sequences(encoder_input_train) \n",
    "encoder_input_test = src_tokenizer.texts_to_sequences(encoder_input_test)\n",
    "\n",
    "# 잘 진행되었는지 샘플 출력\n",
    "print(encoder_input_train[:3])"
   ]
  },
  {
   "cell_type": "code",
   "execution_count": 30,
   "id": "b8c40851",
   "metadata": {},
   "outputs": [
    {
     "name": "stdout",
     "output_type": "stream",
     "text": [
      "=3\n"
     ]
    }
   ],
   "source": [
    "#summary데이터에도 텍스트 시퀀스를 정수 시퀀스로 변환하자\n",
    "#decoder_input_train을 입력으로 전체 단어 집합과 각 단어에 대한 빈도수를 계산한다\n",
    "tar_tokenizer = Tokenizer()\n",
    "tar_tokenizer.fit_on_texts(decoder_input_train)\n",
    "print('=3')"
   ]
  },
  {
   "cell_type": "code",
   "execution_count": 31,
   "id": "7bd2ceac",
   "metadata": {},
   "outputs": [
    {
     "name": "stdout",
     "output_type": "stream",
     "text": [
      "단어 집합(vocabulary)의 크기 : 28520\n",
      "등장 빈도가 5번 이하인 희귀 단어의 수: 18813\n",
      "단어 집합에서 희귀 단어를 제외시킬 경우의 단어 집합의 크기 9707\n",
      "단어 집합에서 희귀 단어의 비율: 65.96423562412342\n",
      "전체 등장 빈도에서 희귀 단어 등장 빈도 비율: 5.176947021668832\n"
     ]
    }
   ],
   "source": [
    "#등장 빈도수가 6회 미만인 단어들이 이 데이터에서 얼만큼의 비중을 차지하는지 확인\n",
    "threshold = 6\n",
    "total_cnt = len(tar_tokenizer.word_index) # 단어의 수\n",
    "rare_cnt = 0 # 등장 빈도수가 threshold보다 작은 단어의 개수를 카운트\n",
    "total_freq = 0 # 훈련 데이터의 전체 단어 빈도수 총 합\n",
    "rare_freq = 0 # 등장 빈도수가 threshold보다 작은 단어의 등장 빈도수의 총 합\n",
    "\n",
    "# 단어와 빈도수의 쌍(pair)을 key와 value로 받는다.\n",
    "for key, value in tar_tokenizer.word_counts.items():\n",
    "    total_freq = total_freq + value\n",
    "\n",
    "    # 단어의 등장 빈도수가 threshold보다 작으면\n",
    "    if(value < threshold):\n",
    "        rare_cnt = rare_cnt + 1\n",
    "        rare_freq = rare_freq + value\n",
    "\n",
    "print('단어 집합(vocabulary)의 크기 :', total_cnt)\n",
    "print('등장 빈도가 %s번 이하인 희귀 단어의 수: %s'%(threshold - 1, rare_cnt))\n",
    "print('단어 집합에서 희귀 단어를 제외시킬 경우의 단어 집합의 크기 %s'%(total_cnt - rare_cnt))\n",
    "print(\"단어 집합에서 희귀 단어의 비율:\", (rare_cnt / total_cnt)*100)\n",
    "print(\"전체 등장 빈도에서 희귀 단어 등장 빈도 비율:\", (rare_freq / total_freq)*100)"
   ]
  },
  {
   "cell_type": "markdown",
   "id": "2bb6c724",
   "metadata": {},
   "source": [
    "희귀 단어 등장 빈도 매우 낮으니 제외하자. 단어 집합의 크기를 어림잡아 9000이라고 하자."
   ]
  },
  {
   "cell_type": "code",
   "execution_count": 32,
   "id": "63ed11d7",
   "metadata": {},
   "outputs": [
    {
     "name": "stdout",
     "output_type": "stream",
     "text": [
      "input\n",
      "input  [[1, 411, 47, 2354, 8166, 165, 1021, 5, 681], [1, 1388, 1593, 4, 2196, 2727, 16, 63, 1594, 2995], [1, 262, 8167, 3492, 675, 3404, 5996, 4, 4927, 2922], [1, 14, 46, 8168, 4, 4406, 8, 236, 21], [1, 241, 945, 119, 1951, 3135, 130, 7, 1297, 307]]\n",
      "target\n",
      "decoder  [[411, 47, 2354, 8166, 165, 1021, 5, 681, 2], [1388, 1593, 4, 2196, 2727, 16, 63, 1594, 2995, 2], [262, 8167, 3492, 675, 3404, 5996, 4, 4927, 2922, 2], [14, 46, 8168, 4, 4406, 8, 236, 21, 2], [241, 945, 119, 1951, 3135, 130, 7, 1297, 307, 2]]\n"
     ]
    }
   ],
   "source": [
    "tar_vocab = 9000\n",
    "tar_tokenizer = Tokenizer(num_words=tar_vocab) \n",
    "tar_tokenizer.fit_on_texts(decoder_input_train)\n",
    "tar_tokenizer.fit_on_texts(decoder_target_train)\n",
    "\n",
    "# 텍스트 시퀀스를 정수 시퀀스로 변환\n",
    "decoder_input_train = tar_tokenizer.texts_to_sequences(decoder_input_train) \n",
    "decoder_target_train = tar_tokenizer.texts_to_sequences(decoder_target_train)\n",
    "decoder_input_test = tar_tokenizer.texts_to_sequences(decoder_input_test)\n",
    "decoder_target_test = tar_tokenizer.texts_to_sequences(decoder_target_test)\n",
    "\n",
    "# 잘 변환되었는지 확인\n",
    "print('input')\n",
    "print('input ',decoder_input_train[:5])\n",
    "print('target')\n",
    "print('decoder ',decoder_target_train[:5])"
   ]
  },
  {
   "cell_type": "code",
   "execution_count": 33,
   "id": "760d2023",
   "metadata": {},
   "outputs": [
    {
     "name": "stdout",
     "output_type": "stream",
     "text": [
      "삭제할 훈련 데이터의 개수 : 0\n",
      "삭제할 테스트 데이터의 개수 : 0\n",
      "훈련 데이터의 개수 : 68605\n",
      "훈련 레이블의 개수 : 68605\n",
      "테스트 데이터의 개수 : 17151\n",
      "테스트 레이블의 개수 : 17151\n"
     ]
    }
   ],
   "source": [
    "#훈련 데이터와 테스트 데이터에 대해서 \n",
    "#요약문의 길이가 1인 경우의 인덱스를 각각 \n",
    "#drop_train과 drop_test에 라는 변수에 저장해볼게요. 이 샘플들은 모두 삭제할 거예요.\n",
    "\n",
    "drop_train = [index for index, sentence in enumerate(decoder_input_train) if len(sentence) == 1]\n",
    "drop_test = [index for index, sentence in enumerate(decoder_input_test) if len(sentence) == 1]\n",
    "\n",
    "print('삭제할 훈련 데이터의 개수 :', len(drop_train))\n",
    "print('삭제할 테스트 데이터의 개수 :', len(drop_test))\n",
    "\n",
    "encoder_input_train = [sentence for index, sentence in enumerate(encoder_input_train) if index not in drop_train]\n",
    "decoder_input_train = [sentence for index, sentence in enumerate(decoder_input_train) if index not in drop_train]\n",
    "decoder_target_train = [sentence for index, sentence in enumerate(decoder_target_train) if index not in drop_train]\n",
    "\n",
    "encoder_input_test = [sentence for index, sentence in enumerate(encoder_input_test) if index not in drop_test]\n",
    "decoder_input_test = [sentence for index, sentence in enumerate(decoder_input_test) if index not in drop_test]\n",
    "decoder_target_test = [sentence for index, sentence in enumerate(decoder_target_test) if index not in drop_test]\n",
    "\n",
    "print('훈련 데이터의 개수 :', len(encoder_input_train))\n",
    "print('훈련 레이블의 개수 :', len(decoder_input_train))\n",
    "print('테스트 데이터의 개수 :', len(encoder_input_test))\n",
    "print('테스트 레이블의 개수 :', len(decoder_input_test))"
   ]
  },
  {
   "cell_type": "markdown",
   "id": "62f2eace",
   "metadata": {},
   "source": [
    "삭제할 데이터 없는 것 확인\n",
    "## 패딩하기\n",
    "\n",
    "텍스트 시퀀스를 정수 시퀀스로 변환했다면, 이제 서로 다른 길이의 샘플들을 병렬 처리하기 위해 같은 길이로 맞춰주는 패딩 작업을 해주어야 한다."
   ]
  },
  {
   "cell_type": "code",
   "execution_count": 34,
   "id": "5fb16bb3",
   "metadata": {},
   "outputs": [
    {
     "name": "stdout",
     "output_type": "stream",
     "text": [
      "=3\n"
     ]
    }
   ],
   "source": [
    "encoder_input_train = pad_sequences(encoder_input_train, maxlen=text_max_len, padding='post')\n",
    "encoder_input_test = pad_sequences(encoder_input_test, maxlen=text_max_len, padding='post')\n",
    "decoder_input_train = pad_sequences(decoder_input_train, maxlen=headlines_max_len, padding='post')\n",
    "decoder_target_train = pad_sequences(decoder_target_train, maxlen=headlines_max_len, padding='post')\n",
    "decoder_input_test = pad_sequences(decoder_input_test, maxlen=headlines_max_len, padding='post')\n",
    "decoder_target_test = pad_sequences(decoder_target_test, maxlen=headlines_max_len, padding='post')\n",
    "print('=3')"
   ]
  },
  {
   "cell_type": "markdown",
   "id": "164f1140",
   "metadata": {},
   "source": [
    "## 모델 설계하기"
   ]
  },
  {
   "cell_type": "code",
   "execution_count": 35,
   "id": "6d870f83",
   "metadata": {},
   "outputs": [
    {
     "name": "stdout",
     "output_type": "stream",
     "text": [
      "WARNING:tensorflow:Layer lstm will not use cuDNN kernels since it doesn't meet the criteria. It will use a generic GPU kernel as fallback when running on GPU.\n",
      "WARNING:tensorflow:Layer lstm_1 will not use cuDNN kernels since it doesn't meet the criteria. It will use a generic GPU kernel as fallback when running on GPU.\n",
      "WARNING:tensorflow:Layer lstm_2 will not use cuDNN kernels since it doesn't meet the criteria. It will use a generic GPU kernel as fallback when running on GPU.\n"
     ]
    }
   ],
   "source": [
    "\n",
    "# 함수형 API를 이용해서 인코더를 설계\n",
    "from tensorflow.keras.layers import Input, LSTM, Embedding, Dense, Concatenate, TimeDistributed\n",
    "from tensorflow.keras.models import Model\n",
    "from tensorflow.keras.callbacks import EarlyStopping, ModelCheckpoint\n",
    "\n",
    "\n",
    "# 인코더 설계 시작\n",
    "embedding_dim = 128\n",
    "hidden_size = 256\n",
    "\n",
    "# 인코더\n",
    "encoder_inputs = Input(shape=(text_max_len,))\n",
    "\n",
    "# 인코더의 임베딩 층\n",
    "enc_emb = Embedding(src_vocab, embedding_dim)(encoder_inputs)\n",
    "\n",
    "# 인코더의 LSTM 1\n",
    "encoder_lstm1 = LSTM(hidden_size, return_sequences=True, return_state=True ,dropout = 0.4, recurrent_dropout = 0.4)\n",
    "encoder_output1, state_h1, state_c1 = encoder_lstm1(enc_emb)\n",
    "\n",
    "# 인코더의 LSTM 2\n",
    "encoder_lstm2 = LSTM(hidden_size, return_sequences=True, return_state=True, dropout=0.4, recurrent_dropout=0.4)\n",
    "encoder_output2, state_h2, state_c2 = encoder_lstm2(encoder_output1)\n",
    "\n",
    "# 인코더의 LSTM 3\n",
    "encoder_lstm3 = LSTM(hidden_size, return_state=True, return_sequences=True, dropout=0.4, recurrent_dropout=0.4)\n",
    "encoder_outputs, state_h, state_c= encoder_lstm3(encoder_output2)"
   ]
  },
  {
   "cell_type": "code",
   "execution_count": 36,
   "id": "6e25dff3",
   "metadata": {},
   "outputs": [
    {
     "name": "stdout",
     "output_type": "stream",
     "text": [
      "WARNING:tensorflow:Layer lstm_3 will not use cuDNN kernels since it doesn't meet the criteria. It will use a generic GPU kernel as fallback when running on GPU.\n"
     ]
    }
   ],
   "source": [
    "#디코더를 설계\n",
    "decoder_inputs = Input(shape=(None,))\n",
    "\n",
    "# 디코더의 임베딩 층\n",
    "dec_emb_layer = Embedding(tar_vocab, embedding_dim)\n",
    "dec_emb = dec_emb_layer(decoder_inputs)\n",
    "\n",
    "# 디코더의 LSTM\n",
    "decoder_lstm = LSTM(hidden_size, return_sequences=True, return_state=True, dropout=0.4, recurrent_dropout=0.2)\n",
    "decoder_outputs, _, _ = decoder_lstm(dec_emb, initial_state=[state_h, state_c])"
   ]
  },
  {
   "cell_type": "code",
   "execution_count": 37,
   "id": "580d613e",
   "metadata": {},
   "outputs": [
    {
     "name": "stdout",
     "output_type": "stream",
     "text": [
      "Model: \"model\"\n",
      "__________________________________________________________________________________________________\n",
      "Layer (type)                    Output Shape         Param #     Connected to                     \n",
      "==================================================================================================\n",
      "input_1 (InputLayer)            [(None, 40)]         0                                            \n",
      "__________________________________________________________________________________________________\n",
      "embedding (Embedding)           (None, 40, 128)      2560000     input_1[0][0]                    \n",
      "__________________________________________________________________________________________________\n",
      "lstm (LSTM)                     [(None, 40, 256), (N 394240      embedding[0][0]                  \n",
      "__________________________________________________________________________________________________\n",
      "input_2 (InputLayer)            [(None, None)]       0                                            \n",
      "__________________________________________________________________________________________________\n",
      "lstm_1 (LSTM)                   [(None, 40, 256), (N 525312      lstm[0][0]                       \n",
      "__________________________________________________________________________________________________\n",
      "embedding_1 (Embedding)         (None, None, 128)    1152000     input_2[0][0]                    \n",
      "__________________________________________________________________________________________________\n",
      "lstm_2 (LSTM)                   [(None, 40, 256), (N 525312      lstm_1[0][0]                     \n",
      "__________________________________________________________________________________________________\n",
      "lstm_3 (LSTM)                   [(None, None, 256),  394240      embedding_1[0][0]                \n",
      "                                                                 lstm_2[0][1]                     \n",
      "                                                                 lstm_2[0][2]                     \n",
      "__________________________________________________________________________________________________\n",
      "dense (Dense)                   (None, None, 9000)   2313000     lstm_3[0][0]                     \n",
      "==================================================================================================\n",
      "Total params: 7,864,104\n",
      "Trainable params: 7,864,104\n",
      "Non-trainable params: 0\n",
      "__________________________________________________________________________________________________\n"
     ]
    }
   ],
   "source": [
    "# 디코더의 출력층\n",
    "decoder_softmax_layer = Dense(tar_vocab, activation='softmax')\n",
    "decoder_softmax_outputs = decoder_softmax_layer(decoder_outputs) \n",
    "\n",
    "# 모델 정의\n",
    "model = Model([encoder_inputs, decoder_inputs], decoder_softmax_outputs)\n",
    "model.summary()"
   ]
  },
  {
   "cell_type": "markdown",
   "id": "c15e628e",
   "metadata": {},
   "source": [
    "## 어텐션 메커니즘"
   ]
  },
  {
   "cell_type": "code",
   "execution_count": 38,
   "id": "73c9bd0a",
   "metadata": {},
   "outputs": [
    {
     "name": "stdout",
     "output_type": "stream",
     "text": [
      "Model: \"model_1\"\n",
      "__________________________________________________________________________________________________\n",
      "Layer (type)                    Output Shape         Param #     Connected to                     \n",
      "==================================================================================================\n",
      "input_1 (InputLayer)            [(None, 40)]         0                                            \n",
      "__________________________________________________________________________________________________\n",
      "embedding (Embedding)           (None, 40, 128)      2560000     input_1[0][0]                    \n",
      "__________________________________________________________________________________________________\n",
      "lstm (LSTM)                     [(None, 40, 256), (N 394240      embedding[0][0]                  \n",
      "__________________________________________________________________________________________________\n",
      "input_2 (InputLayer)            [(None, None)]       0                                            \n",
      "__________________________________________________________________________________________________\n",
      "lstm_1 (LSTM)                   [(None, 40, 256), (N 525312      lstm[0][0]                       \n",
      "__________________________________________________________________________________________________\n",
      "embedding_1 (Embedding)         (None, None, 128)    1152000     input_2[0][0]                    \n",
      "__________________________________________________________________________________________________\n",
      "lstm_2 (LSTM)                   [(None, 40, 256), (N 525312      lstm_1[0][0]                     \n",
      "__________________________________________________________________________________________________\n",
      "lstm_3 (LSTM)                   [(None, None, 256),  394240      embedding_1[0][0]                \n",
      "                                                                 lstm_2[0][1]                     \n",
      "                                                                 lstm_2[0][2]                     \n",
      "__________________________________________________________________________________________________\n",
      "attention_layer (AdditiveAttent (None, None, 256)    256         lstm_3[0][0]                     \n",
      "                                                                 lstm_2[0][0]                     \n",
      "__________________________________________________________________________________________________\n",
      "concat_layer (Concatenate)      (None, None, 512)    0           lstm_3[0][0]                     \n",
      "                                                                 attention_layer[0][0]            \n",
      "__________________________________________________________________________________________________\n",
      "dense_1 (Dense)                 (None, None, 9000)   4617000     concat_layer[0][0]               \n",
      "==================================================================================================\n",
      "Total params: 10,168,360\n",
      "Trainable params: 10,168,360\n",
      "Non-trainable params: 0\n",
      "__________________________________________________________________________________________________\n"
     ]
    }
   ],
   "source": [
    "from tensorflow.keras.layers import AdditiveAttention\n",
    "\n",
    "# 어텐션 층(어텐션 함수)\n",
    "attn_layer = AdditiveAttention(name='attention_layer')\n",
    "\n",
    "# 인코더와 디코더의 모든 time step의 hidden state를 어텐션 층에 전달하고 결과를 리턴\n",
    "attn_out = attn_layer([decoder_outputs, encoder_outputs])\n",
    "\n",
    "\n",
    "# 어텐션의 결과와 디코더의 hidden state들을 연결\n",
    "decoder_concat_input = Concatenate(axis=-1, name='concat_layer')([decoder_outputs, attn_out])\n",
    "\n",
    "# 디코더의 출력층\n",
    "decoder_softmax_layer = Dense(tar_vocab, activation='softmax')\n",
    "decoder_softmax_outputs = decoder_softmax_layer(decoder_concat_input)\n",
    "\n",
    "# 모델 정의\n",
    "model = Model([encoder_inputs, decoder_inputs], decoder_softmax_outputs)\n",
    "model.summary()"
   ]
  },
  {
   "cell_type": "markdown",
   "id": "e8420e18",
   "metadata": {},
   "source": [
    "## 모델 훈련하기"
   ]
  },
  {
   "cell_type": "code",
   "execution_count": 39,
   "id": "811ae88c",
   "metadata": {},
   "outputs": [
    {
     "name": "stdout",
     "output_type": "stream",
     "text": [
      "Epoch 1/50\n",
      "268/268 [==============================] - 161s 566ms/step - loss: 5.9386 - val_loss: 5.5154\n",
      "Epoch 2/50\n",
      "268/268 [==============================] - 151s 562ms/step - loss: 5.3727 - val_loss: 5.1272\n",
      "Epoch 3/50\n",
      "268/268 [==============================] - 151s 562ms/step - loss: 5.0272 - val_loss: 4.8517\n",
      "Epoch 4/50\n",
      "268/268 [==============================] - 150s 559ms/step - loss: 4.7533 - val_loss: 4.6585\n",
      "Epoch 5/50\n",
      "268/268 [==============================] - 151s 562ms/step - loss: 4.5308 - val_loss: 4.5112\n",
      "Epoch 6/50\n",
      "268/268 [==============================] - 150s 560ms/step - loss: 4.3471 - val_loss: 4.3895\n",
      "Epoch 7/50\n",
      "268/268 [==============================] - 150s 559ms/step - loss: 4.1917 - val_loss: 4.2947\n",
      "Epoch 8/50\n",
      "268/268 [==============================] - 150s 559ms/step - loss: 4.0524 - val_loss: 4.2126\n",
      "Epoch 9/50\n",
      "268/268 [==============================] - 150s 558ms/step - loss: 3.9294 - val_loss: 4.1497\n",
      "Epoch 10/50\n",
      "268/268 [==============================] - 150s 559ms/step - loss: 3.8262 - val_loss: 4.1133\n",
      "Epoch 11/50\n",
      "268/268 [==============================] - 150s 558ms/step - loss: 3.7272 - val_loss: 4.0598\n",
      "Epoch 12/50\n",
      "268/268 [==============================] - 150s 561ms/step - loss: 3.6368 - val_loss: 4.0303\n",
      "Epoch 13/50\n",
      "268/268 [==============================] - 149s 557ms/step - loss: 3.5590 - val_loss: 3.9960\n",
      "Epoch 14/50\n",
      "268/268 [==============================] - 150s 559ms/step - loss: 3.4880 - val_loss: 3.9702\n",
      "Epoch 15/50\n",
      "268/268 [==============================] - 150s 558ms/step - loss: 3.4177 - val_loss: 3.9492\n",
      "Epoch 16/50\n",
      "268/268 [==============================] - 149s 556ms/step - loss: 3.3533 - val_loss: 3.9308\n",
      "Epoch 17/50\n",
      "268/268 [==============================] - 149s 557ms/step - loss: 3.2926 - val_loss: 3.9213\n",
      "Epoch 18/50\n",
      "268/268 [==============================] - 149s 557ms/step - loss: 3.2362 - val_loss: 3.9018\n",
      "Epoch 19/50\n",
      "268/268 [==============================] - 149s 556ms/step - loss: 3.1843 - val_loss: 3.8903\n",
      "Epoch 20/50\n",
      "268/268 [==============================] - 150s 561ms/step - loss: 3.1363 - val_loss: 3.8918\n",
      "Epoch 21/50\n",
      "268/268 [==============================] - 149s 558ms/step - loss: 3.0889 - val_loss: 3.8864\n",
      "Epoch 22/50\n",
      "268/268 [==============================] - 149s 557ms/step - loss: 3.0464 - val_loss: 3.8758\n",
      "Epoch 23/50\n",
      "268/268 [==============================] - 149s 556ms/step - loss: 3.0050 - val_loss: 3.8742\n",
      "Epoch 24/50\n",
      "268/268 [==============================] - 150s 559ms/step - loss: 2.9652 - val_loss: 3.8724\n",
      "Epoch 25/50\n",
      "268/268 [==============================] - 149s 558ms/step - loss: 2.9258 - val_loss: 3.8663\n",
      "Epoch 26/50\n",
      "268/268 [==============================] - 149s 557ms/step - loss: 2.8924 - val_loss: 3.8716\n",
      "Epoch 27/50\n",
      "268/268 [==============================] - 149s 555ms/step - loss: 2.8569 - val_loss: 3.8599\n",
      "Epoch 28/50\n",
      "268/268 [==============================] - 150s 559ms/step - loss: 2.8237 - val_loss: 3.8640\n",
      "Epoch 29/50\n",
      "268/268 [==============================] - 149s 557ms/step - loss: 2.7920 - val_loss: 3.8694\n",
      "Epoch 00029: early stopping\n"
     ]
    }
   ],
   "source": [
    "model.compile(optimizer='rmsprop', loss='sparse_categorical_crossentropy')\n",
    "es = EarlyStopping(monitor='val_loss', patience=2, verbose=1)\n",
    "history = model.fit(x=[encoder_input_train, decoder_input_train], y=decoder_target_train, \\\n",
    "          validation_data=([encoder_input_test, decoder_input_test], decoder_target_test), \\\n",
    "          batch_size=256, callbacks=[es], epochs=50)"
   ]
  },
  {
   "cell_type": "markdown",
   "id": "8d3a7596",
   "metadata": {},
   "source": [
    "## 훈련 데이터의 손실과 검증 데이터의 손실이 줄어드는 과정 시각화"
   ]
  },
  {
   "cell_type": "code",
   "execution_count": 40,
   "id": "f704d145",
   "metadata": {},
   "outputs": [
    {
     "data": {
      "image/png": "[encoded data removed]",
      "text/plain": [
       "<Figure size 432x288 with 1 Axes>"
      ]
     },
     "metadata": {
      "needs_background": "light"
     },
     "output_type": "display_data"
    }
   ],
   "source": [
    "plt.plot(history.history['loss'], label='train')\n",
    "plt.plot(history.history['val_loss'], label='test')\n",
    "plt.legend()\n",
    "plt.show()"
   ]
  },
  {
   "cell_type": "markdown",
   "id": "c1fbcd32",
   "metadata": {},
   "source": [
    "## 인퍼런스 모델 구현"
   ]
  },
  {
   "cell_type": "code",
   "execution_count": 41,
   "id": "262758ca",
   "metadata": {},
   "outputs": [
    {
     "name": "stdout",
     "output_type": "stream",
     "text": [
      "슝\n"
     ]
    }
   ],
   "source": [
    "#테스트 하기 전에 정수 인덱스 행렬로 존재하는 텍스트 데이터를 \n",
    "#실제 데이터로 복원하기 위해 필요한 세 개의 사전 미리 준비해두기\n",
    "src_index_to_word = src_tokenizer.index_word # 원문 단어 집합에서 정수 -> 단어 얻음\n",
    "tar_word_to_index = tar_tokenizer.word_index # 요약 단어 집합에서 단어 -> 정수 얻음\n",
    "tar_index_to_word = tar_tokenizer.index_word # 요약 단어 집합에서 정수 -> 단어 얻음\n",
    "\n",
    "print('슝')"
   ]
  },
  {
   "cell_type": "code",
   "execution_count": 42,
   "id": "ef7c205e",
   "metadata": {},
   "outputs": [
    {
     "name": "stdout",
     "output_type": "stream",
     "text": [
      "=3\n"
     ]
    }
   ],
   "source": [
    "# 인코더 설계\n",
    "encoder_model = Model(inputs=encoder_inputs, outputs=[encoder_outputs, state_h, state_c])\n",
    "\n",
    "# 이전 시점의 상태들을 저장하는 텐서\n",
    "decoder_state_input_h = Input(shape=(hidden_size,))\n",
    "decoder_state_input_c = Input(shape=(hidden_size,))\n",
    "\n",
    "dec_emb2 = dec_emb_layer(decoder_inputs)\n",
    "\n",
    "# 문장의 다음 단어를 예측하기 위해서 초기 상태(initial_state)를 이전 시점의 상태로 사용. 이는 뒤의 함수 decode_sequence()에 구현\n",
    "# 훈련 과정에서와 달리 LSTM의 리턴하는 은닉 상태와 셀 상태인 state_h와 state_c를 버리지 않음.\n",
    "decoder_outputs2, state_h2, state_c2 = decoder_lstm(dec_emb2, initial_state=[decoder_state_input_h, decoder_state_input_c])\n",
    "\n",
    "print('=3')"
   ]
  },
  {
   "cell_type": "markdown",
   "id": "32254a03",
   "metadata": {},
   "source": [
    "어텐션 메커니즘을 사용하는 출력층을 설계"
   ]
  },
  {
   "cell_type": "code",
   "execution_count": 43,
   "id": "58386d70",
   "metadata": {},
   "outputs": [
    {
     "name": "stdout",
     "output_type": "stream",
     "text": [
      "=3\n"
     ]
    }
   ],
   "source": [
    "# 어텐션 함수\n",
    "decoder_hidden_state_input = Input(shape=(text_max_len, hidden_size))\n",
    "attn_out_inf = attn_layer([decoder_outputs2, decoder_hidden_state_input])\n",
    "decoder_inf_concat = Concatenate(axis=-1, name='concat')([decoder_outputs2, attn_out_inf])\n",
    "\n",
    "# 디코더의 출력층\n",
    "decoder_outputs2 = decoder_softmax_layer(decoder_inf_concat) \n",
    "\n",
    "# 최종 디코더 모델\n",
    "decoder_model = Model(\n",
    "    [decoder_inputs] + [decoder_hidden_state_input,decoder_state_input_h, decoder_state_input_c],\n",
    "    [decoder_outputs2] + [state_h2, state_c2])\n",
    "\n",
    "print('=3')"
   ]
  },
  {
   "cell_type": "markdown",
   "id": "1b4b1319",
   "metadata": {},
   "source": [
    "인퍼런스 단계에서 단어 시퀀스를 완성하는 함수"
   ]
  },
  {
   "cell_type": "code",
   "execution_count": 44,
   "id": "820923c1",
   "metadata": {},
   "outputs": [
    {
     "name": "stdout",
     "output_type": "stream",
     "text": [
      "=3\n"
     ]
    }
   ],
   "source": [
    "def decode_sequence(input_seq):\n",
    "    # 입력으로부터 인코더의 상태를 얻음\n",
    "    e_out, e_h, e_c = encoder_model.predict(input_seq)\n",
    "\n",
    "     # <SOS>에 해당하는 토큰 생성\n",
    "    target_seq = np.zeros((1,1))\n",
    "    target_seq[0, 0] = tar_word_to_index['sostoken']\n",
    "\n",
    "    stop_condition = False\n",
    "    decoded_sentence = ''\n",
    "    while not stop_condition: # stop_condition이 True가 될 때까지 루프 반복\n",
    "\n",
    "        output_tokens, h, c = decoder_model.predict([target_seq] + [e_out, e_h, e_c])\n",
    "        sampled_token_index = np.argmax(output_tokens[0, -1, :])\n",
    "        sampled_token = tar_index_to_word[sampled_token_index]\n",
    "\n",
    "        if (sampled_token!='eostoken'):\n",
    "            decoded_sentence += ' '+sampled_token\n",
    "\n",
    "        #  <eos>에 도달하거나 최대 길이를 넘으면 중단.\n",
    "        if (sampled_token == 'eostoken'  or len(decoded_sentence.split()) >= (headlines_max_len-1)):\n",
    "            stop_condition = True\n",
    "\n",
    "        # 길이가 1인 타겟 시퀀스를 업데이트\n",
    "        target_seq = np.zeros((1,1))\n",
    "        target_seq[0, 0] = sampled_token_index\n",
    "\n",
    "        # 상태를 업데이트 합니다.\n",
    "        e_h, e_c = h, c\n",
    "\n",
    "    return decoded_sentence\n",
    "print('=3')"
   ]
  },
  {
   "cell_type": "markdown",
   "id": "2a648fd4",
   "metadata": {},
   "source": [
    "모델 테스트하기"
   ]
  },
  {
   "cell_type": "code",
   "execution_count": 45,
   "id": "e591f2d3",
   "metadata": {},
   "outputs": [
    {
     "name": "stdout",
     "output_type": "stream",
     "text": [
      "=3\n"
     ]
    }
   ],
   "source": [
    "# 원문의 정수 시퀀스를 텍스트 시퀀스로 변환\n",
    "def seq2text(input_seq):\n",
    "    temp=''\n",
    "    for i in input_seq:\n",
    "        if (i!=0):\n",
    "            temp = temp + src_index_to_word[i]+' '\n",
    "    return temp\n",
    "\n",
    "# 요약문의 정수 시퀀스를 텍스트 시퀀스로 변환\n",
    "def seq2summary(input_seq):\n",
    "    temp=''\n",
    "    for i in input_seq:\n",
    "        if ((i!=0 and i!=tar_word_to_index['sostoken']) and i!=tar_word_to_index['eostoken']):\n",
    "            temp = temp + tar_index_to_word[i] + ' '\n",
    "    return temp\n",
    "\n",
    "print('=3')"
   ]
  },
  {
   "cell_type": "code",
   "execution_count": 46,
   "id": "1808eef2",
   "metadata": {},
   "outputs": [
    {
     "name": "stdout",
     "output_type": "stream",
     "text": [
      "원문 : anglo dutch oil gas giant shell wednesday said completed acquisition french oil major total stake port transaction shell equity interest gujarat based terminal terminal currently capacity million tonnes per annum \n",
      "실제 요약 : shell buys out total stake in and port \n",
      "예측 요약 :  oil firms to raise crore in oil and oil\n",
      "\n",
      "\n",
      "원문 : bcci reportedly refused give discount rates match footage makers sachin tendulkar upcoming biopic sachin billion dreams production house said negotiating bcci footage already procured boards however sachin farewell speech provided free makers \n",
      "실제 요약 : bcci refuses to give discount on footage for sachin biopic \n",
      "예측 요약 :  bcci to play ipl after watching ipl biopic reports\n",
      "\n",
      "\n",
      "원문 : french police recently shared photo drunk thief stuck shop window incident took place southwest france last week firefighters called free man later arrested photo shared caption drunk store gets stuck window arrested \n",
      "실제 요약 : french cops share photo of drunk thief stuck in shop window \n",
      "예측 요약 :  man steals car into train to save man\n",
      "\n",
      "\n",
      "원문 : cctv cameras mojo bistro working kamala mills fire claimed lives mumbai fire brigade report revealed cameras became non functional month ago repaired report added recently probe found fire started bistro neighbouring pub claimed earlier \n",
      "실제 요약 : cctv did not work during kamala mills fire report \n",
      "예측 요약 :  fire breaks out at mumbai metro station\n",
      "\n",
      "\n",
      "원문 : manchester city advanced champions league quarter finals despite losing last second leg fc wednesday first defeat home matches city aggregate win juventus registered aggregate win tottenham cruise quarters barcelona face chelsea last second leg next wednesday \n",
      "실제 요약 : man city into cl last despite st defeat in home games \n",
      "예측 요약 :  man city thrash arsenal in pl to draw\n",
      "\n",
      "\n",
      "원문 : search rescue operations launched bridge collapsed south goa thursday night halted presence crocodiles river aerial inspection done till close people missing south goa collector naik said notably two dead bodies recovered far \n",
      "실제 요약 : halt goa bridge collapse rescue operations \n",
      "예측 요약 :  km long bridge to be declared km in goa\n",
      "\n",
      "\n",
      "원문 : islamic state claimed responsibility terrorist attack killed people injured others ariana grande concert uk manchester monday claiming people killed wounded attack militant group said lions islamic state iraq sham beginning attack \n",
      "실제 요약 : isis claims responsibility for manchester terror attack \n",
      "예측 요약 :  isis claims responsibility for attack on isis attack\n",
      "\n",
      "\n",
      "원문 : indian accent repeatedly rated india best restaurant set open london known indian fusion cuisine like potato sphere spare ribs indian accent already branches new delhi new york open previous location indian restaurant chor bizarre \n",
      "실제 요약 : india top rated restaurant indian accent to open in london \n",
      "예측 요약 :  india named world best restaurant in india\n",
      "\n",
      "\n",
      "원문 : despite hyderabad high court ban conducting cockfights sport held several places andhra pradesh ongoing three day festival sankranti reports said mini stadium set sport despite strict warnings police officials reports said events organised politicians although police denied \n",
      "실제 요약 : held at several places in andhra despite hc ban \n",
      "예측 요약 :  hc bans section in tricolour at taj mahal\n",
      "\n",
      "\n",
      "원문 : asked learned startups walmart india president ceo krish iyer recent interview said believe fail fast fail cheap talking startups working open spaces iyer also said implemented form open working culture office much learn startups added \n",
      "실제 요약 : believe in fail fast fail cheap walmart india ceo \n",
      "예측 요약 :  walmart deal not walmart ceo\n",
      "\n",
      "\n",
      "원문 : referring shiv sena chief uddhav thackeray speech maharashtra maharashtra navnirman sena leader sandeep deshpande said party give reward anyone speech years still bjp says matter court hindus innocent fools thackeray said \n",
      "실제 요약 : shiv sena chief uddhav thackeray speech and win mns \n",
      "예측 요약 :  bjp is not shiv sena leader\n",
      "\n",
      "\n",
      "원문 : services provided lawyers law firms continue taxed applicable tax government lie clients receiving service change taxation legal services gst notably gst full input tax credit applicable legal services availed businesses lakh turnover \n",
      "실제 요약 : of paying gst on legal services with clients govt \n",
      "예측 요약 :  government to be on sale of\n",
      "\n",
      "\n",
      "원문 : rani mukerji asked wishes directed husband aditya chopra film said like clash added adi able work professionals director actor relationship different knows well know well \n",
      "실제 요약 : working with my husband will be like clash of rani \n",
      "예측 요약 :  rani will love to play rani rani mukerji\n",
      "\n",
      "\n",
      "원문 : daughter senior ips officer kerala booked non bailable charges allegedly manhandling official driver woman allegedly abused hit driver following delay bringing vehicle morning walk based counter complaint case also registered driver currently undergoing treatment police said \n",
      "실제 요약 : ips officer daughter beats driver for delay in \n",
      "예측 요약 :  ex kerala cm accused of molesting woman in delhi\n",
      "\n",
      "\n",
      "원문 : west bengal cm mamata banerjee friday cancelled nine day trip china hours scheduled leave citing non confirmation political meetings appropriate level proposed indian ambassador however wish continuation friendship india china days come banerjee tweeted \n",
      "실제 요약 : cm mamata cancels trip as meetings not confirmed by china \n",
      "예측 요약 :  mamata banerjee visits mamata banerjee for summit\n",
      "\n",
      "\n",
      "원문 : naked statue us president donald trump bought investigator auction among several statues appeared public spaces los angeles san francisco new york seattle cleveland titled emperor balls hans christian emperor new clothes \n",
      "실제 요약 : naked statue of donald trump lakh at auction \n",
      "예측 요약 :  trump auctioned for auction of crore\n",
      "\n",
      "\n",
      "원문 : school saraswati mandir uttarakhand collapsed tuesday heavy rainfall region casualties reported state government declared holiday schools january came india meteorological department monday issued rain warning several areas uttarakhand \n",
      "실제 요약 : school building collapses in khand after heavy rainfall \n",
      "예측 요약 :  students stuck in tn school river in tn\n",
      "\n",
      "\n",
      "원문 : driver local train bihar reportedly went missing two hours monday take shower driver mk singh return even announcement made panel address system probe ordered incident took place buxar railway station \n",
      "실제 요약 : driver stops train for hrs to take bath in bihar \n",
      "예측 요약 :  class girl runs in front of train in bihar\n",
      "\n",
      "\n",
      "원문 : windies legend brian lara spent almost hours crease faced overs world record test innings england ended april lara broke ex australian batsman matthew hayden record went past personal best lara hit fours four sixes knock \n",
      "실제 요약 : lara spent hours faced overs to hit record runs \n",
      "예측 요약 :  lara slams his own ton on nd straight ball\n",
      "\n",
      "\n",
      "원문 : day air india lifted ban shiv sena mp ravindra gaikwad federation indian airlines also revoked ban legislator flying privileges fia however said colleagues must treated respect deserve notably ban imposed gaikwad repeatedly thrashed air india staffer \n",
      "실제 요약 : after air india private lift ban on shiv sena mp \n",
      "예측 요약 :  air india flight gaikwad ban on gaikwad\n",
      "\n",
      "\n",
      "원문 : kashmiri separatists called two day strike ahead supreme court hearing article constitution allows legislature define permanent residents give special rights separatists social organisations circulating videos pictures social media warning public dangers article \n",
      "실제 요약 : leaders call for strike over sc hearing on article \n",
      "예측 요약 :  sc rejects plea seeking national anthem in uttarakhand\n",
      "\n",
      "\n",
      "원문 : addressing press conference congress performance assembly elections party president rahul gandhi said narendra modi taught lesson telling mother absolute best thing election learnt lot election learnt important thing humility added \n",
      "실제 요약 : pm narendra modi taught me what not to do rahul gandhi \n",
      "예측 요약 :  rahul is like pm modi says he is rahul\n",
      "\n",
      "\n",
      "원문 : professor delhi university bharati college accused student asking students kiss hug student wrote du vice chancellor tyagi alleging professor would send girls lewd messages whatsapp would call inappropriate hours principal said received video showing confess \n",
      "실제 요약 : du professor accused of asking girls to hug and kiss him \n",
      "예측 요약 :  du student accused of student student in kolkata\n",
      "\n",
      "\n",
      "원문 : finance ministry served notices fashion retailer lifestyle mcdonald restaurants hindustan unilever dealer allegedly passing benefit lower gst rates consumers companies asked provide copies balance sheets gst returns among others notably anti profiteering authority far received complaints \n",
      "실제 요약 : mcdonald lifestyle served gst anti notice \n"
     ]
    },
    {
     "name": "stdout",
     "output_type": "stream",
     "text": [
      "예측 요약 :  online gst regulator to be held for food in\n",
      "\n",
      "\n",
      "원문 : salman khan bodyguard shera guarding former boxing champion mike tyson visit india said american boxer ate liked chicken biryani took home traditional talking time spent american boxer shera said work salman khan handling celebrity becomes \n",
      "실제 요약 : tyson ate chicken biryani took home \n",
      "예측 요약 :  salman khan to get engaged to fight at salman\n",
      "\n",
      "\n",
      "원문 : congress vice president rahul gandhi accidentally entered ladies toilet gujarat district interaction people sign outside toilets except poster gujarati read mate gandhi reportedly stepped wrong toilet could read gujarati \n",
      "실제 요약 : rahul gandhi mistakenly enters ladies toilet in gujarat \n",
      "예측 요약 :  rahul gandhi shares video of rahul gandhi\n",
      "\n",
      "\n",
      "원문 : mohun bagan beat east bengal league sunday register first win team outside kolkata years mohun bagan within one point leaders aizawl fc game hand sony azharuddin scored mohun bagan east bengal plaza sent hitting player \n",
      "실제 요약 : beats east bengal in kolkata derby \n",
      "예측 요약 :  year old footballer wins th straight title in\n",
      "\n",
      "\n",
      "원문 : uber board member speaking recent event said uber softbank deal likely occur within next week japanese investment firm looking buy cab hailing startup shares added uber board voted favour investment deal softbank earlier october \n",
      "실제 요약 : uber softbank deal likely to next week uber board \n",
      "예측 요약 :  softbank may raise jobs in uber to raise\n",
      "\n",
      "\n",
      "원문 : flipkart co founder group ceo binny bansal interview revealed co founder sachin bansal spent one year completing degree gaming much joined iit delhi one year passed added binny bansal also said used lot gaming amazon worked together \n",
      "실제 요약 : sachin degree got delayed by year due to gaming binny \n",
      "예측 요약 :  flipkart binny bansal bansal binny bansal bansal\n",
      "\n",
      "\n",
      "원문 : aamir khan said signs film first looks script adding writer origin important aspect making film aamir last seen thugs hindostan said actors technicians part film begins writer \n",
      "실제 요약 : when sign film first look at the script aamir khan \n",
      "예측 요약 :  aamir khan to star in aamir khan film report\n",
      "\n",
      "\n",
      "원문 : ali fazal speaking rumoured relationship fukrey co star richa chadha said happy friendship grew time love last hope arrive somewhere close added ali said hopes last time disclosing status personal life \n",
      "실제 요약 : am very happy ali on rumoured relationship with richa \n",
      "예측 요약 :  am happy to be happy as am disha\n",
      "\n",
      "\n",
      "원문 : lg air conditioners monsoon comfort technology specially designed ensure pleasant cooling right balance room temperature body temperature air movement air flow besides saving lot energy ocean black protection certified prevent units well years \n",
      "실제 요약 : lg air come with monsoon technology \n",
      "예측 요약 :  us develops electric air quality\n",
      "\n",
      "\n",
      "원문 : billionaire anil agarwal vedanta resources formally delisted london stock exchange amid protests outside final annual general meeting monday people demanding action deaths people died protests vedanta copper plant tamil nadu agarwal investments announced successful buyout company shares last month \n",
      "실제 요약 : vedanta from london stock exchange amid protests \n",
      "예측 요약 :  vedanta chairman to be probed for anti sterlite protests\n",
      "\n",
      "\n",
      "원문 : footage australian cricketer cameron bancroft allegedly tampering ball third test south africa surfaced user wrote waiting steve smith say bancroft act brain fade perhaps guitar pick bancroft preparing evening guitar lessons cape town wrote another user \n",
      "실제 요약 : brain tweets user on alleged ball tampering by aussies \n",
      "예측 요약 :  australia should have been in ashes test player steve smith\n",
      "\n",
      "\n",
      "원문 : patidar leader hardik patel said ask unemployed youth sell pakodas apparent reference prime minister narendra modi sold tea railway station recent interview pm modi said earning daily selling pakoda also form employment \n",
      "실제 요약 : only asks unemployed youth to sell hardik \n",
      "예측 요약 :  hardik patel named pm modi for crore\n",
      "\n",
      "\n",
      "원문 : undisclosed assets worth crore detected foreign black money law enacted government said one time compliance opportunity provided foreign assets previously disclosed compliance window closed september declarations involving undisclosed foreign assets worth crore made \n",
      "실제 요약 : assets worth cr detected under foreign black money law \n",
      "예측 요약 :  dept seizes assets worth crore in assets\n",
      "\n",
      "\n",
      "원문 : hrd ministry secretary anil revealed cbse received email regarding class maths paper leak nine hours exam board enough time cancel stating email seen cbse chairperson anita around said leak confirmed exam commenced \n",
      "실제 요약 : had no time to cancel class maths exam hrd ministry \n",
      "예측 요약 :  cbse class paper paper exam paper leak paper leak\n",
      "\n",
      "\n",
      "원문 : bradman hit first class career th hundred playing th innings australian xi indian side november bradman hit runs first innings becoming first australian score first class centuries ton bradman last eight first class hundreds come losing cause \n",
      "실제 요약 : bradman th first class ton came against an indian side \n",
      "예측 요약 :  bradman becomes st ever to score runs in test\n",
      "\n",
      "\n",
      "원문 : bali mount volcano erupted friday morning forcing cancellation nearly flights indonesian island closure rai airport affected passengers said national disaster agency airport closed temporarily pilot flying overhead detected traces volcanic ash high metres \n",
      "실제 요약 : bali volcano erupts again flights cancelled \n",
      "예측 요약 :  indonesia finds planes that crashed into sea\n",
      "\n",
      "\n",
      "원문 : taekwondo trainer arrested masturbating front woman doorstep residence delhi accused rang started masturbating opened door ran away called friend reports said already faced charges murder sexual harassment bail incident \n",
      "실제 요약 : man arrested for masturbating in front of woman at her doorstep \n",
      "예측 요약 :  woman arrested for molesting woman in delhi\n",
      "\n",
      "\n",
      "원문 : parliament witnessed repeated disruptions th consecutive day tdp mp ys chowdary alleged bjp led centre planting people jump well instead allowing discussion confidence motion motion sought tdp mps exited nda alliance demand special category status andhra pradesh \n",
      "실제 요약 : bjp led govt people to disrupt parliament tdp mp \n",
      "예측 요약 :  parliament to be held in parliament for yr\n",
      "\n",
      "\n",
      "원문 : man suffered burns body saved skin transplant identical twin french doctors said thursday twin twin skin transplants done first cover large area added man accident last year underwent skin graft surgeries \n",
      "실제 요약 : twin skin saves french man with burns \n",
      "예측 요약 :  man finds dogs in the brain surgery\n",
      "\n",
      "\n",
      "원문 : sri lankan fast bowler lasith malinga seen bowling spin side lanka one day match domestic tournament year old decided bowl spin short run due bad light stadium finishing figures malinga team went win match runs \n",
      "실제 요약 : sl pacer malinga bowls off spin takes wickets for runs \n",
      "예측 요약 :  malinga bowls bowls out of wicket in\n",
      "\n",
      "\n",
      "원문 : footballer lionel messi getting married childhood antonella roccuzzo friday invited teammates wedding guest list comprises around people including messi bar teammate gerard pique pop star wife luis suarez neymar also expected present sergio ag ero partner perform wedding \n",
      "실제 요약 : which celebs will attend lionel messi wedding on june \n",
      "예측 요약 :  lionel messi marries nick for lionel girlfriend\n",
      "\n",
      "\n",
      "원문 : former bihar chief minister rjd chief lalu prasad yadav wife rabri devi said want cinema hall mall going girls sons looking desi girls instead one look house respect elders like rabri added \n",
      "실제 요약 : no mall going brides for my sons want girls \n",
      "예측 요약 :  lalu son tej pratap calls lalu prasad yadav\n",
      "\n",
      "\n",
      "원문 : india saw hottest winter recorded history temperatures reaching according centre science environment india warmest year ever hottest years since last years us exiting paris agreement controlling temperature tougher task said \n",
      "실제 요약 : india witnessed its winter ever in \n",
      "예측 요약 :  india hottest hottest hottest in the world\n",
      "\n",
      "\n",
      "원문 : bank employees federation india demanded sbi withdraw proposed plan levy charges transactions made mobile wallet would set bad precedent public sector banks said sbi going introduce new facility cash withdrawals atms using wallet would attract charge \n",
      "실제 요약 : withdraw plan to charge transactions on sbi wallet union \n",
      "예측 요약 :  sbi to pay customers to bank accounts for staff\n",
      "\n",
      "\n",
      "원문 : protesters greek capital city athens torn red sculpture shaped like angel broken wings fresh act violence artwork critics likened satan protests sculpture named ranged throwing white paint attempting greek priest holy water \n",
      "실제 요약 : protesters tear down angel sculpture to \n"
     ]
    },
    {
     "name": "stdout",
     "output_type": "stream",
     "text": [
      "예측 요약 :  spanish artist paints indonesian music festival\n",
      "\n",
      "\n",
      "원문 : brihanmumbai municipal corporation asked mumbai mayor vishwanath mahadeshwar identify spots weekly farmer markets could set move aims provide direct platforms farmers sell produce comes farmers dumped produce officials stopped setting temporary stalls plot april \n",
      "실제 요약 : mumbai civic body plans to set up weekly farmer markets \n",
      "예측 요약 :  mumbai civic body to get cctvs to prevent parking\n",
      "\n",
      "\n",
      "원문 : bollywood actor indian premier league side kolkata knight riders owner shah rukh khan revealed question answer session twitter miss former kkr captain gautam gambhir seven years gambhir requested side retain returned delhi daredevils playing first three editions \n",
      "실제 요약 : shah rukh khan admits he will miss gautam gambhir at kkr \n",
      "예측 요약 :  kkr rahul buys his ipl ipl after ipl auction\n",
      "\n",
      "\n"
     ]
    }
   ],
   "source": [
    "for i in range(50, 100):\n",
    "    print(\"원문 :\", seq2text(encoder_input_test[i]))\n",
    "    print(\"실제 요약 :\", seq2summary(decoder_input_test[i]))\n",
    "    print(\"예측 요약 :\", decode_sequence(encoder_input_test[i].reshape(1, text_max_len)))\n",
    "    print(\"\\n\")"
   ]
  },
  {
   "cell_type": "markdown",
   "id": "4ff97471",
   "metadata": {},
   "source": [
    "# 추출적 요약 해보기"
   ]
  },
  {
   "cell_type": "code",
   "execution_count": 47,
   "id": "e1bcbb25",
   "metadata": {},
   "outputs": [],
   "source": [
    "import requests\n",
    "from summa.summarizer import summarize"
   ]
  },
  {
   "cell_type": "code",
   "execution_count": 48,
   "id": "a4100e28",
   "metadata": {},
   "outputs": [],
   "source": [
    "urllib.request.urlretrieve(\"https://raw.githubusercontent.com/sunnysai12345/News_Summary/master/news_summary_more.csv\", filename=\"news_summary_more.csv\")\n",
    "data = pd.read_csv('news_summary_more.csv', encoding='iso-8859-1')"
   ]
  },
  {
   "cell_type": "code",
   "execution_count": 49,
   "id": "4e447a36",
   "metadata": {},
   "outputs": [
    {
     "data": {
      "text/plain": [
       "\"Saurav Kant, an alumnus of upGrad and IIIT-B's PG Program in Machine learning and Artificial Intelligence, was a Sr Systems Engineer at Infosys with almost 5 years of work experience. The program and upGrad's 360-degree career support helped him transition to a Data Scientist at Tech Mahindra with 90% salary hike. upGrad's Online Power Learning has powered 3 lakh+ careers.\""
      ]
     },
     "execution_count": 49,
     "metadata": {},
     "output_type": "execute_result"
    }
   ],
   "source": [
    "text = data['text']\n",
    "text[0]"
   ]
  },
  {
   "cell_type": "code",
   "execution_count": 50,
   "id": "f3ff0270",
   "metadata": {},
   "outputs": [
    {
     "name": "stdout",
     "output_type": "stream",
     "text": [
      "Summary:\n",
      "upGrad's Online Power Learning has powered 3 lakh+ careers.\n"
     ]
    }
   ],
   "source": [
    "print('Summary:')\n",
    "print(summarize(text[0], words=5))"
   ]
  },
  {
   "cell_type": "code",
   "execution_count": 51,
   "id": "44958ce4",
   "metadata": {},
   "outputs": [
    {
     "name": "stdout",
     "output_type": "stream",
     "text": [
      "Summary:\n",
      "[\"upGrad's Online Power Learning has powered 3 lakh+ careers.\"]\n"
     ]
    }
   ],
   "source": [
    "# 리스트로 출력결과 받기\n",
    "print('Summary:')\n",
    "print(summarize(text[0], ratio=0.4, split=True))"
   ]
  },
  {
   "cell_type": "code",
   "execution_count": 52,
   "id": "f1ebcffd",
   "metadata": {},
   "outputs": [],
   "source": [
    "headlines = []\n",
    "for i in range(len(text)):\n",
    "    headline = summarize(text[i], ratio=0.4)\n",
    "    headlines.append(headline)"
   ]
  },
  {
   "cell_type": "code",
   "execution_count": 54,
   "id": "aabfa926",
   "metadata": {},
   "outputs": [
    {
     "name": "stdout",
     "output_type": "stream",
     "text": [
      "원문 : Saurav Kant, an alumnus of upGrad and IIIT-B's PG Program in Machine learning and Artificial Intelligence, was a Sr Systems Engineer at Infosys with almost 5 years of work experience. The program and upGrad's 360-degree career support helped him transition to a Data Scientist at Tech Mahindra with 90% salary hike. upGrad's Online Power Learning has powered 3 lakh+ careers.\n",
      "실제 헤드라인 : upGrad learner switches to career in ML & Al with 90% salary hike\n",
      "예측 헤드라인 : upGrad's Online Power Learning has powered 3 lakh+ careers.\n",
      "\n",
      "\n",
      "원문 : Kunal Shah's credit card bill payment platform, CRED, gave users a chance to win free food from Swiggy for one year. Pranav Kaushik, a Delhi techie, bagged this reward after spending 2000 CRED coins. Users get one CRED coin per rupee of bill paid, which can be used to avail rewards from brands like Ixigo, BookMyShow, UberEats, Cult.Fit and more.\n",
      "실제 헤드라인 : Delhi techie wins free food from Swiggy for one year on CRED\n",
      "예측 헤드라인 : Users get one CRED coin per rupee of bill paid, which can be used to avail rewards from brands like Ixigo, BookMyShow, UberEats, Cult.Fit and more.\n",
      "\n",
      "\n",
      "원문 : New Zealand defeated India by 8 wickets in the fourth ODI at Hamilton on Thursday to win their first match of the five-match ODI series. India lost an international match under Rohit Sharma's captaincy after 12 consecutive victories dating back to March 2018. The match witnessed India getting all out for 92, their seventh lowest total in ODI cricket history.\n",
      "실제 헤드라인 : New Zealand end Rohit Sharma-led India's 12-match winning streak\n",
      "예측 헤드라인 : The match witnessed India getting all out for 92, their seventh lowest total in ODI cricket history.\n",
      "\n",
      "\n",
      "원문 : With Aegon Life iTerm Insurance plan, customers can enjoy tax benefits on your premiums paid and save up to Ã¢ÂÂ¹46,800^ on taxes. The plan provides life cover up to the age of 100 years. Also, customers have options to insure against Critical Illnesses, Disability and Accidental Death Benefit Rider with a life cover up to the age of 80 years.\n",
      "실제 헤드라인 : Aegon life iTerm insurance plan helps customers save tax\n",
      "예측 헤드라인 : Also, customers have options to insure against Critical Illnesses, Disability and Accidental Death Benefit Rider with a life cover up to the age of 80 years.\n",
      "\n",
      "\n",
      "원문 : Speaking about the sexual harassment allegations against Rajkumar Hirani, Sonam Kapoor said, \"I've known Hirani for many years...What if it's not true, the [#MeToo] movement will get derailed.\" \"In the #MeToo movement, I always believe a woman. But in this case, we need to reserve our judgment,\" she added. Hirani has been accused by an assistant who worked in 'Sanju'.\n",
      "실제 헤드라인 : Have known Hirani for yrs, what if MeToo claims are not true: Sonam\n",
      "예측 헤드라인 : Speaking about the sexual harassment allegations against Rajkumar Hirani, Sonam Kapoor said, \"I've known Hirani for many years...What if it's not true, the [#MeToo] movement will get derailed.\" \"In the #MeToo movement, I always believe a woman.\n",
      "\n",
      "\n",
      "원문 : Pakistani singer Rahat Fateh Ali Khan has denied receiving any notice from the Enforcement Directorate over allegedly smuggling foreign currency out of India. \"It would have been better if the authorities would have served the notice first if any and then publicised this,\" reads a press release issued on behalf of Rahat. The statement further called the allegation \"bizarre\".\n",
      "실제 헤드라인 : Rahat Fateh Ali Khan denies getting notice for smuggling currency\n",
      "예측 헤드라인 : Pakistani singer Rahat Fateh Ali Khan has denied receiving any notice from the Enforcement Directorate over allegedly smuggling foreign currency out of India.\n",
      "\n",
      "\n",
      "원문 : India recorded their lowest ODI total in New Zealand after getting all out for 92 runs in 30.5 overs in the fourth ODI at Hamilton on Thursday. Seven of India's batsmen were dismissed for single-digit scores, while their number ten batsman Yuzvendra Chahal top-scored with 18*(37). India's previous lowest ODI total in New Zealand was 108.\n",
      "실제 헤드라인 : India get all out for 92, their lowest ODI total in New Zealand\n",
      "예측 헤드라인 : India's previous lowest ODI total in New Zealand was 108.\n",
      "\n",
      "\n",
      "원문 : Weeks after ex-CBI Director Alok Verma told the Department of Personnel and Training to consider him retired, the Home Ministry asked him to join work on the last day of his fixed tenure as Director on Thursday. The ministry directed him to immediately join as DG, Fire Services, the post he was transferred to after his removal as CBI chief.\n",
      "실제 헤드라인 : Govt directs Alok Verma to join work 1 day before his retirement\n",
      "예측 헤드라인 : \n",
      "\n",
      "\n",
      "원문 : Andhra Pradesh CM N Chandrababu Naidu has said, \"When I met then US President Bill Clinton, I addressed him as Mr Clinton, not as 'sir'. (PM Narendra) Modi is my junior in politics...I addressed him as sir 10 times.\" \"I did this...to satisfy his ego in the hope that he will do justice to the state,\" he added.\n",
      "실제 헤드라인 : Called PM Modi 'sir' 10 times to satisfy his ego: Andhra CM\n",
      "예측 헤드라인 : \n",
      "\n",
      "\n",
      "원문 : Congress candidate Shafia Zubair won the Ramgarh Assembly seat in Rajasthan, by defeating BJP's Sukhwant Singh with a margin of 12,228 votes in the bypoll. With this victory, Congress has taken its total to 100 seats in the 200-member assembly. The election to the Ramgarh seat was delayed due to the death of sitting MLA and BSP candidate Laxman Singh.\n",
      "실제 헤드라인 : Cong wins Ramgarh bypoll in Rajasthan, takes total to 100 seats\n",
      "예측 헤드라인 : Congress candidate Shafia Zubair won the Ramgarh Assembly seat in Rajasthan, by defeating BJP's Sukhwant Singh with a margin of 12,228 votes in the bypoll.\n",
      "\n",
      "\n"
     ]
    }
   ],
   "source": [
    "for i in range(10):\n",
    "    print(\"원문 :\", data['text'][i])\n",
    "    print(\"실제 헤드라인 :\", data['headlines'][i])\n",
    "    print(\"예측 헤드라인 :\", headlines[i])\n",
    "    print(\"\\n\")"
   ]
  },
  {
   "cell_type": "code",
   "execution_count": null,
   "id": "ea6da298",
   "metadata": {},
   "outputs": [],
   "source": []
  },
  {
   "cell_type": "code",
   "execution_count": null,
   "id": "d1c5a565",
   "metadata": {},
   "outputs": [],
   "source": []
  },
  {
   "cell_type": "code",
   "execution_count": null,
   "id": "58ab5b9d",
   "metadata": {},
   "outputs": [],
   "source": []
  }
 ],
 "metadata": {
  "kernelspec": {
   "display_name": "Python 3 (ipykernel)",
   "language": "python",
   "name": "python3"
  },
  "language_info": {
   "codemirror_mode": {
    "name": "ipython",
    "version": 3
   },
   "file_extension": ".py",
   "mimetype": "text/x-python",
   "name": "python",
   "nbconvert_exporter": "python",
   "pygments_lexer": "ipython3",
   "version": "3.9.7"
  }
 },
 "nbformat": 4,
 "nbformat_minor": 5
}
