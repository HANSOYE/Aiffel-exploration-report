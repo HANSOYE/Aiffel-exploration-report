{
 "cells": [
  {
   "cell_type": "markdown",
   "id": "4957656e",
   "metadata": {},
   "source": [
    "# 네이버 영화리뷰 감성분석 도전하기\n",
    "\n",
    "1)데이터 준비와 확인"
   ]
  },
  {
   "cell_type": "code",
   "execution_count": 1,
   "id": "07251fd7",
   "metadata": {},
   "outputs": [],
   "source": [
    "import pandas as pd\n",
    "import urllib.request\n",
    "%matplotlib inline\n",
    "import matplotlib.pyplot as plt\n",
    "import re\n",
    "from konlpy.tag import Okt\n",
    "from tensorflow import keras\n",
    "from tensorflow.keras.preprocessing.text import Tokenizer\n",
    "import numpy as np\n",
    "from tensorflow.keras.preprocessing.sequence import pad_sequences\n",
    "from collections import Counter\n",
    "import tensorflow as tf\n",
    "import os\n",
    "from konlpy.tag import Mecab"
   ]
  },
  {
   "cell_type": "code",
   "execution_count": 2,
   "id": "072a4d20",
   "metadata": {},
   "outputs": [
    {
     "data": {
      "text/html": [
       "<div>\n",
       "<style scoped>\n",
       "    .dataframe tbody tr th:only-of-type {\n",
       "        vertical-align: middle;\n",
       "    }\n",
       "\n",
       "    .dataframe tbody tr th {\n",
       "        vertical-align: top;\n",
       "    }\n",
       "\n",
       "    .dataframe thead th {\n",
       "        text-align: right;\n",
       "    }\n",
       "</style>\n",
       "<table border=\"1\" class=\"dataframe\">\n",
       "  <thead>\n",
       "    <tr style=\"text-align: right;\">\n",
       "      <th></th>\n",
       "      <th>id</th>\n",
       "      <th>document</th>\n",
       "      <th>label</th>\n",
       "    </tr>\n",
       "  </thead>\n",
       "  <tbody>\n",
       "    <tr>\n",
       "      <th>0</th>\n",
       "      <td>9976970</td>\n",
       "      <td>아 더빙.. 진짜 짜증나네요 목소리</td>\n",
       "      <td>0</td>\n",
       "    </tr>\n",
       "    <tr>\n",
       "      <th>1</th>\n",
       "      <td>3819312</td>\n",
       "      <td>흠...포스터보고 초딩영화줄....오버연기조차 가볍지 않구나</td>\n",
       "      <td>1</td>\n",
       "    </tr>\n",
       "    <tr>\n",
       "      <th>2</th>\n",
       "      <td>10265843</td>\n",
       "      <td>너무재밓었다그래서보는것을추천한다</td>\n",
       "      <td>0</td>\n",
       "    </tr>\n",
       "    <tr>\n",
       "      <th>3</th>\n",
       "      <td>9045019</td>\n",
       "      <td>교도소 이야기구먼 ..솔직히 재미는 없다..평점 조정</td>\n",
       "      <td>0</td>\n",
       "    </tr>\n",
       "    <tr>\n",
       "      <th>4</th>\n",
       "      <td>6483659</td>\n",
       "      <td>사이몬페그의 익살스런 연기가 돋보였던 영화!스파이더맨에서 늙어보이기만 했던 커스틴 ...</td>\n",
       "      <td>1</td>\n",
       "    </tr>\n",
       "  </tbody>\n",
       "</table>\n",
       "</div>"
      ],
      "text/plain": [
       "         id                                           document  label\n",
       "0   9976970                                아 더빙.. 진짜 짜증나네요 목소리      0\n",
       "1   3819312                  흠...포스터보고 초딩영화줄....오버연기조차 가볍지 않구나      1\n",
       "2  10265843                                  너무재밓었다그래서보는것을추천한다      0\n",
       "3   9045019                      교도소 이야기구먼 ..솔직히 재미는 없다..평점 조정      0\n",
       "4   6483659  사이몬페그의 익살스런 연기가 돋보였던 영화!스파이더맨에서 늙어보이기만 했던 커스틴 ...      1"
      ]
     },
     "execution_count": 2,
     "metadata": {},
     "output_type": "execute_result"
    }
   ],
   "source": [
    "#데이터 읽어보기\n",
    "train_data = pd.read_table('~/aiffel/sentiment_classification/data/ratings_train.txt')\n",
    "test_data = pd.read_table('~/aiffel/sentiment_classification/data/ratings_test.txt')\n",
    "\n",
    "train_data.head()"
   ]
  },
  {
   "cell_type": "markdown",
   "id": "2e5b64f7",
   "metadata": {},
   "source": [
    "2) 데이터로 구성\n",
    "\n",
    "이번에 다루게 될 nsmc 데이터셋은 전혀 가공되지 않은 텍스트 파일로 이루어져 있다.\n",
    "\n",
    "이것을 읽어서 imdb.data_loader()와 동일하게 동작하는 자신만의 data_loader를 만들어 보는 것으로 시작한다. \n",
    "\n",
    "data_loader 안에서는 다음을 수행해야 한다. \n",
    "\n",
    "* 데이터의 중복 제거\n",
    "* NaN 결측치 제거\n",
    "* 한국어 토크나이저로 토큰화\n",
    "* 불용어(Stopwords) 제거\n",
    "* 사전word_to_index 구성\n",
    "* 텍스트 스트링을 사전 인덱스 스트링으로 변환\n",
    "* X_train, y_train, X_test, y_test, word_to_index 리턴"
   ]
  },
  {
   "cell_type": "code",
   "execution_count": 3,
   "id": "840dfa43",
   "metadata": {},
   "outputs": [],
   "source": [
    "tokenizer = Mecab()\n",
    "stopwords = ['의','가','이','은','들','는','좀','잘','걍','과','도','를','으로','자','에','와','한','하다']\n",
    "\n",
    "def load_data(train_data, test_data, num_words=10000):\n",
    "    train_data.drop_duplicates(subset=['document'], inplace=True)\n",
    "    train_data = train_data.dropna(how = 'any') \n",
    "    test_data.drop_duplicates(subset=['document'], inplace=True)\n",
    "    test_data = test_data.dropna(how = 'any')\n",
    "    \n",
    "    X_train = []\n",
    "    for sentence in train_data['document']:\n",
    "        temp_X = tokenizer.morphs(sentence) # 토큰화\n",
    "        temp_X = [word for word in temp_X if not word in stopwords] # 불용어 제거\n",
    "        X_train.append(temp_X)\n",
    "\n",
    "    X_test = []\n",
    "    for sentence in test_data['document']:\n",
    "        temp_X = tokenizer.morphs(sentence) # 토큰화\n",
    "        temp_X = [word for word in temp_X if not word in stopwords] # 불용어 제거\n",
    "        X_test.append(temp_X)\n",
    "\n",
    "    words = np.concatenate(X_train).tolist()\n",
    "    counter = Counter(words)\n",
    "    counter = counter.most_common(10000-4)\n",
    "    vocab = ['<PAD>', '<BOS>', '<UNK>', '<UNUSED>'] + [key for key, _ in counter]\n",
    "    word_to_index = {word:index for index, word in enumerate(vocab)}\n",
    "\n",
    "    def wordlist_to_indexlist(wordlist):\n",
    "        return [word_to_index[word] if word in word_to_index else word_to_index['<UNK>'] for word in wordlist]\n",
    "\n",
    "    X_train = list(map(wordlist_to_indexlist, X_train))\n",
    "    X_test = list(map(wordlist_to_indexlist, X_test))\n",
    "\n",
    "    return X_train, np.array(list(train_data['label'])), X_test, np.array(list(test_data['label'])), word_to_index\n",
    "    \n",
    "X_train, y_train, X_test, y_test, word_to_index = load_data(train_data, test_data) "
   ]
  },
  {
   "cell_type": "code",
   "execution_count": 4,
   "id": "220fa988",
   "metadata": {},
   "outputs": [],
   "source": [
    "index_to_word = {index:word for word, index in word_to_index.items()}"
   ]
  },
  {
   "cell_type": "code",
   "execution_count": 5,
   "id": "e1fd3557",
   "metadata": {},
   "outputs": [],
   "source": [
    "#문장 1개를 활용할 딕셔너리와 함께 주면, 단어 인덱스 리스트 벡터로 변환해 주는 함수이다.\n",
    "#단, 모든 문장은 <BOS>로 시작하는 것으로 하자\n",
    "def get_encoded_sentence(sentence, word_to_index):\n",
    "    return[word_to_index['<BOSS>']]+[word_to_index[word] if word in word_to_index else word_to_index['<UNK>'] for word in sentence.split()]\n",
    "\n",
    "#여러 개의 문장 리스트를 한꺼번에 단어 인덱스 리스트 벡터로 encode해 주는 함수\n",
    "def get_encoded_sentences(sentences, word_to_index):\n",
    "    return [get_encoded_sentence(sentence, word_to_index) for sentence in sentences]\n",
    "\n",
    "#숫자 벡터로 encoded된 문장을 원래대로 decode하는 함수이다.\n",
    "def get_decoded_sentence(encoded_stence, index_to, word):\n",
    "    return ' '.join(index_to_word[index] if index in index_to_word else '<UNK>' for index in encoded_sentence[1:])\n",
    "#[1:]를 통해 <BOS>를 제외한다\n",
    "\n",
    "#여러 개의 숫자 벡터로 encoded된 문장을 한꺼번에 원래대로 decode하는 함수이다\n",
    "def get_decoded_sentences(encoded_senences, index_to_word):\n",
    "    return [get_decoded_sentence(encoded_sentence, index_to_word) for encoded_sentence in encoded_sentences]"
   ]
  },
  {
   "cell_type": "markdown",
   "id": "215a95fe",
   "metadata": {},
   "source": [
    "3) 모델 구성을 위한 데이터 분석 및 가공\n",
    "\n",
    "* 데이터셋 내 문장 길이 분포"
   ]
  },
  {
   "cell_type": "code",
   "execution_count": 6,
   "id": "41dbe0a9",
   "metadata": {},
   "outputs": [
    {
     "name": "stdout",
     "output_type": "stream",
     "text": [
      "[32, 74, 919, 4, 4, 39, 228, 20, 33, 748]\n",
      "라벨:  0\n",
      "1번째 리뷰 문장 길이:  10\n",
      "2번째 리뷰 문장 길이:  17\n"
     ]
    }
   ],
   "source": [
    "#다운로드한 데이터 실제 예시를 확인\n",
    "print(X_train[0]) #1번째 리뷰데이터\n",
    "print('라벨: ', y_train[0]) #1번째 리뷰데이터의 라벨\n",
    "print('1번째 리뷰 문장 길이: ', len(X_train[0]))\n",
    "print('2번째 리뷰 문장 길이: ', len(X_train[1]))"
   ]
  },
  {
   "cell_type": "code",
   "execution_count": 7,
   "id": "408eced4",
   "metadata": {},
   "outputs": [
    {
     "name": "stdout",
     "output_type": "stream",
     "text": [
      "문장길이 평균:  15.96940191154864\n",
      "문장길이 최대:  116\n",
      "문장길이 표준편차:  12.843571191092\n"
     ]
    }
   ],
   "source": [
    "total_data_text = list(X_train) +list(X_test)\n",
    "#텍스트 데이터 문장 길이의 리스트를 생성한 후\n",
    "num_tokens = [len(tokens) for tokens in total_data_text]\n",
    "num_tokens = np.array(num_tokens)\n",
    "\n",
    "#문장길이의 평균값, 최대값, 표준편차를 계산해본다.\n",
    "print('문장길이 평균: ', np.mean(num_tokens))\n",
    "print('문장길이 최대: ', np.max(num_tokens))\n",
    "print('문장길이 표준편차: ', np.std(num_tokens))"
   ]
  },
  {
   "cell_type": "markdown",
   "id": "87c1230b",
   "metadata": {},
   "source": [
    "* 적절한 최대 문장 길이"
   ]
  },
  {
   "cell_type": "code",
   "execution_count": 8,
   "id": "d9d46f28",
   "metadata": {},
   "outputs": [
    {
     "name": "stdout",
     "output_type": "stream",
     "text": [
      "pad_sequences maxlen :  41\n",
      "전체 문장의 0.9342988343341575%가 maxlen 설정값 이내에 포함됩니다. \n"
     ]
    }
   ],
   "source": [
    "#예를들어, 최대 길이를 (평균 + 2*표준편차)로 한다면,\n",
    "max_tokens = np.mean(num_tokens) + 2 * np.std(num_tokens)\n",
    "maxlen = int(max_tokens)\n",
    "print('pad_sequences maxlen : ', maxlen)\n",
    "print('전체 문장의 {}%가 maxlen 설정값 이내에 포함됩니다. '.format(np.sum(num_tokens < max_tokens) / len(num_tokens)))"
   ]
  },
  {
   "cell_type": "markdown",
   "id": "115544f9",
   "metadata": {},
   "source": [
    "전체 문장의 93.43%가 문장 길이 41 안에 포함 되니 문장 길이는 41이 적절할 것 같다."
   ]
  },
  {
   "cell_type": "markdown",
   "id": "881e64bf",
   "metadata": {},
   "source": [
    "* keras.preprocessing.sequence.pad_sequences 을 활용한 패딩 추가"
   ]
  },
  {
   "cell_type": "code",
   "execution_count": 9,
   "id": "30aeebba",
   "metadata": {},
   "outputs": [
    {
     "name": "stdout",
     "output_type": "stream",
     "text": [
      "(146182, 41)\n"
     ]
    }
   ],
   "source": [
    "X_train = tf.keras.preprocessing.sequence.pad_sequences(X_train,\n",
    "                                                       value=word_to_index[\"<PAD>\"],\n",
    "                                                       padding = 'pre',\n",
    "                                                       maxlen=maxlen)\n",
    "\n",
    "X_test = tf.keras.preprocessing.sequence.pad_sequences(X_test,\n",
    "                                                       value=word_to_index[\"<PAD>\"],\n",
    "                                                       padding='pre', \n",
    "                                                       maxlen=maxlen)\n",
    "\n",
    "print(X_train.shape)"
   ]
  },
  {
   "cell_type": "markdown",
   "id": "afc63041",
   "metadata": {},
   "source": [
    "padding에 pre 대신 post를 넣어 토큰 <PAD>를 뒤에 넣어줄 수도 있지만, RNN은 입력데이터가 순차적으로 처리되어, 가장 마지막 입력이 최종 state 값에 가장 영향을 많이 미치게 되기 때문에 <PAD>를 문장 앞에 넣도록 설정했다."
   ]
  },
  {
   "cell_type": "code",
   "execution_count": 10,
   "id": "9a01ef80",
   "metadata": {},
   "outputs": [
    {
     "name": "stdout",
     "output_type": "stream",
     "text": [
      "문장길이 평균:  41.0\n",
      "문장길이 최대:  41\n",
      "문장길이 표준편차:  0.0\n"
     ]
    }
   ],
   "source": [
    "#문장 길이의 평균값, 최대값, 표준편차를 다시 출력하자\n",
    "total_data_text = list(X_train) +list(X_test)\n",
    "#텍스트 데이터 문장 길이의 리스트를 생성한 후\n",
    "num_tokens = [len(tokens) for tokens in total_data_text]\n",
    "num_tokens = np.array(num_tokens)\n",
    "\n",
    "#문장길이의 평균값, 최대값, 표준편차를 계산해본다.\n",
    "print('문장길이 평균: ', np.mean(num_tokens))\n",
    "print('문장길이 최대: ', np.max(num_tokens))\n",
    "print('문장길이 표준편차: ', np.std(num_tokens))"
   ]
  },
  {
   "cell_type": "markdown",
   "id": "7166009f",
   "metadata": {},
   "source": [
    "4) 모델 구성 및 validation set 구성\n",
    "\n",
    "5) 모델 훈련 개시\n",
    "\n",
    "6) Loss, Accuracy 그래프 시각화\n",
    "\n",
    "7) 학습된 Embedding 레이어 분석\n",
    "\n",
    "8) 한국어 Word2Vec 임베딩 활용하여 성능 개선\n",
    "\n",
    "# 1. CNN 모델\n",
    "\n",
    "4) 모델 구성 및 validation set 구성"
   ]
  },
  {
   "cell_type": "code",
   "execution_count": 11,
   "id": "c8450eb2",
   "metadata": {},
   "outputs": [
    {
     "name": "stdout",
     "output_type": "stream",
     "text": [
      "Model: \"sequential\"\n",
      "_________________________________________________________________\n",
      "Layer (type)                 Output Shape              Param #   \n",
      "=================================================================\n",
      "embedding (Embedding)        (None, None, 16)          160000    \n",
      "_________________________________________________________________\n",
      "conv1d (Conv1D)              (None, None, 16)          1808      \n",
      "_________________________________________________________________\n",
      "max_pooling1d (MaxPooling1D) (None, None, 16)          0         \n",
      "_________________________________________________________________\n",
      "conv1d_1 (Conv1D)            (None, None, 16)          1808      \n",
      "_________________________________________________________________\n",
      "global_max_pooling1d (Global (None, 16)                0         \n",
      "_________________________________________________________________\n",
      "dense (Dense)                (None, 8)                 136       \n",
      "_________________________________________________________________\n",
      "dense_1 (Dense)              (None, 1)                 9         \n",
      "=================================================================\n",
      "Total params: 163,761\n",
      "Trainable params: 163,761\n",
      "Non-trainable params: 0\n",
      "_________________________________________________________________\n"
     ]
    }
   ],
   "source": [
    "vocab_size = 10000\n",
    "word_vector_dim =16\n",
    "\n",
    "#model 설계\n",
    "model = tf.keras.Sequential()\n",
    "model.add(tf.keras.layers.Embedding(vocab_size, word_vector_dim, input_shape=(None,)))\n",
    "model.add(tf.keras.layers.Conv1D(16, 7, activation = 'relu'))\n",
    "model.add(tf.keras.layers.MaxPooling1D(5))\n",
    "model.add(tf.keras.layers.Conv1D(16, 7, activation = 'relu'))\n",
    "model.add(tf.keras.layers.GlobalMaxPooling1D())\n",
    "model.add(tf.keras.layers.Dense(8, activation='relu'))\n",
    "model.add(tf.keras.layers.Dense(1, activation= 'sigmoid'))\n",
    "\n",
    "model.summary()"
   ]
  },
  {
   "cell_type": "code",
   "execution_count": 12,
   "id": "79e877e9",
   "metadata": {},
   "outputs": [
    {
     "name": "stdout",
     "output_type": "stream",
     "text": [
      "(113432, 41)\n",
      "(113432,)\n"
     ]
    }
   ],
   "source": [
    "# validation set 30000건 분리\n",
    "x_val = X_train[:30000]\n",
    "y_val = y_train[:30000]\n",
    "\n",
    "# vailidation set을 제외한 나머지\n",
    "partial_X_train = X_train[30000:]\n",
    "partial_y_train = y_train[30000:]\n",
    "\n",
    "print(partial_X_train.shape)\n",
    "print(partial_y_train.shape)"
   ]
  },
  {
   "cell_type": "markdown",
   "id": "81e28513",
   "metadata": {},
   "source": [
    "5) 모델 훈련 개시"
   ]
  },
  {
   "cell_type": "code",
   "execution_count": 13,
   "id": "68ff7a3e",
   "metadata": {},
   "outputs": [
    {
     "name": "stdout",
     "output_type": "stream",
     "text": [
      "Epoch 1/20\n",
      "222/222 [==============================] - 4s 6ms/step - loss: 0.4937 - accuracy: 0.7557 - val_loss: 0.3597 - val_accuracy: 0.8433\n",
      "Epoch 2/20\n",
      "222/222 [==============================] - 1s 5ms/step - loss: 0.3319 - accuracy: 0.8591 - val_loss: 0.3425 - val_accuracy: 0.8515\n",
      "Epoch 3/20\n",
      "222/222 [==============================] - 1s 5ms/step - loss: 0.3005 - accuracy: 0.8735 - val_loss: 0.3383 - val_accuracy: 0.8547\n",
      "Epoch 4/20\n",
      "222/222 [==============================] - 1s 5ms/step - loss: 0.2768 - accuracy: 0.8870 - val_loss: 0.3409 - val_accuracy: 0.8551\n",
      "Epoch 5/20\n",
      "222/222 [==============================] - 1s 5ms/step - loss: 0.2521 - accuracy: 0.8991 - val_loss: 0.3479 - val_accuracy: 0.8549\n",
      "Epoch 6/20\n",
      "222/222 [==============================] - 1s 5ms/step - loss: 0.2247 - accuracy: 0.9126 - val_loss: 0.3609 - val_accuracy: 0.8528\n",
      "Epoch 7/20\n",
      "222/222 [==============================] - 1s 5ms/step - loss: 0.1936 - accuracy: 0.9279 - val_loss: 0.3876 - val_accuracy: 0.8501\n",
      "Epoch 8/20\n",
      "222/222 [==============================] - 1s 5ms/step - loss: 0.1638 - accuracy: 0.9413 - val_loss: 0.4224 - val_accuracy: 0.8437\n",
      "Epoch 9/20\n",
      "222/222 [==============================] - 1s 5ms/step - loss: 0.1370 - accuracy: 0.9533 - val_loss: 0.4497 - val_accuracy: 0.8432\n",
      "Epoch 10/20\n",
      "222/222 [==============================] - 1s 5ms/step - loss: 0.1140 - accuracy: 0.9632 - val_loss: 0.4900 - val_accuracy: 0.8395\n",
      "Epoch 11/20\n",
      "222/222 [==============================] - 1s 5ms/step - loss: 0.0955 - accuracy: 0.9700 - val_loss: 0.5181 - val_accuracy: 0.8366\n",
      "Epoch 12/20\n",
      "222/222 [==============================] - 1s 5ms/step - loss: 0.0824 - accuracy: 0.9751 - val_loss: 0.5546 - val_accuracy: 0.8354\n",
      "Epoch 13/20\n",
      "222/222 [==============================] - 1s 5ms/step - loss: 0.0710 - accuracy: 0.9792 - val_loss: 0.5988 - val_accuracy: 0.8335\n",
      "Epoch 14/20\n",
      "222/222 [==============================] - 1s 5ms/step - loss: 0.0623 - accuracy: 0.9822 - val_loss: 0.6232 - val_accuracy: 0.8326\n",
      "Epoch 15/20\n",
      "222/222 [==============================] - 1s 5ms/step - loss: 0.0558 - accuracy: 0.9843 - val_loss: 0.6689 - val_accuracy: 0.8283\n",
      "Epoch 16/20\n",
      "222/222 [==============================] - 1s 5ms/step - loss: 0.0502 - accuracy: 0.9862 - val_loss: 0.6950 - val_accuracy: 0.8281\n",
      "Epoch 17/20\n",
      "222/222 [==============================] - 1s 5ms/step - loss: 0.0463 - accuracy: 0.9873 - val_loss: 0.7470 - val_accuracy: 0.8280\n",
      "Epoch 18/20\n",
      "222/222 [==============================] - 1s 5ms/step - loss: 0.0426 - accuracy: 0.9886 - val_loss: 0.7548 - val_accuracy: 0.8251\n",
      "Epoch 19/20\n",
      "222/222 [==============================] - 1s 5ms/step - loss: 0.0401 - accuracy: 0.9888 - val_loss: 0.8047 - val_accuracy: 0.8256\n",
      "Epoch 20/20\n",
      "222/222 [==============================] - 1s 5ms/step - loss: 0.0380 - accuracy: 0.9894 - val_loss: 0.8253 - val_accuracy: 0.8235\n"
     ]
    }
   ],
   "source": [
    "#모델 학습\n",
    "model.compile(optimizer='adam',\n",
    "              loss='binary_crossentropy',\n",
    "              metrics=['accuracy'])\n",
    "\n",
    "epochs = 20 #결과 보면서 에포크 값 바꿔 여러번 시도해보기\n",
    "\n",
    "history = model.fit(partial_X_train,\n",
    "                   partial_y_train,\n",
    "                   epochs = epochs,\n",
    "                   batch_size = 512,\n",
    "                   validation_data = (x_val, y_val),\n",
    "                   verbose = 1)"
   ]
  },
  {
   "cell_type": "code",
   "execution_count": 14,
   "id": "f2e787da",
   "metadata": {},
   "outputs": [
    {
     "name": "stdout",
     "output_type": "stream",
     "text": [
      "1537/1537 - 3s - loss: 0.8672 - accuracy: 0.8153\n",
      "[0.8671936988830566, 0.8153060674667358]\n"
     ]
    }
   ],
   "source": [
    "results = model.evaluate(X_test,  y_test, verbose=2)\n",
    "\n",
    "print(results)"
   ]
  },
  {
   "cell_type": "markdown",
   "id": "08da044c",
   "metadata": {},
   "source": [
    "6) Loss Accuracy 그래프 시각화"
   ]
  },
  {
   "cell_type": "code",
   "execution_count": 15,
   "id": "51dcef71",
   "metadata": {},
   "outputs": [
    {
     "name": "stdout",
     "output_type": "stream",
     "text": [
      "dict_keys(['loss', 'accuracy', 'val_loss', 'val_accuracy'])\n"
     ]
    }
   ],
   "source": [
    "history_dict = history.history\n",
    "print(history_dict.keys()) # epoch에 따른 그래프를 그려볼 수 있는 항목들"
   ]
  },
  {
   "cell_type": "code",
   "execution_count": 16,
   "id": "73673c9a",
   "metadata": {},
   "outputs": [
    {
     "data": {
      "image/png": "[encoded data removed]",
      "text/plain": [
       "<Figure size 936x288 with 2 Axes>"
      ]
     },
     "metadata": {
      "needs_background": "light"
     },
     "output_type": "display_data"
    }
   ],
   "source": [
    "acc = history_dict['accuracy']\n",
    "val_acc = history_dict['val_accuracy']\n",
    "loss = history_dict['loss']\n",
    "val_loss = history_dict['val_loss']\n",
    "\n",
    "epochs = range(1, len(acc) + 1)\n",
    "\n",
    "fig = plt.figure(figsize=(13,4))\n",
    "ax1 = fig.add_subplot(1,2,1)\n",
    "plt.plot(epochs, loss, 'bo', label='Training loss')\n",
    "# b는 \"파란 실선\"입니다\n",
    "plt.plot(epochs, val_loss, 'b', label='Validation loss')\n",
    "plt.title('Training and validation loss')\n",
    "plt.xlabel('Epochs')\n",
    "plt.ylabel('Loss')\n",
    "plt.legend()\n",
    "\n",
    "\n",
    "ax2 = fig.add_subplot(1,2,2)\n",
    "plt.plot(epochs, acc, 'bo', label='Training acc')\n",
    "plt.plot(epochs, val_acc, 'b', label='Validation acc')\n",
    "plt.title('Training and validation accuracy')\n",
    "plt.xlabel('Epochs')\n",
    "plt.ylabel('Accuracy')\n",
    "plt.legend()\n",
    "\n",
    "plt.show()"
   ]
  },
  {
   "cell_type": "markdown",
   "id": "ce86472c",
   "metadata": {},
   "source": [
    "training and validation accuracy 그래프와 training and validation loss의 그래프가 유사한 인사이트를 보이는 것을 알 수 있다."
   ]
  },
  {
   "cell_type": "markdown",
   "id": "66d8cff7",
   "metadata": {},
   "source": [
    "7) 학습된 Embedding 레이어 분석"
   ]
  },
  {
   "cell_type": "code",
   "execution_count": 17,
   "id": "70f7a6bc",
   "metadata": {},
   "outputs": [
    {
     "name": "stdout",
     "output_type": "stream",
     "text": [
      "(10000, 16)\n"
     ]
    }
   ],
   "source": [
    "embedding_layer = model.layers[0]\n",
    "weights = embedding_layer.get_weights()[0]\n",
    "print(weights.shape)    # shape: (vocab_size, embedding_dim)"
   ]
  },
  {
   "cell_type": "code",
   "execution_count": 18,
   "id": "32ad5011",
   "metadata": {},
   "outputs": [],
   "source": [
    "# 학습한 Embedding 파라미터를 파일에 써서 저장\n",
    "word2vec_file_path = os.getenv('HOME')+'/aiffel/sentiment_classification/data/word2vec.txt'\n",
    "f = open(word2vec_file_path, 'w')\n",
    "f.write('{} {}\\n'.format(vocab_size-4, word_vector_dim))  # 몇개의 벡터를 얼마 사이즈로 기재할지 타이틀을 씁니다.\n",
    "\n",
    "# 단어 개수(에서 특수문자 4개는 제외하고)만큼의 워드 벡터를 파일에 기록합니다. \n",
    "vectors = model.get_weights()[0]\n",
    "for i in range(4,vocab_size):\n",
    "    f.write('{} {}\\n'.format(index_to_word[i], ' '.join(map(str, list(vectors[i, :])))))\n",
    "f.close()"
   ]
  },
  {
   "cell_type": "code",
   "execution_count": 19,
   "id": "c53182c7",
   "metadata": {},
   "outputs": [
    {
     "data": {
      "text/plain": [
       "array([ 0.14599901,  0.04785056,  0.0633512 ,  0.05352214,  0.10417796,\n",
       "        0.10989544,  0.05452868,  0.04634319, -0.05436319, -0.0176611 ,\n",
       "        0.04959846,  0.13737562,  0.0527846 , -0.09338267,  0.05656209,\n",
       "       -0.04031114], dtype=float32)"
      ]
     },
     "execution_count": 19,
     "metadata": {},
     "output_type": "execute_result"
    }
   ],
   "source": [
    "from gensim.models.keyedvectors import Word2VecKeyedVectors\n",
    "\n",
    "word_vectors = Word2VecKeyedVectors.load_word2vec_format(word2vec_file_path, binary=False)\n",
    "vector = word_vectors['사랑']\n",
    "vector"
   ]
  },
  {
   "cell_type": "code",
   "execution_count": 20,
   "id": "795590df",
   "metadata": {},
   "outputs": [
    {
     "data": {
      "text/plain": [
       "[('삶', 0.8975367546081543),\n",
       " ('꿀꿀', 0.8789502382278442),\n",
       " ('드릴게요', 0.8769569396972656),\n",
       " ('허각', 0.8766978979110718),\n",
       " ('돌고래', 0.8636221289634705),\n",
       " ('비춰', 0.8629289865493774),\n",
       " ('보듬', 0.8569116592407227),\n",
       " ('설명', 0.8528305888175964),\n",
       " ('부담없이', 0.8517491221427917),\n",
       " ('잼따', 0.8495585918426514)]"
      ]
     },
     "execution_count": 20,
     "metadata": {},
     "output_type": "execute_result"
    }
   ],
   "source": [
    "word_vectors.similar_by_word(\"사랑\")"
   ]
  },
  {
   "cell_type": "markdown",
   "id": "b50fc637",
   "metadata": {},
   "source": [
    "8) 한국어 Word2Vec 임베딩 활용하여 성능 개선"
   ]
  },
  {
   "cell_type": "code",
   "execution_count": 21,
   "id": "497ae723",
   "metadata": {},
   "outputs": [
    {
     "name": "stderr",
     "output_type": "stream",
     "text": [
      "/tmp/ipykernel_2421/1301037104.py:5: DeprecationWarning: Call to deprecated `__getitem__` (Method will be removed in 4.0.0, use self.wv.__getitem__() instead).\n",
      "  vector = word2vec['사랑']\n"
     ]
    },
    {
     "data": {
      "text/plain": [
       "array([-1.3740246 , -1.7353463 ,  3.3915305 , -2.569253  , -1.4016607 ,\n",
       "        1.4556127 ,  0.9414557 ,  1.9207907 ,  0.16471806,  0.4838317 ,\n",
       "       -0.8547181 ,  2.0879807 ,  0.86741775,  0.87539405, -0.09962013,\n",
       "        0.22928311, -1.1858722 ,  0.00858838,  1.4999928 , -0.16196461,\n",
       "       -0.35184434, -0.92390764,  1.0849575 ,  0.3025011 ,  2.7021565 ,\n",
       "       -1.0263684 ,  0.32864776, -0.76589465, -2.510981  , -0.66225356,\n",
       "        2.8434615 ,  0.50130975, -1.021874  , -1.4366034 ,  1.1110784 ,\n",
       "        0.5812605 , -0.5830406 , -0.5785423 ,  1.3634988 ,  2.3074338 ,\n",
       "       -1.4314893 ,  0.45745876,  1.1073523 , -3.2135262 , -0.2898375 ,\n",
       "       -1.1622221 ,  1.2369208 , -0.7622987 , -0.37757635,  1.1376442 ,\n",
       "        0.01065568, -0.69105595,  1.5159112 ,  1.1534518 , -1.0119992 ,\n",
       "       -0.5757404 ,  1.1349088 , -1.1289831 ,  0.13004152,  2.0451715 ,\n",
       "       -0.23940353,  1.3604902 ,  0.72700524,  0.32545742,  1.0612459 ,\n",
       "        0.42252553,  1.1442151 ,  2.8774905 ,  2.4377263 , -1.340305  ,\n",
       "        0.12629706, -0.07772489, -0.59053177, -0.19007324,  0.1396541 ,\n",
       "       -1.8655105 ,  0.9401054 ,  0.5150856 ,  0.7795373 , -0.86505556,\n",
       "        0.11842118, -1.8303713 ,  1.337177  , -1.0102932 , -0.37180334,\n",
       "        0.00893255, -0.49141577, -1.05802   , -2.5987291 ,  0.9731856 ,\n",
       "        0.34080654, -2.5973568 ,  1.0046519 , -1.3914212 , -0.6504351 ,\n",
       "       -0.9010805 , -1.1341541 ,  0.75565654,  1.2941337 ,  0.0880572 ,\n",
       "       -1.0341461 , -0.1750075 , -0.01880708, -1.0835075 , -2.0333962 ,\n",
       "        1.1372623 ,  1.0626172 , -1.8369784 , -2.2662086 , -3.382057  ,\n",
       "        1.6751666 , -0.2988223 , -0.25563756, -1.5594274 ,  0.6313433 ,\n",
       "       -1.2667153 , -1.6857744 , -1.0949599 ,  0.7742313 , -0.6095523 ,\n",
       "        3.19503   ,  0.13200459,  1.7937473 , -2.8782516 ,  1.3821276 ,\n",
       "        2.2895143 ,  0.0741943 , -0.41046414,  1.438796  ,  0.19373988,\n",
       "        1.4294034 ,  1.5025262 ,  1.4849502 ,  1.5754777 ,  2.7793512 ,\n",
       "       -0.6885003 , -0.30154693, -1.708323  ,  1.1030879 , -2.2597387 ,\n",
       "        1.1909146 ,  2.4399316 ,  0.3990314 ,  0.904154  ,  0.5454401 ,\n",
       "       -1.3235748 , -0.64812386,  0.22390233,  0.9657619 , -0.47360668,\n",
       "       -0.10278235, -1.0679734 , -0.91414386,  0.92069   ,  0.3549338 ,\n",
       "        0.32858834,  0.84870636,  3.596926  , -1.6651102 ,  0.23658653,\n",
       "        1.0515738 ,  0.40531915, -0.773514  , -0.93460965, -0.3946274 ,\n",
       "       -1.5657727 ,  1.183652  ,  2.5277    ,  0.57700926,  1.7051374 ,\n",
       "       -1.8249958 , -2.0328498 ,  0.6617798 ,  0.85747904,  0.31782728,\n",
       "       -1.1660796 ,  0.32923874,  2.2055087 , -0.12782003,  2.0455444 ,\n",
       "       -0.1724252 ,  0.46001154,  1.559042  , -1.6152996 , -0.84242785,\n",
       "        0.7553168 ,  0.39734274,  0.07714175,  0.05610155,  0.32837135,\n",
       "        1.0220716 ,  1.3816743 ,  0.8049544 ,  0.28728685, -0.97610044,\n",
       "        0.8861181 , -0.01250968, -1.4845604 , -1.5236791 , -1.5451258 ],\n",
       "      dtype=float32)"
      ]
     },
     "execution_count": 21,
     "metadata": {},
     "output_type": "execute_result"
    }
   ],
   "source": [
    "import gensim\n",
    "from gensim.models import KeyedVectors\n",
    "word2vec_path = os.getenv('HOME')+'/aiffel/sentiment_classification/data/ko.bin'\n",
    "word2vec = gensim.models.Word2Vec.load(word2vec_path)\n",
    "vector = word2vec['사랑']\n",
    "vector     "
   ]
  },
  {
   "cell_type": "code",
   "execution_count": 23,
   "id": "874cb8f5",
   "metadata": {},
   "outputs": [
    {
     "name": "stderr",
     "output_type": "stream",
     "text": [
      "/tmp/ipykernel_2421/1360476464.py:1: DeprecationWarning: Call to deprecated `similar_by_word` (Method will be removed in 4.0.0, use self.wv.similar_by_word() instead).\n",
      "  word2vec.similar_by_word(\"사랑\")\n"
     ]
    },
    {
     "data": {
      "text/plain": [
       "[('슬픔', 0.7216662764549255),\n",
       " ('행복', 0.6759077310562134),\n",
       " ('절망', 0.6468985080718994),\n",
       " ('기쁨', 0.6458414196968079),\n",
       " ('이별', 0.6334798336029053),\n",
       " ('추억', 0.6320937275886536),\n",
       " ('인생', 0.6216273307800293),\n",
       " ('애정', 0.6206069588661194),\n",
       " ('연인', 0.6186063289642334),\n",
       " ('유혹', 0.5965287685394287)]"
      ]
     },
     "execution_count": 23,
     "metadata": {},
     "output_type": "execute_result"
    }
   ],
   "source": [
    "word2vec.similar_by_word(\"사랑\")"
   ]
  },
  {
   "cell_type": "code",
   "execution_count": 25,
   "id": "2a8a73f0",
   "metadata": {},
   "outputs": [
    {
     "name": "stderr",
     "output_type": "stream",
     "text": [
      "/tmp/ipykernel_2421/2178099375.py:7: DeprecationWarning: Call to deprecated `__contains__` (Method will be removed in 4.0.0, use self.wv.__contains__() instead).\n",
      "  if index_to_word[i] in word2vec:\n",
      "/tmp/ipykernel_2421/2178099375.py:8: DeprecationWarning: Call to deprecated `__getitem__` (Method will be removed in 4.0.0, use self.wv.__getitem__() instead).\n",
      "  embedding_matrix[i] = word2vec[index_to_word[i]]\n"
     ]
    }
   ],
   "source": [
    "word_vector_dim = 200  # 워드 벡터의 차원수 (변경가능한 하이퍼파라미터)\n",
    "\n",
    "embedding_matrix = np.random.rand(vocab_size, word_vector_dim)\n",
    "\n",
    "# embedding_matrix에 Word2Vec 워드벡터를 단어 하나씩마다 차례차례 카피한다.\n",
    "for i in range(4,vocab_size):\n",
    "    if index_to_word[i] in word2vec:\n",
    "        embedding_matrix[i] = word2vec[index_to_word[i]]"
   ]
  },
  {
   "cell_type": "code",
   "execution_count": 26,
   "id": "5f58892e",
   "metadata": {},
   "outputs": [
    {
     "name": "stdout",
     "output_type": "stream",
     "text": [
      "Model: \"sequential_1\"\n",
      "_________________________________________________________________\n",
      "Layer (type)                 Output Shape              Param #   \n",
      "=================================================================\n",
      "embedding_1 (Embedding)      (None, 41, 200)           2000000   \n",
      "_________________________________________________________________\n",
      "lstm (LSTM)                  (None, 32)                29824     \n",
      "_________________________________________________________________\n",
      "dropout (Dropout)            (None, 32)                0         \n",
      "_________________________________________________________________\n",
      "dense_2 (Dense)              (None, 32)                1056      \n",
      "_________________________________________________________________\n",
      "dense_3 (Dense)              (None, 1)                 33        \n",
      "=================================================================\n",
      "Total params: 2,030,913\n",
      "Trainable params: 2,030,913\n",
      "Non-trainable params: 0\n",
      "_________________________________________________________________\n"
     ]
    }
   ],
   "source": [
    "#모델 설계\n",
    "\n",
    "from tensorflow.keras.initializers import Constant\n",
    "\n",
    "vocab_size = len(word_to_index)   # 어휘 사전의 크기\n",
    "word_vector_dim = 200  # 워드 벡터의 차원수 \n",
    "\n",
    "# 모델 구성\n",
    "model = keras.Sequential()\n",
    "model.add(keras.layers.Embedding(vocab_size, \n",
    "                                 word_vector_dim, \n",
    "                                 embeddings_initializer=Constant(embedding_matrix),  # 카피한 임베딩을 여기서 활용\n",
    "                                 input_length=maxlen, \n",
    "                                 trainable=True))   # trainable을 True로 주면 Fine-tuning\n",
    "model.add(keras.layers.LSTM(32))   \n",
    "model.add(keras.layers.Dropout(0.5))\n",
    "model.add(keras.layers.Dense(32, activation='relu',kernel_regularizer='l1'))\n",
    "model.add(keras.layers.Dense(1, activation='sigmoid'))  # 최종 출력은 긍정/부정을 나타내는 1dim\n",
    "\n",
    "model.summary()"
   ]
  },
  {
   "cell_type": "code",
   "execution_count": 28,
   "id": "8fd5cb98",
   "metadata": {},
   "outputs": [
    {
     "name": "stdout",
     "output_type": "stream",
     "text": [
      "Epoch 1/20\n",
      "222/222 [==============================] - 4s 9ms/step - loss: 1.2709 - accuracy: 0.7169 - val_loss: 0.5955 - val_accuracy: 0.8176\n",
      "Epoch 2/20\n",
      "222/222 [==============================] - 2s 7ms/step - loss: 0.4798 - accuracy: 0.8356 - val_loss: 0.4271 - val_accuracy: 0.8440\n",
      "Epoch 3/20\n",
      "222/222 [==============================] - 2s 7ms/step - loss: 0.4006 - accuracy: 0.8600 - val_loss: 0.3951 - val_accuracy: 0.8532\n",
      "Epoch 4/20\n",
      "222/222 [==============================] - 2s 7ms/step - loss: 0.3653 - accuracy: 0.8737 - val_loss: 0.3808 - val_accuracy: 0.8557\n",
      "Epoch 5/20\n",
      "222/222 [==============================] - 2s 7ms/step - loss: 0.3390 - accuracy: 0.8843 - val_loss: 0.3774 - val_accuracy: 0.8580\n",
      "Epoch 6/20\n",
      "222/222 [==============================] - 2s 7ms/step - loss: 0.3184 - accuracy: 0.8923 - val_loss: 0.3742 - val_accuracy: 0.8584\n",
      "Epoch 7/20\n",
      "222/222 [==============================] - 2s 7ms/step - loss: 0.3022 - accuracy: 0.8989 - val_loss: 0.3771 - val_accuracy: 0.8591\n",
      "Epoch 8/20\n",
      "222/222 [==============================] - 2s 7ms/step - loss: 0.2856 - accuracy: 0.9057 - val_loss: 0.3771 - val_accuracy: 0.8560\n",
      "Epoch 9/20\n",
      "222/222 [==============================] - 2s 7ms/step - loss: 0.2731 - accuracy: 0.9112 - val_loss: 0.3768 - val_accuracy: 0.8553\n",
      "Epoch 10/20\n",
      "222/222 [==============================] - 2s 7ms/step - loss: 0.2610 - accuracy: 0.9165 - val_loss: 0.3794 - val_accuracy: 0.8576\n",
      "Epoch 11/20\n",
      "222/222 [==============================] - 2s 7ms/step - loss: 0.2459 - accuracy: 0.9235 - val_loss: 0.4091 - val_accuracy: 0.8564\n",
      "Epoch 12/20\n",
      "222/222 [==============================] - 2s 7ms/step - loss: 0.2363 - accuracy: 0.9277 - val_loss: 0.4017 - val_accuracy: 0.8557\n",
      "Epoch 13/20\n",
      "222/222 [==============================] - 2s 7ms/step - loss: 0.2241 - accuracy: 0.9328 - val_loss: 0.4027 - val_accuracy: 0.8547\n",
      "Epoch 14/20\n",
      "222/222 [==============================] - 2s 7ms/step - loss: 0.2159 - accuracy: 0.9366 - val_loss: 0.4087 - val_accuracy: 0.8559\n",
      "Epoch 15/20\n",
      "222/222 [==============================] - 2s 7ms/step - loss: 0.2117 - accuracy: 0.9378 - val_loss: 0.4102 - val_accuracy: 0.8539\n",
      "Epoch 16/20\n",
      "222/222 [==============================] - 2s 7ms/step - loss: 0.2146 - accuracy: 0.9363 - val_loss: 0.4245 - val_accuracy: 0.8534\n",
      "Epoch 17/20\n",
      "222/222 [==============================] - 2s 7ms/step - loss: 0.1966 - accuracy: 0.9447 - val_loss: 0.4325 - val_accuracy: 0.8565\n",
      "Epoch 18/20\n",
      "222/222 [==============================] - 2s 7ms/step - loss: 0.1866 - accuracy: 0.9492 - val_loss: 0.4407 - val_accuracy: 0.8530\n",
      "Epoch 19/20\n",
      "222/222 [==============================] - 2s 7ms/step - loss: 0.1808 - accuracy: 0.9513 - val_loss: 0.4540 - val_accuracy: 0.8553\n",
      "Epoch 20/20\n",
      "222/222 [==============================] - 2s 7ms/step - loss: 0.1730 - accuracy: 0.9547 - val_loss: 0.4451 - val_accuracy: 0.8531\n"
     ]
    }
   ],
   "source": [
    "# 학습의 진행\n",
    "model.compile(optimizer='adam',\n",
    "              loss='binary_crossentropy',\n",
    "              metrics=['accuracy'])\n",
    "              \n",
    "epochs=20  \n",
    "\n",
    "history = model.fit(partial_X_train,\n",
    "                    partial_y_train,\n",
    "                    epochs=epochs,\n",
    "                    batch_size=512,\n",
    "                    validation_data=(x_val, y_val),\n",
    "                    verbose=1)"
   ]
  },
  {
   "cell_type": "code",
   "execution_count": 29,
   "id": "3acfefb4",
   "metadata": {},
   "outputs": [
    {
     "name": "stdout",
     "output_type": "stream",
     "text": [
      "1537/1537 - 3s - loss: 0.4539 - accuracy: 0.8500\n",
      "[0.45389771461486816, 0.8499908447265625]\n"
     ]
    }
   ],
   "source": [
    "results = model.evaluate(X_test,  y_test, verbose=2)\n",
    "\n",
    "print(results)"
   ]
  },
  {
   "cell_type": "code",
   "execution_count": 30,
   "id": "04c70c64",
   "metadata": {},
   "outputs": [
    {
     "data": {
      "image/png": "[encoded data removed]",
      "text/plain": [
       "<Figure size 936x288 with 2 Axes>"
      ]
     },
     "metadata": {
      "needs_background": "light"
     },
     "output_type": "display_data"
    }
   ],
   "source": [
    "acc = history_dict['accuracy']\n",
    "val_acc = history_dict['val_accuracy']\n",
    "loss = history_dict['loss']\n",
    "val_loss = history_dict['val_loss']\n",
    "\n",
    "epochs = range(1, len(acc) + 1)\n",
    "\n",
    "fig = plt.figure(figsize=(13,4))\n",
    "ax1 = fig.add_subplot(1,2,1)\n",
    "plt.plot(epochs, loss, 'bo', label='Training loss')\n",
    "# b는 \"파란 실선\"입니다\n",
    "plt.plot(epochs, val_loss, 'b', label='Validation loss')\n",
    "plt.title('Training and validation loss')\n",
    "plt.xlabel('Epochs')\n",
    "plt.ylabel('Loss')\n",
    "plt.legend()\n",
    "\n",
    "\n",
    "ax2 = fig.add_subplot(1,2,2)\n",
    "plt.plot(epochs, acc, 'bo', label='Training acc')\n",
    "plt.plot(epochs, val_acc, 'b', label='Validation acc')\n",
    "plt.title('Training and validation accuracy')\n",
    "plt.xlabel('Epochs')\n",
    "plt.ylabel('Accuracy')\n",
    "#plt.ylim(0.5,1)\n",
    "plt.legend()\n",
    "\n",
    "plt.show()"
   ]
  },
  {
   "cell_type": "markdown",
   "id": "5e7b41b0",
   "metadata": {},
   "source": [
    "training and validation accuracy 그래프와 training and validation loss의 그래프가 유사한 인사이트를 보이는 것을 알 수 있다."
   ]
  },
  {
   "cell_type": "markdown",
   "id": "80d2eb55",
   "metadata": {},
   "source": [
    "# 2. RNN - LSTM 사용 모델\n",
    "\n",
    "4) 모델 구성 및 validation set 구성"
   ]
  },
  {
   "cell_type": "code",
   "execution_count": 31,
   "id": "7cc98359",
   "metadata": {},
   "outputs": [
    {
     "name": "stdout",
     "output_type": "stream",
     "text": [
      "Model: \"sequential_2\"\n",
      "_________________________________________________________________\n",
      "Layer (type)                 Output Shape              Param #   \n",
      "=================================================================\n",
      "embedding_2 (Embedding)      (None, None, 128)         1280000   \n",
      "_________________________________________________________________\n",
      "lstm_1 (LSTM)                (None, 32)                20608     \n",
      "_________________________________________________________________\n",
      "dropout_1 (Dropout)          (None, 32)                0         \n",
      "_________________________________________________________________\n",
      "dense_4 (Dense)              (None, 16)                528       \n",
      "_________________________________________________________________\n",
      "dense_5 (Dense)              (None, 1)                 17        \n",
      "=================================================================\n",
      "Total params: 1,301,153\n",
      "Trainable params: 1,301,153\n",
      "Non-trainable params: 0\n",
      "_________________________________________________________________\n"
     ]
    }
   ],
   "source": [
    "vocab_size = len(word_to_index)   # 어휘 사전의 크기\n",
    "word_vector_dim = 128  # 워드 벡터의 차원수 \n",
    "\n",
    "model = keras.Sequential()\n",
    "model.add(keras.layers.Embedding(vocab_size, word_vector_dim, input_shape=(None,)))\n",
    "model.add(keras.layers.LSTM(32))   \n",
    "model.add(keras.layers.Dropout(0.5))\n",
    "model.add(keras.layers.Dense(16, activation='relu',kernel_regularizer='l1'))\n",
    "model.add(keras.layers.Dense(1, activation='sigmoid'))  # 최종 출력은 긍정/부정을 나타내는 1dim\n",
    "\n",
    "model.summary()"
   ]
  },
  {
   "cell_type": "code",
   "execution_count": 32,
   "id": "894d51dd",
   "metadata": {},
   "outputs": [
    {
     "name": "stdout",
     "output_type": "stream",
     "text": [
      "(113432, 41)\n",
      "(113432,)\n"
     ]
    }
   ],
   "source": [
    "# validation set 30000건 분리(20%)\n",
    "x_val = X_train[:30000]\n",
    "y_val = y_train[:30000]\n",
    "\n",
    "# vailidation set을 제외한 나머지\n",
    "partial_X_train = X_train[30000:]\n",
    "partial_y_train = y_train[30000:]\n",
    "\n",
    "print(partial_X_train.shape)\n",
    "print(partial_y_train.shape)"
   ]
  },
  {
   "cell_type": "markdown",
   "id": "37b25079",
   "metadata": {},
   "source": [
    "5) 모델 훈련 개시"
   ]
  },
  {
   "cell_type": "code",
   "execution_count": 33,
   "id": "7010175c",
   "metadata": {},
   "outputs": [
    {
     "name": "stdout",
     "output_type": "stream",
     "text": [
      "Epoch 1/20\n",
      "222/222 [==============================] - 3s 8ms/step - loss: 0.9441 - accuracy: 0.7871 - val_loss: 0.5316 - val_accuracy: 0.8480\n",
      "Epoch 2/20\n",
      "222/222 [==============================] - 1s 7ms/step - loss: 0.4368 - accuracy: 0.8604 - val_loss: 0.4043 - val_accuracy: 0.8524\n",
      "Epoch 3/20\n",
      "222/222 [==============================] - 1s 7ms/step - loss: 0.3700 - accuracy: 0.8753 - val_loss: 0.3872 - val_accuracy: 0.8533\n",
      "Epoch 4/20\n",
      "222/222 [==============================] - 1s 7ms/step - loss: 0.3397 - accuracy: 0.8857 - val_loss: 0.3841 - val_accuracy: 0.8550\n",
      "Epoch 5/20\n",
      "222/222 [==============================] - 1s 6ms/step - loss: 0.3154 - accuracy: 0.8952 - val_loss: 0.3873 - val_accuracy: 0.8524\n",
      "Epoch 6/20\n",
      "222/222 [==============================] - 1s 7ms/step - loss: 0.2931 - accuracy: 0.9039 - val_loss: 0.4032 - val_accuracy: 0.8519\n",
      "Epoch 7/20\n",
      "222/222 [==============================] - 1s 7ms/step - loss: 0.2731 - accuracy: 0.9116 - val_loss: 0.4026 - val_accuracy: 0.8514\n",
      "Epoch 8/20\n",
      "222/222 [==============================] - 1s 7ms/step - loss: 0.2580 - accuracy: 0.9171 - val_loss: 0.4048 - val_accuracy: 0.8502\n",
      "Epoch 9/20\n",
      "222/222 [==============================] - 1s 7ms/step - loss: 0.2433 - accuracy: 0.9227 - val_loss: 0.4257 - val_accuracy: 0.8478\n",
      "Epoch 10/20\n",
      "222/222 [==============================] - 1s 6ms/step - loss: 0.2311 - accuracy: 0.9265 - val_loss: 0.4213 - val_accuracy: 0.8483\n",
      "Epoch 11/20\n",
      "222/222 [==============================] - 1s 7ms/step - loss: 0.2175 - accuracy: 0.9330 - val_loss: 0.4375 - val_accuracy: 0.8463\n",
      "Epoch 12/20\n",
      "222/222 [==============================] - 1s 7ms/step - loss: 0.2059 - accuracy: 0.9375 - val_loss: 0.4423 - val_accuracy: 0.8434\n",
      "Epoch 13/20\n",
      "222/222 [==============================] - 1s 7ms/step - loss: 0.1964 - accuracy: 0.9417 - val_loss: 0.4640 - val_accuracy: 0.8444\n",
      "Epoch 14/20\n",
      "222/222 [==============================] - 1s 7ms/step - loss: 0.1862 - accuracy: 0.9457 - val_loss: 0.4678 - val_accuracy: 0.8416\n",
      "Epoch 15/20\n",
      "222/222 [==============================] - 1s 7ms/step - loss: 0.1799 - accuracy: 0.9488 - val_loss: 0.4692 - val_accuracy: 0.8420\n",
      "Epoch 16/20\n",
      "222/222 [==============================] - 2s 7ms/step - loss: 0.1731 - accuracy: 0.9511 - val_loss: 0.4816 - val_accuracy: 0.8413\n",
      "Epoch 17/20\n",
      "222/222 [==============================] - 1s 7ms/step - loss: 0.1648 - accuracy: 0.9546 - val_loss: 0.4904 - val_accuracy: 0.8410\n",
      "Epoch 18/20\n",
      "222/222 [==============================] - 1s 7ms/step - loss: 0.1600 - accuracy: 0.9565 - val_loss: 0.5160 - val_accuracy: 0.8411\n",
      "Epoch 19/20\n",
      "222/222 [==============================] - 1s 7ms/step - loss: 0.1514 - accuracy: 0.9596 - val_loss: 0.5227 - val_accuracy: 0.8392\n",
      "Epoch 20/20\n",
      "222/222 [==============================] - 1s 7ms/step - loss: 0.1505 - accuracy: 0.9601 - val_loss: 0.5203 - val_accuracy: 0.8406\n"
     ]
    }
   ],
   "source": [
    "#모델 훈련\n",
    "model.compile(optimizer='adam',\n",
    "              loss='binary_crossentropy',\n",
    "              metrics=['accuracy'])\n",
    "              \n",
    "epochs=20\n",
    "\n",
    "history = model.fit(partial_X_train,\n",
    "                    partial_y_train,\n",
    "                    epochs=epochs,\n",
    "                    batch_size=512,\n",
    "                    validation_data=(X_val, y_val),\n",
    "                    verbose=1)"
   ]
  },
  {
   "cell_type": "code",
   "execution_count": 34,
   "id": "dcdcb9d9",
   "metadata": {},
   "outputs": [
    {
     "name": "stdout",
     "output_type": "stream",
     "text": [
      "1537/1537 - 3s - loss: 0.5379 - accuracy: 0.8365\n",
      "[0.537905216217041, 0.8365441560745239]\n"
     ]
    }
   ],
   "source": [
    "results = model.evaluate(X_test,  y_test, verbose=2)\n",
    "\n",
    "print(results)"
   ]
  },
  {
   "cell_type": "markdown",
   "id": "89ad6963",
   "metadata": {},
   "source": [
    "6) Loss Accuracy 그래프 시각화"
   ]
  },
  {
   "cell_type": "code",
   "execution_count": 35,
   "id": "07114bca",
   "metadata": {},
   "outputs": [
    {
     "name": "stdout",
     "output_type": "stream",
     "text": [
      "dict_keys(['loss', 'accuracy', 'val_loss', 'val_accuracy'])\n"
     ]
    }
   ],
   "source": [
    "history_dict = history.history\n",
    "print(history_dict.keys())"
   ]
  },
  {
   "cell_type": "code",
   "execution_count": 36,
   "id": "e65c76a4",
   "metadata": {},
   "outputs": [
    {
     "data": {
      "image/png": "[encoded data removed]",
      "text/plain": [
       "<Figure size 936x288 with 2 Axes>"
      ]
     },
     "metadata": {
      "needs_background": "light"
     },
     "output_type": "display_data"
    }
   ],
   "source": [
    "acc = history_dict['accuracy']\n",
    "val_acc = history_dict['val_accuracy']\n",
    "loss = history_dict['loss']\n",
    "val_loss = history_dict['val_loss']\n",
    "\n",
    "epochs = range(1, len(acc) + 1)\n",
    "\n",
    "fig = plt.figure(figsize=(13,4))\n",
    "ax1 = fig.add_subplot(1,2,1)\n",
    "plt.plot(epochs, loss, 'bo', label='Training loss')\n",
    "# b는 \"파란 실선\"입니다\n",
    "plt.plot(epochs, val_loss, 'b', label='Validation loss')\n",
    "plt.title('Training and validation loss')\n",
    "plt.xlabel('Epochs')\n",
    "plt.ylabel('Loss')\n",
    "plt.legend()\n",
    "\n",
    "\n",
    "ax2 = fig.add_subplot(1,2,2)\n",
    "plt.plot(epochs, acc, 'bo', label='Training acc')\n",
    "plt.plot(epochs, val_acc, 'b', label='Validation acc')\n",
    "plt.title('Training and validation accuracy')\n",
    "plt.xlabel('Epochs')\n",
    "plt.ylabel('Accuracy')\n",
    "plt.legend()\n",
    "\n",
    "plt.show()"
   ]
  },
  {
   "cell_type": "markdown",
   "id": "2d3507e2",
   "metadata": {},
   "source": [
    "training and validation accuracy 그래프와 training and validation loss의 그래프가 유사한 인사이트를 보이는 것을 알 수 있다."
   ]
  },
  {
   "cell_type": "markdown",
   "id": "dde38e2d",
   "metadata": {},
   "source": [
    "7) 학습된 Embedding 레이어 분석"
   ]
  },
  {
   "cell_type": "code",
   "execution_count": 37,
   "id": "dc6f6541",
   "metadata": {},
   "outputs": [
    {
     "name": "stdout",
     "output_type": "stream",
     "text": [
      "(10000, 128)\n"
     ]
    }
   ],
   "source": [
    "embedding_layer = model.layers[0]\n",
    "weights = embedding_layer.get_weights()[0]\n",
    "print(weights.shape)    # shape: (vocab_size, embedding_dim)"
   ]
  },
  {
   "cell_type": "code",
   "execution_count": 39,
   "id": "7a2fabcc",
   "metadata": {},
   "outputs": [],
   "source": [
    "# 학습한 Embedding 파라미터를 파일에 써서 저장\n",
    "word2vec_file_path = os.getenv('HOME')+'/aiffel/sentiment_classification/data/word2vec.txt'\n",
    "f = open(word2vec_file_path, 'w')\n",
    "f.write('{} {}\\n'.format(vocab_size-4, word_vector_dim))  # 몇개의 벡터를 얼마 사이즈로 기재할지 타이틀을 씁니다.\n",
    "\n",
    "# 단어 개수(에서 특수문자 4개는 제외하고)만큼의 워드 벡터를 파일에 기록합니다. \n",
    "vectors = model.get_weights()[0]\n",
    "for i in range(4,vocab_size):\n",
    "    f.write('{} {}\\n'.format(index_to_word[i], ' '.join(map(str, list(vectors[i, :])))))\n",
    "f.close()"
   ]
  },
  {
   "cell_type": "code",
   "execution_count": 40,
   "id": "21d28cc0",
   "metadata": {},
   "outputs": [
    {
     "data": {
      "text/plain": [
       "array([-3.70950624e-02, -1.08354390e-01,  1.03170387e-01, -5.55503108e-02,\n",
       "        1.05891980e-01,  1.44272953e-01, -6.75157309e-02, -1.80264071e-01,\n",
       "       -1.25563174e-01,  9.06160474e-02, -7.43226334e-02, -4.83017974e-02,\n",
       "       -2.30158772e-02,  7.41983354e-02, -7.89436102e-02, -7.16280937e-02,\n",
       "       -7.74644911e-02, -6.75873309e-02, -1.79855004e-01,  9.99740791e-03,\n",
       "        1.24896020e-01, -7.24446476e-02, -1.18221313e-01, -6.74475506e-02,\n",
       "        6.66082129e-02, -7.23127052e-02, -3.97547670e-02, -2.46066023e-02,\n",
       "        2.16108747e-02, -7.20127746e-02, -1.04175918e-01,  2.65143644e-02,\n",
       "        1.77050382e-02,  5.35532758e-02, -5.56737892e-02,  1.26571134e-01,\n",
       "       -1.02721848e-01,  8.89796242e-02,  6.82858452e-02,  2.92653348e-02,\n",
       "       -2.33933497e-02,  5.87518374e-03,  4.67070192e-02, -2.00756729e-01,\n",
       "        1.57789479e-03, -6.80804998e-02,  6.22432567e-02,  9.33034420e-02,\n",
       "        6.87241182e-02, -9.80333611e-02,  1.09467074e-01,  8.48470628e-02,\n",
       "        5.86538352e-02, -9.01414827e-02, -1.51780337e-01,  3.47139221e-03,\n",
       "        8.81439541e-03,  6.37164861e-02, -6.68279231e-02, -5.52137801e-03,\n",
       "       -2.07133256e-02, -1.35436773e-01, -1.96406037e-01, -1.19594440e-01,\n",
       "       -1.25817209e-01,  9.12549794e-02,  6.04678914e-02, -6.39509708e-02,\n",
       "        6.55703992e-02,  5.36490977e-02, -1.28970504e-01, -1.10217884e-01,\n",
       "       -1.29573628e-01,  7.08402544e-02, -1.49503797e-01,  2.96815485e-02,\n",
       "        9.41987336e-02,  8.79909918e-02,  7.99483359e-02, -2.59444509e-02,\n",
       "        4.96797189e-02, -1.24718346e-01, -7.96669051e-02, -4.66219224e-02,\n",
       "       -5.21946736e-02, -1.06412478e-01, -1.03911720e-01,  1.41828194e-01,\n",
       "        3.78417457e-03, -3.40514891e-02,  5.92909828e-02, -5.86698540e-02,\n",
       "       -3.47456373e-02, -1.32690132e-01, -7.49394596e-02, -1.62279055e-01,\n",
       "        1.55826822e-01,  2.91768685e-02,  6.40225261e-02, -6.63521886e-02,\n",
       "        2.11523455e-02, -1.48417484e-02,  6.87841848e-02, -6.48304522e-02,\n",
       "        1.00234501e-01,  1.12344429e-01,  6.41577616e-02, -3.59804742e-02,\n",
       "       -4.96908613e-02,  1.51296213e-01, -2.49871947e-02,  1.30365163e-01,\n",
       "       -1.20508820e-01, -8.01399574e-02,  1.07712895e-01,  5.79194017e-02,\n",
       "       -1.24031372e-01, -2.97654457e-02, -7.52316628e-05,  5.88833429e-02,\n",
       "       -8.36490691e-02, -5.07506542e-02, -1.50548562e-01,  1.38762370e-01,\n",
       "        6.92165717e-02, -4.40208539e-02, -1.02544390e-01,  1.50586233e-01],\n",
       "      dtype=float32)"
      ]
     },
     "execution_count": 40,
     "metadata": {},
     "output_type": "execute_result"
    }
   ],
   "source": [
    "word_vectors = Word2VecKeyedVectors.load_word2vec_format(word2vec_file_path, binary=False)\n",
    "vector = word_vectors['사랑']\n",
    "vector"
   ]
  },
  {
   "cell_type": "code",
   "execution_count": 41,
   "id": "18c60a89",
   "metadata": {},
   "outputs": [
    {
     "data": {
      "text/plain": [
       "[('미니언', 0.8722897171974182),\n",
       " ('수준급', 0.8589898347854614),\n",
       " ('A', 0.8459334373474121),\n",
       " ('먹먹', 0.8422995805740356),\n",
       " ('데요', 0.8411542177200317),\n",
       " ('감동', 0.8409152030944824),\n",
       " ('완벽', 0.8403930068016052),\n",
       " ('뛰어넘', 0.8396650552749634),\n",
       " ('..)', 0.836934506893158),\n",
       " ('명품', 0.836887001991272)]"
      ]
     },
     "execution_count": 41,
     "metadata": {},
     "output_type": "execute_result"
    }
   ],
   "source": [
    "word_vectors.similar_by_word(\"사랑\")"
   ]
  },
  {
   "cell_type": "markdown",
   "id": "f36d7323",
   "metadata": {},
   "source": [
    "8) 한국어 Word2Vec 임베딩 활용하여 성능 개선"
   ]
  },
  {
   "cell_type": "code",
   "execution_count": 42,
   "id": "67741bbe",
   "metadata": {},
   "outputs": [
    {
     "name": "stderr",
     "output_type": "stream",
     "text": [
      "/tmp/ipykernel_2421/906898285.py:5: DeprecationWarning: Call to deprecated `__getitem__` (Method will be removed in 4.0.0, use self.wv.__getitem__() instead).\n",
      "  vector = word2vec['사랑']\n"
     ]
    },
    {
     "data": {
      "text/plain": [
       "array([-1.3740246 , -1.7353463 ,  3.3915305 , -2.569253  , -1.4016607 ,\n",
       "        1.4556127 ,  0.9414557 ,  1.9207907 ,  0.16471806,  0.4838317 ,\n",
       "       -0.8547181 ,  2.0879807 ,  0.86741775,  0.87539405, -0.09962013,\n",
       "        0.22928311, -1.1858722 ,  0.00858838,  1.4999928 , -0.16196461,\n",
       "       -0.35184434, -0.92390764,  1.0849575 ,  0.3025011 ,  2.7021565 ,\n",
       "       -1.0263684 ,  0.32864776, -0.76589465, -2.510981  , -0.66225356,\n",
       "        2.8434615 ,  0.50130975, -1.021874  , -1.4366034 ,  1.1110784 ,\n",
       "        0.5812605 , -0.5830406 , -0.5785423 ,  1.3634988 ,  2.3074338 ,\n",
       "       -1.4314893 ,  0.45745876,  1.1073523 , -3.2135262 , -0.2898375 ,\n",
       "       -1.1622221 ,  1.2369208 , -0.7622987 , -0.37757635,  1.1376442 ,\n",
       "        0.01065568, -0.69105595,  1.5159112 ,  1.1534518 , -1.0119992 ,\n",
       "       -0.5757404 ,  1.1349088 , -1.1289831 ,  0.13004152,  2.0451715 ,\n",
       "       -0.23940353,  1.3604902 ,  0.72700524,  0.32545742,  1.0612459 ,\n",
       "        0.42252553,  1.1442151 ,  2.8774905 ,  2.4377263 , -1.340305  ,\n",
       "        0.12629706, -0.07772489, -0.59053177, -0.19007324,  0.1396541 ,\n",
       "       -1.8655105 ,  0.9401054 ,  0.5150856 ,  0.7795373 , -0.86505556,\n",
       "        0.11842118, -1.8303713 ,  1.337177  , -1.0102932 , -0.37180334,\n",
       "        0.00893255, -0.49141577, -1.05802   , -2.5987291 ,  0.9731856 ,\n",
       "        0.34080654, -2.5973568 ,  1.0046519 , -1.3914212 , -0.6504351 ,\n",
       "       -0.9010805 , -1.1341541 ,  0.75565654,  1.2941337 ,  0.0880572 ,\n",
       "       -1.0341461 , -0.1750075 , -0.01880708, -1.0835075 , -2.0333962 ,\n",
       "        1.1372623 ,  1.0626172 , -1.8369784 , -2.2662086 , -3.382057  ,\n",
       "        1.6751666 , -0.2988223 , -0.25563756, -1.5594274 ,  0.6313433 ,\n",
       "       -1.2667153 , -1.6857744 , -1.0949599 ,  0.7742313 , -0.6095523 ,\n",
       "        3.19503   ,  0.13200459,  1.7937473 , -2.8782516 ,  1.3821276 ,\n",
       "        2.2895143 ,  0.0741943 , -0.41046414,  1.438796  ,  0.19373988,\n",
       "        1.4294034 ,  1.5025262 ,  1.4849502 ,  1.5754777 ,  2.7793512 ,\n",
       "       -0.6885003 , -0.30154693, -1.708323  ,  1.1030879 , -2.2597387 ,\n",
       "        1.1909146 ,  2.4399316 ,  0.3990314 ,  0.904154  ,  0.5454401 ,\n",
       "       -1.3235748 , -0.64812386,  0.22390233,  0.9657619 , -0.47360668,\n",
       "       -0.10278235, -1.0679734 , -0.91414386,  0.92069   ,  0.3549338 ,\n",
       "        0.32858834,  0.84870636,  3.596926  , -1.6651102 ,  0.23658653,\n",
       "        1.0515738 ,  0.40531915, -0.773514  , -0.93460965, -0.3946274 ,\n",
       "       -1.5657727 ,  1.183652  ,  2.5277    ,  0.57700926,  1.7051374 ,\n",
       "       -1.8249958 , -2.0328498 ,  0.6617798 ,  0.85747904,  0.31782728,\n",
       "       -1.1660796 ,  0.32923874,  2.2055087 , -0.12782003,  2.0455444 ,\n",
       "       -0.1724252 ,  0.46001154,  1.559042  , -1.6152996 , -0.84242785,\n",
       "        0.7553168 ,  0.39734274,  0.07714175,  0.05610155,  0.32837135,\n",
       "        1.0220716 ,  1.3816743 ,  0.8049544 ,  0.28728685, -0.97610044,\n",
       "        0.8861181 , -0.01250968, -1.4845604 , -1.5236791 , -1.5451258 ],\n",
       "      dtype=float32)"
      ]
     },
     "execution_count": 42,
     "metadata": {},
     "output_type": "execute_result"
    }
   ],
   "source": [
    "word2vec_path = os.getenv('HOME')+'/aiffel/sentiment_classification/data/ko.bin'\n",
    "word2vec = gensim.models.Word2Vec.load(word2vec_path)\n",
    "vector = word2vec['사랑']\n",
    "vector       "
   ]
  },
  {
   "cell_type": "code",
   "execution_count": 43,
   "id": "b091bd6e",
   "metadata": {},
   "outputs": [
    {
     "name": "stderr",
     "output_type": "stream",
     "text": [
      "/tmp/ipykernel_2421/1360476464.py:1: DeprecationWarning: Call to deprecated `similar_by_word` (Method will be removed in 4.0.0, use self.wv.similar_by_word() instead).\n",
      "  word2vec.similar_by_word(\"사랑\")\n"
     ]
    },
    {
     "data": {
      "text/plain": [
       "[('슬픔', 0.7216662764549255),\n",
       " ('행복', 0.6759077310562134),\n",
       " ('절망', 0.6468985080718994),\n",
       " ('기쁨', 0.6458414196968079),\n",
       " ('이별', 0.6334798336029053),\n",
       " ('추억', 0.6320937275886536),\n",
       " ('인생', 0.6216273307800293),\n",
       " ('애정', 0.6206069588661194),\n",
       " ('연인', 0.6186063289642334),\n",
       " ('유혹', 0.5965287685394287)]"
      ]
     },
     "execution_count": 43,
     "metadata": {},
     "output_type": "execute_result"
    }
   ],
   "source": [
    "word2vec.similar_by_word(\"사랑\")"
   ]
  },
  {
   "cell_type": "code",
   "execution_count": 44,
   "id": "1a71c82f",
   "metadata": {},
   "outputs": [
    {
     "name": "stderr",
     "output_type": "stream",
     "text": [
      "/tmp/ipykernel_2421/2178099375.py:7: DeprecationWarning: Call to deprecated `__contains__` (Method will be removed in 4.0.0, use self.wv.__contains__() instead).\n",
      "  if index_to_word[i] in word2vec:\n",
      "/tmp/ipykernel_2421/2178099375.py:8: DeprecationWarning: Call to deprecated `__getitem__` (Method will be removed in 4.0.0, use self.wv.__getitem__() instead).\n",
      "  embedding_matrix[i] = word2vec[index_to_word[i]]\n"
     ]
    }
   ],
   "source": [
    "word_vector_dim = 200  # 워드 벡터의 차원수 (변경가능한 하이퍼파라미터)\n",
    "\n",
    "embedding_matrix = np.random.rand(vocab_size, word_vector_dim)\n",
    "\n",
    "# embedding_matrix에 Word2Vec 워드벡터를 단어 하나씩마다 차례차례 카피한다.\n",
    "for i in range(4,vocab_size):\n",
    "    if index_to_word[i] in word2vec:\n",
    "        embedding_matrix[i] = word2vec[index_to_word[i]]"
   ]
  },
  {
   "cell_type": "code",
   "execution_count": 45,
   "id": "b1a656e5",
   "metadata": {},
   "outputs": [
    {
     "name": "stdout",
     "output_type": "stream",
     "text": [
      "Model: \"sequential_3\"\n",
      "_________________________________________________________________\n",
      "Layer (type)                 Output Shape              Param #   \n",
      "=================================================================\n",
      "embedding_3 (Embedding)      (None, 41, 200)           2000000   \n",
      "_________________________________________________________________\n",
      "lstm_2 (LSTM)                (None, 32)                29824     \n",
      "_________________________________________________________________\n",
      "dropout_2 (Dropout)          (None, 32)                0         \n",
      "_________________________________________________________________\n",
      "dense_6 (Dense)              (None, 32)                1056      \n",
      "_________________________________________________________________\n",
      "dense_7 (Dense)              (None, 1)                 33        \n",
      "=================================================================\n",
      "Total params: 2,030,913\n",
      "Trainable params: 2,030,913\n",
      "Non-trainable params: 0\n",
      "_________________________________________________________________\n"
     ]
    }
   ],
   "source": [
    "vocab_size = len(word_to_index)   # 어휘 사전의 크기\n",
    "word_vector_dim = 200  # 워드 벡터의 차원수 \n",
    "\n",
    "# 모델 구성\n",
    "model = keras.Sequential()\n",
    "model.add(keras.layers.Embedding(vocab_size, \n",
    "                                 word_vector_dim, \n",
    "                                 embeddings_initializer=Constant(embedding_matrix),  # 카피한 임베딩을 여기서 활용\n",
    "                                 input_length=maxlen, \n",
    "                                 trainable=True))   # trainable을 True로 주면 Fine-tuning\n",
    "model.add(keras.layers.LSTM(32))   \n",
    "model.add(keras.layers.Dropout(0.5))\n",
    "model.add(keras.layers.Dense(32, activation='relu',kernel_regularizer='l1'))\n",
    "model.add(keras.layers.Dense(1, activation='sigmoid'))  # 최종 출력은 긍정/부정을 나타내는 1dim\n",
    "\n",
    "model.summary()"
   ]
  },
  {
   "cell_type": "code",
   "execution_count": 46,
   "id": "3f47422b",
   "metadata": {},
   "outputs": [
    {
     "name": "stdout",
     "output_type": "stream",
     "text": [
      "Epoch 1/20\n",
      "222/222 [==============================] - 3s 9ms/step - loss: 1.2633 - accuracy: 0.7248 - val_loss: 0.6008 - val_accuracy: 0.8179\n",
      "Epoch 2/20\n",
      "222/222 [==============================] - 2s 7ms/step - loss: 0.4790 - accuracy: 0.8339 - val_loss: 0.4246 - val_accuracy: 0.8462\n",
      "Epoch 3/20\n",
      "222/222 [==============================] - 2s 7ms/step - loss: 0.3991 - accuracy: 0.8608 - val_loss: 0.3948 - val_accuracy: 0.8533\n",
      "Epoch 4/20\n",
      "222/222 [==============================] - 2s 7ms/step - loss: 0.3631 - accuracy: 0.8742 - val_loss: 0.3835 - val_accuracy: 0.8566\n",
      "Epoch 5/20\n",
      "222/222 [==============================] - 2s 7ms/step - loss: 0.3397 - accuracy: 0.8845 - val_loss: 0.3775 - val_accuracy: 0.8590\n",
      "Epoch 6/20\n",
      "222/222 [==============================] - 2s 7ms/step - loss: 0.3199 - accuracy: 0.8920 - val_loss: 0.3748 - val_accuracy: 0.8588\n",
      "Epoch 7/20\n",
      "222/222 [==============================] - 2s 7ms/step - loss: 0.3020 - accuracy: 0.8997 - val_loss: 0.3771 - val_accuracy: 0.8590\n",
      "Epoch 8/20\n",
      "222/222 [==============================] - 2s 7ms/step - loss: 0.2901 - accuracy: 0.9042 - val_loss: 0.3780 - val_accuracy: 0.8584\n",
      "Epoch 9/20\n",
      "222/222 [==============================] - 2s 7ms/step - loss: 0.2741 - accuracy: 0.9116 - val_loss: 0.3774 - val_accuracy: 0.8592\n",
      "Epoch 10/20\n",
      "222/222 [==============================] - 2s 7ms/step - loss: 0.2625 - accuracy: 0.9168 - val_loss: 0.4094 - val_accuracy: 0.8518\n",
      "Epoch 11/20\n",
      "222/222 [==============================] - 2s 7ms/step - loss: 0.2532 - accuracy: 0.9207 - val_loss: 0.3932 - val_accuracy: 0.8554\n",
      "Epoch 12/20\n",
      "222/222 [==============================] - 2s 7ms/step - loss: 0.2423 - accuracy: 0.9258 - val_loss: 0.3951 - val_accuracy: 0.8570\n",
      "Epoch 13/20\n",
      "222/222 [==============================] - 2s 7ms/step - loss: 0.2391 - accuracy: 0.9265 - val_loss: 0.4064 - val_accuracy: 0.8576\n",
      "Epoch 14/20\n",
      "222/222 [==============================] - 2s 7ms/step - loss: 0.2324 - accuracy: 0.9291 - val_loss: 0.3952 - val_accuracy: 0.8564\n",
      "Epoch 15/20\n",
      "222/222 [==============================] - 2s 7ms/step - loss: 0.2171 - accuracy: 0.9367 - val_loss: 0.4169 - val_accuracy: 0.8570\n",
      "Epoch 16/20\n",
      "222/222 [==============================] - 2s 7ms/step - loss: 0.2091 - accuracy: 0.9395 - val_loss: 0.4054 - val_accuracy: 0.8548\n",
      "Epoch 17/20\n",
      "222/222 [==============================] - 2s 7ms/step - loss: 0.2017 - accuracy: 0.9431 - val_loss: 0.4366 - val_accuracy: 0.8549\n",
      "Epoch 18/20\n",
      "222/222 [==============================] - 2s 7ms/step - loss: 0.1988 - accuracy: 0.9435 - val_loss: 0.4267 - val_accuracy: 0.8546\n",
      "Epoch 19/20\n",
      "222/222 [==============================] - 2s 7ms/step - loss: 0.1885 - accuracy: 0.9483 - val_loss: 0.4452 - val_accuracy: 0.8535\n",
      "Epoch 20/20\n",
      "222/222 [==============================] - 2s 7ms/step - loss: 0.1812 - accuracy: 0.9512 - val_loss: 0.4275 - val_accuracy: 0.8523\n"
     ]
    }
   ],
   "source": [
    "# 학습의 진행\n",
    "model.compile(optimizer='adam',\n",
    "              loss='binary_crossentropy',\n",
    "              metrics=['accuracy'])\n",
    "              \n",
    "epochs=20  \n",
    "\n",
    "history = model.fit(partial_X_train,\n",
    "                    partial_y_train,\n",
    "                    epochs=epochs,\n",
    "                    batch_size=512,\n",
    "                    validation_data=(X_val, y_val),\n",
    "                    verbose=1)"
   ]
  },
  {
   "cell_type": "code",
   "execution_count": 47,
   "id": "ecf9418b",
   "metadata": {},
   "outputs": [
    {
     "name": "stdout",
     "output_type": "stream",
     "text": [
      "1537/1537 - 3s - loss: 0.4368 - accuracy: 0.8465\n",
      "[0.43684643507003784, 0.8465121984481812]\n"
     ]
    }
   ],
   "source": [
    "results = model.evaluate(X_test,  y_test, verbose=2)\n",
    "\n",
    "print(results)"
   ]
  },
  {
   "cell_type": "code",
   "execution_count": 48,
   "id": "0fb82d3b",
   "metadata": {},
   "outputs": [
    {
     "data": {
      "image/png": "[encoded data removed]",
      "text/plain": [
       "<Figure size 936x288 with 2 Axes>"
      ]
     },
     "metadata": {
      "needs_background": "light"
     },
     "output_type": "display_data"
    }
   ],
   "source": [
    "acc = history_dict['accuracy']\n",
    "val_acc = history_dict['val_accuracy']\n",
    "loss = history_dict['loss']\n",
    "val_loss = history_dict['val_loss']\n",
    "\n",
    "epochs = range(1, len(acc) + 1)\n",
    "\n",
    "fig = plt.figure(figsize=(13,4))\n",
    "ax1 = fig.add_subplot(1,2,1)\n",
    "plt.plot(epochs, loss, 'bo', label='Training loss')\n",
    "# b는 \"파란 실선\"입니다\n",
    "plt.plot(epochs, val_loss, 'b', label='Validation loss')\n",
    "plt.title('Training and validation loss')\n",
    "plt.xlabel('Epochs')\n",
    "plt.ylabel('Loss')\n",
    "plt.legend()\n",
    "\n",
    "\n",
    "ax2 = fig.add_subplot(1,2,2)\n",
    "plt.plot(epochs, acc, 'bo', label='Training acc')\n",
    "plt.plot(epochs, val_acc, 'b', label='Validation acc')\n",
    "plt.title('Training and validation accuracy')\n",
    "plt.xlabel('Epochs')\n",
    "plt.ylabel('Accuracy')\n",
    "#plt.ylim(0.5,1)\n",
    "plt.legend()\n",
    "\n",
    "plt.show()"
   ]
  },
  {
   "cell_type": "markdown",
   "id": "fc1d3886",
   "metadata": {},
   "source": [
    "training and validation accuracy 그래프와 training and validation loss의 그래프가 유사한 인사이트를 보이는 것을 알 수 있다."
   ]
  },
  {
   "cell_type": "markdown",
   "id": "2bb70d1d",
   "metadata": {},
   "source": [
    "# 3. GlobalMaxPooling1D() 하나만 사용한 모델\n",
    "\n",
    "4) 모델 구성 및 validation set 구성"
   ]
  },
  {
   "cell_type": "code",
   "execution_count": 49,
   "id": "be73244a",
   "metadata": {},
   "outputs": [
    {
     "name": "stdout",
     "output_type": "stream",
     "text": [
      "Model: \"sequential_4\"\n",
      "_________________________________________________________________\n",
      "Layer (type)                 Output Shape              Param #   \n",
      "=================================================================\n",
      "embedding_4 (Embedding)      (None, None, 128)         1280000   \n",
      "_________________________________________________________________\n",
      "global_max_pooling1d_1 (Glob (None, 128)               0         \n",
      "_________________________________________________________________\n",
      "dropout_3 (Dropout)          (None, 128)               0         \n",
      "_________________________________________________________________\n",
      "dense_8 (Dense)              (None, 16)                2064      \n",
      "_________________________________________________________________\n",
      "dense_9 (Dense)              (None, 1)                 17        \n",
      "=================================================================\n",
      "Total params: 1,282,081\n",
      "Trainable params: 1,282,081\n",
      "Non-trainable params: 0\n",
      "_________________________________________________________________\n"
     ]
    }
   ],
   "source": [
    "vocab_size = len(word_to_index)  \n",
    "word_vector_dim = 128   \n",
    "\n",
    "model = keras.Sequential()\n",
    "model.add(keras.layers.Embedding(vocab_size, word_vector_dim, input_shape=(None,)))\n",
    "model.add(keras.layers.GlobalMaxPooling1D())\n",
    "model.add(keras.layers.Dropout(0.5))\n",
    "model.add(keras.layers.Dense(16, activation='relu',kernel_regularizer='l1'))\n",
    "model.add(keras.layers.Dense(1, activation='sigmoid')) \n",
    "\n",
    "model.summary()"
   ]
  },
  {
   "cell_type": "code",
   "execution_count": 50,
   "id": "f710c4d0",
   "metadata": {},
   "outputs": [
    {
     "name": "stdout",
     "output_type": "stream",
     "text": [
      "(113432, 41)\n",
      "(113432,)\n"
     ]
    }
   ],
   "source": [
    "# validation set 30000건 분리(20%)\n",
    "x_val = X_train[:30000]\n",
    "y_val = y_train[:30000]\n",
    "\n",
    "# vailidation set을 제외한 나머지\n",
    "partial_X_train = X_train[30000:]\n",
    "partial_y_train = y_train[30000:]\n",
    "\n",
    "print(partial_X_train.shape)\n",
    "print(partial_y_train.shape)"
   ]
  },
  {
   "cell_type": "markdown",
   "id": "f570613b",
   "metadata": {},
   "source": [
    "5) 모델 훈련 개시"
   ]
  },
  {
   "cell_type": "code",
   "execution_count": 51,
   "id": "4b7b10dd",
   "metadata": {},
   "outputs": [
    {
     "name": "stdout",
     "output_type": "stream",
     "text": [
      "Epoch 1/20\n",
      "222/222 [==============================] - 2s 5ms/step - loss: 1.3397 - accuracy: 0.7216 - val_loss: 0.6969 - val_accuracy: 0.7291\n",
      "Epoch 2/20\n",
      "222/222 [==============================] - 1s 4ms/step - loss: 0.6595 - accuracy: 0.7695 - val_loss: 0.5794 - val_accuracy: 0.8041\n",
      "Epoch 3/20\n",
      "222/222 [==============================] - 1s 4ms/step - loss: 0.5547 - accuracy: 0.8075 - val_loss: 0.5102 - val_accuracy: 0.8202\n",
      "Epoch 4/20\n",
      "222/222 [==============================] - 1s 4ms/step - loss: 0.5078 - accuracy: 0.8235 - val_loss: 0.4808 - val_accuracy: 0.8272\n",
      "Epoch 5/20\n",
      "222/222 [==============================] - 1s 4ms/step - loss: 0.4832 - accuracy: 0.8294 - val_loss: 0.4629 - val_accuracy: 0.8311\n",
      "Epoch 6/20\n",
      "222/222 [==============================] - 1s 4ms/step - loss: 0.4643 - accuracy: 0.8359 - val_loss: 0.4498 - val_accuracy: 0.8345\n",
      "Epoch 7/20\n",
      "222/222 [==============================] - 1s 4ms/step - loss: 0.4504 - accuracy: 0.8406 - val_loss: 0.4410 - val_accuracy: 0.8362\n",
      "Epoch 8/20\n",
      "222/222 [==============================] - 1s 4ms/step - loss: 0.4379 - accuracy: 0.8443 - val_loss: 0.4333 - val_accuracy: 0.8379\n",
      "Epoch 9/20\n",
      "222/222 [==============================] - 1s 4ms/step - loss: 0.4283 - accuracy: 0.8482 - val_loss: 0.4271 - val_accuracy: 0.8395\n",
      "Epoch 10/20\n",
      "222/222 [==============================] - 1s 4ms/step - loss: 0.4186 - accuracy: 0.8510 - val_loss: 0.4216 - val_accuracy: 0.8407\n",
      "Epoch 11/20\n",
      "222/222 [==============================] - 1s 4ms/step - loss: 0.4097 - accuracy: 0.8550 - val_loss: 0.4174 - val_accuracy: 0.8420\n",
      "Epoch 12/20\n",
      "222/222 [==============================] - 1s 4ms/step - loss: 0.4019 - accuracy: 0.8576 - val_loss: 0.4137 - val_accuracy: 0.8430\n",
      "Epoch 13/20\n",
      "222/222 [==============================] - 1s 4ms/step - loss: 0.3942 - accuracy: 0.8606 - val_loss: 0.4107 - val_accuracy: 0.8438\n",
      "Epoch 14/20\n",
      "222/222 [==============================] - 1s 4ms/step - loss: 0.3891 - accuracy: 0.8624 - val_loss: 0.4081 - val_accuracy: 0.8453\n",
      "Epoch 15/20\n",
      "222/222 [==============================] - 1s 4ms/step - loss: 0.3828 - accuracy: 0.8637 - val_loss: 0.4062 - val_accuracy: 0.8455\n",
      "Epoch 16/20\n",
      "222/222 [==============================] - 1s 4ms/step - loss: 0.3770 - accuracy: 0.8666 - val_loss: 0.4030 - val_accuracy: 0.8474\n",
      "Epoch 17/20\n",
      "222/222 [==============================] - 1s 4ms/step - loss: 0.3726 - accuracy: 0.8694 - val_loss: 0.4018 - val_accuracy: 0.8475\n",
      "Epoch 18/20\n",
      "222/222 [==============================] - 1s 4ms/step - loss: 0.3669 - accuracy: 0.8715 - val_loss: 0.4004 - val_accuracy: 0.8480\n",
      "Epoch 19/20\n",
      "222/222 [==============================] - 1s 4ms/step - loss: 0.3605 - accuracy: 0.8741 - val_loss: 0.3988 - val_accuracy: 0.8475\n",
      "Epoch 20/20\n",
      "222/222 [==============================] - 1s 4ms/step - loss: 0.3560 - accuracy: 0.8748 - val_loss: 0.3985 - val_accuracy: 0.8483\n"
     ]
    }
   ],
   "source": [
    "model.compile(optimizer='adam',\n",
    "              loss='binary_crossentropy',\n",
    "              metrics=['accuracy'])\n",
    "              \n",
    "epochs=20  \n",
    "\n",
    "history = model.fit(partial_X_train,\n",
    "                    partial_y_train,\n",
    "                    epochs=epochs,\n",
    "                    batch_size=512,\n",
    "                    validation_data=(X_val, y_val),\n",
    "                    verbose=1)"
   ]
  },
  {
   "cell_type": "code",
   "execution_count": 52,
   "id": "fbcc33d2",
   "metadata": {},
   "outputs": [
    {
     "name": "stdout",
     "output_type": "stream",
     "text": [
      "1537/1537 - 2s - loss: 0.4057 - accuracy: 0.8436\n",
      "[0.4057328701019287, 0.8435624837875366]\n"
     ]
    }
   ],
   "source": [
    "results = model.evaluate(X_test,  y_test, verbose=2)\n",
    "\n",
    "print(results)"
   ]
  },
  {
   "cell_type": "markdown",
   "id": "2df4a398",
   "metadata": {},
   "source": [
    "6) Loss Accuracy 그래프 시각화"
   ]
  },
  {
   "cell_type": "code",
   "execution_count": 53,
   "id": "d4a94432",
   "metadata": {},
   "outputs": [
    {
     "name": "stdout",
     "output_type": "stream",
     "text": [
      "dict_keys(['loss', 'accuracy', 'val_loss', 'val_accuracy'])\n"
     ]
    }
   ],
   "source": [
    "history_dict = history.history\n",
    "print(history_dict.keys()) "
   ]
  },
  {
   "cell_type": "code",
   "execution_count": 54,
   "id": "641a3cc2",
   "metadata": {},
   "outputs": [
    {
     "data": {
      "image/png": "[encoded data removed]",
      "text/plain": [
       "<Figure size 936x288 with 2 Axes>"
      ]
     },
     "metadata": {
      "needs_background": "light"
     },
     "output_type": "display_data"
    }
   ],
   "source": [
    "acc = history_dict['accuracy']\n",
    "val_acc = history_dict['val_accuracy']\n",
    "loss = history_dict['loss']\n",
    "val_loss = history_dict['val_loss']\n",
    "\n",
    "epochs = range(1, len(acc) + 1)\n",
    "\n",
    "fig = plt.figure(figsize=(13,4))\n",
    "ax1 = fig.add_subplot(1,2,1)\n",
    "# \"bo\"는 \"파란색 점\"입니다\n",
    "plt.plot(epochs, loss, 'bo', label='Training loss')\n",
    "# b는 \"파란 실선\"입니다\n",
    "plt.plot(epochs, val_loss, 'b', label='Validation loss')\n",
    "plt.title('Training and validation loss')\n",
    "plt.xlabel('Epochs')\n",
    "plt.ylabel('Loss')\n",
    "#plt.ylim(-1, 1.5)\n",
    "plt.legend()\n",
    "ax2 = fig.add_subplot(1,2,2)\n",
    "plt.plot(epochs, acc, 'bo', label='Training acc')\n",
    "plt.plot(epochs, val_acc, 'b', label='Validation acc')\n",
    "plt.title('Training and validation accuracy')\n",
    "plt.xlabel('Epochs')\n",
    "plt.ylabel('Accuracy')\n",
    "#plt.ylim(0.5,1)\n",
    "plt.legend()\n",
    "\n",
    "plt.show()"
   ]
  },
  {
   "cell_type": "markdown",
   "id": "fbf1f9e0",
   "metadata": {},
   "source": [
    "training and validation accuracy 그래프와 training and validation loss의 그래프가 유사한 인사이트를 보이는 것을 알 수 있다."
   ]
  },
  {
   "cell_type": "markdown",
   "id": "b34bf63f",
   "metadata": {},
   "source": [
    "7) 학습된 Embedding 레이어 분석"
   ]
  },
  {
   "cell_type": "code",
   "execution_count": 55,
   "id": "01285362",
   "metadata": {},
   "outputs": [
    {
     "name": "stdout",
     "output_type": "stream",
     "text": [
      "(10000, 128)\n"
     ]
    }
   ],
   "source": [
    "embedding_layer = model.layers[0]\n",
    "weights = embedding_layer.get_weights()[0]\n",
    "print(weights.shape)    # shape: (vocab_size, embedding_dim)"
   ]
  },
  {
   "cell_type": "code",
   "execution_count": 56,
   "id": "59282321",
   "metadata": {},
   "outputs": [],
   "source": [
    "# 학습한 Embedding 파라미터를 파일에 써서 저장\n",
    "word2vec_file_path = os.getenv('HOME')+'/aiffel/sentiment_classification/data/word2vec.txt'\n",
    "f = open(word2vec_file_path, 'w')\n",
    "f.write('{} {}\\n'.format(vocab_size-4, word_vector_dim))  # 몇개의 벡터를 얼마 사이즈로 기재할지 타이틀을 씁니다.\n",
    "\n",
    "# 단어 개수(에서 특수문자 4개는 제외하고)만큼의 워드 벡터를 파일에 기록합니다. \n",
    "vectors = model.get_weights()[0]\n",
    "for i in range(4,vocab_size):\n",
    "    f.write('{} {}\\n'.format(index_to_word[i], ' '.join(map(str, list(vectors[i, :])))))\n",
    "f.close()"
   ]
  },
  {
   "cell_type": "code",
   "execution_count": 57,
   "id": "81773e69",
   "metadata": {},
   "outputs": [
    {
     "data": {
      "text/plain": [
       "array([-0.04978008, -0.02389147, -0.01022691, -0.00616966, -0.01106902,\n",
       "       -0.10893048, -0.133405  , -0.17059474, -0.00076323, -0.09933148,\n",
       "       -0.04000279,  0.01686371, -0.27293444,  0.6769407 , -0.2546403 ,\n",
       "        0.01422545,  0.11080753,  0.16039093, -0.2898064 ,  0.19987977,\n",
       "       -0.12640601, -0.09549914, -0.01510958, -0.02706373, -0.23889293,\n",
       "       -0.2345366 , -0.06006887, -0.27821   ,  0.34927997,  0.33658344,\n",
       "       -0.11310714,  0.23805848, -0.04112872,  0.03816817, -0.28788066,\n",
       "       -0.05019619, -0.01506845, -0.1588545 , -0.0223051 ,  0.1908673 ,\n",
       "        0.47223362, -0.00977451, -0.13154523, -0.0462221 , -0.01359222,\n",
       "       -0.03456553, -0.03588679, -0.10795703, -0.01437637, -0.03648931,\n",
       "        0.01815459, -0.04399839, -0.12158689, -0.27336088, -0.19369087,\n",
       "        0.24978101,  0.33491778,  0.01588557, -0.281184  , -0.24351487,\n",
       "       -0.02332733,  0.37055936, -0.07767235, -0.2489767 , -0.05738611,\n",
       "       -0.29053736, -0.03500063, -0.02146347, -0.26872122, -0.0677122 ,\n",
       "       -0.08853535, -0.08683396, -0.29837573,  0.46656933, -0.02424227,\n",
       "        0.515323  , -0.02792665,  0.03839569, -0.01553721, -0.07107525,\n",
       "       -0.2158615 , -0.22239296,  0.17032221,  0.01317716, -0.1031334 ,\n",
       "        0.20114772, -0.14571892, -0.09285095, -0.04956741, -0.1295924 ,\n",
       "        0.15197808,  0.01661739, -0.01289926, -0.02906326,  0.07823017,\n",
       "       -0.02522951,  0.32807082,  0.0156476 , -0.26606405, -0.05699369,\n",
       "       -0.24911535, -0.08169075, -0.27303934, -0.27068454, -0.00322315,\n",
       "       -0.00827889, -0.08275007,  0.45638612,  0.18142478, -0.27108023,\n",
       "        0.20684732,  0.54983526, -0.16086417, -0.06188801, -0.10259993,\n",
       "       -0.21173342,  0.33742273, -0.2904167 ,  0.26874048,  0.07107037,\n",
       "        0.16297697, -0.03255928,  0.09793624, -0.06382375,  0.2002414 ,\n",
       "       -0.07715005, -0.02513964, -0.03924872], dtype=float32)"
      ]
     },
     "execution_count": 57,
     "metadata": {},
     "output_type": "execute_result"
    }
   ],
   "source": [
    "word_vectors = Word2VecKeyedVectors.load_word2vec_format(word2vec_file_path, binary=False)\n",
    "vector = word_vectors['사랑']\n",
    "vector"
   ]
  },
  {
   "cell_type": "code",
   "execution_count": 58,
   "id": "f2903348",
   "metadata": {},
   "outputs": [
    {
     "data": {
      "text/plain": [
       "[('왕조현', 0.6937699913978577),\n",
       " ('주군', 0.6838071942329407),\n",
       " ('마법', 0.6810615658760071),\n",
       " ('핫', 0.667174220085144),\n",
       " ('애인', 0.6651933789253235),\n",
       " ('순수', 0.6640225052833557),\n",
       " ('릴리', 0.6590795516967773),\n",
       " ('미남', 0.6563628911972046),\n",
       " ('로빈윌리엄스', 0.6511014103889465),\n",
       " ('결혼식', 0.6502306461334229)]"
      ]
     },
     "execution_count": 58,
     "metadata": {},
     "output_type": "execute_result"
    }
   ],
   "source": [
    "word_vectors.similar_by_word(\"사랑\")"
   ]
  },
  {
   "cell_type": "markdown",
   "id": "d8fd870f",
   "metadata": {},
   "source": [
    "8) 한국어 Word2Vec 임베딩 활용하여 성능 개선"
   ]
  },
  {
   "cell_type": "code",
   "execution_count": 59,
   "id": "4ee4d1e9",
   "metadata": {},
   "outputs": [
    {
     "name": "stderr",
     "output_type": "stream",
     "text": [
      "/tmp/ipykernel_2421/906898285.py:5: DeprecationWarning: Call to deprecated `__getitem__` (Method will be removed in 4.0.0, use self.wv.__getitem__() instead).\n",
      "  vector = word2vec['사랑']\n"
     ]
    },
    {
     "data": {
      "text/plain": [
       "array([-1.3740246 , -1.7353463 ,  3.3915305 , -2.569253  , -1.4016607 ,\n",
       "        1.4556127 ,  0.9414557 ,  1.9207907 ,  0.16471806,  0.4838317 ,\n",
       "       -0.8547181 ,  2.0879807 ,  0.86741775,  0.87539405, -0.09962013,\n",
       "        0.22928311, -1.1858722 ,  0.00858838,  1.4999928 , -0.16196461,\n",
       "       -0.35184434, -0.92390764,  1.0849575 ,  0.3025011 ,  2.7021565 ,\n",
       "       -1.0263684 ,  0.32864776, -0.76589465, -2.510981  , -0.66225356,\n",
       "        2.8434615 ,  0.50130975, -1.021874  , -1.4366034 ,  1.1110784 ,\n",
       "        0.5812605 , -0.5830406 , -0.5785423 ,  1.3634988 ,  2.3074338 ,\n",
       "       -1.4314893 ,  0.45745876,  1.1073523 , -3.2135262 , -0.2898375 ,\n",
       "       -1.1622221 ,  1.2369208 , -0.7622987 , -0.37757635,  1.1376442 ,\n",
       "        0.01065568, -0.69105595,  1.5159112 ,  1.1534518 , -1.0119992 ,\n",
       "       -0.5757404 ,  1.1349088 , -1.1289831 ,  0.13004152,  2.0451715 ,\n",
       "       -0.23940353,  1.3604902 ,  0.72700524,  0.32545742,  1.0612459 ,\n",
       "        0.42252553,  1.1442151 ,  2.8774905 ,  2.4377263 , -1.340305  ,\n",
       "        0.12629706, -0.07772489, -0.59053177, -0.19007324,  0.1396541 ,\n",
       "       -1.8655105 ,  0.9401054 ,  0.5150856 ,  0.7795373 , -0.86505556,\n",
       "        0.11842118, -1.8303713 ,  1.337177  , -1.0102932 , -0.37180334,\n",
       "        0.00893255, -0.49141577, -1.05802   , -2.5987291 ,  0.9731856 ,\n",
       "        0.34080654, -2.5973568 ,  1.0046519 , -1.3914212 , -0.6504351 ,\n",
       "       -0.9010805 , -1.1341541 ,  0.75565654,  1.2941337 ,  0.0880572 ,\n",
       "       -1.0341461 , -0.1750075 , -0.01880708, -1.0835075 , -2.0333962 ,\n",
       "        1.1372623 ,  1.0626172 , -1.8369784 , -2.2662086 , -3.382057  ,\n",
       "        1.6751666 , -0.2988223 , -0.25563756, -1.5594274 ,  0.6313433 ,\n",
       "       -1.2667153 , -1.6857744 , -1.0949599 ,  0.7742313 , -0.6095523 ,\n",
       "        3.19503   ,  0.13200459,  1.7937473 , -2.8782516 ,  1.3821276 ,\n",
       "        2.2895143 ,  0.0741943 , -0.41046414,  1.438796  ,  0.19373988,\n",
       "        1.4294034 ,  1.5025262 ,  1.4849502 ,  1.5754777 ,  2.7793512 ,\n",
       "       -0.6885003 , -0.30154693, -1.708323  ,  1.1030879 , -2.2597387 ,\n",
       "        1.1909146 ,  2.4399316 ,  0.3990314 ,  0.904154  ,  0.5454401 ,\n",
       "       -1.3235748 , -0.64812386,  0.22390233,  0.9657619 , -0.47360668,\n",
       "       -0.10278235, -1.0679734 , -0.91414386,  0.92069   ,  0.3549338 ,\n",
       "        0.32858834,  0.84870636,  3.596926  , -1.6651102 ,  0.23658653,\n",
       "        1.0515738 ,  0.40531915, -0.773514  , -0.93460965, -0.3946274 ,\n",
       "       -1.5657727 ,  1.183652  ,  2.5277    ,  0.57700926,  1.7051374 ,\n",
       "       -1.8249958 , -2.0328498 ,  0.6617798 ,  0.85747904,  0.31782728,\n",
       "       -1.1660796 ,  0.32923874,  2.2055087 , -0.12782003,  2.0455444 ,\n",
       "       -0.1724252 ,  0.46001154,  1.559042  , -1.6152996 , -0.84242785,\n",
       "        0.7553168 ,  0.39734274,  0.07714175,  0.05610155,  0.32837135,\n",
       "        1.0220716 ,  1.3816743 ,  0.8049544 ,  0.28728685, -0.97610044,\n",
       "        0.8861181 , -0.01250968, -1.4845604 , -1.5236791 , -1.5451258 ],\n",
       "      dtype=float32)"
      ]
     },
     "execution_count": 59,
     "metadata": {},
     "output_type": "execute_result"
    }
   ],
   "source": [
    "word2vec_path = os.getenv('HOME')+'/aiffel/sentiment_classification/data/ko.bin'\n",
    "word2vec = gensim.models.Word2Vec.load(word2vec_path)\n",
    "vector = word2vec['사랑']\n",
    "vector       "
   ]
  },
  {
   "cell_type": "code",
   "execution_count": 60,
   "id": "5cafdf94",
   "metadata": {},
   "outputs": [
    {
     "name": "stderr",
     "output_type": "stream",
     "text": [
      "/tmp/ipykernel_2421/1360476464.py:1: DeprecationWarning: Call to deprecated `similar_by_word` (Method will be removed in 4.0.0, use self.wv.similar_by_word() instead).\n",
      "  word2vec.similar_by_word(\"사랑\")\n"
     ]
    },
    {
     "data": {
      "text/plain": [
       "[('슬픔', 0.7216662764549255),\n",
       " ('행복', 0.6759077310562134),\n",
       " ('절망', 0.6468985080718994),\n",
       " ('기쁨', 0.6458414196968079),\n",
       " ('이별', 0.6334798336029053),\n",
       " ('추억', 0.6320937275886536),\n",
       " ('인생', 0.6216273307800293),\n",
       " ('애정', 0.6206069588661194),\n",
       " ('연인', 0.6186063289642334),\n",
       " ('유혹', 0.5965287685394287)]"
      ]
     },
     "execution_count": 60,
     "metadata": {},
     "output_type": "execute_result"
    }
   ],
   "source": [
    "word2vec.similar_by_word(\"사랑\")"
   ]
  },
  {
   "cell_type": "code",
   "execution_count": 61,
   "id": "ffb05dae",
   "metadata": {},
   "outputs": [
    {
     "name": "stderr",
     "output_type": "stream",
     "text": [
      "/tmp/ipykernel_2421/2178099375.py:7: DeprecationWarning: Call to deprecated `__contains__` (Method will be removed in 4.0.0, use self.wv.__contains__() instead).\n",
      "  if index_to_word[i] in word2vec:\n",
      "/tmp/ipykernel_2421/2178099375.py:8: DeprecationWarning: Call to deprecated `__getitem__` (Method will be removed in 4.0.0, use self.wv.__getitem__() instead).\n",
      "  embedding_matrix[i] = word2vec[index_to_word[i]]\n"
     ]
    }
   ],
   "source": [
    "word_vector_dim = 200  # 워드 벡터의 차원수 (변경가능한 하이퍼파라미터)\n",
    "\n",
    "embedding_matrix = np.random.rand(vocab_size, word_vector_dim)\n",
    "\n",
    "# embedding_matrix에 Word2Vec 워드벡터를 단어 하나씩마다 차례차례 카피한다.\n",
    "for i in range(4,vocab_size):\n",
    "    if index_to_word[i] in word2vec:\n",
    "        embedding_matrix[i] = word2vec[index_to_word[i]]"
   ]
  },
  {
   "cell_type": "code",
   "execution_count": 62,
   "id": "dc90207a",
   "metadata": {},
   "outputs": [
    {
     "name": "stdout",
     "output_type": "stream",
     "text": [
      "Model: \"sequential_5\"\n",
      "_________________________________________________________________\n",
      "Layer (type)                 Output Shape              Param #   \n",
      "=================================================================\n",
      "embedding_5 (Embedding)      (None, 41, 200)           2000000   \n",
      "_________________________________________________________________\n",
      "global_max_pooling1d_2 (Glob (None, 200)               0         \n",
      "_________________________________________________________________\n",
      "dropout_4 (Dropout)          (None, 200)               0         \n",
      "_________________________________________________________________\n",
      "dense_10 (Dense)             (None, 16)                3216      \n",
      "_________________________________________________________________\n",
      "dense_11 (Dense)             (None, 1)                 17        \n",
      "=================================================================\n",
      "Total params: 2,003,233\n",
      "Trainable params: 2,003,233\n",
      "Non-trainable params: 0\n",
      "_________________________________________________________________\n"
     ]
    }
   ],
   "source": [
    "vocab_size = len(word_to_index)   # 어휘 사전의 크기\n",
    "word_vector_dim = 200  # 워드 벡터의 차원수 \n",
    "\n",
    "# 모델 구성\n",
    "model = keras.Sequential()\n",
    "model.add(keras.layers.Embedding(vocab_size, \n",
    "                                 word_vector_dim, \n",
    "                                 embeddings_initializer=Constant(embedding_matrix),  # 카피한 임베딩을 여기서 활용\n",
    "                                 input_length=maxlen, \n",
    "                                 trainable=True))   # trainable을 True로 주면 Fine-tuning\n",
    "model.add(keras.layers.GlobalMaxPooling1D())\n",
    "model.add(keras.layers.Dropout(0.5))\n",
    "model.add(keras.layers.Dense(16, activation='relu',kernel_regularizer='l1'))\n",
    "model.add(keras.layers.Dense(1, activation='sigmoid')) \n",
    "\n",
    "model.summary()"
   ]
  },
  {
   "cell_type": "code",
   "execution_count": 63,
   "id": "3d42c366",
   "metadata": {},
   "outputs": [
    {
     "name": "stdout",
     "output_type": "stream",
     "text": [
      "Epoch 1/20\n",
      "222/222 [==============================] - 2s 6ms/step - loss: 1.8977 - accuracy: 0.5131 - val_loss: 0.8274 - val_accuracy: 0.5262\n",
      "Epoch 2/20\n",
      "222/222 [==============================] - 1s 5ms/step - loss: 0.7226 - accuracy: 0.5545 - val_loss: 0.6978 - val_accuracy: 0.5418\n",
      "Epoch 3/20\n",
      "222/222 [==============================] - 1s 5ms/step - loss: 0.6942 - accuracy: 0.5785 - val_loss: 0.6799 - val_accuracy: 0.6385\n",
      "Epoch 4/20\n",
      "222/222 [==============================] - 1s 5ms/step - loss: 0.6844 - accuracy: 0.6009 - val_loss: 0.6669 - val_accuracy: 0.6573\n",
      "Epoch 5/20\n",
      "222/222 [==============================] - 1s 5ms/step - loss: 0.6728 - accuracy: 0.6247 - val_loss: 0.6413 - val_accuracy: 0.7161\n",
      "Epoch 6/20\n",
      "222/222 [==============================] - 1s 5ms/step - loss: 0.6573 - accuracy: 0.6451 - val_loss: 0.6188 - val_accuracy: 0.7313\n",
      "Epoch 7/20\n",
      "222/222 [==============================] - 1s 5ms/step - loss: 0.6394 - accuracy: 0.6715 - val_loss: 0.5966 - val_accuracy: 0.7469\n",
      "Epoch 8/20\n",
      "222/222 [==============================] - 1s 5ms/step - loss: 0.6243 - accuracy: 0.6869 - val_loss: 0.5749 - val_accuracy: 0.7602\n",
      "Epoch 9/20\n",
      "222/222 [==============================] - 1s 5ms/step - loss: 0.6069 - accuracy: 0.7050 - val_loss: 0.5558 - val_accuracy: 0.7719\n",
      "Epoch 10/20\n",
      "222/222 [==============================] - 1s 5ms/step - loss: 0.5894 - accuracy: 0.7188 - val_loss: 0.5468 - val_accuracy: 0.7634\n",
      "Epoch 11/20\n",
      "222/222 [==============================] - 1s 5ms/step - loss: 0.5765 - accuracy: 0.7306 - val_loss: 0.5235 - val_accuracy: 0.7885\n",
      "Epoch 12/20\n",
      "222/222 [==============================] - 1s 5ms/step - loss: 0.5615 - accuracy: 0.7404 - val_loss: 0.5090 - val_accuracy: 0.7951\n",
      "Epoch 13/20\n",
      "222/222 [==============================] - 1s 5ms/step - loss: 0.5497 - accuracy: 0.7496 - val_loss: 0.4985 - val_accuracy: 0.7999\n",
      "Epoch 14/20\n",
      "222/222 [==============================] - 1s 5ms/step - loss: 0.5384 - accuracy: 0.7578 - val_loss: 0.4978 - val_accuracy: 0.7907\n",
      "Epoch 15/20\n",
      "222/222 [==============================] - 1s 5ms/step - loss: 0.5266 - accuracy: 0.7649 - val_loss: 0.4880 - val_accuracy: 0.7935\n",
      "Epoch 16/20\n",
      "222/222 [==============================] - 1s 5ms/step - loss: 0.5177 - accuracy: 0.7703 - val_loss: 0.4702 - val_accuracy: 0.8122\n",
      "Epoch 17/20\n",
      "222/222 [==============================] - 1s 5ms/step - loss: 0.5085 - accuracy: 0.7772 - val_loss: 0.4634 - val_accuracy: 0.8155\n",
      "Epoch 18/20\n",
      "222/222 [==============================] - 1s 5ms/step - loss: 0.5023 - accuracy: 0.7803 - val_loss: 0.4573 - val_accuracy: 0.8119\n",
      "Epoch 19/20\n",
      "222/222 [==============================] - 1s 5ms/step - loss: 0.4932 - accuracy: 0.7848 - val_loss: 0.4538 - val_accuracy: 0.8140\n",
      "Epoch 20/20\n",
      "222/222 [==============================] - 1s 5ms/step - loss: 0.4877 - accuracy: 0.7893 - val_loss: 0.4438 - val_accuracy: 0.8199\n"
     ]
    }
   ],
   "source": [
    "# 학습의 진행\n",
    "model.compile(optimizer='adam',\n",
    "              loss='binary_crossentropy',\n",
    "              metrics=['accuracy'])\n",
    "              \n",
    "epochs=20  \n",
    "\n",
    "history = model.fit(partial_X_train,\n",
    "                    partial_y_train,\n",
    "                    epochs=epochs,\n",
    "                    batch_size=512,\n",
    "                    validation_data=(X_val, y_val),\n",
    "                    verbose=1)"
   ]
  },
  {
   "cell_type": "code",
   "execution_count": 64,
   "id": "ebc7480b",
   "metadata": {},
   "outputs": [
    {
     "name": "stdout",
     "output_type": "stream",
     "text": [
      "1537/1537 - 2s - loss: 0.4484 - accuracy: 0.8177\n",
      "[0.44841814041137695, 0.8177065253257751]\n"
     ]
    }
   ],
   "source": [
    "results = model.evaluate(X_test,  y_test, verbose=2)\n",
    "\n",
    "print(results)"
   ]
  },
  {
   "cell_type": "markdown",
   "id": "6d2a16a1",
   "metadata": {},
   "source": [
    "Loss Accuracy 그래프 시각화"
   ]
  },
  {
   "cell_type": "code",
   "execution_count": 65,
   "id": "9de8d93c",
   "metadata": {},
   "outputs": [
    {
     "data": {
      "image/png": "[encoded data removed]",
      "text/plain": [
       "<Figure size 936x288 with 2 Axes>"
      ]
     },
     "metadata": {
      "needs_background": "light"
     },
     "output_type": "display_data"
    }
   ],
   "source": [
    "acc = history_dict['accuracy']\n",
    "val_acc = history_dict['val_accuracy']\n",
    "loss = history_dict['loss']\n",
    "val_loss = history_dict['val_loss']\n",
    "\n",
    "epochs = range(1, len(acc) + 1)\n",
    "\n",
    "fig = plt.figure(figsize=(13,4))\n",
    "ax1 = fig.add_subplot(1,2,1)\n",
    "# \"bo\"는 \"파란색 점\"입니다\n",
    "plt.plot(epochs, loss, 'bo', label='Training loss')\n",
    "# b는 \"파란 실선\"입니다\n",
    "plt.plot(epochs, val_loss, 'b', label='Validation loss')\n",
    "plt.title('Training and validation loss')\n",
    "plt.xlabel('Epochs')\n",
    "plt.ylabel('Loss')\n",
    "#plt.ylim(-1, 1.5)\n",
    "plt.legend()\n",
    "ax2 = fig.add_subplot(1,2,2)\n",
    "plt.plot(epochs, acc, 'bo', label='Training acc')\n",
    "plt.plot(epochs, val_acc, 'b', label='Validation acc')\n",
    "plt.title('Training and validation accuracy')\n",
    "plt.xlabel('Epochs')\n",
    "plt.ylabel('Accuracy')\n",
    "#plt.ylim(0.5,1)\n",
    "plt.legend()\n",
    "\n",
    "plt.show()"
   ]
  },
  {
   "cell_type": "markdown",
   "id": "854a92aa",
   "metadata": {},
   "source": [
    "training and validation accuracy 그래프와 training and validation loss의 그래프가 유사한 인사이트를 보이는 것을 알 수 있다."
   ]
  },
  {
   "cell_type": "markdown",
   "id": "918b3c40",
   "metadata": {},
   "source": [
    "#### CNN \n",
    "- 한국어 Word2Vec 임베딩 전: loss: 0.8672 - accuracy: 0.8153\n",
    " - 단어 [사랑]에 대한 유사단어 결과 : (삶, 꿀꿀, 드릴게요, 허각, 돌고래, 비춰, 보듬, 설명, 부담없이, 잼따)\n",
    "- 한국어 Word2Vec 임베딩 후: loss: 0.4539 - accuracy: 0.8500\n",
    " - 단어 [사랑]에 대한 유사단어 결과 : (슬픔, 행복, 절망, 기쁨, 이별, 추억, 인생, 애정, 연인, 유혹)\n",
    "\n",
    "\n",
    "#### LSTM \n",
    "- 한국어 Word2Vec 임베딩 전: loss: 0.5379 - accuracy: 0.8365\n",
    " - 단어 [사랑]에 대한 유사단어 결과 : (미니언, 수준급, A, 먹먹, 데요, 감동, 완벽, 뛰어넘, ..), 명품)\n",
    "- 한국어 Word2Vec 임베딩 후: loss: 0.4368 - accuracy: 0.8465\n",
    " - 단어 [사랑]에 대한 유사단어 결과 : (슬픔, 행복, 절망, 기쁨, 이별, 추억, 인생, 애정, 연인, 유혹)\n",
    "\n",
    "#### GlobalMaxPooling1D\n",
    "- 한국어 Word2Vec 임베딩 전: loss: 0.4057 - accuracy: 0.8436\n",
    " - 단어 [사랑]에 대한 유사단어 결과 : (왕조현, 주군, 마법, 핫, 애인, 순수, 릴리, 미남, 로빈윌리엄스, 결혼식)\n",
    "- 한국어 Word2Vec 임베딩 후: loss: 0.4484 - accuracy: 0.8177\n",
    " - 단어 [사랑]에 대한 유사단어 결과 : (슬픔, 행복, 절망, 기쁨, 이별, 추억, 인생, 애정, 연인, 유혹)\n",
    "\n",
    "\n",
    "#### 세 모델의 한국어 Word2Vec 임베딩 전후의 loss값과 accuracy 값을 살펴보면, \n",
    " * CNN과 LSTM은 loss와 accuracy가 좋은 쪽으로 증가했는데(loss는 낮아지고 accuracy는 높아지는)\n",
    " * GlobalMaxPooling1D 같은 경우는 loss이 커지고 accuracy 값이 낮아지면서 전체적인 성능이 저하 되었다.\n",
    "\n",
    "세 모델 중에서 변화 폭이 가장 크게 나타난 모델은 CNN 모델로, 한국어 Word2Vec 임베딩 전에는 loss 값이 0.8672였는데 임베딩 후에는 0.4539로, 큰 변화를 보였다.\n",
    "loss 값의 변화에 반해, accuracy는 상대적으로 작게 변화한 것을 알 수 있다.\n",
    "상대적으로 작게 올랐으나, accuracy가 85퍼센트가 되었다!\n",
    "\n",
    "#### 한국어 Word2Vec 임베딩 전의 '사랑'이라는 단어에 대한 유사단어 결과를 보면, \n",
    " * (지극히 필자 기준임) \n",
    " * CNN 모델에서는 사랑과 관련된 단어가 하나도 보이지 않는다. \n",
    " * LSTM에서는 [먹먹, 감동, 완벽]이, \n",
    " * GlobalMaxPooling1D에서는 [핫, 애인, 순수, 결혼식]으로 사랑과 연관지을 수 있는 단어가 보인다. \n",
    " \n",
    " > 이러한 결과가 loss값, accuracy값에 영향을 받은 것 같다.\n"
   ]
  },
  {
   "cell_type": "code",
   "execution_count": null,
   "id": "74e4e59c",
   "metadata": {},
   "outputs": [],
   "source": []
  }
 ],
 "metadata": {
  "kernelspec": {
   "display_name": "Python 3 (ipykernel)",
   "language": "python",
   "name": "python3"
  },
  "language_info": {
   "codemirror_mode": {
    "name": "ipython",
    "version": 3
   },
   "file_extension": ".py",
   "mimetype": "text/x-python",
   "name": "python",
   "nbconvert_exporter": "python",
   "pygments_lexer": "ipython3",
   "version": "3.9.7"
  }
 },
 "nbformat": 4,
 "nbformat_minor": 5
}
