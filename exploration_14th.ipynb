{
 "cells": [
  {
   "cell_type": "markdown",
   "id": "d5e73ac1",
   "metadata": {},
   "source": [
    "# 프로젝트 - Movielens 영화 추천 실습\n",
    "이전 스텝에서 배운 MF 모델 학습 방법을 토대로, 내가 좋아할 만한 영화 추천 시스템을 제작해 보겠습니다.\n",
    "\n",
    "이번에 활용할 데이터셋은 추천 시스템의 MNIST라고 부를만한 Movielens 데이터입니다.\n",
    "\n",
    "* 유저가 영화에 대해 평점을 매긴 데이터가 데이터 크기 별로 있습니다. MovieLens 1M Dataset 사용을 권장합니다.\n",
    "* 별점 데이터는 대표적인 explicit 데이터입니다. 하지만 implicit 데이터로 간주하고 테스트해 볼 수 있습니다.\n",
    "* 별점을 시청횟수로 해석해서 생각하겠습니다.\n",
    "* 또한 유저가 3점 미만으로 준 데이터는 선호하지 않는다고 가정하고 제외하겠습니다.\n",
    "\n",
    "Cloud Storage에 미리 업로드된 ml-1m폴더 내 파일을 심볼릭 링크로 개인 storage에 연결해 줍니다.\n",
    "\n",
    "1) 데이터 준비와 전처리\n",
    "\n",
    "-------------\n",
    "\n",
    "Movielens 데이터는 rating.dat 안에 이미 인덱싱까지 완료된 사용자-영화-평점 데이터가 깔끔하게 정리되어 있습니다."
   ]
  },
  {
   "cell_type": "code",
   "execution_count": 1,
   "id": "cbe9100e",
   "metadata": {},
   "outputs": [
    {
     "data": {
      "text/html": [
       "<div>\n",
       "<style scoped>\n",
       "    .dataframe tbody tr th:only-of-type {\n",
       "        vertical-align: middle;\n",
       "    }\n",
       "\n",
       "    .dataframe tbody tr th {\n",
       "        vertical-align: top;\n",
       "    }\n",
       "\n",
       "    .dataframe thead th {\n",
       "        text-align: right;\n",
       "    }\n",
       "</style>\n",
       "<table border=\"1\" class=\"dataframe\">\n",
       "  <thead>\n",
       "    <tr style=\"text-align: right;\">\n",
       "      <th></th>\n",
       "      <th>user_id</th>\n",
       "      <th>movie_id</th>\n",
       "      <th>ratings</th>\n",
       "      <th>timestamp</th>\n",
       "    </tr>\n",
       "  </thead>\n",
       "  <tbody>\n",
       "    <tr>\n",
       "      <th>0</th>\n",
       "      <td>1</td>\n",
       "      <td>1193</td>\n",
       "      <td>5</td>\n",
       "      <td>978300760</td>\n",
       "    </tr>\n",
       "    <tr>\n",
       "      <th>1</th>\n",
       "      <td>1</td>\n",
       "      <td>661</td>\n",
       "      <td>3</td>\n",
       "      <td>978302109</td>\n",
       "    </tr>\n",
       "    <tr>\n",
       "      <th>2</th>\n",
       "      <td>1</td>\n",
       "      <td>914</td>\n",
       "      <td>3</td>\n",
       "      <td>978301968</td>\n",
       "    </tr>\n",
       "    <tr>\n",
       "      <th>3</th>\n",
       "      <td>1</td>\n",
       "      <td>3408</td>\n",
       "      <td>4</td>\n",
       "      <td>978300275</td>\n",
       "    </tr>\n",
       "    <tr>\n",
       "      <th>4</th>\n",
       "      <td>1</td>\n",
       "      <td>2355</td>\n",
       "      <td>5</td>\n",
       "      <td>978824291</td>\n",
       "    </tr>\n",
       "  </tbody>\n",
       "</table>\n",
       "</div>"
      ],
      "text/plain": [
       "   user_id  movie_id  ratings  timestamp\n",
       "0        1      1193        5  978300760\n",
       "1        1       661        3  978302109\n",
       "2        1       914        3  978301968\n",
       "3        1      3408        4  978300275\n",
       "4        1      2355        5  978824291"
      ]
     },
     "execution_count": 1,
     "metadata": {},
     "output_type": "execute_result"
    }
   ],
   "source": [
    "import os\n",
    "import pandas as pd\n",
    "rating_file_path=os.getenv('HOME') + '/aiffel/recommendata_iu/data/ml-1m/ratings.dat'\n",
    "ratings_cols = ['user_id', 'movie_id', 'ratings', 'timestamp']\n",
    "ratings = pd.read_csv(rating_file_path, sep='::', names=ratings_cols, engine='python', encoding = \"ISO-8859-1\")\n",
    "orginal_data_size = len(ratings)\n",
    "ratings.head()"
   ]
  },
  {
   "cell_type": "code",
   "execution_count": 2,
   "id": "10533164",
   "metadata": {},
   "outputs": [
    {
     "name": "stdout",
     "output_type": "stream",
     "text": [
      "orginal_data_size: 1000209, filtered_data_size: 836478\n",
      "Ratio of Remaining Data is 83.63%\n"
     ]
    }
   ],
   "source": [
    "# 3점 이상만 남깁니다.\n",
    "ratings = ratings[ratings['ratings']>=3]\n",
    "filtered_data_size = len(ratings)\n",
    "\n",
    "print(f'orginal_data_size: {orginal_data_size}, filtered_data_size: {filtered_data_size}')\n",
    "print(f'Ratio of Remaining Data is {filtered_data_size / orginal_data_size:.2%}')"
   ]
  },
  {
   "cell_type": "code",
   "execution_count": 3,
   "id": "efe9c2a6",
   "metadata": {},
   "outputs": [],
   "source": [
    "# ratings 컬럼의 이름을 counts로 바꿉니다.\n",
    "ratings.rename(columns={'ratings':'counts'}, inplace=True)"
   ]
  },
  {
   "cell_type": "code",
   "execution_count": 4,
   "id": "07b76970",
   "metadata": {},
   "outputs": [
    {
     "data": {
      "text/plain": [
       "0          5\n",
       "1          3\n",
       "2          3\n",
       "3          4\n",
       "4          5\n",
       "          ..\n",
       "1000203    3\n",
       "1000205    5\n",
       "1000206    5\n",
       "1000207    4\n",
       "1000208    4\n",
       "Name: counts, Length: 836478, dtype: int64"
      ]
     },
     "execution_count": 4,
     "metadata": {},
     "output_type": "execute_result"
    }
   ],
   "source": [
    "ratings['counts']"
   ]
  },
  {
   "cell_type": "code",
   "execution_count": 5,
   "id": "121ccb63",
   "metadata": {},
   "outputs": [
    {
     "data": {
      "text/html": [
       "<div>\n",
       "<style scoped>\n",
       "    .dataframe tbody tr th:only-of-type {\n",
       "        vertical-align: middle;\n",
       "    }\n",
       "\n",
       "    .dataframe tbody tr th {\n",
       "        vertical-align: top;\n",
       "    }\n",
       "\n",
       "    .dataframe thead th {\n",
       "        text-align: right;\n",
       "    }\n",
       "</style>\n",
       "<table border=\"1\" class=\"dataframe\">\n",
       "  <thead>\n",
       "    <tr style=\"text-align: right;\">\n",
       "      <th></th>\n",
       "      <th>movie_id</th>\n",
       "      <th>title</th>\n",
       "      <th>genre</th>\n",
       "    </tr>\n",
       "  </thead>\n",
       "  <tbody>\n",
       "    <tr>\n",
       "      <th>0</th>\n",
       "      <td>1</td>\n",
       "      <td>Toy Story (1995)</td>\n",
       "      <td>Animation|Children's|Comedy</td>\n",
       "    </tr>\n",
       "    <tr>\n",
       "      <th>1</th>\n",
       "      <td>2</td>\n",
       "      <td>Jumanji (1995)</td>\n",
       "      <td>Adventure|Children's|Fantasy</td>\n",
       "    </tr>\n",
       "    <tr>\n",
       "      <th>2</th>\n",
       "      <td>3</td>\n",
       "      <td>Grumpier Old Men (1995)</td>\n",
       "      <td>Comedy|Romance</td>\n",
       "    </tr>\n",
       "    <tr>\n",
       "      <th>3</th>\n",
       "      <td>4</td>\n",
       "      <td>Waiting to Exhale (1995)</td>\n",
       "      <td>Comedy|Drama</td>\n",
       "    </tr>\n",
       "    <tr>\n",
       "      <th>4</th>\n",
       "      <td>5</td>\n",
       "      <td>Father of the Bride Part II (1995)</td>\n",
       "      <td>Comedy</td>\n",
       "    </tr>\n",
       "  </tbody>\n",
       "</table>\n",
       "</div>"
      ],
      "text/plain": [
       "   movie_id                               title                         genre\n",
       "0         1                    Toy Story (1995)   Animation|Children's|Comedy\n",
       "1         2                      Jumanji (1995)  Adventure|Children's|Fantasy\n",
       "2         3             Grumpier Old Men (1995)                Comedy|Romance\n",
       "3         4            Waiting to Exhale (1995)                  Comedy|Drama\n",
       "4         5  Father of the Bride Part II (1995)                        Comedy"
      ]
     },
     "execution_count": 5,
     "metadata": {},
     "output_type": "execute_result"
    }
   ],
   "source": [
    "# 영화 제목을 보기 위해 메타 데이터를 읽어옵니다.\n",
    "movie_file_path=os.getenv('HOME') + '/aiffel/recommendata_iu/data/ml-1m/movies.dat'\n",
    "cols = ['movie_id', 'title', 'genre'] \n",
    "movies = pd.read_csv(movie_file_path, sep='::', names=cols, engine='python', encoding='ISO-8859-1')\n",
    "movies.head()"
   ]
  },
  {
   "cell_type": "markdown",
   "id": "e5028ce5",
   "metadata": {},
   "source": [
    "여기까지가 전처리입니다. 이후에는 이전 스텝에 소개했던 것과 동일한 방식으로 MF model을 구성하여 내가 좋아할 만한 영화를 추천해 볼 수 있습니다."
   ]
  },
  {
   "cell_type": "markdown",
   "id": "b1c9958b",
   "metadata": {},
   "source": [
    "# 2) 분석해 보자.\n",
    "\n",
    "-------------\n",
    "\n",
    "### ratings에 있는 유니크한 영화 개수"
   ]
  },
  {
   "cell_type": "code",
   "execution_count": 6,
   "id": "b8311502",
   "metadata": {},
   "outputs": [
    {
     "data": {
      "text/plain": [
       "3628"
      ]
     },
     "execution_count": 6,
     "metadata": {},
     "output_type": "execute_result"
    }
   ],
   "source": [
    "ratings['movie_id'].nunique()"
   ]
  },
  {
   "cell_type": "markdown",
   "id": "7e306453",
   "metadata": {},
   "source": [
    "---------------\n",
    "\n",
    "### ratings에 있는 유니크한 사용자 수"
   ]
  },
  {
   "cell_type": "code",
   "execution_count": 7,
   "id": "347ea832",
   "metadata": {},
   "outputs": [
    {
     "data": {
      "text/plain": [
       "6039"
      ]
     },
     "execution_count": 7,
     "metadata": {},
     "output_type": "execute_result"
    }
   ],
   "source": [
    "ratings['user_id'].nunique()"
   ]
  },
  {
   "cell_type": "code",
   "execution_count": 8,
   "id": "e5a7beec",
   "metadata": {},
   "outputs": [],
   "source": [
    "# movies + ratings\n",
    "data= pd.merge(movies, ratings)"
   ]
  },
  {
   "cell_type": "code",
   "execution_count": 9,
   "id": "68047ad3",
   "metadata": {},
   "outputs": [
    {
     "data": {
      "text/html": [
       "<div>\n",
       "<style scoped>\n",
       "    .dataframe tbody tr th:only-of-type {\n",
       "        vertical-align: middle;\n",
       "    }\n",
       "\n",
       "    .dataframe tbody tr th {\n",
       "        vertical-align: top;\n",
       "    }\n",
       "\n",
       "    .dataframe thead th {\n",
       "        text-align: right;\n",
       "    }\n",
       "</style>\n",
       "<table border=\"1\" class=\"dataframe\">\n",
       "  <thead>\n",
       "    <tr style=\"text-align: right;\">\n",
       "      <th></th>\n",
       "      <th>movie_id</th>\n",
       "      <th>title</th>\n",
       "      <th>genre</th>\n",
       "      <th>user_id</th>\n",
       "      <th>counts</th>\n",
       "      <th>timestamp</th>\n",
       "    </tr>\n",
       "  </thead>\n",
       "  <tbody>\n",
       "    <tr>\n",
       "      <th>0</th>\n",
       "      <td>1</td>\n",
       "      <td>toy story (1995)</td>\n",
       "      <td>Animation|Children's|Comedy</td>\n",
       "      <td>1</td>\n",
       "      <td>5</td>\n",
       "      <td>978824268</td>\n",
       "    </tr>\n",
       "    <tr>\n",
       "      <th>1</th>\n",
       "      <td>1</td>\n",
       "      <td>toy story (1995)</td>\n",
       "      <td>Animation|Children's|Comedy</td>\n",
       "      <td>6</td>\n",
       "      <td>4</td>\n",
       "      <td>978237008</td>\n",
       "    </tr>\n",
       "    <tr>\n",
       "      <th>2</th>\n",
       "      <td>1</td>\n",
       "      <td>toy story (1995)</td>\n",
       "      <td>Animation|Children's|Comedy</td>\n",
       "      <td>8</td>\n",
       "      <td>4</td>\n",
       "      <td>978233496</td>\n",
       "    </tr>\n",
       "    <tr>\n",
       "      <th>3</th>\n",
       "      <td>1</td>\n",
       "      <td>toy story (1995)</td>\n",
       "      <td>Animation|Children's|Comedy</td>\n",
       "      <td>9</td>\n",
       "      <td>5</td>\n",
       "      <td>978225952</td>\n",
       "    </tr>\n",
       "    <tr>\n",
       "      <th>4</th>\n",
       "      <td>1</td>\n",
       "      <td>toy story (1995)</td>\n",
       "      <td>Animation|Children's|Comedy</td>\n",
       "      <td>10</td>\n",
       "      <td>5</td>\n",
       "      <td>978226474</td>\n",
       "    </tr>\n",
       "    <tr>\n",
       "      <th>5</th>\n",
       "      <td>1</td>\n",
       "      <td>toy story (1995)</td>\n",
       "      <td>Animation|Children's|Comedy</td>\n",
       "      <td>18</td>\n",
       "      <td>4</td>\n",
       "      <td>978154768</td>\n",
       "    </tr>\n",
       "    <tr>\n",
       "      <th>6</th>\n",
       "      <td>1</td>\n",
       "      <td>toy story (1995)</td>\n",
       "      <td>Animation|Children's|Comedy</td>\n",
       "      <td>19</td>\n",
       "      <td>5</td>\n",
       "      <td>978555994</td>\n",
       "    </tr>\n",
       "    <tr>\n",
       "      <th>7</th>\n",
       "      <td>1</td>\n",
       "      <td>toy story (1995)</td>\n",
       "      <td>Animation|Children's|Comedy</td>\n",
       "      <td>21</td>\n",
       "      <td>3</td>\n",
       "      <td>978139347</td>\n",
       "    </tr>\n",
       "    <tr>\n",
       "      <th>8</th>\n",
       "      <td>1</td>\n",
       "      <td>toy story (1995)</td>\n",
       "      <td>Animation|Children's|Comedy</td>\n",
       "      <td>23</td>\n",
       "      <td>4</td>\n",
       "      <td>978463614</td>\n",
       "    </tr>\n",
       "    <tr>\n",
       "      <th>9</th>\n",
       "      <td>1</td>\n",
       "      <td>toy story (1995)</td>\n",
       "      <td>Animation|Children's|Comedy</td>\n",
       "      <td>26</td>\n",
       "      <td>3</td>\n",
       "      <td>978130703</td>\n",
       "    </tr>\n",
       "  </tbody>\n",
       "</table>\n",
       "</div>"
      ],
      "text/plain": [
       "   movie_id             title                        genre  user_id  counts  \\\n",
       "0         1  toy story (1995)  Animation|Children's|Comedy        1       5   \n",
       "1         1  toy story (1995)  Animation|Children's|Comedy        6       4   \n",
       "2         1  toy story (1995)  Animation|Children's|Comedy        8       4   \n",
       "3         1  toy story (1995)  Animation|Children's|Comedy        9       5   \n",
       "4         1  toy story (1995)  Animation|Children's|Comedy       10       5   \n",
       "5         1  toy story (1995)  Animation|Children's|Comedy       18       4   \n",
       "6         1  toy story (1995)  Animation|Children's|Comedy       19       5   \n",
       "7         1  toy story (1995)  Animation|Children's|Comedy       21       3   \n",
       "8         1  toy story (1995)  Animation|Children's|Comedy       23       4   \n",
       "9         1  toy story (1995)  Animation|Children's|Comedy       26       3   \n",
       "\n",
       "   timestamp  \n",
       "0  978824268  \n",
       "1  978237008  \n",
       "2  978233496  \n",
       "3  978225952  \n",
       "4  978226474  \n",
       "5  978154768  \n",
       "6  978555994  \n",
       "7  978139347  \n",
       "8  978463614  \n",
       "9  978130703  "
      ]
     },
     "execution_count": 9,
     "metadata": {},
     "output_type": "execute_result"
    }
   ],
   "source": [
    "#검색하기 쉽게 대문자를 소문자로 바꿔줌\n",
    "data['title'] = data['title'].str.lower() \n",
    "data.head(10)"
   ]
  },
  {
   "cell_type": "markdown",
   "id": "e2c90835",
   "metadata": {},
   "source": [
    "------------\n",
    "\n",
    "### 가장 인기 있는 영화 30개(인기순)"
   ]
  },
  {
   "cell_type": "code",
   "execution_count": 10,
   "id": "f8f161a6",
   "metadata": {},
   "outputs": [
    {
     "data": {
      "text/plain": [
       "title\n",
       "american beauty (1999)                                   3211\n",
       "star wars: episode iv - a new hope (1977)                2910\n",
       "star wars: episode v - the empire strikes back (1980)    2885\n",
       "star wars: episode vi - return of the jedi (1983)        2716\n",
       "saving private ryan (1998)                               2561\n",
       "terminator 2: judgment day (1991)                        2509\n",
       "silence of the lambs, the (1991)                         2498\n",
       "raiders of the lost ark (1981)                           2473\n",
       "back to the future (1985)                                2460\n",
       "matrix, the (1999)                                       2434\n",
       "jurassic park (1993)                                     2413\n",
       "sixth sense, the (1999)                                  2385\n",
       "fargo (1996)                                             2371\n",
       "braveheart (1995)                                        2314\n",
       "men in black (1997)                                      2297\n",
       "schindler's list (1993)                                  2257\n",
       "princess bride, the (1987)                               2252\n",
       "shakespeare in love (1998)                               2213\n",
       "l.a. confidential (1997)                                 2210\n",
       "shawshank redemption, the (1994)                         2194\n",
       "godfather, the (1972)                                    2167\n",
       "groundhog day (1993)                                     2121\n",
       "e.t. the extra-terrestrial (1982)                        2102\n",
       "being john malkovich (1999)                              2066\n",
       "ghostbusters (1984)                                      2051\n",
       "pulp fiction (1994)                                      2030\n",
       "forrest gump (1994)                                      2022\n",
       "terminator, the (1984)                                   2019\n",
       "toy story (1995)                                         2000\n",
       "fugitive, the (1993)                                     1941\n",
       "Name: user_id, dtype: int64"
      ]
     },
     "execution_count": 10,
     "metadata": {},
     "output_type": "execute_result"
    }
   ],
   "source": [
    "#인기 많은 영화\n",
    "movies_count = data.groupby('title')['user_id'].count()\n",
    "movies_count.sort_values(ascending=False).head(30)"
   ]
  },
  {
   "cell_type": "markdown",
   "id": "5166ef99",
   "metadata": {},
   "source": [
    "# 3) 내가 선호하는 영화를 5가지 골라서 ratings에 추가해 줍시다."
   ]
  },
  {
   "cell_type": "code",
   "execution_count": 11,
   "id": "00afef4f",
   "metadata": {},
   "outputs": [
    {
     "data": {
      "text/html": [
       "<div>\n",
       "<style scoped>\n",
       "    .dataframe tbody tr th:only-of-type {\n",
       "        vertical-align: middle;\n",
       "    }\n",
       "\n",
       "    .dataframe tbody tr th {\n",
       "        vertical-align: top;\n",
       "    }\n",
       "\n",
       "    .dataframe thead th {\n",
       "        text-align: right;\n",
       "    }\n",
       "</style>\n",
       "<table border=\"1\" class=\"dataframe\">\n",
       "  <thead>\n",
       "    <tr style=\"text-align: right;\">\n",
       "      <th></th>\n",
       "      <th>movie_id</th>\n",
       "      <th>title</th>\n",
       "      <th>genre</th>\n",
       "      <th>user_id</th>\n",
       "      <th>counts</th>\n",
       "      <th>timestamp</th>\n",
       "    </tr>\n",
       "  </thead>\n",
       "  <tbody>\n",
       "    <tr>\n",
       "      <th>836473</th>\n",
       "      <td>3952.0</td>\n",
       "      <td>contender, the (2000)</td>\n",
       "      <td>Drama|Thriller</td>\n",
       "      <td>5682</td>\n",
       "      <td>3</td>\n",
       "      <td>1.029458e+09</td>\n",
       "    </tr>\n",
       "    <tr>\n",
       "      <th>836474</th>\n",
       "      <td>3952.0</td>\n",
       "      <td>contender, the (2000)</td>\n",
       "      <td>Drama|Thriller</td>\n",
       "      <td>5812</td>\n",
       "      <td>4</td>\n",
       "      <td>9.920721e+08</td>\n",
       "    </tr>\n",
       "    <tr>\n",
       "      <th>836475</th>\n",
       "      <td>3952.0</td>\n",
       "      <td>contender, the (2000)</td>\n",
       "      <td>Drama|Thriller</td>\n",
       "      <td>5831</td>\n",
       "      <td>3</td>\n",
       "      <td>9.862231e+08</td>\n",
       "    </tr>\n",
       "    <tr>\n",
       "      <th>836476</th>\n",
       "      <td>3952.0</td>\n",
       "      <td>contender, the (2000)</td>\n",
       "      <td>Drama|Thriller</td>\n",
       "      <td>5837</td>\n",
       "      <td>4</td>\n",
       "      <td>1.011903e+09</td>\n",
       "    </tr>\n",
       "    <tr>\n",
       "      <th>836477</th>\n",
       "      <td>3952.0</td>\n",
       "      <td>contender, the (2000)</td>\n",
       "      <td>Drama|Thriller</td>\n",
       "      <td>5998</td>\n",
       "      <td>4</td>\n",
       "      <td>1.001781e+09</td>\n",
       "    </tr>\n",
       "    <tr>\n",
       "      <th>0</th>\n",
       "      <td>NaN</td>\n",
       "      <td>toy story (1995)</td>\n",
       "      <td>NaN</td>\n",
       "      <td>Han</td>\n",
       "      <td>5</td>\n",
       "      <td>NaN</td>\n",
       "    </tr>\n",
       "    <tr>\n",
       "      <th>1</th>\n",
       "      <td>NaN</td>\n",
       "      <td>matilda (1996)</td>\n",
       "      <td>NaN</td>\n",
       "      <td>Han</td>\n",
       "      <td>5</td>\n",
       "      <td>NaN</td>\n",
       "    </tr>\n",
       "    <tr>\n",
       "      <th>2</th>\n",
       "      <td>NaN</td>\n",
       "      <td>merry poppins (1964)</td>\n",
       "      <td>NaN</td>\n",
       "      <td>Han</td>\n",
       "      <td>5</td>\n",
       "      <td>NaN</td>\n",
       "    </tr>\n",
       "    <tr>\n",
       "      <th>3</th>\n",
       "      <td>NaN</td>\n",
       "      <td>home alone (1990)</td>\n",
       "      <td>NaN</td>\n",
       "      <td>Han</td>\n",
       "      <td>5</td>\n",
       "      <td>NaN</td>\n",
       "    </tr>\n",
       "    <tr>\n",
       "      <th>4</th>\n",
       "      <td>NaN</td>\n",
       "      <td>lion king, the (1994)</td>\n",
       "      <td>NaN</td>\n",
       "      <td>Han</td>\n",
       "      <td>5</td>\n",
       "      <td>NaN</td>\n",
       "    </tr>\n",
       "  </tbody>\n",
       "</table>\n",
       "</div>"
      ],
      "text/plain": [
       "        movie_id                  title           genre user_id  counts  \\\n",
       "836473    3952.0  contender, the (2000)  Drama|Thriller    5682       3   \n",
       "836474    3952.0  contender, the (2000)  Drama|Thriller    5812       4   \n",
       "836475    3952.0  contender, the (2000)  Drama|Thriller    5831       3   \n",
       "836476    3952.0  contender, the (2000)  Drama|Thriller    5837       4   \n",
       "836477    3952.0  contender, the (2000)  Drama|Thriller    5998       4   \n",
       "0            NaN       toy story (1995)             NaN     Han       5   \n",
       "1            NaN         matilda (1996)             NaN     Han       5   \n",
       "2            NaN   merry poppins (1964)             NaN     Han       5   \n",
       "3            NaN      home alone (1990)             NaN     Han       5   \n",
       "4            NaN  lion king, the (1994)             NaN     Han       5   \n",
       "\n",
       "           timestamp  \n",
       "836473  1.029458e+09  \n",
       "836474  9.920721e+08  \n",
       "836475  9.862231e+08  \n",
       "836476  1.011903e+09  \n",
       "836477  1.001781e+09  \n",
       "0                NaN  \n",
       "1                NaN  \n",
       "2                NaN  \n",
       "3                NaN  \n",
       "4                NaN  "
      ]
     },
     "execution_count": 11,
     "metadata": {},
     "output_type": "execute_result"
    }
   ],
   "source": [
    "#본인이 좋아하는 아티스트 데이터로 바꿔서 추가해도 된다. 단, 이름은 꼭 데이터 셋에 있는 것과 동일하게 맞춰야한다.\n",
    "my_favorite = ['toy story (1995)' , 'matilda (1996)' ,'merry poppins (1964)' ,'home alone (1990)' ,'lion king, the (1994)']\n",
    "\n",
    "# 'zimin'이라는 user_id가 위 아티스트의 노래를 30회씩 들었다고 가정하자.\n",
    "my_playlist = pd.DataFrame({'user_id': ['Han'] * 5, 'title': my_favorite, 'counts':[5]*5})\n",
    "\n",
    "if not data.isin({'user_id': ['Han']})['user_id'].any(): #user_id에 zimin이라는 데이터가 없다면, 위에 임으로 만든 my_favorite 데이터를 추가해준다.\n",
    "    data = data.append(my_playlist)\n",
    "    \n",
    "data.tail(10)"
   ]
  },
  {
   "cell_type": "markdown",
   "id": "47da723e",
   "metadata": {},
   "source": [
    "# 4) 모델에 활용하기 위한 전처리"
   ]
  },
  {
   "cell_type": "code",
   "execution_count": 12,
   "id": "c53fee79",
   "metadata": {},
   "outputs": [],
   "source": [
    "#고유한 유저, 타이틀을 찾아내는 코드\n",
    "user_unique = data['user_id'].unique()\n",
    "title_unique = data['title'].unique()\n",
    "\n",
    "#유저, 타이틀을 indexting 하는 코드 idx는 index의 약자이다.\n",
    "user_to_idx = {v:k for k,v in enumerate(user_unique)}\n",
    "title_to_idx = {v:k for k, v in enumerate(title_unique)}"
   ]
  },
  {
   "cell_type": "code",
   "execution_count": 13,
   "id": "7768def2",
   "metadata": {},
   "outputs": [
    {
     "name": "stdout",
     "output_type": "stream",
     "text": [
      "6039\n",
      "350\n"
     ]
    }
   ],
   "source": [
    "#인덱싱이 잘 되었는지 확인해 보자\n",
    "print(user_to_idx['Han']) \n",
    "print(title_to_idx['lion king, the (1994)'])"
   ]
  },
  {
   "cell_type": "code",
   "execution_count": 14,
   "id": "4eb51080",
   "metadata": {},
   "outputs": [
    {
     "name": "stdout",
     "output_type": "stream",
     "text": [
      "user_id column indexing OK!!\n",
      "title column indexing OK!!\n"
     ]
    },
    {
     "data": {
      "text/html": [
       "<div>\n",
       "<style scoped>\n",
       "    .dataframe tbody tr th:only-of-type {\n",
       "        vertical-align: middle;\n",
       "    }\n",
       "\n",
       "    .dataframe tbody tr th {\n",
       "        vertical-align: top;\n",
       "    }\n",
       "\n",
       "    .dataframe thead th {\n",
       "        text-align: right;\n",
       "    }\n",
       "</style>\n",
       "<table border=\"1\" class=\"dataframe\">\n",
       "  <thead>\n",
       "    <tr style=\"text-align: right;\">\n",
       "      <th></th>\n",
       "      <th>movie_id</th>\n",
       "      <th>title</th>\n",
       "      <th>genre</th>\n",
       "      <th>user_id</th>\n",
       "      <th>counts</th>\n",
       "      <th>timestamp</th>\n",
       "    </tr>\n",
       "  </thead>\n",
       "  <tbody>\n",
       "    <tr>\n",
       "      <th>0</th>\n",
       "      <td>1.0</td>\n",
       "      <td>0</td>\n",
       "      <td>Animation|Children's|Comedy</td>\n",
       "      <td>0</td>\n",
       "      <td>5</td>\n",
       "      <td>978824268.0</td>\n",
       "    </tr>\n",
       "    <tr>\n",
       "      <th>1</th>\n",
       "      <td>1.0</td>\n",
       "      <td>0</td>\n",
       "      <td>Animation|Children's|Comedy</td>\n",
       "      <td>1</td>\n",
       "      <td>4</td>\n",
       "      <td>978237008.0</td>\n",
       "    </tr>\n",
       "    <tr>\n",
       "      <th>2</th>\n",
       "      <td>1.0</td>\n",
       "      <td>0</td>\n",
       "      <td>Animation|Children's|Comedy</td>\n",
       "      <td>2</td>\n",
       "      <td>4</td>\n",
       "      <td>978233496.0</td>\n",
       "    </tr>\n",
       "    <tr>\n",
       "      <th>3</th>\n",
       "      <td>1.0</td>\n",
       "      <td>0</td>\n",
       "      <td>Animation|Children's|Comedy</td>\n",
       "      <td>3</td>\n",
       "      <td>5</td>\n",
       "      <td>978225952.0</td>\n",
       "    </tr>\n",
       "    <tr>\n",
       "      <th>4</th>\n",
       "      <td>1.0</td>\n",
       "      <td>0</td>\n",
       "      <td>Animation|Children's|Comedy</td>\n",
       "      <td>4</td>\n",
       "      <td>5</td>\n",
       "      <td>978226474.0</td>\n",
       "    </tr>\n",
       "    <tr>\n",
       "      <th>...</th>\n",
       "      <td>...</td>\n",
       "      <td>...</td>\n",
       "      <td>...</td>\n",
       "      <td>...</td>\n",
       "      <td>...</td>\n",
       "      <td>...</td>\n",
       "    </tr>\n",
       "    <tr>\n",
       "      <th>0</th>\n",
       "      <td>NaN</td>\n",
       "      <td>0</td>\n",
       "      <td>NaN</td>\n",
       "      <td>6039</td>\n",
       "      <td>5</td>\n",
       "      <td>NaN</td>\n",
       "    </tr>\n",
       "    <tr>\n",
       "      <th>1</th>\n",
       "      <td>NaN</td>\n",
       "      <td>769</td>\n",
       "      <td>NaN</td>\n",
       "      <td>6039</td>\n",
       "      <td>5</td>\n",
       "      <td>NaN</td>\n",
       "    </tr>\n",
       "    <tr>\n",
       "      <th>2</th>\n",
       "      <td>NaN</td>\n",
       "      <td>3628</td>\n",
       "      <td>NaN</td>\n",
       "      <td>6039</td>\n",
       "      <td>5</td>\n",
       "      <td>NaN</td>\n",
       "    </tr>\n",
       "    <tr>\n",
       "      <th>3</th>\n",
       "      <td>NaN</td>\n",
       "      <td>566</td>\n",
       "      <td>NaN</td>\n",
       "      <td>6039</td>\n",
       "      <td>5</td>\n",
       "      <td>NaN</td>\n",
       "    </tr>\n",
       "    <tr>\n",
       "      <th>4</th>\n",
       "      <td>NaN</td>\n",
       "      <td>350</td>\n",
       "      <td>NaN</td>\n",
       "      <td>6039</td>\n",
       "      <td>5</td>\n",
       "      <td>NaN</td>\n",
       "    </tr>\n",
       "  </tbody>\n",
       "</table>\n",
       "<p>836483 rows × 6 columns</p>\n",
       "</div>"
      ],
      "text/plain": [
       "    movie_id  title                        genre  user_id  counts    timestamp\n",
       "0        1.0      0  Animation|Children's|Comedy        0       5  978824268.0\n",
       "1        1.0      0  Animation|Children's|Comedy        1       4  978237008.0\n",
       "2        1.0      0  Animation|Children's|Comedy        2       4  978233496.0\n",
       "3        1.0      0  Animation|Children's|Comedy        3       5  978225952.0\n",
       "4        1.0      0  Animation|Children's|Comedy        4       5  978226474.0\n",
       "..       ...    ...                          ...      ...     ...          ...\n",
       "0        NaN      0                          NaN     6039       5          NaN\n",
       "1        NaN    769                          NaN     6039       5          NaN\n",
       "2        NaN   3628                          NaN     6039       5          NaN\n",
       "3        NaN    566                          NaN     6039       5          NaN\n",
       "4        NaN    350                          NaN     6039       5          NaN\n",
       "\n",
       "[836483 rows x 6 columns]"
      ]
     },
     "execution_count": 14,
     "metadata": {},
     "output_type": "execute_result"
    }
   ],
   "source": [
    "# indexing을 통해 데이터 컬럼 내 값을 바꾸는 코드\n",
    "# dictionary 자료형의 get 함수는 https://wikidocs.net/16 을 참고하세요.\n",
    "\n",
    "# user_to_idx.get을 통해 user_id 컬럼의 모든 값을 인덱싱한 Series를 구해 봅시다. \n",
    "# 혹시 정상적으로 인덱싱되지 않은 row가 있다면 인덱스가 NaN이 될 테니 dropna()로 제거합니다. \n",
    "temp_user_data = data['user_id'].map(user_to_idx.get).dropna()\n",
    "if len(temp_user_data) == len(data): #모든 row가 정상적으로 인덱싱 되었ㄷ면 \n",
    "    print('user_id column indexing OK!!')\n",
    "    data['user_id'] = temp_user_data #data['user_id']을 인덱싱된 Series로 교체해준다\n",
    "else:\n",
    "    print('user_id column indexing Fail')\n",
    "    \n",
    "#title_to_idx를 통해 title 컬럼도 동일한 방식으로 인덱싱해준다.\n",
    "temp_title_data = data['title'].map(title_to_idx.get).dropna()\n",
    "if len(temp_title_data) == len(data):\n",
    "    print('title column indexing OK!!')\n",
    "    data['title'] = temp_title_data\n",
    "else:\n",
    "    print('title column indexing Fail!!')\n",
    "\n",
    "data"
   ]
  },
  {
   "cell_type": "markdown",
   "id": "96ba9ce1",
   "metadata": {},
   "source": [
    "# 5) CSR matrix를 직접 만들어 봅시다."
   ]
  },
  {
   "cell_type": "code",
   "execution_count": 15,
   "id": "7f98f7d7",
   "metadata": {},
   "outputs": [
    {
     "data": {
      "text/plain": [
       "<6040x3629 sparse matrix of type '<class 'numpy.int64'>'\n",
       "\twith 836483 stored elements in Compressed Sparse Row format>"
      ]
     },
     "execution_count": 15,
     "metadata": {},
     "output_type": "execute_result"
    }
   ],
   "source": [
    "#실습\n",
    "#위의 설명을 보고 이해해서 만들어보자\n",
    "from scipy.sparse import csr_matrix\n",
    "\n",
    "num_user = data['user_id'].nunique()\n",
    "num_title = data['title'].nunique()\n",
    "\n",
    "csr_data = csr_matrix((data.counts, (data.user_id, data.title)), shape= (num_user, num_title))\n",
    "csr_data"
   ]
  },
  {
   "cell_type": "markdown",
   "id": "ce845094",
   "metadata": {},
   "source": [
    "# 6) als_model = AlternatingLeastSquares 모델을 직접 구성하여 훈련시켜 봅시다."
   ]
  },
  {
   "cell_type": "code",
   "execution_count": 16,
   "id": "ebe481cd",
   "metadata": {},
   "outputs": [],
   "source": [
    "from implicit.als import AlternatingLeastSquares\n",
    "import os\n",
    "import numpy as np\n",
    "\n",
    "#implicit 라이브러리에서 권장하고 있는 부분이다. 학습내용과는 무관하다.\n",
    "os.environ['OPENBLAS_NUM_THREADS']='1'\n",
    "os.environ['KMP_DUPLICATE_LIB_OK']='True'\n",
    "os.environ['MKL_NUM_THREADS']='1'"
   ]
  },
  {
   "cell_type": "code",
   "execution_count": 17,
   "id": "92274a66",
   "metadata": {},
   "outputs": [],
   "source": [
    "#Implcit AlternatingLeastSquares 모델의 선언\n",
    "als_model = AlternatingLeastSquares(factors = 100, regularization = 0.01, use_gpu = False, iterations = 15, dtype = np.float32)"
   ]
  },
  {
   "cell_type": "code",
   "execution_count": 18,
   "id": "860ff643",
   "metadata": {},
   "outputs": [
    {
     "data": {
      "text/plain": [
       "<3629x6040 sparse matrix of type '<class 'numpy.int64'>'\n",
       "\twith 836483 stored elements in Compressed Sparse Column format>"
      ]
     },
     "execution_count": 18,
     "metadata": {},
     "output_type": "execute_result"
    }
   ],
   "source": [
    "#als 모델은 input으로 (item X user 꼴의 matrix를 받기 때문에 Transpose해준다)\n",
    "csr_data_transpose = csr_data.T\n",
    "csr_data_transpose"
   ]
  },
  {
   "cell_type": "code",
   "execution_count": 19,
   "id": "2c5fd549",
   "metadata": {},
   "outputs": [
    {
     "data": {
      "application/vnd.jupyter.widget-view+json": {
       "model_id": "a4077d99e43d43c689bde9845a802002",
       "version_major": 2,
       "version_minor": 0
      },
      "text/plain": [
       "  0%|          | 0/15 [00:00<?, ?it/s]"
      ]
     },
     "metadata": {},
     "output_type": "display_data"
    }
   ],
   "source": [
    "#모델 훈련\n",
    "als_model.fit(csr_data_transpose)"
   ]
  },
  {
   "cell_type": "markdown",
   "id": "fd73c416",
   "metadata": {},
   "source": [
    "모델 학습이 끝났다! 이제 아래 사항 두 가지를 살펴보자\n",
    "1. Han 벡터와 frozen(2013)의 벡터를 어떻게 만들고 있는지\n",
    "2. 두 벡터를 곱하면 어떤 값이 나오는지\n"
   ]
  },
  {
   "cell_type": "code",
   "execution_count": 20,
   "id": "8574905b",
   "metadata": {},
   "outputs": [
    {
     "name": "stdout",
     "output_type": "stream",
     "text": [
      "슝\n"
     ]
    }
   ],
   "source": [
    "Han, lion = user_to_idx['Han'], title_to_idx['lion king, the (1994)']\n",
    "Han_vector, lion_vector = als_model.user_factors[Han], als_model.item_factors[lion]\n",
    "\n",
    "print('슝')"
   ]
  },
  {
   "cell_type": "code",
   "execution_count": 21,
   "id": "fc490c60",
   "metadata": {},
   "outputs": [
    {
     "data": {
      "text/plain": [
       "array([ 0.85471725, -0.8349491 , -0.18519166, -0.24547948,  0.44605654,\n",
       "        0.45773548,  0.5451082 ,  0.29692066,  0.12709183,  0.20469216,\n",
       "        0.2733561 , -0.14979339,  0.79083693,  0.05037482, -0.09750586,\n",
       "        0.26463145,  0.13941796,  0.36817518,  0.25998276,  0.1065319 ,\n",
       "       -0.50745714, -0.1615795 , -0.7418764 , -0.40755808,  0.16717319,\n",
       "       -0.0855163 , -0.46629766, -1.2296576 , -0.15105328, -0.31760606,\n",
       "        0.18563628, -0.31217596,  0.19777375,  0.28166574,  0.14366502,\n",
       "        0.13753682, -0.53610516, -1.0237269 ,  0.72016   , -0.12164257,\n",
       "       -0.34877977, -0.1548206 , -0.9749309 , -0.00546   ,  0.18485114,\n",
       "        0.4382132 ,  0.1305736 , -0.30154946, -0.56765676,  0.75749743,\n",
       "       -0.34827647, -0.28570348,  0.00242105,  0.3737876 ,  0.27543816,\n",
       "        0.00267909, -0.03615183,  0.4926795 ,  0.32775712, -0.50542533,\n",
       "        0.16168468, -0.14219067, -0.48221442, -0.18758184, -0.8482529 ,\n",
       "        0.4463797 ,  0.20467427, -0.16961583, -0.28225708, -0.01093522,\n",
       "        0.4871451 , -0.66707444,  1.1480446 , -0.05775023, -0.3127577 ,\n",
       "       -0.1868307 , -0.1375647 ,  0.07156011,  0.2784897 ,  1.0853821 ,\n",
       "       -0.6827717 ,  0.15332639,  0.43166414,  0.40348577, -0.47082353,\n",
       "        0.12532954,  0.30382913,  0.3085646 ,  0.00773242,  0.5085977 ,\n",
       "        0.1623397 ,  0.0282437 ,  0.29076904, -0.01837259,  0.28874147,\n",
       "        0.10235218,  0.6623223 ,  0.24292985, -0.2868098 , -0.37213564],\n",
       "      dtype=float32)"
      ]
     },
     "execution_count": 21,
     "metadata": {},
     "output_type": "execute_result"
    }
   ],
   "source": [
    "Han_vector"
   ]
  },
  {
   "cell_type": "code",
   "execution_count": 22,
   "id": "b999412e",
   "metadata": {},
   "outputs": [
    {
     "data": {
      "text/plain": [
       "array([ 0.0232784 , -0.00289661, -0.0134223 , -0.01005187,  0.03589487,\n",
       "        0.00016752, -0.00054304, -0.00021666,  0.03431617,  0.00553277,\n",
       "        0.00994898, -0.00083656,  0.03783132,  0.02556173, -0.00769492,\n",
       "       -0.02374331,  0.00226518,  0.03593509,  0.01657826,  0.01797179,\n",
       "       -0.00320382, -0.00315477, -0.01356339,  0.00029305,  0.00237507,\n",
       "       -0.00526344, -0.01766597, -0.02145885,  0.01057454, -0.00500809,\n",
       "        0.00435163,  0.00310119,  0.02723092,  0.03350946, -0.00647395,\n",
       "        0.02676748, -0.02377869, -0.0277613 ,  0.00713238,  0.00756421,\n",
       "        0.00437065,  0.01862679, -0.00282714,  0.00370617, -0.00915634,\n",
       "        0.01258839,  0.00237465, -0.00974882, -0.03068109,  0.03568308,\n",
       "        0.01474864, -0.02225677,  0.00087945,  0.01359798,  0.02446813,\n",
       "       -0.01609292,  0.01292871,  0.01420778,  0.00127167, -0.01327616,\n",
       "       -0.0088562 ,  0.00656224, -0.00554498,  0.00125643, -0.0079665 ,\n",
       "        0.02879151,  0.00285322,  0.01878394,  0.01918367,  0.01389696,\n",
       "        0.01277143, -0.01190403,  0.04783994, -0.01258031, -0.00146506,\n",
       "       -0.01320051,  0.01434256,  0.00055456,  0.00993246,  0.01135032,\n",
       "       -0.0106277 ,  0.00927889,  0.02818434,  0.00596595, -0.0126099 ,\n",
       "       -0.00366189,  0.03000193,  0.00199153, -0.00352301,  0.00445676,\n",
       "       -0.0016982 ,  0.00142697, -0.00693379,  0.01479463,  0.01918321,\n",
       "       -0.0096671 ,  0.04570612,  0.00259851,  0.00953625, -0.01774826],\n",
       "      dtype=float32)"
      ]
     },
     "execution_count": 22,
     "metadata": {},
     "output_type": "execute_result"
    }
   ],
   "source": [
    "lion_vector"
   ]
  },
  {
   "cell_type": "markdown",
   "id": "86808fbf",
   "metadata": {},
   "source": [
    "# 7) 내가 선호하는 5가지 영화 중 하나와 그 외의 영화 하나를 골라 훈련된 모델이 예측한 나의 선호도를 파악해 보세요."
   ]
  },
  {
   "cell_type": "code",
   "execution_count": 23,
   "id": "4294f855",
   "metadata": {},
   "outputs": [
    {
     "data": {
      "text/plain": [
       "0.45853296"
      ]
     },
     "execution_count": 23,
     "metadata": {},
     "output_type": "execute_result"
    }
   ],
   "source": [
    "#Han_vector 과 라이언킹 을 내적하는 코드\n",
    "np.dot(Han_vector, lion_vector)"
   ]
  },
  {
   "cell_type": "code",
   "execution_count": 24,
   "id": "d1ff4be0",
   "metadata": {},
   "outputs": [
    {
     "data": {
      "text/plain": [
       "0.38566348"
      ]
     },
     "execution_count": 24,
     "metadata": {},
     "output_type": "execute_result"
    }
   ],
   "source": [
    "bnb = title_to_idx['beauty and the beast (1991)']\n",
    "bnb_vector = als_model.item_factors[bnb]\n",
    "np.dot(Han_vector, bnb_vector)"
   ]
  },
  {
   "cell_type": "markdown",
   "id": "dd235d7e",
   "metadata": {},
   "source": [
    "# 8) 내가 좋아하는 영화와 비슷한 영화를 추천받아 봅시다."
   ]
  },
  {
   "cell_type": "code",
   "execution_count": 26,
   "id": "74da912b",
   "metadata": {},
   "outputs": [
    {
     "data": {
      "text/plain": [
       "[(350, 0.99999994),\n",
       " (575, 0.8762136),\n",
       " (568, 0.77511835),\n",
       " (1689, 0.64536756),\n",
       " (725, 0.6430055),\n",
       " (2434, 0.6023928),\n",
       " (1409, 0.5973759),\n",
       " (1520, 0.5920347),\n",
       " (1861, 0.5845984),\n",
       " (2056, 0.5423897),\n",
       " (47, 0.5418963),\n",
       " (935, 0.5396448),\n",
       " (574, 0.5377094),\n",
       " (942, 0.5068472),\n",
       " (1164, 0.48870423)]"
      ]
     },
     "execution_count": 26,
     "metadata": {},
     "output_type": "execute_result"
    }
   ],
   "source": [
    "favorite_title = 'lion king, the (1994)'\n",
    "title_id = title_to_idx[favorite_title]\n",
    "similar_title = als_model.similar_items(title_id, N = 15)\n",
    "similar_title"
   ]
  },
  {
   "cell_type": "code",
   "execution_count": 27,
   "id": "e190f58b",
   "metadata": {},
   "outputs": [
    {
     "data": {
      "text/plain": [
       "['lion king, the (1994)',\n",
       " 'beauty and the beast (1991)',\n",
       " 'aladdin (1992)',\n",
       " 'mulan (1998)',\n",
       " 'hunchback of notre dame, the (1996)',\n",
       " 'tarzan (1999)',\n",
       " 'hercules (1997)',\n",
       " 'anastasia (1997)',\n",
       " 'little mermaid, the (1989)',\n",
       " 'antz (1998)',\n",
       " 'pocahontas (1995)',\n",
       " 'cinderella (1950)',\n",
       " 'snow white and the seven dwarfs (1937)',\n",
       " 'dumbo (1941)',\n",
       " 'fantasia (1940)']"
      ]
     },
     "execution_count": 27,
     "metadata": {},
     "output_type": "execute_result"
    }
   ],
   "source": [
    "#title_to_idx를 뒤집어, index로부터 title 이름을 얻는 dict를 생성한다.\n",
    "idx_to_title = {v:k for k, v in title_to_idx.items()}\n",
    "[idx_to_title[i[0]] for i in similar_title]"
   ]
  },
  {
   "cell_type": "code",
   "execution_count": 28,
   "id": "6fb5549d",
   "metadata": {},
   "outputs": [
    {
     "name": "stdout",
     "output_type": "stream",
     "text": [
      "슝\n"
     ]
    }
   ],
   "source": [
    "#위의 코드를 함수로 만들고 확인\n",
    "def get_similar_title(title_name:str):\n",
    "    title_id = title_to_idx[title_name]\n",
    "    similar_title = als_model.similar_items(title_id)\n",
    "    similar_title = [idx_to_title[i[0]] for i in similar_title]\n",
    "    return similar_title\n",
    "\n",
    "print('슝')"
   ]
  },
  {
   "cell_type": "markdown",
   "id": "8ecf3033",
   "metadata": {},
   "source": [
    "# 9) 내가 가장 좋아할 만한 영화들을 추천받아 봅시다."
   ]
  },
  {
   "cell_type": "code",
   "execution_count": 29,
   "id": "9b6cc16e",
   "metadata": {},
   "outputs": [
    {
     "data": {
      "text/plain": [
       "[(2845, 0.4882979),\n",
       " (568, 0.43409067),\n",
       " (575, 0.38566345),\n",
       " (33, 0.3687278),\n",
       " (2114, 0.30493698),\n",
       " (1689, 0.24604957),\n",
       " (2081, 0.21656285),\n",
       " (1409, 0.20951313),\n",
       " (2056, 0.19224808),\n",
       " (2506, 0.18826544),\n",
       " (342, 0.18777956),\n",
       " (1861, 0.18636318),\n",
       " (532, 0.18474928),\n",
       " (1147, 0.18325582),\n",
       " (1242, 0.17557156),\n",
       " (2434, 0.17063268),\n",
       " (304, 0.16900653),\n",
       " (725, 0.16735642),\n",
       " (1342, 0.16473085),\n",
       " (482, 0.16284075)]"
      ]
     },
     "execution_count": 29,
     "metadata": {},
     "output_type": "execute_result"
    }
   ],
   "source": [
    "user = user_to_idx['Han']\n",
    "# recommend에서는 user*item CSR Matrix를 받는다.\n",
    "title_recommended = als_model.recommend(user, csr_data, N = 20, filter_already_liked_items = True)\n",
    "title_recommended"
   ]
  },
  {
   "cell_type": "code",
   "execution_count": 30,
   "id": "c1dbceb3",
   "metadata": {},
   "outputs": [
    {
     "data": {
      "text/plain": [
       "['toy story 2 (1999)',\n",
       " 'aladdin (1992)',\n",
       " 'beauty and the beast (1991)',\n",
       " 'babe (1995)',\n",
       " \"bug's life, a (1998)\",\n",
       " 'mulan (1998)',\n",
       " 'pleasantville (1998)',\n",
       " 'hercules (1997)',\n",
       " 'antz (1998)',\n",
       " 'iron giant, the (1999)',\n",
       " 'forrest gump (1994)',\n",
       " 'little mermaid, the (1989)',\n",
       " 'nightmare before christmas, the (1993)',\n",
       " 'groundhog day (1993)',\n",
       " '101 dalmatians (1996)',\n",
       " 'tarzan (1999)',\n",
       " 'santa clause, the (1994)',\n",
       " 'hunchback of notre dame, the (1996)',\n",
       " 'liar liar (1997)',\n",
       " 'mrs. doubtfire (1993)']"
      ]
     },
     "execution_count": 30,
     "metadata": {},
     "output_type": "execute_result"
    }
   ],
   "source": [
    "[idx_to_title[i[0]] for i in title_recommended]"
   ]
  },
  {
   "cell_type": "markdown",
   "id": "a1ddd8f0",
   "metadata": {},
   "source": [
    "# 회고록\n",
    "\n",
    "* 좋아하는 영화 목록으로 다 2000년대 이후의 영화를 넣었더니 내 이름 벡터(user_id=Han)와 겨울왕국의 내적이 0.00숫자 대가 나와서 유의미한 내적 결과가 나오지 않았고, 새로운 다른 영화 하나와의 내적 결과 또한 비슷한 수준으로 좋지 않았다.\n",
    "* 그래서 내가 좋아하는 영화 목록에 1990년대의 영화들을 입력했고 내적했는데 또한 결과가 좋지 않았다. 그 이유인 즉슨, 입력했던 the lion king (1994)영화에서 the 부분이 뒤로 빠져 있는 채로 데이터 셋에 존재했기 때문이다.\n",
    "* 목록으로 뽑혀 나온 영화 데이터셋을 보니 'the mask'일 경우 'mask, the' 이런 식으로 title이 지정되어 있는 것을 발견했고, 라이언킹 또한 타이틀을 그렇게 바꾸었다.\n",
    "* 그 이후 Han(user_id)벡터와 라이언킹을 내적하니 0.45853296의 결과가 나왔고,  Han(user_id)벡터와 beauty and the beast(1991)을 내적하니0.38566348의 유의미한 결과가 나왔다."
   ]
  },
  {
   "cell_type": "code",
   "execution_count": null,
   "id": "aae40773",
   "metadata": {},
   "outputs": [],
   "source": []
  }
 ],
 "metadata": {
  "kernelspec": {
   "display_name": "Python 3 (ipykernel)",
   "language": "python",
   "name": "python3"
  },
  "language_info": {
   "codemirror_mode": {
    "name": "ipython",
    "version": 3
   },
   "file_extension": ".py",
   "mimetype": "text/x-python",
   "name": "python",
   "nbconvert_exporter": "python",
   "pygments_lexer": "ipython3",
   "version": "3.9.7"
  }
 },
 "nbformat": 4,
 "nbformat_minor": 5
}
