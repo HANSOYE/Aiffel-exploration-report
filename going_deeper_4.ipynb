{
  "cells": [
    {
      "cell_type": "markdown",
      "metadata": {
        "id": "view-in-github",
        "colab_type": "text"
      },
      "source": [
        "<a href=\"https://colab.research.google.com/github/HANSOYE/Aiffel-exploration-report/blob/master/going_deeper_4.ipynb\" target=\"_parent\"><img src=\"https://colab.research.google.com/assets/colab-badge.svg\" alt=\"Open In Colab\"/></a>"
      ]
    },
    {
      "cell_type": "markdown",
      "metadata": {
        "id": "6dc295db"
      },
      "source": [
        "# 4-7. 프로젝트: CutMix 또는 Mixup 비교실험 하기\n",
        "지금까지 기본적인 augmentation 방법을 적용해 모델을 훈련시키고, 최신 augmentation 기법을 배워 보았습니다.\n",
        "\n",
        "이번에는 최신 기법(CutMix 또는 Mixup)을 적용해 모델을 훈련시켜 봅시다. 데이터셋에 두 가지 방법 중 하나를 적용하고, 모델을 학습시켜 주세요. 결과를 수치화하고 비교하는 것도 잊지 마세요!\n",
        "\n",
        "우선 주요 라이브러리 버전을 확인해 볼까요?"
      ],
      "id": "6dc295db"
    },
    {
      "cell_type": "code",
      "execution_count": null,
      "metadata": {
        "colab": {
          "base_uri": "https://localhost:8080/"
        },
        "id": "e083da8c",
        "outputId": "0ec9d3b1-bccb-4677-95eb-c708d72e9611"
      },
      "outputs": [
        {
          "output_type": "stream",
          "name": "stdout",
          "text": [
            "2.8.0\n",
            "1.21.5\n"
          ]
        }
      ],
      "source": [
        "import tensorflow as tf\n",
        "import numpy as np\n",
        "\n",
        "print(tf.__version__)\n",
        "print(np.__version__)"
      ],
      "id": "e083da8c"
    },
    {
      "cell_type": "markdown",
      "metadata": {
        "id": "8973203e"
      },
      "source": [
        "1. Augmentation을 적용한 데이터셋 만들기\n",
        "\n",
        "-------------\n",
        "\n",
        "이전 스텝과 아래 코드를 참고하여 데이터셋에 CutMix 또는 Mixup augmentation을 적용해 주세요.\n",
        "\n",
        ">Q1. 아래는 CutMix를 적용할 수 있도록 변경한 apply_normalize_on_dataset()입니다. batch() 함수 뒤에 CutMix가 오도록 만들어야합니다. 그 이유가 뭘까요?\\\n",
        "\\\n",
        "A. 예시답안\\\n",
        "CutMix는 배치 안에 있는 이미지끼리만 섞는 과정이기 때문에, 미리 배치 단위로 데이터셋을 정렬 후 CutMix가 적용되어야 합니다."
      ],
      "id": "8973203e"
    },
    {
      "cell_type": "code",
      "execution_count": null,
      "metadata": {
        "id": "149ffc58"
      },
      "outputs": [],
      "source": [
        "# TensorFlow and tf.keras\n",
        "import tensorflow as tf\n",
        "from tensorflow import keras\n",
        "\n",
        "# Helper libraries\n",
        "import numpy as np\n",
        "import matplotlib.pyplot as plt\n",
        "\n",
        "import tensorflow_datasets as tfds\n"
      ],
      "id": "149ffc58"
    },
    {
      "cell_type": "code",
      "execution_count": null,
      "metadata": {
        "colab": {
          "base_uri": "https://localhost:8080/"
        },
        "id": "b9f8369b",
        "outputId": "b8e2bbbc-68c4-4823-dfe4-abb042fc5a56"
      },
      "outputs": [
        {
          "output_type": "execute_result",
          "data": {
            "text/plain": [
              "[PhysicalDevice(name='/physical_device:GPU:0', device_type='GPU')]"
            ]
          },
          "metadata": {},
          "execution_count": 3
        }
      ],
      "source": [
        "tf.config.list_physical_devices('GPU')"
      ],
      "id": "b9f8369b"
    },
    {
      "cell_type": "code",
      "execution_count": null,
      "metadata": {
        "colab": {
          "base_uri": "https://localhost:8080/",
          "height": 442,
          "referenced_widgets": [
            "86d0669a645d4731b74a0290a5ad7964",
            "2e1628c6f3cf4588817eb5d47eef98c9",
            "441e9d3d391a44c1bb31a997c070a40b",
            "ec29a4a007f54f36bd26a0ad0d7be36b",
            "ac534b8bfa1e43458650fb3d6e1baf5f",
            "b46add71aaa74103ba819627e0077abb",
            "90d03b11120047f0879db69d8268d3a8",
            "12407f06f85d4c14aa1859d7edd3300a",
            "817f85a0d8d44895a9d4f12bd67fc4ae",
            "8abac94c351d4c65b9e69881a37eb45e",
            "ffaef39c879743f7a23a86f5dcd3566b",
            "e358417347e34d2f8e258fb1b242f92d",
            "c21d3a6798ef4c0481e414400007e3a0",
            "ea2b732cf31e4c0b9e7a9502049bd5e8",
            "989ba327984644ed8b3379e4d013e7b4",
            "76fde4728356429a9740ee25df3a6f25",
            "8cc5a815ab4942109a6fcd0d5b42f7df",
            "955b9bd7e79141dab9fc17d90536de48",
            "02b8af9142794a8199736a6c71959fd2",
            "4ea156b2f8d34961b7d1466270f0cfca",
            "d02c417498034c3a9f0e8e21875cbe63",
            "1876563594f9443bbf502c27dcab7af3",
            "c3fa71a9f4c9438b9de4f3fed9331c1d",
            "4901c0d35fc84b8cb8ab705f0de111e3",
            "554442f730d049ff97cfcd2a4a6ccb44",
            "8b192a781037402e920b108508e618df",
            "4ca1b9d287124657a0672136d69fd2a4",
            "588870db2825481d8a6f2237103eabaa",
            "b02d24f7c4c74ec79c6b20cd73553bd5",
            "0ba8aa118c0740d7b4ec1a8ea315f7ad",
            "83a71996ac7840c1b0248f403a7e9e91",
            "db4bea15b95a4650ab87ab114f20cfa2",
            "051e6738f84f4ba9aa99064096e1c66f",
            "7d173214f5b944ef9308fecdf074cba6",
            "704b83d871b2410b912b98901b2c4b84",
            "61b9dbaaaf2c41eab49d594ae8bfaa44",
            "acb9339d4118492299a699a14bd30c9b",
            "118e21072b1b4a6da325656aa1f3a4be",
            "3e62d171b1074351a06e960fdcf4a5ed",
            "81bddd7bc6c64a75b33f6873d07f2939",
            "5a2df3beb6a8484abb35bd50b923960f",
            "b9bc50891a4f4cd9939b2048f245dd1e",
            "7fef960835ef4e0b82d93e77f0b6fad8",
            "a0f3601c719a401d904e5601cd1db60e",
            "cc6f7e5d99414d58bb7237967059c00c",
            "49cad3982d9c4bdfaee515ff241397a5",
            "14f574e1b5c248edb8ffd20c9702ebf8",
            "a1999bdc1a244449a173d7b2d46d388a",
            "07ede8fec400412e8b9bf8d655047c4b",
            "9e4259bd9f6b406692e1d1d8b67b8790",
            "3bf6f845c501426cb2d92f289786329e",
            "3a57f005285c44ddb7d6fcf00a03c747",
            "c2a9063a21394dcda8209e1bab2529ba",
            "28c136b668b34afbb79b339d6bc35b29",
            "ab1ad82d99de4faebf46817034326fa9",
            "f9ad4e80ec774baa873747a0b06a9fa4",
            "5a706f2de9ec4b99a114a084ad2e2686",
            "852dc9947a4540f3a60fce67da867271",
            "9e1ab6bd071e4bef8eadc95991b1daaf",
            "e79d983a843944aa9f6e6866c0843181",
            "fbb7ca2b96574760b729707d4cedc668",
            "2c470c624afe4b8bab3f4b382fe55405",
            "b13b7cb434834a30a871ba8f79bc2651",
            "1ea12d5210c44d91977f8e48811b1f6b",
            "60a80a53c55f483ea64ad9bda923e1f6",
            "99109ff750e74d2986d80be43487e5cf",
            "23448572443a4c89a8a7f01dff8886d1",
            "9f3ce5bb09064fa69ff53bd47fbb84de",
            "29647c560cfb48258b5eb730d9cf5b5a",
            "4f9039887d2b47eb810e18c1a46f96d1",
            "0eed078414d74ac69bac59f06339fef4",
            "916b8c24bd514c6fa511786b55ce4931",
            "fd27774fa9604b4abe9e43bfab39b7db",
            "f986a18fb627415d9db4be82905ca80f",
            "2e8b2cbe419d4112bed25cd78887ffcb",
            "eb18c25923c14c40b7c3b7266a8e7c9e",
            "a832d2b392bb4f2fb3c496a8363398f0",
            "30e7c1896eca4ac7bd0aeddee0f69c72",
            "89fa85b65d83411ea3dec4a178b55dc8",
            "99408f2cb1d34125b6465cc1183c474c",
            "2ee2d248970e494aae3a56afcfafa35d",
            "fd2dd8526b99464e9013288cd360e59e",
            "2b73491c2ab44e8db1eb857da6cf39ae",
            "cc2b2be6268e4856a7214a20b01d0412",
            "bcd5deab4318420fb8a6992aa98ca852",
            "50f1716b91fd4d2ea1914d923012d878",
            "a4bcf405c7c146689ea66064e1b0c172",
            "a9b7acca444d465bb821f7000142e32a",
            "ce031547297a424088e2c14a38dc680c",
            "6f61aad800e24ad0b323279c6ca387eb",
            "76c079a5dbc249a8bd32cdfe70a08ee9",
            "21130e38a11f4f889a94b2c81f9808b3",
            "42eadc0866c44cdc8ee3ef525d760a96",
            "e2ec8cc7881c4fe7b5688199f237bd68",
            "775259e8a9864f079e621855de5ec63b",
            "229a7ec8de55489aa5d939c3531280d4",
            "c92cb502588443ab8c00cba8c5f18413",
            "4f74c4b46b584bbaa68d9d3c5d93bb49",
            "77e7c1db193e4488a7babfe763a0fc5a"
          ]
        },
        "id": "2fa46af4",
        "outputId": "c4ed5644-5348-45be-e89b-f0d0f49a5b2f"
      },
      "outputs": [
        {
          "output_type": "stream",
          "name": "stdout",
          "text": [
            "\u001b[1mDownloading and preparing dataset stanford_dogs/0.2.0 (download: 778.12 MiB, generated: Unknown size, total: 778.12 MiB) to /root/tensorflow_datasets/stanford_dogs/0.2.0...\u001b[0m\n"
          ]
        },
        {
          "output_type": "display_data",
          "data": {
            "text/plain": [
              "Dl Completed...: 0 url [00:00, ? url/s]"
            ],
            "application/vnd.jupyter.widget-view+json": {
              "version_major": 2,
              "version_minor": 0,
              "model_id": "86d0669a645d4731b74a0290a5ad7964"
            }
          },
          "metadata": {}
        },
        {
          "output_type": "display_data",
          "data": {
            "text/plain": [
              "Dl Size...: 0 MiB [00:00, ? MiB/s]"
            ],
            "application/vnd.jupyter.widget-view+json": {
              "version_major": 2,
              "version_minor": 0,
              "model_id": "e358417347e34d2f8e258fb1b242f92d"
            }
          },
          "metadata": {}
        },
        {
          "output_type": "stream",
          "name": "stdout",
          "text": [
            "\n",
            "\n"
          ]
        },
        {
          "output_type": "display_data",
          "data": {
            "text/plain": [
              "Dl Completed...: 0 url [00:00, ? url/s]"
            ],
            "application/vnd.jupyter.widget-view+json": {
              "version_major": 2,
              "version_minor": 0,
              "model_id": "c3fa71a9f4c9438b9de4f3fed9331c1d"
            }
          },
          "metadata": {}
        },
        {
          "output_type": "display_data",
          "data": {
            "text/plain": [
              "Dl Size...: 0 MiB [00:00, ? MiB/s]"
            ],
            "application/vnd.jupyter.widget-view+json": {
              "version_major": 2,
              "version_minor": 0,
              "model_id": "7d173214f5b944ef9308fecdf074cba6"
            }
          },
          "metadata": {}
        },
        {
          "output_type": "display_data",
          "data": {
            "text/plain": [
              "Extraction completed...: 0 file [00:00, ? file/s]"
            ],
            "application/vnd.jupyter.widget-view+json": {
              "version_major": 2,
              "version_minor": 0,
              "model_id": "cc6f7e5d99414d58bb7237967059c00c"
            }
          },
          "metadata": {}
        },
        {
          "output_type": "stream",
          "name": "stdout",
          "text": [
            "\n",
            "\n",
            "\n"
          ]
        },
        {
          "output_type": "display_data",
          "data": {
            "text/plain": [
              "0 examples [00:00, ? examples/s]"
            ],
            "application/vnd.jupyter.widget-view+json": {
              "version_major": 2,
              "version_minor": 0,
              "model_id": "f9ad4e80ec774baa873747a0b06a9fa4"
            }
          },
          "metadata": {}
        },
        {
          "output_type": "stream",
          "name": "stdout",
          "text": [
            "Shuffling and writing examples to /root/tensorflow_datasets/stanford_dogs/0.2.0.incomplete7VQG0F/stanford_dogs-train.tfrecord\n"
          ]
        },
        {
          "output_type": "display_data",
          "data": {
            "text/plain": [
              "  0%|          | 0/12000 [00:00<?, ? examples/s]"
            ],
            "application/vnd.jupyter.widget-view+json": {
              "version_major": 2,
              "version_minor": 0,
              "model_id": "23448572443a4c89a8a7f01dff8886d1"
            }
          },
          "metadata": {}
        },
        {
          "output_type": "display_data",
          "data": {
            "text/plain": [
              "0 examples [00:00, ? examples/s]"
            ],
            "application/vnd.jupyter.widget-view+json": {
              "version_major": 2,
              "version_minor": 0,
              "model_id": "30e7c1896eca4ac7bd0aeddee0f69c72"
            }
          },
          "metadata": {}
        },
        {
          "output_type": "stream",
          "name": "stdout",
          "text": [
            "Shuffling and writing examples to /root/tensorflow_datasets/stanford_dogs/0.2.0.incomplete7VQG0F/stanford_dogs-test.tfrecord\n"
          ]
        },
        {
          "output_type": "display_data",
          "data": {
            "text/plain": [
              "  0%|          | 0/8580 [00:00<?, ? examples/s]"
            ],
            "application/vnd.jupyter.widget-view+json": {
              "version_major": 2,
              "version_minor": 0,
              "model_id": "ce031547297a424088e2c14a38dc680c"
            }
          },
          "metadata": {}
        },
        {
          "output_type": "stream",
          "name": "stdout",
          "text": [
            "\u001b[1mDataset stanford_dogs downloaded and prepared to /root/tensorflow_datasets/stanford_dogs/0.2.0. Subsequent calls will reuse this data.\u001b[0m\n",
            "=3\n"
          ]
        }
      ],
      "source": [
        "(ds_train, ds_test), ds_info = tfds.load(\n",
        "    'stanford_dogs',\n",
        "    split=['train', 'test'],\n",
        "    shuffle_files=True,\n",
        "    with_info=True,\n",
        ")\n",
        "print('=3')"
      ],
      "id": "2fa46af4"
    },
    {
      "cell_type": "code",
      "execution_count": null,
      "metadata": {
        "colab": {
          "base_uri": "https://localhost:8080/"
        },
        "id": "ZRZwblfVpPwZ",
        "outputId": "b257e84a-8988-4835-ea98-1eaac93f0f42"
      },
      "outputs": [
        {
          "output_type": "stream",
          "name": "stdout",
          "text": [
            "=3\n"
          ]
        }
      ],
      "source": [
        "def normalize_and_resize_img(image, label):\n",
        "    # Normalizes images: `uint8` -> `float32`\n",
        "    image = tf.image.resize(image, [224, 224])\n",
        "    return tf.cast(image, tf.float32) / 255., label\n",
        "\n",
        "print('=3')"
      ],
      "id": "ZRZwblfVpPwZ"
    },
    {
      "cell_type": "code",
      "execution_count": null,
      "metadata": {
        "colab": {
          "base_uri": "https://localhost:8080/"
        },
        "id": "Bc78tIuwpV93",
        "outputId": "5b657c94-571b-40e6-ae5e-24248c3579f6"
      },
      "outputs": [
        {
          "output_type": "stream",
          "name": "stdout",
          "text": [
            "=3\n"
          ]
        }
      ],
      "source": [
        "def augment(image,label):\n",
        "    image = tf.image.random_flip_left_right(image)\n",
        "    image = tf.image.random_brightness(image, max_delta=0.2)\n",
        "    image = tf.clip_by_value(image, 0, 1)\n",
        "    return image, label\n",
        "\n",
        "print('=3')"
      ],
      "id": "Bc78tIuwpV93"
    },
    {
      "cell_type": "code",
      "execution_count": null,
      "metadata": {
        "colab": {
          "base_uri": "https://localhost:8080/"
        },
        "id": "YBFIkL49m_mQ",
        "outputId": "72b984b2-ed9f-43b3-d91b-894f069285d0"
      },
      "outputs": [
        {
          "output_type": "stream",
          "name": "stdout",
          "text": [
            "=3\n"
          ]
        }
      ],
      "source": [
        "# 데이터셋(ds)을 가공하는 메인함수\n",
        "def apply_normalize_on_dataset(ds, is_test=False, batch_size=16, with_aug=False):\n",
        "    ds = ds.map(\n",
        "        normalize_and_resize_img,  # 기본적인 전처리 함수 적용\n",
        "        num_parallel_calls=2\n",
        "    )\n",
        "    if not is_test and with_aug:\n",
        "        ds = ds.map(\n",
        "            augment,       # augment 함수 적용\n",
        "            num_parallel_calls=2\n",
        "        )\n",
        "    ds = ds.batch(batch_size)\n",
        "    if not is_test:\n",
        "        ds = ds.repeat()\n",
        "        ds = ds.shuffle(200)\n",
        "    ds = ds.prefetch(tf.data.experimental.AUTOTUNE)\n",
        "    return ds\n",
        "\n",
        "print('=3')"
      ],
      "id": "YBFIkL49m_mQ"
    },
    {
      "cell_type": "code",
      "execution_count": null,
      "metadata": {
        "colab": {
          "base_uri": "https://localhost:8080/"
        },
        "id": "d48687b5",
        "outputId": "d89be154-2e08-4452-968e-0d915bde7e86"
      },
      "outputs": [
        {
          "output_type": "stream",
          "name": "stdout",
          "text": [
            "Downloading data from https://storage.googleapis.com/tensorflow/keras-applications/resnet/resnet50_weights_tf_dim_ordering_tf_kernels_notop.h5\n",
            "94773248/94765736 [==============================] - 1s 0us/step\n",
            "94781440/94765736 [==============================] - 1s 0us/step\n",
            "=3\n"
          ]
        }
      ],
      "source": [
        "num_classes = ds_info.features[\"label\"].num_classes\n",
        "resnet50 = keras.models.Sequential([\n",
        "    keras.applications.resnet.ResNet50(\n",
        "        include_top=False,\n",
        "        weights='imagenet',\n",
        "        input_shape=(224,224,3),\n",
        "        pooling='avg',\n",
        "    ),\n",
        "    keras.layers.Dense(num_classes, activation='softmax')\n",
        "])\n",
        "print('=3')"
      ],
      "id": "d48687b5"
    },
    {
      "cell_type": "code",
      "execution_count": null,
      "metadata": {
        "colab": {
          "base_uri": "https://localhost:8080/"
        },
        "id": "iTvsM1QanGeZ",
        "outputId": "3a99a878-1212-4606-bffe-2b6e25dc22c5"
      },
      "outputs": [
        {
          "output_type": "stream",
          "name": "stdout",
          "text": [
            "=3\n"
          ]
        }
      ],
      "source": [
        "(ds_train, ds_test), ds_info = tfds.load(\n",
        "    'stanford_dogs',\n",
        "    split=['train', 'test'],\n",
        "    as_supervised=True,\n",
        "    shuffle_files=True,\n",
        "    with_info=True,\n",
        ")\n",
        "ds_train_no_aug = apply_normalize_on_dataset(ds_train, with_aug=False)\n",
        "ds_train_aug = apply_normalize_on_dataset(ds_train, with_aug=True)\n",
        "ds_test = apply_normalize_on_dataset(ds_test, is_test=True)\n",
        "print('=3')"
      ],
      "id": "iTvsM1QanGeZ"
    },
    {
      "cell_type": "code",
      "execution_count": null,
      "metadata": {
        "colab": {
          "base_uri": "https://localhost:8080/"
        },
        "id": "404f8c10",
        "outputId": "cefbd481-9b23-4deb-f5a7-39bb95123e8d"
      },
      "outputs": [
        {
          "output_type": "stream",
          "name": "stdout",
          "text": [
            "=3\n"
          ]
        }
      ],
      "source": [
        "aug_resnet50 = keras.models.Sequential([\n",
        "    keras.applications.resnet.ResNet50(\n",
        "        include_top=False,\n",
        "        weights='imagenet',\n",
        "        input_shape=(224,224,3),\n",
        "        pooling='avg',\n",
        "    ),\n",
        "    keras.layers.Dense(num_classes, activation='softmax')\n",
        "])\n",
        "print('=3')"
      ],
      "id": "404f8c10"
    },
    {
      "cell_type": "code",
      "execution_count": null,
      "metadata": {
        "colab": {
          "base_uri": "https://localhost:8080/"
        },
        "id": "4307fab8",
        "outputId": "cf1223b4-901f-4e3f-db6c-541df031a7ed"
      },
      "outputs": [
        {
          "output_type": "stream",
          "name": "stdout",
          "text": [
            "Epoch 1/20\n"
          ]
        },
        {
          "output_type": "stream",
          "name": "stderr",
          "text": [
            "/usr/local/lib/python3.7/dist-packages/keras/optimizer_v2/gradient_descent.py:102: UserWarning: The `lr` argument is deprecated, use `learning_rate` instead.\n",
            "  super(SGD, self).__init__(name, **kwargs)\n"
          ]
        },
        {
          "output_type": "stream",
          "name": "stdout",
          "text": [
            "750/750 [==============================] - 109s 120ms/step - loss: 2.1970 - accuracy: 0.4532 - val_loss: 3.4622 - val_accuracy: 0.1966\n",
            "Epoch 2/20\n",
            "750/750 [==============================] - 88s 118ms/step - loss: 0.7087 - accuracy: 0.8086 - val_loss: 1.0851 - val_accuracy: 0.6736\n",
            "Epoch 3/20\n",
            "750/750 [==============================] - 89s 118ms/step - loss: 0.2615 - accuracy: 0.9449 - val_loss: 0.9685 - val_accuracy: 0.7207\n",
            "Epoch 4/20\n",
            "750/750 [==============================] - 89s 118ms/step - loss: 0.0712 - accuracy: 0.9919 - val_loss: 0.9053 - val_accuracy: 0.7424\n",
            "Epoch 5/20\n",
            "750/750 [==============================] - 89s 118ms/step - loss: 0.0226 - accuracy: 0.9994 - val_loss: 0.9207 - val_accuracy: 0.7421\n",
            "Epoch 6/20\n",
            "750/750 [==============================] - 89s 118ms/step - loss: 0.0162 - accuracy: 0.9996 - val_loss: 0.9378 - val_accuracy: 0.7436\n",
            "Epoch 7/20\n",
            "750/750 [==============================] - 89s 119ms/step - loss: 0.0103 - accuracy: 0.9998 - val_loss: 0.9442 - val_accuracy: 0.7423\n",
            "Epoch 8/20\n",
            "750/750 [==============================] - 89s 118ms/step - loss: 0.0099 - accuracy: 0.9997 - val_loss: 0.9868 - val_accuracy: 0.7371\n",
            "Epoch 9/20\n",
            "750/750 [==============================] - 89s 119ms/step - loss: 0.0128 - accuracy: 0.9996 - val_loss: 0.9699 - val_accuracy: 0.7403\n",
            "Epoch 10/20\n",
            "750/750 [==============================] - 89s 119ms/step - loss: 0.0063 - accuracy: 0.9998 - val_loss: 0.9726 - val_accuracy: 0.7434\n",
            "Epoch 11/20\n",
            "750/750 [==============================] - 95s 126ms/step - loss: 0.0082 - accuracy: 0.9997 - val_loss: 0.9809 - val_accuracy: 0.7442\n",
            "Epoch 12/20\n",
            "750/750 [==============================] - 95s 127ms/step - loss: 0.0041 - accuracy: 1.0000 - val_loss: 0.9830 - val_accuracy: 0.7441\n",
            "Epoch 13/20\n",
            "750/750 [==============================] - 90s 120ms/step - loss: 0.0035 - accuracy: 1.0000 - val_loss: 0.9899 - val_accuracy: 0.7432\n",
            "Epoch 14/20\n",
            "750/750 [==============================] - 90s 121ms/step - loss: 0.0046 - accuracy: 1.0000 - val_loss: 0.9959 - val_accuracy: 0.7435\n",
            "Epoch 15/20\n",
            "750/750 [==============================] - 90s 121ms/step - loss: 0.0029 - accuracy: 1.0000 - val_loss: 0.9995 - val_accuracy: 0.7448\n",
            "Epoch 16/20\n",
            "750/750 [==============================] - 91s 121ms/step - loss: 0.0025 - accuracy: 1.0000 - val_loss: 1.0015 - val_accuracy: 0.7446\n",
            "Epoch 17/20\n",
            "750/750 [==============================] - 91s 121ms/step - loss: 0.0024 - accuracy: 1.0000 - val_loss: 1.0110 - val_accuracy: 0.7449\n",
            "Epoch 18/20\n",
            "750/750 [==============================] - 90s 120ms/step - loss: 0.0032 - accuracy: 0.9999 - val_loss: 1.0141 - val_accuracy: 0.7430\n",
            "Epoch 19/20\n",
            "750/750 [==============================] - 90s 121ms/step - loss: 0.0032 - accuracy: 1.0000 - val_loss: 1.0184 - val_accuracy: 0.7439\n",
            "Epoch 20/20\n",
            "750/750 [==============================] - 90s 120ms/step - loss: 0.0049 - accuracy: 0.9997 - val_loss: 1.0465 - val_accuracy: 0.7367\n"
          ]
        }
      ],
      "source": [
        "EPOCH = 20  # Augentation 적용 효과를 확인하기 위해 필요한 epoch 수\n",
        "\n",
        "\n",
        "resnet50.compile(\n",
        "    loss='sparse_categorical_crossentropy',\n",
        "    optimizer=tf.keras.optimizers.SGD(lr=0.01),\n",
        "    metrics=['accuracy'],\n",
        ")\n",
        "\n",
        "history_resnet50_no_aug = resnet50.fit(\n",
        "    ds_train_no_aug, # augmentation 적용하지 않은 데이터셋 사용\n",
        "    steps_per_epoch=int(ds_info.splits['train'].num_examples/16),\n",
        "    validation_steps=int(ds_info.splits['test'].num_examples/16),\n",
        "    epochs=EPOCH,\n",
        "    validation_data=ds_test,\n",
        "    verbose=1,\n",
        "    use_multiprocessing=True,\n",
        ")"
      ],
      "id": "4307fab8"
    },
    {
      "cell_type": "code",
      "execution_count": null,
      "metadata": {
        "id": "32d0f00d",
        "colab": {
          "base_uri": "https://localhost:8080/"
        },
        "outputId": "e51e5608-0ef8-4455-b4d0-6ea033486877"
      },
      "outputs": [
        {
          "output_type": "stream",
          "name": "stdout",
          "text": [
            "Epoch 1/20\n"
          ]
        },
        {
          "output_type": "stream",
          "name": "stderr",
          "text": [
            "/usr/local/lib/python3.7/dist-packages/keras/optimizer_v2/gradient_descent.py:102: UserWarning: The `lr` argument is deprecated, use `learning_rate` instead.\n",
            "  super(SGD, self).__init__(name, **kwargs)\n"
          ]
        },
        {
          "output_type": "stream",
          "name": "stdout",
          "text": [
            "750/750 [==============================] - 98s 119ms/step - loss: 2.2791 - accuracy: 0.4262 - val_loss: 2.9337 - val_accuracy: 0.2720\n",
            "Epoch 2/20\n",
            "750/750 [==============================] - 89s 118ms/step - loss: 0.9390 - accuracy: 0.7294 - val_loss: 1.1516 - val_accuracy: 0.6606\n",
            "Epoch 3/20\n",
            "750/750 [==============================] - 89s 118ms/step - loss: 0.4931 - accuracy: 0.8646 - val_loss: 1.2099 - val_accuracy: 0.6476\n",
            "Epoch 4/20\n",
            "750/750 [==============================] - 89s 118ms/step - loss: 0.2451 - accuracy: 0.9424 - val_loss: 1.0467 - val_accuracy: 0.7024\n",
            "Epoch 5/20\n",
            "750/750 [==============================] - 89s 119ms/step - loss: 0.1369 - accuracy: 0.9736 - val_loss: 1.1115 - val_accuracy: 0.6966\n",
            "Epoch 6/20\n",
            "750/750 [==============================] - 89s 118ms/step - loss: 0.1054 - accuracy: 0.9812 - val_loss: 0.9959 - val_accuracy: 0.7232\n",
            "Epoch 7/20\n",
            "750/750 [==============================] - 89s 119ms/step - loss: 0.0549 - accuracy: 0.9920 - val_loss: 0.9752 - val_accuracy: 0.7354\n",
            "Epoch 8/20\n",
            "750/750 [==============================] - 89s 118ms/step - loss: 0.0298 - accuracy: 0.9971 - val_loss: 0.9748 - val_accuracy: 0.7385\n",
            "Epoch 9/20\n",
            "750/750 [==============================] - 89s 119ms/step - loss: 0.0218 - accuracy: 0.9979 - val_loss: 0.9484 - val_accuracy: 0.7484\n",
            "Epoch 10/20\n",
            "750/750 [==============================] - 89s 119ms/step - loss: 0.0150 - accuracy: 0.9991 - val_loss: 0.9534 - val_accuracy: 0.7517\n",
            "Epoch 11/20\n",
            "750/750 [==============================] - 89s 119ms/step - loss: 0.0133 - accuracy: 0.9992 - val_loss: 1.0149 - val_accuracy: 0.7394\n",
            "Epoch 12/20\n",
            "750/750 [==============================] - 90s 120ms/step - loss: 0.0299 - accuracy: 0.9967 - val_loss: 1.0025 - val_accuracy: 0.7406\n",
            "Epoch 13/20\n",
            "750/750 [==============================] - 90s 120ms/step - loss: 0.0285 - accuracy: 0.9961 - val_loss: 1.0031 - val_accuracy: 0.7403\n",
            "Epoch 14/20\n",
            "750/750 [==============================] - 90s 119ms/step - loss: 0.0100 - accuracy: 0.9998 - val_loss: 1.0429 - val_accuracy: 0.7376\n",
            "Epoch 15/20\n",
            "750/750 [==============================] - 90s 120ms/step - loss: 0.0170 - accuracy: 0.9977 - val_loss: 1.0085 - val_accuracy: 0.7402\n",
            "Epoch 16/20\n",
            "750/750 [==============================] - 90s 119ms/step - loss: 0.0068 - accuracy: 0.9996 - val_loss: 1.0004 - val_accuracy: 0.7502\n",
            "Epoch 17/20\n",
            "750/750 [==============================] - 90s 120ms/step - loss: 0.0059 - accuracy: 0.9998 - val_loss: 1.0125 - val_accuracy: 0.7463\n",
            "Epoch 18/20\n",
            "750/750 [==============================] - 89s 119ms/step - loss: 0.0078 - accuracy: 0.9995 - val_loss: 1.0401 - val_accuracy: 0.7444\n",
            "Epoch 19/20\n",
            "750/750 [==============================] - 91s 122ms/step - loss: 0.0048 - accuracy: 0.9998 - val_loss: 1.0208 - val_accuracy: 0.7495\n",
            "Epoch 20/20\n",
            "750/750 [==============================] - 90s 120ms/step - loss: 0.0071 - accuracy: 0.9997 - val_loss: 1.0523 - val_accuracy: 0.7397\n"
          ]
        }
      ],
      "source": [
        "aug_resnet50.compile(\n",
        "    loss='sparse_categorical_crossentropy',\n",
        "    optimizer=tf.keras.optimizers.SGD(lr=0.01),\n",
        "    metrics=['accuracy'],\n",
        ")\n",
        "\n",
        "history_resnet50_aug = aug_resnet50.fit(\n",
        "    ds_train_aug, # augmentation 적용한 데이터셋 사용\n",
        "    steps_per_epoch=int(ds_info.splits['train'].num_examples/16),\n",
        "    validation_steps=int(ds_info.splits['test'].num_examples/16),\n",
        "    epochs=EPOCH,\n",
        "    validation_data=ds_test,\n",
        "    verbose=1,\n",
        "    use_multiprocessing=True,\n",
        ")"
      ],
      "id": "32d0f00d"
    },
    {
      "cell_type": "code",
      "execution_count": null,
      "metadata": {
        "id": "56c09ec5",
        "colab": {
          "base_uri": "https://localhost:8080/"
        },
        "outputId": "0981150a-d055-4641-eb5b-ffe4c4efdedc"
      },
      "outputs": [
        {
          "output_type": "stream",
          "name": "stdout",
          "text": [
            "=3\n"
          ]
        }
      ],
      "source": [
        "def normalize_and_resize_img(image, label):\n",
        "    # Normalizes images: `uint8` -> `float32`\n",
        "    image = tf.image.resize(image, [224, 224])\n",
        "    return tf.cast(image, tf.float32) / 255., label\n",
        "\n",
        "def augment(image, label):\n",
        "    image = tf.image.random_flip_left_right(image)\n",
        "    image = tf.image.random_brightness(image, max_delta=0.2)\n",
        "    image = tf.clip_by_value(image, 0, 1)\n",
        "    return image, label\n",
        "\n",
        "def apply_normalize_on_dataset(ds, is_test=False, batch_size=16, with_aug=False, with_cutmix=False, with_mixup = False):\n",
        "    ds = ds.map(\n",
        "        normalize_and_resize_img, \n",
        "        num_parallel_calls=2\n",
        "    )\n",
        "    if not is_test and with_aug:\n",
        "        ds = ds.map(\n",
        "            augment\n",
        "        )\n",
        "    ds = ds.batch(batch_size)\n",
        "    if not is_test and with_cutmix:\n",
        "        ds = ds.map(\n",
        "            cutmix,\n",
        "            num_parallel_calls=2\n",
        "        )\n",
        "    if not is_test and with_mixup:\n",
        "        ds = ds.map(\n",
        "            mixup,\n",
        "            num_parallel_calls=2\n",
        "        )\n",
        "    else:\n",
        "        ds = ds.map(\n",
        "            onehot,\n",
        "            num_parallel_calls=2\n",
        "        )\n",
        "    if not is_test:\n",
        "        ds = ds.repeat()\n",
        "        ds = ds.shuffle(200)\n",
        "    ds = ds.prefetch(tf.data.experimental.AUTOTUNE)\n",
        "    return ds\n",
        "\n",
        "print('=3')"
      ],
      "id": "56c09ec5"
    },
    {
      "cell_type": "code",
      "execution_count": null,
      "metadata": {
        "id": "8f41816b"
      },
      "outputs": [],
      "source": [
        "def onehot(image, label, prob = 1.0, batch_size=16, img_size=224, num_classes=120):\n",
        "    onehot_imgs = []\n",
        "    onehot_labels = []\n",
        "\n",
        "    for i in range(batch_size):\n",
        "        image_a = image[i]\n",
        "        label_a = label[i]\n",
        "        if len(label_a.shape)==0:\n",
        "            label_a = tf.one_hot(label_a, num_classes)\n",
        "        \n",
        "        onehot_imgs.append(image_a)\n",
        "        onehot_labels.append(label_a)\n",
        "\n",
        "    onehot_imgs = tf.reshape(tf.stack(onehot_imgs),(batch_size, img_size, img_size, 3))\n",
        "    onehot_labels = tf.reshape(tf.stack(onehot_labels),(batch_size, num_classes))\n",
        "    return onehot_imgs, onehot_labels"
      ],
      "id": "8f41816b"
    },
    {
      "cell_type": "code",
      "execution_count": null,
      "metadata": {
        "id": "b68a2c78"
      },
      "outputs": [],
      "source": [
        "(ds_train, ds_test), ds_info = tfds.load(\n",
        "    'stanford_dogs',\n",
        "    split=['train', 'test'],\n",
        "    as_supervised=True,\n",
        "    shuffle_files=True,\n",
        "    with_info=True)\n"
      ],
      "id": "b68a2c78"
    },
    {
      "cell_type": "code",
      "execution_count": null,
      "metadata": {
        "id": "5af516a9",
        "colab": {
          "base_uri": "https://localhost:8080/",
          "height": 204
        },
        "outputId": "0427c829-c826-4e34-a7ae-1ff17cebd610"
      },
      "outputs": [
        {
          "output_type": "display_data",
          "data": {
            "text/plain": [
              "<Figure size 432x288 with 2 Axes>"
            ],
            "image/png": "[encoded data removed]"
          },
          "metadata": {
            "needs_background": "light"
          }
        }
      ],
      "source": [
        "import matplotlib.pyplot as plt\n",
        "\n",
        "# 데이터셋에서 이미지 두 개를 가져온다.\n",
        "for i, (image, label) in enumerate(ds_train_no_aug.take(1)):\n",
        "    if i == 0:\n",
        "        image_a = image[0]\n",
        "        image_b = image[1]\n",
        "        label_a = label[0]\n",
        "        label_b = label[1]\n",
        "        break\n",
        "        \n",
        "plt.subplot(1,2,1)\n",
        "plt.imshow(image_a)\n",
        "\n",
        "plt.subplot(1, 2, 2)\n",
        "plt.imshow(image_b)\n",
        "\n",
        "plt.show()"
      ],
      "id": "5af516a9"
    },
    {
      "cell_type": "code",
      "execution_count": null,
      "metadata": {
        "id": "f3de672b",
        "colab": {
          "base_uri": "https://localhost:8080/"
        },
        "outputId": "427d5ad4-9f38-4634-a6cd-2880e780821e"
      },
      "outputs": [
        {
          "output_type": "stream",
          "name": "stdout",
          "text": [
            "x :  tf.Tensor(61, shape=(), dtype=int32) tf.Tensor(224, shape=(), dtype=int32)\n",
            "y :  tf.Tensor(0, shape=(), dtype=int32) tf.Tensor(149, shape=(), dtype=int32)\n"
          ]
        }
      ],
      "source": [
        "def get_clip_box(image_a, image_b):\n",
        "    # image.shape = (height, width, channel)\n",
        "    image_size_x = image_a.shape[1]\n",
        "    image_size_y = image_a.shape[0]\n",
        "    \n",
        "    # get center of box\n",
        "    x = tf.cast(tf.random.uniform([], 0, image_size_x), tf.int32)\n",
        "    y = tf.cast(tf.random.uniform([], 0, image_size_y), tf.int32)\n",
        "\n",
        "    # get width, height of box\n",
        "    width = tf.cast(image_size_x*tf.math.sqrt(1-tf.random.uniform([], 0, 1)), tf.int32)\n",
        "    height = tf.cast(image_size_y*tf.math.sqrt(1-tf.random.uniform([], 0, 1)), tf.int32)\n",
        "    \n",
        "    # clip box in image and get minmax bbox\n",
        "    x_min = tf.math.maximum(0, x-width//2)\n",
        "    y_min = tf.math.maximum(0, y-height//2)\n",
        "    x_max = tf.math.minimum(image_size_x, x+width//2)\n",
        "    y_max = tf.math.minimum(image_size_y, y+width//2)\n",
        "    \n",
        "    return x_min, y_min, x_max, y_max\n",
        "\n",
        "x_min, y_min, x_max, y_max = get_clip_box(image_a, image_b)\n",
        "\n",
        "print('x : ', x_min, x_max)\n",
        "print('y : ', y_min, y_max)"
      ],
      "id": "f3de672b"
    },
    {
      "cell_type": "code",
      "execution_count": null,
      "metadata": {
        "id": "69e6f24a",
        "colab": {
          "base_uri": "https://localhost:8080/",
          "height": 269
        },
        "outputId": "4c3995f9-a670-42bb-d668-66fa84985508"
      },
      "outputs": [
        {
          "output_type": "display_data",
          "data": {
            "text/plain": [
              "<Figure size 432x288 with 1 Axes>"
            ],
            "image/png": "[encoded data removed]"
          },
          "metadata": {
            "needs_background": "light"
          }
        }
      ],
      "source": [
        "# min two images\n",
        "def mix_2_images(image_a, image_b, x_min, y_min, x_max, y_max):\n",
        "    image_size_x = image_a.shape[1]\n",
        "    image_size_y = image_a.shape[0]\n",
        "    middle_left = image_a[y_min : y_max,  : x_min, :] # image_b의 왼쪽 바깥 영역\n",
        "    middle_center = image_b[y_min : y_max, x_min : x_max, :] #image_b의 안쪽 영역\n",
        "    middle_right = image_a[y_min : y_max, x_max : image_size_x, :] #image_b의 오른쪽 바깥 영역\n",
        "    middle = tf.concat([middle_left, middle_center, middle_right], axis = 1)\n",
        "    top = image_a[0 : y_min, :, :]\n",
        "    bottom = image_a[y_max : image_size_y, :, :]\n",
        "    mixed_img = tf.concat([top, middle, bottom], axis = 0)\n",
        "    \n",
        "    return mixed_img\n",
        "\n",
        "mixed_img = mix_2_images(image_a, image_b, x_min, y_min, x_max, y_max)\n",
        "plt.imshow(mixed_img.numpy())\n",
        "plt.show()"
      ],
      "id": "69e6f24a"
    },
    {
      "cell_type": "code",
      "execution_count": null,
      "metadata": {
        "id": "e78258a6",
        "colab": {
          "base_uri": "https://localhost:8080/"
        },
        "outputId": "692274e4-d746-4585-a022-5d00137335cb"
      },
      "outputs": [
        {
          "output_type": "execute_result",
          "data": {
            "text/plain": [
              "<tf.Tensor: shape=(120,), dtype=float32, numpy=\n",
              "array([0.       , 0.       , 0.       , 0.       , 0.       , 0.       ,\n",
              "       0.       , 0.       , 0.       , 0.       , 0.       , 0.       ,\n",
              "       0.       , 0.       , 0.       , 0.       , 0.       , 0.       ,\n",
              "       0.       , 0.       , 0.       , 0.       , 0.       , 0.       ,\n",
              "       0.       , 0.       , 0.       , 0.       , 0.       , 0.       ,\n",
              "       0.       , 0.       , 0.       , 0.       , 0.       , 0.       ,\n",
              "       0.       , 0.       , 0.       , 0.       , 0.       , 0.       ,\n",
              "       0.       , 0.       , 0.       , 0.       , 0.       , 0.       ,\n",
              "       0.       , 0.       , 0.       , 0.       , 0.       , 0.       ,\n",
              "       0.       , 0.       , 0.       , 0.       , 0.       , 0.       ,\n",
              "       0.       , 0.       , 0.       , 0.4840362, 0.       , 0.       ,\n",
              "       0.       , 0.       , 0.       , 0.       , 0.       , 0.       ,\n",
              "       0.       , 0.5159638, 0.       , 0.       , 0.       , 0.       ,\n",
              "       0.       , 0.       , 0.       , 0.       , 0.       , 0.       ,\n",
              "       0.       , 0.       , 0.       , 0.       , 0.       , 0.       ,\n",
              "       0.       , 0.       , 0.       , 0.       , 0.       , 0.       ,\n",
              "       0.       , 0.       , 0.       , 0.       , 0.       , 0.       ,\n",
              "       0.       , 0.       , 0.       , 0.       , 0.       , 0.       ,\n",
              "       0.       , 0.       , 0.       , 0.       , 0.       , 0.       ,\n",
              "       0.       , 0.       , 0.       , 0.       , 0.       , 0.       ],\n",
              "      dtype=float32)>"
            ]
          },
          "metadata": {},
          "execution_count": 22
        }
      ],
      "source": [
        "#mix two labels\n",
        "def mix_2_labels(label_a, label_b, x_min, y_min, x_max, y_max, num_classes = 120):\n",
        "    image_size_x = image_a.shape[1]\n",
        "    image_size_y = image_a.shape[0]\n",
        "    mixed_area = (x_max - x_min) * (y_max - y_min)\n",
        "    total_area = image_size_x * image_size_y\n",
        "    ratio = tf.cast(mixed_area / total_area, tf.float32)\n",
        "    \n",
        "    if len(label_a.shape) == 0:\n",
        "        label_a = tf.one_hot(label_a,num_classes)\n",
        "    if len(label_b.shape) == 0:\n",
        "        label_b = tf.one_hot(label_b, num_classes)\n",
        "    mixed_label = (1 - ratio) * label_a + ratio * label_b\n",
        "    return mixed_label\n",
        "\n",
        "mixed_label = mix_2_labels(label_a, label_b, x_min, y_min, x_max, y_max)\n",
        "mixed_label"
      ],
      "id": "e78258a6"
    },
    {
      "cell_type": "code",
      "execution_count": null,
      "metadata": {
        "id": "2846a918",
        "colab": {
          "base_uri": "https://localhost:8080/"
        },
        "outputId": "f7770e46-0393-471b-d6f8-b90f1f8ecad6"
      },
      "outputs": [
        {
          "output_type": "stream",
          "name": "stdout",
          "text": [
            "=3\n"
          ]
        }
      ],
      "source": [
        "def cutmix(image, label, prob=1.0, batch_size=16, img_size=224, num_classes=120):\n",
        "    mixed_imgs = []\n",
        "    mixed_labels = []\n",
        "\n",
        "    for i in range(batch_size):\n",
        "        image_a = image[i]\n",
        "        label_a = label[i]\n",
        "        j = tf.cast(tf.random.uniform([],0, batch_size),tf.int32)\n",
        "        image_b = image[j]\n",
        "        label_b = label[j]\n",
        "        x_min, y_min, x_max, y_max = get_clip_box(image_a, image_b)\n",
        "        mixed_imgs.append(mix_2_images(image_a, image_b, x_min, y_min, x_max, y_max))\n",
        "        mixed_labels.append(mix_2_labels(label_a, label_b, x_min, y_min, x_max, y_max))\n",
        "\n",
        "    mixed_imgs = tf.reshape(tf.stack(mixed_imgs), (batch_size, img_size, img_size, 3))\n",
        "    mixed_labels = tf.reshape(tf.stack(mixed_labels), (batch_size, num_classes))\n",
        "    return mixed_imgs, mixed_labels\n",
        "\n",
        "print('=3')"
      ],
      "id": "2846a918"
    },
    {
      "cell_type": "code",
      "execution_count": null,
      "metadata": {
        "id": "5_mTGuF4lldq",
        "colab": {
          "base_uri": "https://localhost:8080/"
        },
        "outputId": "b9c732f1-f899-46d5-a08e-2c7f81cea6dc"
      },
      "outputs": [
        {
          "output_type": "stream",
          "name": "stdout",
          "text": [
            "=3\n"
          ]
        }
      ],
      "source": [
        "cutmix_resnet50 = keras.models.Sequential([\n",
        "    keras.applications.resnet.ResNet50(\n",
        "        include_top=False,\n",
        "        weights='imagenet',\n",
        "        input_shape=(224,224,3),\n",
        "        pooling='avg',\n",
        "    ),\n",
        "    keras.layers.Dense(num_classes, activation='softmax')\n",
        "])\n",
        "print('=3')"
      ],
      "id": "5_mTGuF4lldq"
    },
    {
      "cell_type": "code",
      "execution_count": null,
      "metadata": {
        "id": "5V4-tCVXlkps"
      },
      "outputs": [],
      "source": [
        "ds_train_cutmix = apply_normalize_on_dataset(ds_train, with_cutmix=True)\n",
        "#ds_train_mixup = apply_normalize_on_dataset(ds_train, with_mixup=True)\n",
        "ds_test_onehot = apply_normalize_on_dataset(ds_test, is_test = True)\n",
        "#ds_test_one = apply_normalize_on_dataset(ds_test, onehot=True, is_test = True)"
      ],
      "id": "5V4-tCVXlkps"
    },
    {
      "cell_type": "code",
      "execution_count": null,
      "metadata": {
        "id": "eednmy4kl_nl",
        "colab": {
          "base_uri": "https://localhost:8080/"
        },
        "outputId": "8f9c0faa-0e24-402f-c61f-eb8235a45801"
      },
      "outputs": [
        {
          "output_type": "stream",
          "name": "stderr",
          "text": [
            "/usr/local/lib/python3.7/dist-packages/keras/optimizer_v2/gradient_descent.py:102: UserWarning: The `lr` argument is deprecated, use `learning_rate` instead.\n",
            "  super(SGD, self).__init__(name, **kwargs)\n"
          ]
        },
        {
          "output_type": "stream",
          "name": "stdout",
          "text": [
            "Epoch 1/20\n",
            "750/750 [==============================] - 108s 127ms/step - loss: 1.4785 - accuracy: 0.8397 - val_loss: 1.5407 - val_accuracy: 0.6540\n",
            "Epoch 2/20\n",
            "750/750 [==============================] - 94s 125ms/step - loss: 1.4576 - accuracy: 0.8333 - val_loss: 1.2909 - val_accuracy: 0.7071\n",
            "Epoch 3/20\n",
            "750/750 [==============================] - 94s 125ms/step - loss: 1.4464 - accuracy: 0.8382 - val_loss: 1.4562 - val_accuracy: 0.6775\n",
            "Epoch 4/20\n",
            "750/750 [==============================] - 95s 127ms/step - loss: 1.4305 - accuracy: 0.8414 - val_loss: 1.5545 - val_accuracy: 0.6364\n",
            "Epoch 5/20\n",
            "750/750 [==============================] - 94s 125ms/step - loss: 1.4124 - accuracy: 0.8439 - val_loss: 1.5949 - val_accuracy: 0.6557\n",
            "Epoch 6/20\n",
            "750/750 [==============================] - 97s 130ms/step - loss: 1.4094 - accuracy: 0.8400 - val_loss: 1.5014 - val_accuracy: 0.6747\n",
            "Epoch 7/20\n",
            "750/750 [==============================] - 96s 128ms/step - loss: 1.3893 - accuracy: 0.8399 - val_loss: 1.4652 - val_accuracy: 0.6820\n",
            "Epoch 8/20\n",
            "750/750 [==============================] - 96s 128ms/step - loss: 1.4260 - accuracy: 0.8305 - val_loss: 1.6347 - val_accuracy: 0.6382\n",
            "Epoch 9/20\n",
            "750/750 [==============================] - 94s 126ms/step - loss: 1.3882 - accuracy: 0.8410 - val_loss: 1.5301 - val_accuracy: 0.6581\n",
            "Epoch 10/20\n",
            "750/750 [==============================] - 95s 126ms/step - loss: 1.3950 - accuracy: 0.8334 - val_loss: 1.4215 - val_accuracy: 0.6895\n",
            "Epoch 11/20\n",
            "750/750 [==============================] - 96s 128ms/step - loss: 1.4008 - accuracy: 0.8363 - val_loss: 1.5271 - val_accuracy: 0.6666\n",
            "Epoch 12/20\n",
            "750/750 [==============================] - 95s 126ms/step - loss: 1.3414 - accuracy: 0.8465 - val_loss: 1.5895 - val_accuracy: 0.6604\n",
            "Epoch 13/20\n",
            "750/750 [==============================] - 96s 128ms/step - loss: 1.3483 - accuracy: 0.8374 - val_loss: 1.4943 - val_accuracy: 0.6757\n",
            "Epoch 14/20\n",
            "750/750 [==============================] - 95s 127ms/step - loss: 1.3481 - accuracy: 0.8406 - val_loss: 1.4982 - val_accuracy: 0.6760\n",
            "Epoch 15/20\n",
            "750/750 [==============================] - 97s 129ms/step - loss: 1.3577 - accuracy: 0.8420 - val_loss: 1.4837 - val_accuracy: 0.6758\n",
            "Epoch 16/20\n",
            "750/750 [==============================] - 97s 129ms/step - loss: 1.3324 - accuracy: 0.8370 - val_loss: 1.5194 - val_accuracy: 0.6699\n",
            "Epoch 17/20\n",
            "750/750 [==============================] - 97s 129ms/step - loss: 1.3223 - accuracy: 0.8466 - val_loss: 1.5547 - val_accuracy: 0.6747\n",
            "Epoch 18/20\n",
            "750/750 [==============================] - 97s 129ms/step - loss: 1.2909 - accuracy: 0.8441 - val_loss: 1.5848 - val_accuracy: 0.6531\n",
            "Epoch 19/20\n",
            "750/750 [==============================] - 95s 127ms/step - loss: 1.2938 - accuracy: 0.8439 - val_loss: 1.4534 - val_accuracy: 0.6837\n",
            "Epoch 20/20\n",
            "750/750 [==============================] - 95s 127ms/step - loss: 1.2732 - accuracy: 0.8445 - val_loss: 1.4876 - val_accuracy: 0.6723\n"
          ]
        }
      ],
      "source": [
        "aug_resnet50.compile(\n",
        "    loss='categorical_crossentropy',\n",
        "    optimizer=tf.keras.optimizers.SGD(lr=0.01),\n",
        "    metrics=['accuracy'],\n",
        ")\n",
        "\n",
        "history_resnet50_cutmix = aug_resnet50.fit(\n",
        "    ds_train_cutmix, # cutmix 적용한 데이터셋 사용\n",
        "    steps_per_epoch=int(ds_info.splits['train'].num_examples/16),\n",
        "    validation_steps=int(ds_info.splits['test'].num_examples/16),\n",
        "    epochs=EPOCH,\n",
        "    validation_data=ds_test_onehot,\n",
        "    verbose=1,\n",
        "    use_multiprocessing=True,\n",
        ")"
      ],
      "id": "eednmy4kl_nl"
    },
    {
      "cell_type": "code",
      "execution_count": null,
      "metadata": {
        "id": "oaDJfvj4oW-n",
        "colab": {
          "base_uri": "https://localhost:8080/",
          "height": 614
        },
        "outputId": "fb92ab08-b414-473a-de17-94e8bfc863ad"
      },
      "outputs": [
        {
          "output_type": "display_data",
          "data": {
            "text/plain": [
              "<Figure size 432x288 with 1 Axes>"
            ],
            "image/png": "[encoded data removed]"
          },
          "metadata": {
            "needs_background": "light"
          }
        },
        {
          "output_type": "stream",
          "name": "stdout",
          "text": [
            "tf.Tensor(\n",
            "[0.        0.        0.        0.        0.        0.        0.\n",
            " 0.        0.        0.        0.        0.        0.        0.\n",
            " 0.        0.        0.        0.        0.        0.        0.\n",
            " 0.        0.        0.        0.        0.        0.        0.\n",
            " 0.        0.        0.        0.        0.        0.        0.\n",
            " 0.        0.        0.        0.        0.        0.        0.\n",
            " 0.        0.        0.        0.        0.        0.        0.\n",
            " 0.        0.        0.        0.        0.        0.        0.\n",
            " 0.        0.        0.        0.        0.        0.        0.\n",
            " 0.2270484 0.        0.        0.        0.        0.        0.\n",
            " 0.        0.        0.        0.7729516 0.        0.        0.\n",
            " 0.        0.        0.        0.        0.        0.        0.\n",
            " 0.        0.        0.        0.        0.        0.        0.\n",
            " 0.        0.        0.        0.        0.        0.        0.\n",
            " 0.        0.        0.        0.        0.        0.        0.\n",
            " 0.        0.        0.        0.        0.        0.        0.\n",
            " 0.        0.        0.        0.        0.        0.        0.\n",
            " 0.       ], shape=(120,), dtype=float32)\n"
          ]
        }
      ],
      "source": [
        "#function for mixup\n",
        "def mixup_2_images(image_a, image_b, label_a, label_b):\n",
        "    ratio = tf.random.uniform([], 0, 1)\n",
        "    \n",
        "    if len(label_a.shape) == 0:\n",
        "        label_a = tf.one_hot(label_a, num_classes)\n",
        "    if len(label_b.shape) == 0:\n",
        "        label_b = tf.one_hot(label_b, num_classes)\n",
        "    mixed_image = (1 - ratio) * image_a + ratio*image_b\n",
        "    mixed_label = (1-ratio)*label_a + ratio * label_b\n",
        "    \n",
        "    return mixed_image, mixed_label\n",
        "\n",
        "mixed_img, mixed_label = mixup_2_images(image_a, image_b, label_a, label_b)\n",
        "plt.imshow(mixed_img.numpy())\n",
        "plt.show()\n",
        "print(mixed_label)"
      ],
      "id": "oaDJfvj4oW-n"
    },
    {
      "cell_type": "code",
      "execution_count": null,
      "metadata": {
        "id": "bHJmKfggoXPQ",
        "colab": {
          "base_uri": "https://localhost:8080/"
        },
        "outputId": "ddad8689-8dd7-43c6-af58-3f5315f0a839"
      },
      "outputs": [
        {
          "output_type": "stream",
          "name": "stdout",
          "text": [
            "=3\n"
          ]
        }
      ],
      "source": [
        "def mixup(image, label, prob=1.0, batch_size=16, img_size=224, num_classes=120):\n",
        "    mixed_imgs = []\n",
        "    mixed_labels = []\n",
        "\n",
        "    for i in range(batch_size):\n",
        "        image_a = image[i]\n",
        "        label_a = label[i]\n",
        "        j = tf.cast(tf.random.uniform([],0,batch_size), tf.int32)\n",
        "        image_b = image[j]\n",
        "        label_b = label[j]\n",
        "        mixed_img, mixed_label = mixup_2_images(image_a, image_b, label_a, label_b)\n",
        "        mixed_imgs.append(mixed_img)\n",
        "        mixed_labels.append(mixed_label)\n",
        "\n",
        "    mixed_imgs = tf.reshape(tf.stack(mixed_imgs), (batch_size, img_size, img_size, 3))\n",
        "    mixed_labels = tf.reshape(tf.stack(mixed_labels), (batch_size, num_classes))\n",
        "    return mixed_imgs, mixed_labels\n",
        "\n",
        "print('=3')"
      ],
      "id": "bHJmKfggoXPQ"
    },
    {
      "cell_type": "code",
      "execution_count": null,
      "metadata": {
        "id": "--1uXo3-oXSK"
      },
      "outputs": [],
      "source": [
        "ds_train_mixup = apply_normalize_on_dataset(ds_train, with_mixup=True)"
      ],
      "id": "--1uXo3-oXSK"
    },
    {
      "cell_type": "code",
      "execution_count": null,
      "metadata": {
        "id": "aWOzpsiVoXVl"
      },
      "outputs": [],
      "source": [
        ""
      ],
      "id": "aWOzpsiVoXVl"
    },
    {
      "cell_type": "code",
      "execution_count": null,
      "metadata": {
        "id": "b5_O41jFoXYY"
      },
      "outputs": [],
      "source": [
        ""
      ],
      "id": "b5_O41jFoXYY"
    },
    {
      "cell_type": "code",
      "execution_count": null,
      "metadata": {
        "id": "dQSMPWCVl1YM",
        "colab": {
          "base_uri": "https://localhost:8080/"
        },
        "outputId": "59fbc792-8c5c-4ade-8b4d-20338795ee80"
      },
      "outputs": [
        {
          "output_type": "stream",
          "name": "stdout",
          "text": [
            "=3\n"
          ]
        }
      ],
      "source": [
        "mixup_resnet50 = keras.models.Sequential([\n",
        "    keras.applications.resnet.ResNet50(\n",
        "        include_top=False,\n",
        "        weights='imagenet',\n",
        "        input_shape=(224,224,3),\n",
        "        pooling='avg',\n",
        "    ),\n",
        "    keras.layers.Dense(num_classes, activation='softmax')\n",
        "])\n",
        "print('=3')"
      ],
      "id": "dQSMPWCVl1YM"
    },
    {
      "cell_type": "code",
      "execution_count": null,
      "metadata": {
        "id": "2NkhUB0MmCdW",
        "colab": {
          "base_uri": "https://localhost:8080/"
        },
        "outputId": "ac368c1e-a812-4d60-df8e-2b88be3d051d"
      },
      "outputs": [
        {
          "output_type": "stream",
          "name": "stdout",
          "text": [
            "Epoch 1/20\n"
          ]
        },
        {
          "output_type": "stream",
          "name": "stderr",
          "text": [
            "/usr/local/lib/python3.7/dist-packages/keras/optimizer_v2/gradient_descent.py:102: UserWarning: The `lr` argument is deprecated, use `learning_rate` instead.\n",
            "  super(SGD, self).__init__(name, **kwargs)\n"
          ]
        },
        {
          "output_type": "stream",
          "name": "stdout",
          "text": [
            "750/750 [==============================] - 103s 125ms/step - loss: 1.7820 - accuracy: 0.8561 - val_loss: 1.5990 - val_accuracy: 0.6526\n",
            "Epoch 2/20\n",
            "750/750 [==============================] - 93s 124ms/step - loss: 1.7255 - accuracy: 0.8606 - val_loss: 1.9015 - val_accuracy: 0.5915\n",
            "Epoch 3/20\n",
            "750/750 [==============================] - 93s 125ms/step - loss: 1.7188 - accuracy: 0.8627 - val_loss: 1.8540 - val_accuracy: 0.6042\n",
            "Epoch 4/20\n",
            "750/750 [==============================] - 95s 127ms/step - loss: 1.6915 - accuracy: 0.8669 - val_loss: 1.5647 - val_accuracy: 0.6811\n",
            "Epoch 5/20\n",
            "750/750 [==============================] - 94s 125ms/step - loss: 1.6638 - accuracy: 0.8772 - val_loss: 1.6352 - val_accuracy: 0.6438\n",
            "Epoch 6/20\n",
            "750/750 [==============================] - 94s 125ms/step - loss: 1.6705 - accuracy: 0.8678 - val_loss: 1.6168 - val_accuracy: 0.6614\n",
            "Epoch 7/20\n",
            "750/750 [==============================] - 96s 128ms/step - loss: 1.6485 - accuracy: 0.8736 - val_loss: 1.4708 - val_accuracy: 0.6789\n",
            "Epoch 8/20\n",
            "750/750 [==============================] - 96s 128ms/step - loss: 1.6142 - accuracy: 0.8767 - val_loss: 1.5375 - val_accuracy: 0.6775\n",
            "Epoch 9/20\n",
            "750/750 [==============================] - 98s 131ms/step - loss: 1.6255 - accuracy: 0.8737 - val_loss: 1.5449 - val_accuracy: 0.6751\n",
            "Epoch 10/20\n",
            "750/750 [==============================] - 97s 129ms/step - loss: 1.6040 - accuracy: 0.8789 - val_loss: 1.6137 - val_accuracy: 0.6634\n",
            "Epoch 11/20\n",
            "750/750 [==============================] - 95s 127ms/step - loss: 1.5918 - accuracy: 0.8726 - val_loss: 1.5501 - val_accuracy: 0.6694\n",
            "Epoch 12/20\n",
            "750/750 [==============================] - 97s 129ms/step - loss: 1.5916 - accuracy: 0.8805 - val_loss: 1.5937 - val_accuracy: 0.6606\n",
            "Epoch 13/20\n",
            "750/750 [==============================] - 95s 127ms/step - loss: 1.5520 - accuracy: 0.8830 - val_loss: 1.5513 - val_accuracy: 0.6637\n",
            "Epoch 14/20\n",
            "750/750 [==============================] - 97s 129ms/step - loss: 1.5525 - accuracy: 0.8824 - val_loss: 1.5282 - val_accuracy: 0.6760\n",
            "Epoch 15/20\n",
            "750/750 [==============================] - 95s 127ms/step - loss: 1.5422 - accuracy: 0.8867 - val_loss: 1.4733 - val_accuracy: 0.6799\n",
            "Epoch 16/20\n",
            "750/750 [==============================] - 97s 129ms/step - loss: 1.5562 - accuracy: 0.8769 - val_loss: 1.6543 - val_accuracy: 0.6501\n",
            "Epoch 17/20\n",
            "750/750 [==============================] - 95s 127ms/step - loss: 1.5203 - accuracy: 0.8911 - val_loss: 1.5009 - val_accuracy: 0.6704\n",
            "Epoch 18/20\n",
            "750/750 [==============================] - 97s 129ms/step - loss: 1.5394 - accuracy: 0.8818 - val_loss: 1.5572 - val_accuracy: 0.6595\n",
            "Epoch 19/20\n",
            "750/750 [==============================] - 97s 129ms/step - loss: 1.5437 - accuracy: 0.8822 - val_loss: 1.6161 - val_accuracy: 0.6490\n",
            "Epoch 20/20\n",
            "750/750 [==============================] - 95s 127ms/step - loss: 1.5113 - accuracy: 0.8845 - val_loss: 1.6313 - val_accuracy: 0.6549\n"
          ]
        }
      ],
      "source": [
        "aug_resnet50.compile(\n",
        "    loss='categorical_crossentropy',\n",
        "    optimizer=tf.keras.optimizers.SGD(lr=0.01),\n",
        "    metrics=['accuracy'],\n",
        ")\n",
        "\n",
        "history_resnet50_mixup = aug_resnet50.fit(\n",
        "    ds_train_mixup, # mixup 적용한 데이터셋 사용\n",
        "    steps_per_epoch=int(ds_info.splits['train'].num_examples/16),\n",
        "    validation_steps=int(ds_info.splits['test'].num_examples/16),\n",
        "    epochs=EPOCH,\n",
        "    validation_data=ds_test_onehot,\n",
        "    verbose=1,\n",
        "    use_multiprocessing=True,\n",
        ")"
      ],
      "id": "2NkhUB0MmCdW"
    },
    {
      "cell_type": "code",
      "execution_count": null,
      "metadata": {
        "id": "cf7932e6",
        "colab": {
          "base_uri": "https://localhost:8080/",
          "height": 295
        },
        "outputId": "15b1fef5-6766-4c79-92b5-6c887ea61f25"
      },
      "outputs": [
        {
          "output_type": "display_data",
          "data": {
            "text/plain": [
              "<Figure size 432x288 with 1 Axes>"
            ],
            "image/png": "[encoded data removed]"
          },
          "metadata": {
            "needs_background": "light"
          }
        }
      ],
      "source": [
        "plt.plot(history_resnet50_no_aug.history['val_accuracy'], 'r')\n",
        "plt.plot(history_resnet50_aug.history['val_accuracy'], 'b')\n",
        "plt.plot(history_resnet50_cutmix.history['val_accuracy'], 'y')\n",
        "plt.plot(history_resnet50_mixup.history['val_accuracy'], 'g')\n",
        "plt.title('Model validation accuracy')\n",
        "plt.ylabel('Accuracy')\n",
        "plt.xlabel('Epoch')\n",
        "plt.legend(['No Augmentation', 'With Augmentation', 'cutmix', 'mixup'], loc='upper left')\n",
        "plt.show()"
      ],
      "id": "cf7932e6"
    },
    {
      "cell_type": "code",
      "execution_count": null,
      "metadata": {
        "id": "7d3ec903",
        "colab": {
          "base_uri": "https://localhost:8080/",
          "height": 295
        },
        "outputId": "05c06904-3ff1-47b2-90d3-277d1a69f0d5"
      },
      "outputs": [
        {
          "output_type": "display_data",
          "data": {
            "text/plain": [
              "<Figure size 432x288 with 1 Axes>"
            ],
            "image/png": "[encoded data removed]"
          },
          "metadata": {
            "needs_background": "light"
          }
        }
      ],
      "source": [
        "plt.plot(history_resnet50_no_aug.history['val_accuracy'], 'r')\n",
        "plt.plot(history_resnet50_aug.history['val_accuracy'], 'b')\n",
        "plt.plot(history_resnet50_cutmix.history['val_accuracy'], 'y')\n",
        "plt.plot(history_resnet50_mixup.history['val_accuracy'], 'g')\n",
        "plt.title('Model validation accuracy')\n",
        "plt.ylabel('Accuracy')\n",
        "plt.xlabel('Epoch')\n",
        "plt.legend(['No Augmentation', 'With Augmentation', 'cutmix', 'mixup'], loc='upper left')\n",
        "plt.grid(True)\n",
        "plt.ylim(0.50, 0.80)    # 출력하고자 하는  Accuracy 범위를 지정해 주세요. \n",
        "#plt.ylim(0.72, 0.76)  # EPOCH=20으로 진행한다면 이 범위가 적당합니다. \n",
        "plt.show()"
      ],
      "id": "7d3ec903"
    },
    {
      "cell_type": "code",
      "source": [
        ""
      ],
      "metadata": {
        "id": "efUCAoqdce66"
      },
      "id": "efUCAoqdce66",
      "execution_count": null,
      "outputs": []
    }
  ],
  "metadata": {
    "accelerator": "GPU",
    "colab": {
      "collapsed_sections": [],
      "name": "going_deeper_4.ipynb",
      "provenance": [],
      "include_colab_link": true
    },
    "kernelspec": {
      "display_name": "Python 3 (ipykernel)",
      "language": "python",
      "name": "python3"
    },
    "language_info": {
      "codemirror_mode": {
        "name": "ipython",
        "version": 3
      },
      "file_extension": ".py",
      "mimetype": "text/x-python",
      "name": "python",
      "nbconvert_exporter": "python",
      "pygments_lexer": "ipython3",
      "version": "3.9.7"
    },
    "widgets": {
      "application/vnd.jupyter.widget-state+json": {
        "86d0669a645d4731b74a0290a5ad7964": {
          "model_module": "@jupyter-widgets/controls",
          "model_name": "HBoxModel",
          "model_module_version": "1.5.0",
          "state": {
            "_dom_classes": [],
            "_model_module": "@jupyter-widgets/controls",
            "_model_module_version": "1.5.0",
            "_model_name": "HBoxModel",
            "_view_count": null,
            "_view_module": "@jupyter-widgets/controls",
            "_view_module_version": "1.5.0",
            "_view_name": "HBoxView",
            "box_style": "",
            "children": [
              "IPY_MODEL_2e1628c6f3cf4588817eb5d47eef98c9",
              "IPY_MODEL_441e9d3d391a44c1bb31a997c070a40b",
              "IPY_MODEL_ec29a4a007f54f36bd26a0ad0d7be36b"
            ],
            "layout": "IPY_MODEL_ac534b8bfa1e43458650fb3d6e1baf5f"
          }
        },
        "2e1628c6f3cf4588817eb5d47eef98c9": {
          "model_module": "@jupyter-widgets/controls",
          "model_name": "HTMLModel",
          "model_module_version": "1.5.0",
          "state": {
            "_dom_classes": [],
            "_model_module": "@jupyter-widgets/controls",
            "_model_module_version": "1.5.0",
            "_model_name": "HTMLModel",
            "_view_count": null,
            "_view_module": "@jupyter-widgets/controls",
            "_view_module_version": "1.5.0",
            "_view_name": "HTMLView",
            "description": "",
            "description_tooltip": null,
            "layout": "IPY_MODEL_b46add71aaa74103ba819627e0077abb",
            "placeholder": "​",
            "style": "IPY_MODEL_90d03b11120047f0879db69d8268d3a8",
            "value": "Dl Completed...: 100%"
          }
        },
        "441e9d3d391a44c1bb31a997c070a40b": {
          "model_module": "@jupyter-widgets/controls",
          "model_name": "FloatProgressModel",
          "model_module_version": "1.5.0",
          "state": {
            "_dom_classes": [],
            "_model_module": "@jupyter-widgets/controls",
            "_model_module_version": "1.5.0",
            "_model_name": "FloatProgressModel",
            "_view_count": null,
            "_view_module": "@jupyter-widgets/controls",
            "_view_module_version": "1.5.0",
            "_view_name": "ProgressView",
            "bar_style": "success",
            "description": "",
            "description_tooltip": null,
            "layout": "IPY_MODEL_12407f06f85d4c14aa1859d7edd3300a",
            "max": 1,
            "min": 0,
            "orientation": "horizontal",
            "style": "IPY_MODEL_817f85a0d8d44895a9d4f12bd67fc4ae",
            "value": 1
          }
        },
        "ec29a4a007f54f36bd26a0ad0d7be36b": {
          "model_module": "@jupyter-widgets/controls",
          "model_name": "HTMLModel",
          "model_module_version": "1.5.0",
          "state": {
            "_dom_classes": [],
            "_model_module": "@jupyter-widgets/controls",
            "_model_module_version": "1.5.0",
            "_model_name": "HTMLModel",
            "_view_count": null,
            "_view_module": "@jupyter-widgets/controls",
            "_view_module_version": "1.5.0",
            "_view_name": "HTMLView",
            "description": "",
            "description_tooltip": null,
            "layout": "IPY_MODEL_8abac94c351d4c65b9e69881a37eb45e",
            "placeholder": "​",
            "style": "IPY_MODEL_ffaef39c879743f7a23a86f5dcd3566b",
            "value": " 1/1 [07:17&lt;00:00, 437.66s/ url]"
          }
        },
        "ac534b8bfa1e43458650fb3d6e1baf5f": {
          "model_module": "@jupyter-widgets/base",
          "model_name": "LayoutModel",
          "model_module_version": "1.2.0",
          "state": {
            "_model_module": "@jupyter-widgets/base",
            "_model_module_version": "1.2.0",
            "_model_name": "LayoutModel",
            "_view_count": null,
            "_view_module": "@jupyter-widgets/base",
            "_view_module_version": "1.2.0",
            "_view_name": "LayoutView",
            "align_content": null,
            "align_items": null,
            "align_self": null,
            "border": null,
            "bottom": null,
            "display": null,
            "flex": null,
            "flex_flow": null,
            "grid_area": null,
            "grid_auto_columns": null,
            "grid_auto_flow": null,
            "grid_auto_rows": null,
            "grid_column": null,
            "grid_gap": null,
            "grid_row": null,
            "grid_template_areas": null,
            "grid_template_columns": null,
            "grid_template_rows": null,
            "height": null,
            "justify_content": null,
            "justify_items": null,
            "left": null,
            "margin": null,
            "max_height": null,
            "max_width": null,
            "min_height": null,
            "min_width": null,
            "object_fit": null,
            "object_position": null,
            "order": null,
            "overflow": null,
            "overflow_x": null,
            "overflow_y": null,
            "padding": null,
            "right": null,
            "top": null,
            "visibility": null,
            "width": null
          }
        },
        "b46add71aaa74103ba819627e0077abb": {
          "model_module": "@jupyter-widgets/base",
          "model_name": "LayoutModel",
          "model_module_version": "1.2.0",
          "state": {
            "_model_module": "@jupyter-widgets/base",
            "_model_module_version": "1.2.0",
            "_model_name": "LayoutModel",
            "_view_count": null,
            "_view_module": "@jupyter-widgets/base",
            "_view_module_version": "1.2.0",
            "_view_name": "LayoutView",
            "align_content": null,
            "align_items": null,
            "align_self": null,
            "border": null,
            "bottom": null,
            "display": null,
            "flex": null,
            "flex_flow": null,
            "grid_area": null,
            "grid_auto_columns": null,
            "grid_auto_flow": null,
            "grid_auto_rows": null,
            "grid_column": null,
            "grid_gap": null,
            "grid_row": null,
            "grid_template_areas": null,
            "grid_template_columns": null,
            "grid_template_rows": null,
            "height": null,
            "justify_content": null,
            "justify_items": null,
            "left": null,
            "margin": null,
            "max_height": null,
            "max_width": null,
            "min_height": null,
            "min_width": null,
            "object_fit": null,
            "object_position": null,
            "order": null,
            "overflow": null,
            "overflow_x": null,
            "overflow_y": null,
            "padding": null,
            "right": null,
            "top": null,
            "visibility": null,
            "width": null
          }
        },
        "90d03b11120047f0879db69d8268d3a8": {
          "model_module": "@jupyter-widgets/controls",
          "model_name": "DescriptionStyleModel",
          "model_module_version": "1.5.0",
          "state": {
            "_model_module": "@jupyter-widgets/controls",
            "_model_module_version": "1.5.0",
            "_model_name": "DescriptionStyleModel",
            "_view_count": null,
            "_view_module": "@jupyter-widgets/base",
            "_view_module_version": "1.2.0",
            "_view_name": "StyleView",
            "description_width": ""
          }
        },
        "12407f06f85d4c14aa1859d7edd3300a": {
          "model_module": "@jupyter-widgets/base",
          "model_name": "LayoutModel",
          "model_module_version": "1.2.0",
          "state": {
            "_model_module": "@jupyter-widgets/base",
            "_model_module_version": "1.2.0",
            "_model_name": "LayoutModel",
            "_view_count": null,
            "_view_module": "@jupyter-widgets/base",
            "_view_module_version": "1.2.0",
            "_view_name": "LayoutView",
            "align_content": null,
            "align_items": null,
            "align_self": null,
            "border": null,
            "bottom": null,
            "display": null,
            "flex": null,
            "flex_flow": null,
            "grid_area": null,
            "grid_auto_columns": null,
            "grid_auto_flow": null,
            "grid_auto_rows": null,
            "grid_column": null,
            "grid_gap": null,
            "grid_row": null,
            "grid_template_areas": null,
            "grid_template_columns": null,
            "grid_template_rows": null,
            "height": null,
            "justify_content": null,
            "justify_items": null,
            "left": null,
            "margin": null,
            "max_height": null,
            "max_width": null,
            "min_height": null,
            "min_width": null,
            "object_fit": null,
            "object_position": null,
            "order": null,
            "overflow": null,
            "overflow_x": null,
            "overflow_y": null,
            "padding": null,
            "right": null,
            "top": null,
            "visibility": null,
            "width": "20px"
          }
        },
        "817f85a0d8d44895a9d4f12bd67fc4ae": {
          "model_module": "@jupyter-widgets/controls",
          "model_name": "ProgressStyleModel",
          "model_module_version": "1.5.0",
          "state": {
            "_model_module": "@jupyter-widgets/controls",
            "_model_module_version": "1.5.0",
            "_model_name": "ProgressStyleModel",
            "_view_count": null,
            "_view_module": "@jupyter-widgets/base",
            "_view_module_version": "1.2.0",
            "_view_name": "StyleView",
            "bar_color": null,
            "description_width": ""
          }
        },
        "8abac94c351d4c65b9e69881a37eb45e": {
          "model_module": "@jupyter-widgets/base",
          "model_name": "LayoutModel",
          "model_module_version": "1.2.0",
          "state": {
            "_model_module": "@jupyter-widgets/base",
            "_model_module_version": "1.2.0",
            "_model_name": "LayoutModel",
            "_view_count": null,
            "_view_module": "@jupyter-widgets/base",
            "_view_module_version": "1.2.0",
            "_view_name": "LayoutView",
            "align_content": null,
            "align_items": null,
            "align_self": null,
            "border": null,
            "bottom": null,
            "display": null,
            "flex": null,
            "flex_flow": null,
            "grid_area": null,
            "grid_auto_columns": null,
            "grid_auto_flow": null,
            "grid_auto_rows": null,
            "grid_column": null,
            "grid_gap": null,
            "grid_row": null,
            "grid_template_areas": null,
            "grid_template_columns": null,
            "grid_template_rows": null,
            "height": null,
            "justify_content": null,
            "justify_items": null,
            "left": null,
            "margin": null,
            "max_height": null,
            "max_width": null,
            "min_height": null,
            "min_width": null,
            "object_fit": null,
            "object_position": null,
            "order": null,
            "overflow": null,
            "overflow_x": null,
            "overflow_y": null,
            "padding": null,
            "right": null,
            "top": null,
            "visibility": null,
            "width": null
          }
        },
        "ffaef39c879743f7a23a86f5dcd3566b": {
          "model_module": "@jupyter-widgets/controls",
          "model_name": "DescriptionStyleModel",
          "model_module_version": "1.5.0",
          "state": {
            "_model_module": "@jupyter-widgets/controls",
            "_model_module_version": "1.5.0",
            "_model_name": "DescriptionStyleModel",
            "_view_count": null,
            "_view_module": "@jupyter-widgets/base",
            "_view_module_version": "1.2.0",
            "_view_name": "StyleView",
            "description_width": ""
          }
        },
        "e358417347e34d2f8e258fb1b242f92d": {
          "model_module": "@jupyter-widgets/controls",
          "model_name": "HBoxModel",
          "model_module_version": "1.5.0",
          "state": {
            "_dom_classes": [],
            "_model_module": "@jupyter-widgets/controls",
            "_model_module_version": "1.5.0",
            "_model_name": "HBoxModel",
            "_view_count": null,
            "_view_module": "@jupyter-widgets/controls",
            "_view_module_version": "1.5.0",
            "_view_name": "HBoxView",
            "box_style": "",
            "children": [
              "IPY_MODEL_c21d3a6798ef4c0481e414400007e3a0",
              "IPY_MODEL_ea2b732cf31e4c0b9e7a9502049bd5e8",
              "IPY_MODEL_989ba327984644ed8b3379e4d013e7b4"
            ],
            "layout": "IPY_MODEL_76fde4728356429a9740ee25df3a6f25"
          }
        },
        "c21d3a6798ef4c0481e414400007e3a0": {
          "model_module": "@jupyter-widgets/controls",
          "model_name": "HTMLModel",
          "model_module_version": "1.5.0",
          "state": {
            "_dom_classes": [],
            "_model_module": "@jupyter-widgets/controls",
            "_model_module_version": "1.5.0",
            "_model_name": "HTMLModel",
            "_view_count": null,
            "_view_module": "@jupyter-widgets/controls",
            "_view_module_version": "1.5.0",
            "_view_name": "HTMLView",
            "description": "",
            "description_tooltip": null,
            "layout": "IPY_MODEL_8cc5a815ab4942109a6fcd0d5b42f7df",
            "placeholder": "​",
            "style": "IPY_MODEL_955b9bd7e79141dab9fc17d90536de48",
            "value": "Dl Size...: 100%"
          }
        },
        "ea2b732cf31e4c0b9e7a9502049bd5e8": {
          "model_module": "@jupyter-widgets/controls",
          "model_name": "FloatProgressModel",
          "model_module_version": "1.5.0",
          "state": {
            "_dom_classes": [],
            "_model_module": "@jupyter-widgets/controls",
            "_model_module_version": "1.5.0",
            "_model_name": "FloatProgressModel",
            "_view_count": null,
            "_view_module": "@jupyter-widgets/controls",
            "_view_module_version": "1.5.0",
            "_view_name": "ProgressView",
            "bar_style": "success",
            "description": "",
            "description_tooltip": null,
            "layout": "IPY_MODEL_02b8af9142794a8199736a6c71959fd2",
            "max": 1,
            "min": 0,
            "orientation": "horizontal",
            "style": "IPY_MODEL_4ea156b2f8d34961b7d1466270f0cfca",
            "value": 1
          }
        },
        "989ba327984644ed8b3379e4d013e7b4": {
          "model_module": "@jupyter-widgets/controls",
          "model_name": "HTMLModel",
          "model_module_version": "1.5.0",
          "state": {
            "_dom_classes": [],
            "_model_module": "@jupyter-widgets/controls",
            "_model_module_version": "1.5.0",
            "_model_name": "HTMLModel",
            "_view_count": null,
            "_view_module": "@jupyter-widgets/controls",
            "_view_module_version": "1.5.0",
            "_view_name": "HTMLView",
            "description": "",
            "description_tooltip": null,
            "layout": "IPY_MODEL_d02c417498034c3a9f0e8e21875cbe63",
            "placeholder": "​",
            "style": "IPY_MODEL_1876563594f9443bbf502c27dcab7af3",
            "value": " 756/756 [07:17&lt;00:00,  1.80 MiB/s]"
          }
        },
        "76fde4728356429a9740ee25df3a6f25": {
          "model_module": "@jupyter-widgets/base",
          "model_name": "LayoutModel",
          "model_module_version": "1.2.0",
          "state": {
            "_model_module": "@jupyter-widgets/base",
            "_model_module_version": "1.2.0",
            "_model_name": "LayoutModel",
            "_view_count": null,
            "_view_module": "@jupyter-widgets/base",
            "_view_module_version": "1.2.0",
            "_view_name": "LayoutView",
            "align_content": null,
            "align_items": null,
            "align_self": null,
            "border": null,
            "bottom": null,
            "display": null,
            "flex": null,
            "flex_flow": null,
            "grid_area": null,
            "grid_auto_columns": null,
            "grid_auto_flow": null,
            "grid_auto_rows": null,
            "grid_column": null,
            "grid_gap": null,
            "grid_row": null,
            "grid_template_areas": null,
            "grid_template_columns": null,
            "grid_template_rows": null,
            "height": null,
            "justify_content": null,
            "justify_items": null,
            "left": null,
            "margin": null,
            "max_height": null,
            "max_width": null,
            "min_height": null,
            "min_width": null,
            "object_fit": null,
            "object_position": null,
            "order": null,
            "overflow": null,
            "overflow_x": null,
            "overflow_y": null,
            "padding": null,
            "right": null,
            "top": null,
            "visibility": null,
            "width": null
          }
        },
        "8cc5a815ab4942109a6fcd0d5b42f7df": {
          "model_module": "@jupyter-widgets/base",
          "model_name": "LayoutModel",
          "model_module_version": "1.2.0",
          "state": {
            "_model_module": "@jupyter-widgets/base",
            "_model_module_version": "1.2.0",
            "_model_name": "LayoutModel",
            "_view_count": null,
            "_view_module": "@jupyter-widgets/base",
            "_view_module_version": "1.2.0",
            "_view_name": "LayoutView",
            "align_content": null,
            "align_items": null,
            "align_self": null,
            "border": null,
            "bottom": null,
            "display": null,
            "flex": null,
            "flex_flow": null,
            "grid_area": null,
            "grid_auto_columns": null,
            "grid_auto_flow": null,
            "grid_auto_rows": null,
            "grid_column": null,
            "grid_gap": null,
            "grid_row": null,
            "grid_template_areas": null,
            "grid_template_columns": null,
            "grid_template_rows": null,
            "height": null,
            "justify_content": null,
            "justify_items": null,
            "left": null,
            "margin": null,
            "max_height": null,
            "max_width": null,
            "min_height": null,
            "min_width": null,
            "object_fit": null,
            "object_position": null,
            "order": null,
            "overflow": null,
            "overflow_x": null,
            "overflow_y": null,
            "padding": null,
            "right": null,
            "top": null,
            "visibility": null,
            "width": null
          }
        },
        "955b9bd7e79141dab9fc17d90536de48": {
          "model_module": "@jupyter-widgets/controls",
          "model_name": "DescriptionStyleModel",
          "model_module_version": "1.5.0",
          "state": {
            "_model_module": "@jupyter-widgets/controls",
            "_model_module_version": "1.5.0",
            "_model_name": "DescriptionStyleModel",
            "_view_count": null,
            "_view_module": "@jupyter-widgets/base",
            "_view_module_version": "1.2.0",
            "_view_name": "StyleView",
            "description_width": ""
          }
        },
        "02b8af9142794a8199736a6c71959fd2": {
          "model_module": "@jupyter-widgets/base",
          "model_name": "LayoutModel",
          "model_module_version": "1.2.0",
          "state": {
            "_model_module": "@jupyter-widgets/base",
            "_model_module_version": "1.2.0",
            "_model_name": "LayoutModel",
            "_view_count": null,
            "_view_module": "@jupyter-widgets/base",
            "_view_module_version": "1.2.0",
            "_view_name": "LayoutView",
            "align_content": null,
            "align_items": null,
            "align_self": null,
            "border": null,
            "bottom": null,
            "display": null,
            "flex": null,
            "flex_flow": null,
            "grid_area": null,
            "grid_auto_columns": null,
            "grid_auto_flow": null,
            "grid_auto_rows": null,
            "grid_column": null,
            "grid_gap": null,
            "grid_row": null,
            "grid_template_areas": null,
            "grid_template_columns": null,
            "grid_template_rows": null,
            "height": null,
            "justify_content": null,
            "justify_items": null,
            "left": null,
            "margin": null,
            "max_height": null,
            "max_width": null,
            "min_height": null,
            "min_width": null,
            "object_fit": null,
            "object_position": null,
            "order": null,
            "overflow": null,
            "overflow_x": null,
            "overflow_y": null,
            "padding": null,
            "right": null,
            "top": null,
            "visibility": null,
            "width": "20px"
          }
        },
        "4ea156b2f8d34961b7d1466270f0cfca": {
          "model_module": "@jupyter-widgets/controls",
          "model_name": "ProgressStyleModel",
          "model_module_version": "1.5.0",
          "state": {
            "_model_module": "@jupyter-widgets/controls",
            "_model_module_version": "1.5.0",
            "_model_name": "ProgressStyleModel",
            "_view_count": null,
            "_view_module": "@jupyter-widgets/base",
            "_view_module_version": "1.2.0",
            "_view_name": "StyleView",
            "bar_color": null,
            "description_width": ""
          }
        },
        "d02c417498034c3a9f0e8e21875cbe63": {
          "model_module": "@jupyter-widgets/base",
          "model_name": "LayoutModel",
          "model_module_version": "1.2.0",
          "state": {
            "_model_module": "@jupyter-widgets/base",
            "_model_module_version": "1.2.0",
            "_model_name": "LayoutModel",
            "_view_count": null,
            "_view_module": "@jupyter-widgets/base",
            "_view_module_version": "1.2.0",
            "_view_name": "LayoutView",
            "align_content": null,
            "align_items": null,
            "align_self": null,
            "border": null,
            "bottom": null,
            "display": null,
            "flex": null,
            "flex_flow": null,
            "grid_area": null,
            "grid_auto_columns": null,
            "grid_auto_flow": null,
            "grid_auto_rows": null,
            "grid_column": null,
            "grid_gap": null,
            "grid_row": null,
            "grid_template_areas": null,
            "grid_template_columns": null,
            "grid_template_rows": null,
            "height": null,
            "justify_content": null,
            "justify_items": null,
            "left": null,
            "margin": null,
            "max_height": null,
            "max_width": null,
            "min_height": null,
            "min_width": null,
            "object_fit": null,
            "object_position": null,
            "order": null,
            "overflow": null,
            "overflow_x": null,
            "overflow_y": null,
            "padding": null,
            "right": null,
            "top": null,
            "visibility": null,
            "width": null
          }
        },
        "1876563594f9443bbf502c27dcab7af3": {
          "model_module": "@jupyter-widgets/controls",
          "model_name": "DescriptionStyleModel",
          "model_module_version": "1.5.0",
          "state": {
            "_model_module": "@jupyter-widgets/controls",
            "_model_module_version": "1.5.0",
            "_model_name": "DescriptionStyleModel",
            "_view_count": null,
            "_view_module": "@jupyter-widgets/base",
            "_view_module_version": "1.2.0",
            "_view_name": "StyleView",
            "description_width": ""
          }
        },
        "c3fa71a9f4c9438b9de4f3fed9331c1d": {
          "model_module": "@jupyter-widgets/controls",
          "model_name": "HBoxModel",
          "model_module_version": "1.5.0",
          "state": {
            "_dom_classes": [],
            "_model_module": "@jupyter-widgets/controls",
            "_model_module_version": "1.5.0",
            "_model_name": "HBoxModel",
            "_view_count": null,
            "_view_module": "@jupyter-widgets/controls",
            "_view_module_version": "1.5.0",
            "_view_name": "HBoxView",
            "box_style": "",
            "children": [
              "IPY_MODEL_4901c0d35fc84b8cb8ab705f0de111e3",
              "IPY_MODEL_554442f730d049ff97cfcd2a4a6ccb44",
              "IPY_MODEL_8b192a781037402e920b108508e618df"
            ],
            "layout": "IPY_MODEL_4ca1b9d287124657a0672136d69fd2a4"
          }
        },
        "4901c0d35fc84b8cb8ab705f0de111e3": {
          "model_module": "@jupyter-widgets/controls",
          "model_name": "HTMLModel",
          "model_module_version": "1.5.0",
          "state": {
            "_dom_classes": [],
            "_model_module": "@jupyter-widgets/controls",
            "_model_module_version": "1.5.0",
            "_model_name": "HTMLModel",
            "_view_count": null,
            "_view_module": "@jupyter-widgets/controls",
            "_view_module_version": "1.5.0",
            "_view_name": "HTMLView",
            "description": "",
            "description_tooltip": null,
            "layout": "IPY_MODEL_588870db2825481d8a6f2237103eabaa",
            "placeholder": "​",
            "style": "IPY_MODEL_b02d24f7c4c74ec79c6b20cd73553bd5",
            "value": "Dl Completed...: 100%"
          }
        },
        "554442f730d049ff97cfcd2a4a6ccb44": {
          "model_module": "@jupyter-widgets/controls",
          "model_name": "FloatProgressModel",
          "model_module_version": "1.5.0",
          "state": {
            "_dom_classes": [],
            "_model_module": "@jupyter-widgets/controls",
            "_model_module_version": "1.5.0",
            "_model_name": "FloatProgressModel",
            "_view_count": null,
            "_view_module": "@jupyter-widgets/controls",
            "_view_module_version": "1.5.0",
            "_view_name": "ProgressView",
            "bar_style": "success",
            "description": "",
            "description_tooltip": null,
            "layout": "IPY_MODEL_0ba8aa118c0740d7b4ec1a8ea315f7ad",
            "max": 1,
            "min": 0,
            "orientation": "horizontal",
            "style": "IPY_MODEL_83a71996ac7840c1b0248f403a7e9e91",
            "value": 1
          }
        },
        "8b192a781037402e920b108508e618df": {
          "model_module": "@jupyter-widgets/controls",
          "model_name": "HTMLModel",
          "model_module_version": "1.5.0",
          "state": {
            "_dom_classes": [],
            "_model_module": "@jupyter-widgets/controls",
            "_model_module_version": "1.5.0",
            "_model_name": "HTMLModel",
            "_view_count": null,
            "_view_module": "@jupyter-widgets/controls",
            "_view_module_version": "1.5.0",
            "_view_name": "HTMLView",
            "description": "",
            "description_tooltip": null,
            "layout": "IPY_MODEL_db4bea15b95a4650ab87ab114f20cfa2",
            "placeholder": "​",
            "style": "IPY_MODEL_051e6738f84f4ba9aa99064096e1c66f",
            "value": " 2/2 [00:35&lt;00:00, 18.90s/ url]"
          }
        },
        "4ca1b9d287124657a0672136d69fd2a4": {
          "model_module": "@jupyter-widgets/base",
          "model_name": "LayoutModel",
          "model_module_version": "1.2.0",
          "state": {
            "_model_module": "@jupyter-widgets/base",
            "_model_module_version": "1.2.0",
            "_model_name": "LayoutModel",
            "_view_count": null,
            "_view_module": "@jupyter-widgets/base",
            "_view_module_version": "1.2.0",
            "_view_name": "LayoutView",
            "align_content": null,
            "align_items": null,
            "align_self": null,
            "border": null,
            "bottom": null,
            "display": null,
            "flex": null,
            "flex_flow": null,
            "grid_area": null,
            "grid_auto_columns": null,
            "grid_auto_flow": null,
            "grid_auto_rows": null,
            "grid_column": null,
            "grid_gap": null,
            "grid_row": null,
            "grid_template_areas": null,
            "grid_template_columns": null,
            "grid_template_rows": null,
            "height": null,
            "justify_content": null,
            "justify_items": null,
            "left": null,
            "margin": null,
            "max_height": null,
            "max_width": null,
            "min_height": null,
            "min_width": null,
            "object_fit": null,
            "object_position": null,
            "order": null,
            "overflow": null,
            "overflow_x": null,
            "overflow_y": null,
            "padding": null,
            "right": null,
            "top": null,
            "visibility": null,
            "width": null
          }
        },
        "588870db2825481d8a6f2237103eabaa": {
          "model_module": "@jupyter-widgets/base",
          "model_name": "LayoutModel",
          "model_module_version": "1.2.0",
          "state": {
            "_model_module": "@jupyter-widgets/base",
            "_model_module_version": "1.2.0",
            "_model_name": "LayoutModel",
            "_view_count": null,
            "_view_module": "@jupyter-widgets/base",
            "_view_module_version": "1.2.0",
            "_view_name": "LayoutView",
            "align_content": null,
            "align_items": null,
            "align_self": null,
            "border": null,
            "bottom": null,
            "display": null,
            "flex": null,
            "flex_flow": null,
            "grid_area": null,
            "grid_auto_columns": null,
            "grid_auto_flow": null,
            "grid_auto_rows": null,
            "grid_column": null,
            "grid_gap": null,
            "grid_row": null,
            "grid_template_areas": null,
            "grid_template_columns": null,
            "grid_template_rows": null,
            "height": null,
            "justify_content": null,
            "justify_items": null,
            "left": null,
            "margin": null,
            "max_height": null,
            "max_width": null,
            "min_height": null,
            "min_width": null,
            "object_fit": null,
            "object_position": null,
            "order": null,
            "overflow": null,
            "overflow_x": null,
            "overflow_y": null,
            "padding": null,
            "right": null,
            "top": null,
            "visibility": null,
            "width": null
          }
        },
        "b02d24f7c4c74ec79c6b20cd73553bd5": {
          "model_module": "@jupyter-widgets/controls",
          "model_name": "DescriptionStyleModel",
          "model_module_version": "1.5.0",
          "state": {
            "_model_module": "@jupyter-widgets/controls",
            "_model_module_version": "1.5.0",
            "_model_name": "DescriptionStyleModel",
            "_view_count": null,
            "_view_module": "@jupyter-widgets/base",
            "_view_module_version": "1.2.0",
            "_view_name": "StyleView",
            "description_width": ""
          }
        },
        "0ba8aa118c0740d7b4ec1a8ea315f7ad": {
          "model_module": "@jupyter-widgets/base",
          "model_name": "LayoutModel",
          "model_module_version": "1.2.0",
          "state": {
            "_model_module": "@jupyter-widgets/base",
            "_model_module_version": "1.2.0",
            "_model_name": "LayoutModel",
            "_view_count": null,
            "_view_module": "@jupyter-widgets/base",
            "_view_module_version": "1.2.0",
            "_view_name": "LayoutView",
            "align_content": null,
            "align_items": null,
            "align_self": null,
            "border": null,
            "bottom": null,
            "display": null,
            "flex": null,
            "flex_flow": null,
            "grid_area": null,
            "grid_auto_columns": null,
            "grid_auto_flow": null,
            "grid_auto_rows": null,
            "grid_column": null,
            "grid_gap": null,
            "grid_row": null,
            "grid_template_areas": null,
            "grid_template_columns": null,
            "grid_template_rows": null,
            "height": null,
            "justify_content": null,
            "justify_items": null,
            "left": null,
            "margin": null,
            "max_height": null,
            "max_width": null,
            "min_height": null,
            "min_width": null,
            "object_fit": null,
            "object_position": null,
            "order": null,
            "overflow": null,
            "overflow_x": null,
            "overflow_y": null,
            "padding": null,
            "right": null,
            "top": null,
            "visibility": null,
            "width": "20px"
          }
        },
        "83a71996ac7840c1b0248f403a7e9e91": {
          "model_module": "@jupyter-widgets/controls",
          "model_name": "ProgressStyleModel",
          "model_module_version": "1.5.0",
          "state": {
            "_model_module": "@jupyter-widgets/controls",
            "_model_module_version": "1.5.0",
            "_model_name": "ProgressStyleModel",
            "_view_count": null,
            "_view_module": "@jupyter-widgets/base",
            "_view_module_version": "1.2.0",
            "_view_name": "StyleView",
            "bar_color": null,
            "description_width": ""
          }
        },
        "db4bea15b95a4650ab87ab114f20cfa2": {
          "model_module": "@jupyter-widgets/base",
          "model_name": "LayoutModel",
          "model_module_version": "1.2.0",
          "state": {
            "_model_module": "@jupyter-widgets/base",
            "_model_module_version": "1.2.0",
            "_model_name": "LayoutModel",
            "_view_count": null,
            "_view_module": "@jupyter-widgets/base",
            "_view_module_version": "1.2.0",
            "_view_name": "LayoutView",
            "align_content": null,
            "align_items": null,
            "align_self": null,
            "border": null,
            "bottom": null,
            "display": null,
            "flex": null,
            "flex_flow": null,
            "grid_area": null,
            "grid_auto_columns": null,
            "grid_auto_flow": null,
            "grid_auto_rows": null,
            "grid_column": null,
            "grid_gap": null,
            "grid_row": null,
            "grid_template_areas": null,
            "grid_template_columns": null,
            "grid_template_rows": null,
            "height": null,
            "justify_content": null,
            "justify_items": null,
            "left": null,
            "margin": null,
            "max_height": null,
            "max_width": null,
            "min_height": null,
            "min_width": null,
            "object_fit": null,
            "object_position": null,
            "order": null,
            "overflow": null,
            "overflow_x": null,
            "overflow_y": null,
            "padding": null,
            "right": null,
            "top": null,
            "visibility": null,
            "width": null
          }
        },
        "051e6738f84f4ba9aa99064096e1c66f": {
          "model_module": "@jupyter-widgets/controls",
          "model_name": "DescriptionStyleModel",
          "model_module_version": "1.5.0",
          "state": {
            "_model_module": "@jupyter-widgets/controls",
            "_model_module_version": "1.5.0",
            "_model_name": "DescriptionStyleModel",
            "_view_count": null,
            "_view_module": "@jupyter-widgets/base",
            "_view_module_version": "1.2.0",
            "_view_name": "StyleView",
            "description_width": ""
          }
        },
        "7d173214f5b944ef9308fecdf074cba6": {
          "model_module": "@jupyter-widgets/controls",
          "model_name": "HBoxModel",
          "model_module_version": "1.5.0",
          "state": {
            "_dom_classes": [],
            "_model_module": "@jupyter-widgets/controls",
            "_model_module_version": "1.5.0",
            "_model_name": "HBoxModel",
            "_view_count": null,
            "_view_module": "@jupyter-widgets/controls",
            "_view_module_version": "1.5.0",
            "_view_name": "HBoxView",
            "box_style": "",
            "children": [
              "IPY_MODEL_704b83d871b2410b912b98901b2c4b84",
              "IPY_MODEL_61b9dbaaaf2c41eab49d594ae8bfaa44",
              "IPY_MODEL_acb9339d4118492299a699a14bd30c9b"
            ],
            "layout": "IPY_MODEL_118e21072b1b4a6da325656aa1f3a4be"
          }
        },
        "704b83d871b2410b912b98901b2c4b84": {
          "model_module": "@jupyter-widgets/controls",
          "model_name": "HTMLModel",
          "model_module_version": "1.5.0",
          "state": {
            "_dom_classes": [],
            "_model_module": "@jupyter-widgets/controls",
            "_model_module_version": "1.5.0",
            "_model_name": "HTMLModel",
            "_view_count": null,
            "_view_module": "@jupyter-widgets/controls",
            "_view_module_version": "1.5.0",
            "_view_name": "HTMLView",
            "description": "",
            "description_tooltip": null,
            "layout": "IPY_MODEL_3e62d171b1074351a06e960fdcf4a5ed",
            "placeholder": "​",
            "style": "IPY_MODEL_81bddd7bc6c64a75b33f6873d07f2939",
            "value": "Dl Size...: 100%"
          }
        },
        "61b9dbaaaf2c41eab49d594ae8bfaa44": {
          "model_module": "@jupyter-widgets/controls",
          "model_name": "FloatProgressModel",
          "model_module_version": "1.5.0",
          "state": {
            "_dom_classes": [],
            "_model_module": "@jupyter-widgets/controls",
            "_model_module_version": "1.5.0",
            "_model_name": "FloatProgressModel",
            "_view_count": null,
            "_view_module": "@jupyter-widgets/controls",
            "_view_module_version": "1.5.0",
            "_view_name": "ProgressView",
            "bar_style": "success",
            "description": "",
            "description_tooltip": null,
            "layout": "IPY_MODEL_5a2df3beb6a8484abb35bd50b923960f",
            "max": 1,
            "min": 0,
            "orientation": "horizontal",
            "style": "IPY_MODEL_b9bc50891a4f4cd9939b2048f245dd1e",
            "value": 1
          }
        },
        "acb9339d4118492299a699a14bd30c9b": {
          "model_module": "@jupyter-widgets/controls",
          "model_name": "HTMLModel",
          "model_module_version": "1.5.0",
          "state": {
            "_dom_classes": [],
            "_model_module": "@jupyter-widgets/controls",
            "_model_module_version": "1.5.0",
            "_model_name": "HTMLModel",
            "_view_count": null,
            "_view_module": "@jupyter-widgets/controls",
            "_view_module_version": "1.5.0",
            "_view_name": "HTMLView",
            "description": "",
            "description_tooltip": null,
            "layout": "IPY_MODEL_7fef960835ef4e0b82d93e77f0b6fad8",
            "placeholder": "​",
            "style": "IPY_MODEL_a0f3601c719a401d904e5601cd1db60e",
            "value": " 20/20 [00:35&lt;00:00,  1.49s/ MiB]"
          }
        },
        "118e21072b1b4a6da325656aa1f3a4be": {
          "model_module": "@jupyter-widgets/base",
          "model_name": "LayoutModel",
          "model_module_version": "1.2.0",
          "state": {
            "_model_module": "@jupyter-widgets/base",
            "_model_module_version": "1.2.0",
            "_model_name": "LayoutModel",
            "_view_count": null,
            "_view_module": "@jupyter-widgets/base",
            "_view_module_version": "1.2.0",
            "_view_name": "LayoutView",
            "align_content": null,
            "align_items": null,
            "align_self": null,
            "border": null,
            "bottom": null,
            "display": null,
            "flex": null,
            "flex_flow": null,
            "grid_area": null,
            "grid_auto_columns": null,
            "grid_auto_flow": null,
            "grid_auto_rows": null,
            "grid_column": null,
            "grid_gap": null,
            "grid_row": null,
            "grid_template_areas": null,
            "grid_template_columns": null,
            "grid_template_rows": null,
            "height": null,
            "justify_content": null,
            "justify_items": null,
            "left": null,
            "margin": null,
            "max_height": null,
            "max_width": null,
            "min_height": null,
            "min_width": null,
            "object_fit": null,
            "object_position": null,
            "order": null,
            "overflow": null,
            "overflow_x": null,
            "overflow_y": null,
            "padding": null,
            "right": null,
            "top": null,
            "visibility": null,
            "width": null
          }
        },
        "3e62d171b1074351a06e960fdcf4a5ed": {
          "model_module": "@jupyter-widgets/base",
          "model_name": "LayoutModel",
          "model_module_version": "1.2.0",
          "state": {
            "_model_module": "@jupyter-widgets/base",
            "_model_module_version": "1.2.0",
            "_model_name": "LayoutModel",
            "_view_count": null,
            "_view_module": "@jupyter-widgets/base",
            "_view_module_version": "1.2.0",
            "_view_name": "LayoutView",
            "align_content": null,
            "align_items": null,
            "align_self": null,
            "border": null,
            "bottom": null,
            "display": null,
            "flex": null,
            "flex_flow": null,
            "grid_area": null,
            "grid_auto_columns": null,
            "grid_auto_flow": null,
            "grid_auto_rows": null,
            "grid_column": null,
            "grid_gap": null,
            "grid_row": null,
            "grid_template_areas": null,
            "grid_template_columns": null,
            "grid_template_rows": null,
            "height": null,
            "justify_content": null,
            "justify_items": null,
            "left": null,
            "margin": null,
            "max_height": null,
            "max_width": null,
            "min_height": null,
            "min_width": null,
            "object_fit": null,
            "object_position": null,
            "order": null,
            "overflow": null,
            "overflow_x": null,
            "overflow_y": null,
            "padding": null,
            "right": null,
            "top": null,
            "visibility": null,
            "width": null
          }
        },
        "81bddd7bc6c64a75b33f6873d07f2939": {
          "model_module": "@jupyter-widgets/controls",
          "model_name": "DescriptionStyleModel",
          "model_module_version": "1.5.0",
          "state": {
            "_model_module": "@jupyter-widgets/controls",
            "_model_module_version": "1.5.0",
            "_model_name": "DescriptionStyleModel",
            "_view_count": null,
            "_view_module": "@jupyter-widgets/base",
            "_view_module_version": "1.2.0",
            "_view_name": "StyleView",
            "description_width": ""
          }
        },
        "5a2df3beb6a8484abb35bd50b923960f": {
          "model_module": "@jupyter-widgets/base",
          "model_name": "LayoutModel",
          "model_module_version": "1.2.0",
          "state": {
            "_model_module": "@jupyter-widgets/base",
            "_model_module_version": "1.2.0",
            "_model_name": "LayoutModel",
            "_view_count": null,
            "_view_module": "@jupyter-widgets/base",
            "_view_module_version": "1.2.0",
            "_view_name": "LayoutView",
            "align_content": null,
            "align_items": null,
            "align_self": null,
            "border": null,
            "bottom": null,
            "display": null,
            "flex": null,
            "flex_flow": null,
            "grid_area": null,
            "grid_auto_columns": null,
            "grid_auto_flow": null,
            "grid_auto_rows": null,
            "grid_column": null,
            "grid_gap": null,
            "grid_row": null,
            "grid_template_areas": null,
            "grid_template_columns": null,
            "grid_template_rows": null,
            "height": null,
            "justify_content": null,
            "justify_items": null,
            "left": null,
            "margin": null,
            "max_height": null,
            "max_width": null,
            "min_height": null,
            "min_width": null,
            "object_fit": null,
            "object_position": null,
            "order": null,
            "overflow": null,
            "overflow_x": null,
            "overflow_y": null,
            "padding": null,
            "right": null,
            "top": null,
            "visibility": null,
            "width": "20px"
          }
        },
        "b9bc50891a4f4cd9939b2048f245dd1e": {
          "model_module": "@jupyter-widgets/controls",
          "model_name": "ProgressStyleModel",
          "model_module_version": "1.5.0",
          "state": {
            "_model_module": "@jupyter-widgets/controls",
            "_model_module_version": "1.5.0",
            "_model_name": "ProgressStyleModel",
            "_view_count": null,
            "_view_module": "@jupyter-widgets/base",
            "_view_module_version": "1.2.0",
            "_view_name": "StyleView",
            "bar_color": null,
            "description_width": ""
          }
        },
        "7fef960835ef4e0b82d93e77f0b6fad8": {
          "model_module": "@jupyter-widgets/base",
          "model_name": "LayoutModel",
          "model_module_version": "1.2.0",
          "state": {
            "_model_module": "@jupyter-widgets/base",
            "_model_module_version": "1.2.0",
            "_model_name": "LayoutModel",
            "_view_count": null,
            "_view_module": "@jupyter-widgets/base",
            "_view_module_version": "1.2.0",
            "_view_name": "LayoutView",
            "align_content": null,
            "align_items": null,
            "align_self": null,
            "border": null,
            "bottom": null,
            "display": null,
            "flex": null,
            "flex_flow": null,
            "grid_area": null,
            "grid_auto_columns": null,
            "grid_auto_flow": null,
            "grid_auto_rows": null,
            "grid_column": null,
            "grid_gap": null,
            "grid_row": null,
            "grid_template_areas": null,
            "grid_template_columns": null,
            "grid_template_rows": null,
            "height": null,
            "justify_content": null,
            "justify_items": null,
            "left": null,
            "margin": null,
            "max_height": null,
            "max_width": null,
            "min_height": null,
            "min_width": null,
            "object_fit": null,
            "object_position": null,
            "order": null,
            "overflow": null,
            "overflow_x": null,
            "overflow_y": null,
            "padding": null,
            "right": null,
            "top": null,
            "visibility": null,
            "width": null
          }
        },
        "a0f3601c719a401d904e5601cd1db60e": {
          "model_module": "@jupyter-widgets/controls",
          "model_name": "DescriptionStyleModel",
          "model_module_version": "1.5.0",
          "state": {
            "_model_module": "@jupyter-widgets/controls",
            "_model_module_version": "1.5.0",
            "_model_name": "DescriptionStyleModel",
            "_view_count": null,
            "_view_module": "@jupyter-widgets/base",
            "_view_module_version": "1.2.0",
            "_view_name": "StyleView",
            "description_width": ""
          }
        },
        "cc6f7e5d99414d58bb7237967059c00c": {
          "model_module": "@jupyter-widgets/controls",
          "model_name": "HBoxModel",
          "model_module_version": "1.5.0",
          "state": {
            "_dom_classes": [],
            "_model_module": "@jupyter-widgets/controls",
            "_model_module_version": "1.5.0",
            "_model_name": "HBoxModel",
            "_view_count": null,
            "_view_module": "@jupyter-widgets/controls",
            "_view_module_version": "1.5.0",
            "_view_name": "HBoxView",
            "box_style": "",
            "children": [
              "IPY_MODEL_49cad3982d9c4bdfaee515ff241397a5",
              "IPY_MODEL_14f574e1b5c248edb8ffd20c9702ebf8",
              "IPY_MODEL_a1999bdc1a244449a173d7b2d46d388a"
            ],
            "layout": "IPY_MODEL_07ede8fec400412e8b9bf8d655047c4b"
          }
        },
        "49cad3982d9c4bdfaee515ff241397a5": {
          "model_module": "@jupyter-widgets/controls",
          "model_name": "HTMLModel",
          "model_module_version": "1.5.0",
          "state": {
            "_dom_classes": [],
            "_model_module": "@jupyter-widgets/controls",
            "_model_module_version": "1.5.0",
            "_model_name": "HTMLModel",
            "_view_count": null,
            "_view_module": "@jupyter-widgets/controls",
            "_view_module_version": "1.5.0",
            "_view_name": "HTMLView",
            "description": "",
            "description_tooltip": null,
            "layout": "IPY_MODEL_9e4259bd9f6b406692e1d1d8b67b8790",
            "placeholder": "​",
            "style": "IPY_MODEL_3bf6f845c501426cb2d92f289786329e",
            "value": "Extraction completed...: 100%"
          }
        },
        "14f574e1b5c248edb8ffd20c9702ebf8": {
          "model_module": "@jupyter-widgets/controls",
          "model_name": "FloatProgressModel",
          "model_module_version": "1.5.0",
          "state": {
            "_dom_classes": [],
            "_model_module": "@jupyter-widgets/controls",
            "_model_module_version": "1.5.0",
            "_model_name": "FloatProgressModel",
            "_view_count": null,
            "_view_module": "@jupyter-widgets/controls",
            "_view_module_version": "1.5.0",
            "_view_name": "ProgressView",
            "bar_style": "success",
            "description": "",
            "description_tooltip": null,
            "layout": "IPY_MODEL_3a57f005285c44ddb7d6fcf00a03c747",
            "max": 1,
            "min": 0,
            "orientation": "horizontal",
            "style": "IPY_MODEL_c2a9063a21394dcda8209e1bab2529ba",
            "value": 1
          }
        },
        "a1999bdc1a244449a173d7b2d46d388a": {
          "model_module": "@jupyter-widgets/controls",
          "model_name": "HTMLModel",
          "model_module_version": "1.5.0",
          "state": {
            "_dom_classes": [],
            "_model_module": "@jupyter-widgets/controls",
            "_model_module_version": "1.5.0",
            "_model_name": "HTMLModel",
            "_view_count": null,
            "_view_module": "@jupyter-widgets/controls",
            "_view_module_version": "1.5.0",
            "_view_name": "HTMLView",
            "description": "",
            "description_tooltip": null,
            "layout": "IPY_MODEL_28c136b668b34afbb79b339d6bc35b29",
            "placeholder": "​",
            "style": "IPY_MODEL_ab1ad82d99de4faebf46817034326fa9",
            "value": " 2/2 [00:35&lt;00:00, 20.65s/ file]"
          }
        },
        "07ede8fec400412e8b9bf8d655047c4b": {
          "model_module": "@jupyter-widgets/base",
          "model_name": "LayoutModel",
          "model_module_version": "1.2.0",
          "state": {
            "_model_module": "@jupyter-widgets/base",
            "_model_module_version": "1.2.0",
            "_model_name": "LayoutModel",
            "_view_count": null,
            "_view_module": "@jupyter-widgets/base",
            "_view_module_version": "1.2.0",
            "_view_name": "LayoutView",
            "align_content": null,
            "align_items": null,
            "align_self": null,
            "border": null,
            "bottom": null,
            "display": null,
            "flex": null,
            "flex_flow": null,
            "grid_area": null,
            "grid_auto_columns": null,
            "grid_auto_flow": null,
            "grid_auto_rows": null,
            "grid_column": null,
            "grid_gap": null,
            "grid_row": null,
            "grid_template_areas": null,
            "grid_template_columns": null,
            "grid_template_rows": null,
            "height": null,
            "justify_content": null,
            "justify_items": null,
            "left": null,
            "margin": null,
            "max_height": null,
            "max_width": null,
            "min_height": null,
            "min_width": null,
            "object_fit": null,
            "object_position": null,
            "order": null,
            "overflow": null,
            "overflow_x": null,
            "overflow_y": null,
            "padding": null,
            "right": null,
            "top": null,
            "visibility": null,
            "width": null
          }
        },
        "9e4259bd9f6b406692e1d1d8b67b8790": {
          "model_module": "@jupyter-widgets/base",
          "model_name": "LayoutModel",
          "model_module_version": "1.2.0",
          "state": {
            "_model_module": "@jupyter-widgets/base",
            "_model_module_version": "1.2.0",
            "_model_name": "LayoutModel",
            "_view_count": null,
            "_view_module": "@jupyter-widgets/base",
            "_view_module_version": "1.2.0",
            "_view_name": "LayoutView",
            "align_content": null,
            "align_items": null,
            "align_self": null,
            "border": null,
            "bottom": null,
            "display": null,
            "flex": null,
            "flex_flow": null,
            "grid_area": null,
            "grid_auto_columns": null,
            "grid_auto_flow": null,
            "grid_auto_rows": null,
            "grid_column": null,
            "grid_gap": null,
            "grid_row": null,
            "grid_template_areas": null,
            "grid_template_columns": null,
            "grid_template_rows": null,
            "height": null,
            "justify_content": null,
            "justify_items": null,
            "left": null,
            "margin": null,
            "max_height": null,
            "max_width": null,
            "min_height": null,
            "min_width": null,
            "object_fit": null,
            "object_position": null,
            "order": null,
            "overflow": null,
            "overflow_x": null,
            "overflow_y": null,
            "padding": null,
            "right": null,
            "top": null,
            "visibility": null,
            "width": null
          }
        },
        "3bf6f845c501426cb2d92f289786329e": {
          "model_module": "@jupyter-widgets/controls",
          "model_name": "DescriptionStyleModel",
          "model_module_version": "1.5.0",
          "state": {
            "_model_module": "@jupyter-widgets/controls",
            "_model_module_version": "1.5.0",
            "_model_name": "DescriptionStyleModel",
            "_view_count": null,
            "_view_module": "@jupyter-widgets/base",
            "_view_module_version": "1.2.0",
            "_view_name": "StyleView",
            "description_width": ""
          }
        },
        "3a57f005285c44ddb7d6fcf00a03c747": {
          "model_module": "@jupyter-widgets/base",
          "model_name": "LayoutModel",
          "model_module_version": "1.2.0",
          "state": {
            "_model_module": "@jupyter-widgets/base",
            "_model_module_version": "1.2.0",
            "_model_name": "LayoutModel",
            "_view_count": null,
            "_view_module": "@jupyter-widgets/base",
            "_view_module_version": "1.2.0",
            "_view_name": "LayoutView",
            "align_content": null,
            "align_items": null,
            "align_self": null,
            "border": null,
            "bottom": null,
            "display": null,
            "flex": null,
            "flex_flow": null,
            "grid_area": null,
            "grid_auto_columns": null,
            "grid_auto_flow": null,
            "grid_auto_rows": null,
            "grid_column": null,
            "grid_gap": null,
            "grid_row": null,
            "grid_template_areas": null,
            "grid_template_columns": null,
            "grid_template_rows": null,
            "height": null,
            "justify_content": null,
            "justify_items": null,
            "left": null,
            "margin": null,
            "max_height": null,
            "max_width": null,
            "min_height": null,
            "min_width": null,
            "object_fit": null,
            "object_position": null,
            "order": null,
            "overflow": null,
            "overflow_x": null,
            "overflow_y": null,
            "padding": null,
            "right": null,
            "top": null,
            "visibility": null,
            "width": "20px"
          }
        },
        "c2a9063a21394dcda8209e1bab2529ba": {
          "model_module": "@jupyter-widgets/controls",
          "model_name": "ProgressStyleModel",
          "model_module_version": "1.5.0",
          "state": {
            "_model_module": "@jupyter-widgets/controls",
            "_model_module_version": "1.5.0",
            "_model_name": "ProgressStyleModel",
            "_view_count": null,
            "_view_module": "@jupyter-widgets/base",
            "_view_module_version": "1.2.0",
            "_view_name": "StyleView",
            "bar_color": null,
            "description_width": ""
          }
        },
        "28c136b668b34afbb79b339d6bc35b29": {
          "model_module": "@jupyter-widgets/base",
          "model_name": "LayoutModel",
          "model_module_version": "1.2.0",
          "state": {
            "_model_module": "@jupyter-widgets/base",
            "_model_module_version": "1.2.0",
            "_model_name": "LayoutModel",
            "_view_count": null,
            "_view_module": "@jupyter-widgets/base",
            "_view_module_version": "1.2.0",
            "_view_name": "LayoutView",
            "align_content": null,
            "align_items": null,
            "align_self": null,
            "border": null,
            "bottom": null,
            "display": null,
            "flex": null,
            "flex_flow": null,
            "grid_area": null,
            "grid_auto_columns": null,
            "grid_auto_flow": null,
            "grid_auto_rows": null,
            "grid_column": null,
            "grid_gap": null,
            "grid_row": null,
            "grid_template_areas": null,
            "grid_template_columns": null,
            "grid_template_rows": null,
            "height": null,
            "justify_content": null,
            "justify_items": null,
            "left": null,
            "margin": null,
            "max_height": null,
            "max_width": null,
            "min_height": null,
            "min_width": null,
            "object_fit": null,
            "object_position": null,
            "order": null,
            "overflow": null,
            "overflow_x": null,
            "overflow_y": null,
            "padding": null,
            "right": null,
            "top": null,
            "visibility": null,
            "width": null
          }
        },
        "ab1ad82d99de4faebf46817034326fa9": {
          "model_module": "@jupyter-widgets/controls",
          "model_name": "DescriptionStyleModel",
          "model_module_version": "1.5.0",
          "state": {
            "_model_module": "@jupyter-widgets/controls",
            "_model_module_version": "1.5.0",
            "_model_name": "DescriptionStyleModel",
            "_view_count": null,
            "_view_module": "@jupyter-widgets/base",
            "_view_module_version": "1.2.0",
            "_view_name": "StyleView",
            "description_width": ""
          }
        },
        "f9ad4e80ec774baa873747a0b06a9fa4": {
          "model_module": "@jupyter-widgets/controls",
          "model_name": "HBoxModel",
          "model_module_version": "1.5.0",
          "state": {
            "_dom_classes": [],
            "_model_module": "@jupyter-widgets/controls",
            "_model_module_version": "1.5.0",
            "_model_name": "HBoxModel",
            "_view_count": null,
            "_view_module": "@jupyter-widgets/controls",
            "_view_module_version": "1.5.0",
            "_view_name": "HBoxView",
            "box_style": "",
            "children": [
              "IPY_MODEL_5a706f2de9ec4b99a114a084ad2e2686",
              "IPY_MODEL_852dc9947a4540f3a60fce67da867271",
              "IPY_MODEL_9e1ab6bd071e4bef8eadc95991b1daaf"
            ],
            "layout": "IPY_MODEL_e79d983a843944aa9f6e6866c0843181"
          }
        },
        "5a706f2de9ec4b99a114a084ad2e2686": {
          "model_module": "@jupyter-widgets/controls",
          "model_name": "HTMLModel",
          "model_module_version": "1.5.0",
          "state": {
            "_dom_classes": [],
            "_model_module": "@jupyter-widgets/controls",
            "_model_module_version": "1.5.0",
            "_model_name": "HTMLModel",
            "_view_count": null,
            "_view_module": "@jupyter-widgets/controls",
            "_view_module_version": "1.5.0",
            "_view_name": "HTMLView",
            "description": "",
            "description_tooltip": null,
            "layout": "IPY_MODEL_fbb7ca2b96574760b729707d4cedc668",
            "placeholder": "​",
            "style": "IPY_MODEL_2c470c624afe4b8bab3f4b382fe55405",
            "value": ""
          }
        },
        "852dc9947a4540f3a60fce67da867271": {
          "model_module": "@jupyter-widgets/controls",
          "model_name": "FloatProgressModel",
          "model_module_version": "1.5.0",
          "state": {
            "_dom_classes": [],
            "_model_module": "@jupyter-widgets/controls",
            "_model_module_version": "1.5.0",
            "_model_name": "FloatProgressModel",
            "_view_count": null,
            "_view_module": "@jupyter-widgets/controls",
            "_view_module_version": "1.5.0",
            "_view_name": "ProgressView",
            "bar_style": "info",
            "description": "",
            "description_tooltip": null,
            "layout": "IPY_MODEL_b13b7cb434834a30a871ba8f79bc2651",
            "max": 1,
            "min": 0,
            "orientation": "horizontal",
            "style": "IPY_MODEL_1ea12d5210c44d91977f8e48811b1f6b",
            "value": 1
          }
        },
        "9e1ab6bd071e4bef8eadc95991b1daaf": {
          "model_module": "@jupyter-widgets/controls",
          "model_name": "HTMLModel",
          "model_module_version": "1.5.0",
          "state": {
            "_dom_classes": [],
            "_model_module": "@jupyter-widgets/controls",
            "_model_module_version": "1.5.0",
            "_model_name": "HTMLModel",
            "_view_count": null,
            "_view_module": "@jupyter-widgets/controls",
            "_view_module_version": "1.5.0",
            "_view_name": "HTMLView",
            "description": "",
            "description_tooltip": null,
            "layout": "IPY_MODEL_60a80a53c55f483ea64ad9bda923e1f6",
            "placeholder": "​",
            "style": "IPY_MODEL_99109ff750e74d2986d80be43487e5cf",
            "value": " 11934/0 [00:11&lt;00:00, 995.58 examples/s]"
          }
        },
        "e79d983a843944aa9f6e6866c0843181": {
          "model_module": "@jupyter-widgets/base",
          "model_name": "LayoutModel",
          "model_module_version": "1.2.0",
          "state": {
            "_model_module": "@jupyter-widgets/base",
            "_model_module_version": "1.2.0",
            "_model_name": "LayoutModel",
            "_view_count": null,
            "_view_module": "@jupyter-widgets/base",
            "_view_module_version": "1.2.0",
            "_view_name": "LayoutView",
            "align_content": null,
            "align_items": null,
            "align_self": null,
            "border": null,
            "bottom": null,
            "display": null,
            "flex": null,
            "flex_flow": null,
            "grid_area": null,
            "grid_auto_columns": null,
            "grid_auto_flow": null,
            "grid_auto_rows": null,
            "grid_column": null,
            "grid_gap": null,
            "grid_row": null,
            "grid_template_areas": null,
            "grid_template_columns": null,
            "grid_template_rows": null,
            "height": null,
            "justify_content": null,
            "justify_items": null,
            "left": null,
            "margin": null,
            "max_height": null,
            "max_width": null,
            "min_height": null,
            "min_width": null,
            "object_fit": null,
            "object_position": null,
            "order": null,
            "overflow": null,
            "overflow_x": null,
            "overflow_y": null,
            "padding": null,
            "right": null,
            "top": null,
            "visibility": null,
            "width": null
          }
        },
        "fbb7ca2b96574760b729707d4cedc668": {
          "model_module": "@jupyter-widgets/base",
          "model_name": "LayoutModel",
          "model_module_version": "1.2.0",
          "state": {
            "_model_module": "@jupyter-widgets/base",
            "_model_module_version": "1.2.0",
            "_model_name": "LayoutModel",
            "_view_count": null,
            "_view_module": "@jupyter-widgets/base",
            "_view_module_version": "1.2.0",
            "_view_name": "LayoutView",
            "align_content": null,
            "align_items": null,
            "align_self": null,
            "border": null,
            "bottom": null,
            "display": null,
            "flex": null,
            "flex_flow": null,
            "grid_area": null,
            "grid_auto_columns": null,
            "grid_auto_flow": null,
            "grid_auto_rows": null,
            "grid_column": null,
            "grid_gap": null,
            "grid_row": null,
            "grid_template_areas": null,
            "grid_template_columns": null,
            "grid_template_rows": null,
            "height": null,
            "justify_content": null,
            "justify_items": null,
            "left": null,
            "margin": null,
            "max_height": null,
            "max_width": null,
            "min_height": null,
            "min_width": null,
            "object_fit": null,
            "object_position": null,
            "order": null,
            "overflow": null,
            "overflow_x": null,
            "overflow_y": null,
            "padding": null,
            "right": null,
            "top": null,
            "visibility": null,
            "width": null
          }
        },
        "2c470c624afe4b8bab3f4b382fe55405": {
          "model_module": "@jupyter-widgets/controls",
          "model_name": "DescriptionStyleModel",
          "model_module_version": "1.5.0",
          "state": {
            "_model_module": "@jupyter-widgets/controls",
            "_model_module_version": "1.5.0",
            "_model_name": "DescriptionStyleModel",
            "_view_count": null,
            "_view_module": "@jupyter-widgets/base",
            "_view_module_version": "1.2.0",
            "_view_name": "StyleView",
            "description_width": ""
          }
        },
        "b13b7cb434834a30a871ba8f79bc2651": {
          "model_module": "@jupyter-widgets/base",
          "model_name": "LayoutModel",
          "model_module_version": "1.2.0",
          "state": {
            "_model_module": "@jupyter-widgets/base",
            "_model_module_version": "1.2.0",
            "_model_name": "LayoutModel",
            "_view_count": null,
            "_view_module": "@jupyter-widgets/base",
            "_view_module_version": "1.2.0",
            "_view_name": "LayoutView",
            "align_content": null,
            "align_items": null,
            "align_self": null,
            "border": null,
            "bottom": null,
            "display": null,
            "flex": null,
            "flex_flow": null,
            "grid_area": null,
            "grid_auto_columns": null,
            "grid_auto_flow": null,
            "grid_auto_rows": null,
            "grid_column": null,
            "grid_gap": null,
            "grid_row": null,
            "grid_template_areas": null,
            "grid_template_columns": null,
            "grid_template_rows": null,
            "height": null,
            "justify_content": null,
            "justify_items": null,
            "left": null,
            "margin": null,
            "max_height": null,
            "max_width": null,
            "min_height": null,
            "min_width": null,
            "object_fit": null,
            "object_position": null,
            "order": null,
            "overflow": null,
            "overflow_x": null,
            "overflow_y": null,
            "padding": null,
            "right": null,
            "top": null,
            "visibility": null,
            "width": "20px"
          }
        },
        "1ea12d5210c44d91977f8e48811b1f6b": {
          "model_module": "@jupyter-widgets/controls",
          "model_name": "ProgressStyleModel",
          "model_module_version": "1.5.0",
          "state": {
            "_model_module": "@jupyter-widgets/controls",
            "_model_module_version": "1.5.0",
            "_model_name": "ProgressStyleModel",
            "_view_count": null,
            "_view_module": "@jupyter-widgets/base",
            "_view_module_version": "1.2.0",
            "_view_name": "StyleView",
            "bar_color": null,
            "description_width": ""
          }
        },
        "60a80a53c55f483ea64ad9bda923e1f6": {
          "model_module": "@jupyter-widgets/base",
          "model_name": "LayoutModel",
          "model_module_version": "1.2.0",
          "state": {
            "_model_module": "@jupyter-widgets/base",
            "_model_module_version": "1.2.0",
            "_model_name": "LayoutModel",
            "_view_count": null,
            "_view_module": "@jupyter-widgets/base",
            "_view_module_version": "1.2.0",
            "_view_name": "LayoutView",
            "align_content": null,
            "align_items": null,
            "align_self": null,
            "border": null,
            "bottom": null,
            "display": null,
            "flex": null,
            "flex_flow": null,
            "grid_area": null,
            "grid_auto_columns": null,
            "grid_auto_flow": null,
            "grid_auto_rows": null,
            "grid_column": null,
            "grid_gap": null,
            "grid_row": null,
            "grid_template_areas": null,
            "grid_template_columns": null,
            "grid_template_rows": null,
            "height": null,
            "justify_content": null,
            "justify_items": null,
            "left": null,
            "margin": null,
            "max_height": null,
            "max_width": null,
            "min_height": null,
            "min_width": null,
            "object_fit": null,
            "object_position": null,
            "order": null,
            "overflow": null,
            "overflow_x": null,
            "overflow_y": null,
            "padding": null,
            "right": null,
            "top": null,
            "visibility": null,
            "width": null
          }
        },
        "99109ff750e74d2986d80be43487e5cf": {
          "model_module": "@jupyter-widgets/controls",
          "model_name": "DescriptionStyleModel",
          "model_module_version": "1.5.0",
          "state": {
            "_model_module": "@jupyter-widgets/controls",
            "_model_module_version": "1.5.0",
            "_model_name": "DescriptionStyleModel",
            "_view_count": null,
            "_view_module": "@jupyter-widgets/base",
            "_view_module_version": "1.2.0",
            "_view_name": "StyleView",
            "description_width": ""
          }
        },
        "23448572443a4c89a8a7f01dff8886d1": {
          "model_module": "@jupyter-widgets/controls",
          "model_name": "HBoxModel",
          "model_module_version": "1.5.0",
          "state": {
            "_dom_classes": [],
            "_model_module": "@jupyter-widgets/controls",
            "_model_module_version": "1.5.0",
            "_model_name": "HBoxModel",
            "_view_count": null,
            "_view_module": "@jupyter-widgets/controls",
            "_view_module_version": "1.5.0",
            "_view_name": "HBoxView",
            "box_style": "",
            "children": [
              "IPY_MODEL_9f3ce5bb09064fa69ff53bd47fbb84de",
              "IPY_MODEL_29647c560cfb48258b5eb730d9cf5b5a",
              "IPY_MODEL_4f9039887d2b47eb810e18c1a46f96d1"
            ],
            "layout": "IPY_MODEL_0eed078414d74ac69bac59f06339fef4"
          }
        },
        "9f3ce5bb09064fa69ff53bd47fbb84de": {
          "model_module": "@jupyter-widgets/controls",
          "model_name": "HTMLModel",
          "model_module_version": "1.5.0",
          "state": {
            "_dom_classes": [],
            "_model_module": "@jupyter-widgets/controls",
            "_model_module_version": "1.5.0",
            "_model_name": "HTMLModel",
            "_view_count": null,
            "_view_module": "@jupyter-widgets/controls",
            "_view_module_version": "1.5.0",
            "_view_name": "HTMLView",
            "description": "",
            "description_tooltip": null,
            "layout": "IPY_MODEL_916b8c24bd514c6fa511786b55ce4931",
            "placeholder": "​",
            "style": "IPY_MODEL_fd27774fa9604b4abe9e43bfab39b7db",
            "value": "100%"
          }
        },
        "29647c560cfb48258b5eb730d9cf5b5a": {
          "model_module": "@jupyter-widgets/controls",
          "model_name": "FloatProgressModel",
          "model_module_version": "1.5.0",
          "state": {
            "_dom_classes": [],
            "_model_module": "@jupyter-widgets/controls",
            "_model_module_version": "1.5.0",
            "_model_name": "FloatProgressModel",
            "_view_count": null,
            "_view_module": "@jupyter-widgets/controls",
            "_view_module_version": "1.5.0",
            "_view_name": "ProgressView",
            "bar_style": "danger",
            "description": "",
            "description_tooltip": null,
            "layout": "IPY_MODEL_f986a18fb627415d9db4be82905ca80f",
            "max": 12000,
            "min": 0,
            "orientation": "horizontal",
            "style": "IPY_MODEL_2e8b2cbe419d4112bed25cd78887ffcb",
            "value": 11999
          }
        },
        "4f9039887d2b47eb810e18c1a46f96d1": {
          "model_module": "@jupyter-widgets/controls",
          "model_name": "HTMLModel",
          "model_module_version": "1.5.0",
          "state": {
            "_dom_classes": [],
            "_model_module": "@jupyter-widgets/controls",
            "_model_module_version": "1.5.0",
            "_model_name": "HTMLModel",
            "_view_count": null,
            "_view_module": "@jupyter-widgets/controls",
            "_view_module_version": "1.5.0",
            "_view_name": "HTMLView",
            "description": "",
            "description_tooltip": null,
            "layout": "IPY_MODEL_eb18c25923c14c40b7c3b7266a8e7c9e",
            "placeholder": "​",
            "style": "IPY_MODEL_a832d2b392bb4f2fb3c496a8363398f0",
            "value": " 11999/12000 [00:01&lt;00:00, 8569.19 examples/s]"
          }
        },
        "0eed078414d74ac69bac59f06339fef4": {
          "model_module": "@jupyter-widgets/base",
          "model_name": "LayoutModel",
          "model_module_version": "1.2.0",
          "state": {
            "_model_module": "@jupyter-widgets/base",
            "_model_module_version": "1.2.0",
            "_model_name": "LayoutModel",
            "_view_count": null,
            "_view_module": "@jupyter-widgets/base",
            "_view_module_version": "1.2.0",
            "_view_name": "LayoutView",
            "align_content": null,
            "align_items": null,
            "align_self": null,
            "border": null,
            "bottom": null,
            "display": null,
            "flex": null,
            "flex_flow": null,
            "grid_area": null,
            "grid_auto_columns": null,
            "grid_auto_flow": null,
            "grid_auto_rows": null,
            "grid_column": null,
            "grid_gap": null,
            "grid_row": null,
            "grid_template_areas": null,
            "grid_template_columns": null,
            "grid_template_rows": null,
            "height": null,
            "justify_content": null,
            "justify_items": null,
            "left": null,
            "margin": null,
            "max_height": null,
            "max_width": null,
            "min_height": null,
            "min_width": null,
            "object_fit": null,
            "object_position": null,
            "order": null,
            "overflow": null,
            "overflow_x": null,
            "overflow_y": null,
            "padding": null,
            "right": null,
            "top": null,
            "visibility": null,
            "width": null
          }
        },
        "916b8c24bd514c6fa511786b55ce4931": {
          "model_module": "@jupyter-widgets/base",
          "model_name": "LayoutModel",
          "model_module_version": "1.2.0",
          "state": {
            "_model_module": "@jupyter-widgets/base",
            "_model_module_version": "1.2.0",
            "_model_name": "LayoutModel",
            "_view_count": null,
            "_view_module": "@jupyter-widgets/base",
            "_view_module_version": "1.2.0",
            "_view_name": "LayoutView",
            "align_content": null,
            "align_items": null,
            "align_self": null,
            "border": null,
            "bottom": null,
            "display": null,
            "flex": null,
            "flex_flow": null,
            "grid_area": null,
            "grid_auto_columns": null,
            "grid_auto_flow": null,
            "grid_auto_rows": null,
            "grid_column": null,
            "grid_gap": null,
            "grid_row": null,
            "grid_template_areas": null,
            "grid_template_columns": null,
            "grid_template_rows": null,
            "height": null,
            "justify_content": null,
            "justify_items": null,
            "left": null,
            "margin": null,
            "max_height": null,
            "max_width": null,
            "min_height": null,
            "min_width": null,
            "object_fit": null,
            "object_position": null,
            "order": null,
            "overflow": null,
            "overflow_x": null,
            "overflow_y": null,
            "padding": null,
            "right": null,
            "top": null,
            "visibility": null,
            "width": null
          }
        },
        "fd27774fa9604b4abe9e43bfab39b7db": {
          "model_module": "@jupyter-widgets/controls",
          "model_name": "DescriptionStyleModel",
          "model_module_version": "1.5.0",
          "state": {
            "_model_module": "@jupyter-widgets/controls",
            "_model_module_version": "1.5.0",
            "_model_name": "DescriptionStyleModel",
            "_view_count": null,
            "_view_module": "@jupyter-widgets/base",
            "_view_module_version": "1.2.0",
            "_view_name": "StyleView",
            "description_width": ""
          }
        },
        "f986a18fb627415d9db4be82905ca80f": {
          "model_module": "@jupyter-widgets/base",
          "model_name": "LayoutModel",
          "model_module_version": "1.2.0",
          "state": {
            "_model_module": "@jupyter-widgets/base",
            "_model_module_version": "1.2.0",
            "_model_name": "LayoutModel",
            "_view_count": null,
            "_view_module": "@jupyter-widgets/base",
            "_view_module_version": "1.2.0",
            "_view_name": "LayoutView",
            "align_content": null,
            "align_items": null,
            "align_self": null,
            "border": null,
            "bottom": null,
            "display": null,
            "flex": null,
            "flex_flow": null,
            "grid_area": null,
            "grid_auto_columns": null,
            "grid_auto_flow": null,
            "grid_auto_rows": null,
            "grid_column": null,
            "grid_gap": null,
            "grid_row": null,
            "grid_template_areas": null,
            "grid_template_columns": null,
            "grid_template_rows": null,
            "height": null,
            "justify_content": null,
            "justify_items": null,
            "left": null,
            "margin": null,
            "max_height": null,
            "max_width": null,
            "min_height": null,
            "min_width": null,
            "object_fit": null,
            "object_position": null,
            "order": null,
            "overflow": null,
            "overflow_x": null,
            "overflow_y": null,
            "padding": null,
            "right": null,
            "top": null,
            "visibility": null,
            "width": null
          }
        },
        "2e8b2cbe419d4112bed25cd78887ffcb": {
          "model_module": "@jupyter-widgets/controls",
          "model_name": "ProgressStyleModel",
          "model_module_version": "1.5.0",
          "state": {
            "_model_module": "@jupyter-widgets/controls",
            "_model_module_version": "1.5.0",
            "_model_name": "ProgressStyleModel",
            "_view_count": null,
            "_view_module": "@jupyter-widgets/base",
            "_view_module_version": "1.2.0",
            "_view_name": "StyleView",
            "bar_color": null,
            "description_width": ""
          }
        },
        "eb18c25923c14c40b7c3b7266a8e7c9e": {
          "model_module": "@jupyter-widgets/base",
          "model_name": "LayoutModel",
          "model_module_version": "1.2.0",
          "state": {
            "_model_module": "@jupyter-widgets/base",
            "_model_module_version": "1.2.0",
            "_model_name": "LayoutModel",
            "_view_count": null,
            "_view_module": "@jupyter-widgets/base",
            "_view_module_version": "1.2.0",
            "_view_name": "LayoutView",
            "align_content": null,
            "align_items": null,
            "align_self": null,
            "border": null,
            "bottom": null,
            "display": null,
            "flex": null,
            "flex_flow": null,
            "grid_area": null,
            "grid_auto_columns": null,
            "grid_auto_flow": null,
            "grid_auto_rows": null,
            "grid_column": null,
            "grid_gap": null,
            "grid_row": null,
            "grid_template_areas": null,
            "grid_template_columns": null,
            "grid_template_rows": null,
            "height": null,
            "justify_content": null,
            "justify_items": null,
            "left": null,
            "margin": null,
            "max_height": null,
            "max_width": null,
            "min_height": null,
            "min_width": null,
            "object_fit": null,
            "object_position": null,
            "order": null,
            "overflow": null,
            "overflow_x": null,
            "overflow_y": null,
            "padding": null,
            "right": null,
            "top": null,
            "visibility": null,
            "width": null
          }
        },
        "a832d2b392bb4f2fb3c496a8363398f0": {
          "model_module": "@jupyter-widgets/controls",
          "model_name": "DescriptionStyleModel",
          "model_module_version": "1.5.0",
          "state": {
            "_model_module": "@jupyter-widgets/controls",
            "_model_module_version": "1.5.0",
            "_model_name": "DescriptionStyleModel",
            "_view_count": null,
            "_view_module": "@jupyter-widgets/base",
            "_view_module_version": "1.2.0",
            "_view_name": "StyleView",
            "description_width": ""
          }
        },
        "30e7c1896eca4ac7bd0aeddee0f69c72": {
          "model_module": "@jupyter-widgets/controls",
          "model_name": "HBoxModel",
          "model_module_version": "1.5.0",
          "state": {
            "_dom_classes": [],
            "_model_module": "@jupyter-widgets/controls",
            "_model_module_version": "1.5.0",
            "_model_name": "HBoxModel",
            "_view_count": null,
            "_view_module": "@jupyter-widgets/controls",
            "_view_module_version": "1.5.0",
            "_view_name": "HBoxView",
            "box_style": "",
            "children": [
              "IPY_MODEL_89fa85b65d83411ea3dec4a178b55dc8",
              "IPY_MODEL_99408f2cb1d34125b6465cc1183c474c",
              "IPY_MODEL_2ee2d248970e494aae3a56afcfafa35d"
            ],
            "layout": "IPY_MODEL_fd2dd8526b99464e9013288cd360e59e"
          }
        },
        "89fa85b65d83411ea3dec4a178b55dc8": {
          "model_module": "@jupyter-widgets/controls",
          "model_name": "HTMLModel",
          "model_module_version": "1.5.0",
          "state": {
            "_dom_classes": [],
            "_model_module": "@jupyter-widgets/controls",
            "_model_module_version": "1.5.0",
            "_model_name": "HTMLModel",
            "_view_count": null,
            "_view_module": "@jupyter-widgets/controls",
            "_view_module_version": "1.5.0",
            "_view_name": "HTMLView",
            "description": "",
            "description_tooltip": null,
            "layout": "IPY_MODEL_2b73491c2ab44e8db1eb857da6cf39ae",
            "placeholder": "​",
            "style": "IPY_MODEL_cc2b2be6268e4856a7214a20b01d0412",
            "value": ""
          }
        },
        "99408f2cb1d34125b6465cc1183c474c": {
          "model_module": "@jupyter-widgets/controls",
          "model_name": "FloatProgressModel",
          "model_module_version": "1.5.0",
          "state": {
            "_dom_classes": [],
            "_model_module": "@jupyter-widgets/controls",
            "_model_module_version": "1.5.0",
            "_model_name": "FloatProgressModel",
            "_view_count": null,
            "_view_module": "@jupyter-widgets/controls",
            "_view_module_version": "1.5.0",
            "_view_name": "ProgressView",
            "bar_style": "info",
            "description": "",
            "description_tooltip": null,
            "layout": "IPY_MODEL_bcd5deab4318420fb8a6992aa98ca852",
            "max": 1,
            "min": 0,
            "orientation": "horizontal",
            "style": "IPY_MODEL_50f1716b91fd4d2ea1914d923012d878",
            "value": 1
          }
        },
        "2ee2d248970e494aae3a56afcfafa35d": {
          "model_module": "@jupyter-widgets/controls",
          "model_name": "HTMLModel",
          "model_module_version": "1.5.0",
          "state": {
            "_dom_classes": [],
            "_model_module": "@jupyter-widgets/controls",
            "_model_module_version": "1.5.0",
            "_model_name": "HTMLModel",
            "_view_count": null,
            "_view_module": "@jupyter-widgets/controls",
            "_view_module_version": "1.5.0",
            "_view_name": "HTMLView",
            "description": "",
            "description_tooltip": null,
            "layout": "IPY_MODEL_a4bcf405c7c146689ea66064e1b0c172",
            "placeholder": "​",
            "style": "IPY_MODEL_a9b7acca444d465bb821f7000142e32a",
            "value": " 8519/0 [00:08&lt;00:00, 864.74 examples/s]"
          }
        },
        "fd2dd8526b99464e9013288cd360e59e": {
          "model_module": "@jupyter-widgets/base",
          "model_name": "LayoutModel",
          "model_module_version": "1.2.0",
          "state": {
            "_model_module": "@jupyter-widgets/base",
            "_model_module_version": "1.2.0",
            "_model_name": "LayoutModel",
            "_view_count": null,
            "_view_module": "@jupyter-widgets/base",
            "_view_module_version": "1.2.0",
            "_view_name": "LayoutView",
            "align_content": null,
            "align_items": null,
            "align_self": null,
            "border": null,
            "bottom": null,
            "display": null,
            "flex": null,
            "flex_flow": null,
            "grid_area": null,
            "grid_auto_columns": null,
            "grid_auto_flow": null,
            "grid_auto_rows": null,
            "grid_column": null,
            "grid_gap": null,
            "grid_row": null,
            "grid_template_areas": null,
            "grid_template_columns": null,
            "grid_template_rows": null,
            "height": null,
            "justify_content": null,
            "justify_items": null,
            "left": null,
            "margin": null,
            "max_height": null,
            "max_width": null,
            "min_height": null,
            "min_width": null,
            "object_fit": null,
            "object_position": null,
            "order": null,
            "overflow": null,
            "overflow_x": null,
            "overflow_y": null,
            "padding": null,
            "right": null,
            "top": null,
            "visibility": null,
            "width": null
          }
        },
        "2b73491c2ab44e8db1eb857da6cf39ae": {
          "model_module": "@jupyter-widgets/base",
          "model_name": "LayoutModel",
          "model_module_version": "1.2.0",
          "state": {
            "_model_module": "@jupyter-widgets/base",
            "_model_module_version": "1.2.0",
            "_model_name": "LayoutModel",
            "_view_count": null,
            "_view_module": "@jupyter-widgets/base",
            "_view_module_version": "1.2.0",
            "_view_name": "LayoutView",
            "align_content": null,
            "align_items": null,
            "align_self": null,
            "border": null,
            "bottom": null,
            "display": null,
            "flex": null,
            "flex_flow": null,
            "grid_area": null,
            "grid_auto_columns": null,
            "grid_auto_flow": null,
            "grid_auto_rows": null,
            "grid_column": null,
            "grid_gap": null,
            "grid_row": null,
            "grid_template_areas": null,
            "grid_template_columns": null,
            "grid_template_rows": null,
            "height": null,
            "justify_content": null,
            "justify_items": null,
            "left": null,
            "margin": null,
            "max_height": null,
            "max_width": null,
            "min_height": null,
            "min_width": null,
            "object_fit": null,
            "object_position": null,
            "order": null,
            "overflow": null,
            "overflow_x": null,
            "overflow_y": null,
            "padding": null,
            "right": null,
            "top": null,
            "visibility": null,
            "width": null
          }
        },
        "cc2b2be6268e4856a7214a20b01d0412": {
          "model_module": "@jupyter-widgets/controls",
          "model_name": "DescriptionStyleModel",
          "model_module_version": "1.5.0",
          "state": {
            "_model_module": "@jupyter-widgets/controls",
            "_model_module_version": "1.5.0",
            "_model_name": "DescriptionStyleModel",
            "_view_count": null,
            "_view_module": "@jupyter-widgets/base",
            "_view_module_version": "1.2.0",
            "_view_name": "StyleView",
            "description_width": ""
          }
        },
        "bcd5deab4318420fb8a6992aa98ca852": {
          "model_module": "@jupyter-widgets/base",
          "model_name": "LayoutModel",
          "model_module_version": "1.2.0",
          "state": {
            "_model_module": "@jupyter-widgets/base",
            "_model_module_version": "1.2.0",
            "_model_name": "LayoutModel",
            "_view_count": null,
            "_view_module": "@jupyter-widgets/base",
            "_view_module_version": "1.2.0",
            "_view_name": "LayoutView",
            "align_content": null,
            "align_items": null,
            "align_self": null,
            "border": null,
            "bottom": null,
            "display": null,
            "flex": null,
            "flex_flow": null,
            "grid_area": null,
            "grid_auto_columns": null,
            "grid_auto_flow": null,
            "grid_auto_rows": null,
            "grid_column": null,
            "grid_gap": null,
            "grid_row": null,
            "grid_template_areas": null,
            "grid_template_columns": null,
            "grid_template_rows": null,
            "height": null,
            "justify_content": null,
            "justify_items": null,
            "left": null,
            "margin": null,
            "max_height": null,
            "max_width": null,
            "min_height": null,
            "min_width": null,
            "object_fit": null,
            "object_position": null,
            "order": null,
            "overflow": null,
            "overflow_x": null,
            "overflow_y": null,
            "padding": null,
            "right": null,
            "top": null,
            "visibility": null,
            "width": "20px"
          }
        },
        "50f1716b91fd4d2ea1914d923012d878": {
          "model_module": "@jupyter-widgets/controls",
          "model_name": "ProgressStyleModel",
          "model_module_version": "1.5.0",
          "state": {
            "_model_module": "@jupyter-widgets/controls",
            "_model_module_version": "1.5.0",
            "_model_name": "ProgressStyleModel",
            "_view_count": null,
            "_view_module": "@jupyter-widgets/base",
            "_view_module_version": "1.2.0",
            "_view_name": "StyleView",
            "bar_color": null,
            "description_width": ""
          }
        },
        "a4bcf405c7c146689ea66064e1b0c172": {
          "model_module": "@jupyter-widgets/base",
          "model_name": "LayoutModel",
          "model_module_version": "1.2.0",
          "state": {
            "_model_module": "@jupyter-widgets/base",
            "_model_module_version": "1.2.0",
            "_model_name": "LayoutModel",
            "_view_count": null,
            "_view_module": "@jupyter-widgets/base",
            "_view_module_version": "1.2.0",
            "_view_name": "LayoutView",
            "align_content": null,
            "align_items": null,
            "align_self": null,
            "border": null,
            "bottom": null,
            "display": null,
            "flex": null,
            "flex_flow": null,
            "grid_area": null,
            "grid_auto_columns": null,
            "grid_auto_flow": null,
            "grid_auto_rows": null,
            "grid_column": null,
            "grid_gap": null,
            "grid_row": null,
            "grid_template_areas": null,
            "grid_template_columns": null,
            "grid_template_rows": null,
            "height": null,
            "justify_content": null,
            "justify_items": null,
            "left": null,
            "margin": null,
            "max_height": null,
            "max_width": null,
            "min_height": null,
            "min_width": null,
            "object_fit": null,
            "object_position": null,
            "order": null,
            "overflow": null,
            "overflow_x": null,
            "overflow_y": null,
            "padding": null,
            "right": null,
            "top": null,
            "visibility": null,
            "width": null
          }
        },
        "a9b7acca444d465bb821f7000142e32a": {
          "model_module": "@jupyter-widgets/controls",
          "model_name": "DescriptionStyleModel",
          "model_module_version": "1.5.0",
          "state": {
            "_model_module": "@jupyter-widgets/controls",
            "_model_module_version": "1.5.0",
            "_model_name": "DescriptionStyleModel",
            "_view_count": null,
            "_view_module": "@jupyter-widgets/base",
            "_view_module_version": "1.2.0",
            "_view_name": "StyleView",
            "description_width": ""
          }
        },
        "ce031547297a424088e2c14a38dc680c": {
          "model_module": "@jupyter-widgets/controls",
          "model_name": "HBoxModel",
          "model_module_version": "1.5.0",
          "state": {
            "_dom_classes": [],
            "_model_module": "@jupyter-widgets/controls",
            "_model_module_version": "1.5.0",
            "_model_name": "HBoxModel",
            "_view_count": null,
            "_view_module": "@jupyter-widgets/controls",
            "_view_module_version": "1.5.0",
            "_view_name": "HBoxView",
            "box_style": "",
            "children": [
              "IPY_MODEL_6f61aad800e24ad0b323279c6ca387eb",
              "IPY_MODEL_76c079a5dbc249a8bd32cdfe70a08ee9",
              "IPY_MODEL_21130e38a11f4f889a94b2c81f9808b3"
            ],
            "layout": "IPY_MODEL_42eadc0866c44cdc8ee3ef525d760a96"
          }
        },
        "6f61aad800e24ad0b323279c6ca387eb": {
          "model_module": "@jupyter-widgets/controls",
          "model_name": "HTMLModel",
          "model_module_version": "1.5.0",
          "state": {
            "_dom_classes": [],
            "_model_module": "@jupyter-widgets/controls",
            "_model_module_version": "1.5.0",
            "_model_name": "HTMLModel",
            "_view_count": null,
            "_view_module": "@jupyter-widgets/controls",
            "_view_module_version": "1.5.0",
            "_view_name": "HTMLView",
            "description": "",
            "description_tooltip": null,
            "layout": "IPY_MODEL_e2ec8cc7881c4fe7b5688199f237bd68",
            "placeholder": "​",
            "style": "IPY_MODEL_775259e8a9864f079e621855de5ec63b",
            "value": "100%"
          }
        },
        "76c079a5dbc249a8bd32cdfe70a08ee9": {
          "model_module": "@jupyter-widgets/controls",
          "model_name": "FloatProgressModel",
          "model_module_version": "1.5.0",
          "state": {
            "_dom_classes": [],
            "_model_module": "@jupyter-widgets/controls",
            "_model_module_version": "1.5.0",
            "_model_name": "FloatProgressModel",
            "_view_count": null,
            "_view_module": "@jupyter-widgets/controls",
            "_view_module_version": "1.5.0",
            "_view_name": "ProgressView",
            "bar_style": "danger",
            "description": "",
            "description_tooltip": null,
            "layout": "IPY_MODEL_229a7ec8de55489aa5d939c3531280d4",
            "max": 8580,
            "min": 0,
            "orientation": "horizontal",
            "style": "IPY_MODEL_c92cb502588443ab8c00cba8c5f18413",
            "value": 8579
          }
        },
        "21130e38a11f4f889a94b2c81f9808b3": {
          "model_module": "@jupyter-widgets/controls",
          "model_name": "HTMLModel",
          "model_module_version": "1.5.0",
          "state": {
            "_dom_classes": [],
            "_model_module": "@jupyter-widgets/controls",
            "_model_module_version": "1.5.0",
            "_model_name": "HTMLModel",
            "_view_count": null,
            "_view_module": "@jupyter-widgets/controls",
            "_view_module_version": "1.5.0",
            "_view_name": "HTMLView",
            "description": "",
            "description_tooltip": null,
            "layout": "IPY_MODEL_4f74c4b46b584bbaa68d9d3c5d93bb49",
            "placeholder": "​",
            "style": "IPY_MODEL_77e7c1db193e4488a7babfe763a0fc5a",
            "value": " 8579/8580 [00:00&lt;00:00, 16475.34 examples/s]"
          }
        },
        "42eadc0866c44cdc8ee3ef525d760a96": {
          "model_module": "@jupyter-widgets/base",
          "model_name": "LayoutModel",
          "model_module_version": "1.2.0",
          "state": {
            "_model_module": "@jupyter-widgets/base",
            "_model_module_version": "1.2.0",
            "_model_name": "LayoutModel",
            "_view_count": null,
            "_view_module": "@jupyter-widgets/base",
            "_view_module_version": "1.2.0",
            "_view_name": "LayoutView",
            "align_content": null,
            "align_items": null,
            "align_self": null,
            "border": null,
            "bottom": null,
            "display": null,
            "flex": null,
            "flex_flow": null,
            "grid_area": null,
            "grid_auto_columns": null,
            "grid_auto_flow": null,
            "grid_auto_rows": null,
            "grid_column": null,
            "grid_gap": null,
            "grid_row": null,
            "grid_template_areas": null,
            "grid_template_columns": null,
            "grid_template_rows": null,
            "height": null,
            "justify_content": null,
            "justify_items": null,
            "left": null,
            "margin": null,
            "max_height": null,
            "max_width": null,
            "min_height": null,
            "min_width": null,
            "object_fit": null,
            "object_position": null,
            "order": null,
            "overflow": null,
            "overflow_x": null,
            "overflow_y": null,
            "padding": null,
            "right": null,
            "top": null,
            "visibility": null,
            "width": null
          }
        },
        "e2ec8cc7881c4fe7b5688199f237bd68": {
          "model_module": "@jupyter-widgets/base",
          "model_name": "LayoutModel",
          "model_module_version": "1.2.0",
          "state": {
            "_model_module": "@jupyter-widgets/base",
            "_model_module_version": "1.2.0",
            "_model_name": "LayoutModel",
            "_view_count": null,
            "_view_module": "@jupyter-widgets/base",
            "_view_module_version": "1.2.0",
            "_view_name": "LayoutView",
            "align_content": null,
            "align_items": null,
            "align_self": null,
            "border": null,
            "bottom": null,
            "display": null,
            "flex": null,
            "flex_flow": null,
            "grid_area": null,
            "grid_auto_columns": null,
            "grid_auto_flow": null,
            "grid_auto_rows": null,
            "grid_column": null,
            "grid_gap": null,
            "grid_row": null,
            "grid_template_areas": null,
            "grid_template_columns": null,
            "grid_template_rows": null,
            "height": null,
            "justify_content": null,
            "justify_items": null,
            "left": null,
            "margin": null,
            "max_height": null,
            "max_width": null,
            "min_height": null,
            "min_width": null,
            "object_fit": null,
            "object_position": null,
            "order": null,
            "overflow": null,
            "overflow_x": null,
            "overflow_y": null,
            "padding": null,
            "right": null,
            "top": null,
            "visibility": null,
            "width": null
          }
        },
        "775259e8a9864f079e621855de5ec63b": {
          "model_module": "@jupyter-widgets/controls",
          "model_name": "DescriptionStyleModel",
          "model_module_version": "1.5.0",
          "state": {
            "_model_module": "@jupyter-widgets/controls",
            "_model_module_version": "1.5.0",
            "_model_name": "DescriptionStyleModel",
            "_view_count": null,
            "_view_module": "@jupyter-widgets/base",
            "_view_module_version": "1.2.0",
            "_view_name": "StyleView",
            "description_width": ""
          }
        },
        "229a7ec8de55489aa5d939c3531280d4": {
          "model_module": "@jupyter-widgets/base",
          "model_name": "LayoutModel",
          "model_module_version": "1.2.0",
          "state": {
            "_model_module": "@jupyter-widgets/base",
            "_model_module_version": "1.2.0",
            "_model_name": "LayoutModel",
            "_view_count": null,
            "_view_module": "@jupyter-widgets/base",
            "_view_module_version": "1.2.0",
            "_view_name": "LayoutView",
            "align_content": null,
            "align_items": null,
            "align_self": null,
            "border": null,
            "bottom": null,
            "display": null,
            "flex": null,
            "flex_flow": null,
            "grid_area": null,
            "grid_auto_columns": null,
            "grid_auto_flow": null,
            "grid_auto_rows": null,
            "grid_column": null,
            "grid_gap": null,
            "grid_row": null,
            "grid_template_areas": null,
            "grid_template_columns": null,
            "grid_template_rows": null,
            "height": null,
            "justify_content": null,
            "justify_items": null,
            "left": null,
            "margin": null,
            "max_height": null,
            "max_width": null,
            "min_height": null,
            "min_width": null,
            "object_fit": null,
            "object_position": null,
            "order": null,
            "overflow": null,
            "overflow_x": null,
            "overflow_y": null,
            "padding": null,
            "right": null,
            "top": null,
            "visibility": null,
            "width": null
          }
        },
        "c92cb502588443ab8c00cba8c5f18413": {
          "model_module": "@jupyter-widgets/controls",
          "model_name": "ProgressStyleModel",
          "model_module_version": "1.5.0",
          "state": {
            "_model_module": "@jupyter-widgets/controls",
            "_model_module_version": "1.5.0",
            "_model_name": "ProgressStyleModel",
            "_view_count": null,
            "_view_module": "@jupyter-widgets/base",
            "_view_module_version": "1.2.0",
            "_view_name": "StyleView",
            "bar_color": null,
            "description_width": ""
          }
        },
        "4f74c4b46b584bbaa68d9d3c5d93bb49": {
          "model_module": "@jupyter-widgets/base",
          "model_name": "LayoutModel",
          "model_module_version": "1.2.0",
          "state": {
            "_model_module": "@jupyter-widgets/base",
            "_model_module_version": "1.2.0",
            "_model_name": "LayoutModel",
            "_view_count": null,
            "_view_module": "@jupyter-widgets/base",
            "_view_module_version": "1.2.0",
            "_view_name": "LayoutView",
            "align_content": null,
            "align_items": null,
            "align_self": null,
            "border": null,
            "bottom": null,
            "display": null,
            "flex": null,
            "flex_flow": null,
            "grid_area": null,
            "grid_auto_columns": null,
            "grid_auto_flow": null,
            "grid_auto_rows": null,
            "grid_column": null,
            "grid_gap": null,
            "grid_row": null,
            "grid_template_areas": null,
            "grid_template_columns": null,
            "grid_template_rows": null,
            "height": null,
            "justify_content": null,
            "justify_items": null,
            "left": null,
            "margin": null,
            "max_height": null,
            "max_width": null,
            "min_height": null,
            "min_width": null,
            "object_fit": null,
            "object_position": null,
            "order": null,
            "overflow": null,
            "overflow_x": null,
            "overflow_y": null,
            "padding": null,
            "right": null,
            "top": null,
            "visibility": null,
            "width": null
          }
        },
        "77e7c1db193e4488a7babfe763a0fc5a": {
          "model_module": "@jupyter-widgets/controls",
          "model_name": "DescriptionStyleModel",
          "model_module_version": "1.5.0",
          "state": {
            "_model_module": "@jupyter-widgets/controls",
            "_model_module_version": "1.5.0",
            "_model_name": "DescriptionStyleModel",
            "_view_count": null,
            "_view_module": "@jupyter-widgets/base",
            "_view_module_version": "1.2.0",
            "_view_name": "StyleView",
            "description_width": ""
          }
        }
      }
    }
  },
  "nbformat": 4,
  "nbformat_minor": 5
}